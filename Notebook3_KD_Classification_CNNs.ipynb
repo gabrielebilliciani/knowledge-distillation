{
  "cells": [
    {
      "cell_type": "markdown",
      "metadata": {
        "colab_type": "text",
        "id": "view-in-github"
      },
      "source": [
        "<a href=\"https://colab.research.google.com/github/gabrielebilliciani/knowledge-distillation/blob/main/Notebook3_KD_Classification_CNNs.ipynb\" target=\"_parent\"><img src=\"https://colab.research.google.com/assets/colab-badge.svg\" alt=\"Open In Colab\"/></a>"
      ]
    },
    {
      "cell_type": "markdown",
      "metadata": {
        "id": "r06hcearrIl3"
      },
      "source": [
        "# Knowledge Distillation for Classification\n",
        "\n",
        " > **Note**: This notebook is part of an introductory project on Knowledge Distillation. It serves as a practical companion to the main presentation slides. The complete project is available on GitHub at: https://github.com/gabrielebilliciani/knowledge-distillation\n",
        "\n",
        "This notebook acts as a follow-up to the previous one (available at https://github.com/gabrielebilliciani/knowledge-distillation/blob/main/Notebook2_KD_Classification_MLPs.ipynb), where we have introduced an application of Knowledge Distillation (KD) to classification tasks using Multi-Layer Perceptrons (MLPs) on MNIST data set.\n",
        "\n",
        "This notebook is structured as a series of experiments to further explore the potential of KD in classification tasks. We had concluded that, despite finding statistically significant improvements in the performance of the distilled student model, the MNIST data set might have been too simple to fully demonstrate the power of KD, since the baseline student model already achieved very high accuracy on its own.\n",
        "\n",
        "In order to explore more complex classification tasks, we will here use the CIFAR-10 and CIFAR-100 data sets, which are more challenging and require more sophisticated models. We will also use Convolutional Neural Networks (CNNs) as both teacher and student models, as they are better suited for image classification tasks.\n",
        "1.  **CIFAR-10 Basics:** First, we'll distil a pre-trained ResNet-56 into a simple CNN on the CIFAR-10 dataset.\n",
        "2.  **CIFAR-100 Challenge:** We'll move to the more difficult CIFAR-100 dataset and use a more capable ResNet-18 as student to see how a better architecture can better absorb the teacher's knowledge.\n",
        "\n",
        "*Some aspects of the code are similar to the previous notebook, so we will not repeat their explanations here.*"
      ]
    },
    {
      "cell_type": "markdown",
      "metadata": {},
      "source": [
        "# CIFAR-10"
      ]
    },
    {
      "cell_type": "code",
      "execution_count": null,
      "metadata": {
        "colab": {
          "base_uri": "https://localhost:8080/"
        },
        "execution": {
          "iopub.execute_input": "2025-07-12T20:26:39.911780Z",
          "iopub.status.busy": "2025-07-12T20:26:39.911054Z",
          "iopub.status.idle": "2025-07-12T20:26:44.712919Z",
          "shell.execute_reply": "2025-07-12T20:26:44.712095Z",
          "shell.execute_reply.started": "2025-07-12T20:26:39.911754Z"
        },
        "id": "K6X5NHzGrIl6",
        "outputId": "5f7979b9-e693-4f08-d90d-03b580d06e9f",
        "trusted": true
      },
      "outputs": [
        {
          "name": "stdout",
          "output_type": "stream",
          "text": [
            "Using device: cuda\n"
          ]
        }
      ],
      "source": [
        "import torch\n",
        "import torch.nn as nn\n",
        "import torch.optim as optim\n",
        "import torch.nn.functional as F\n",
        "from torch.utils.data import DataLoader, random_split\n",
        "from torchvision import datasets, transforms\n",
        "from tqdm.notebook import tqdm\n",
        "import numpy as np\n",
        "import copy\n",
        "import matplotlib.pyplot as plt\n",
        "\n",
        "# --- Configuration ---\n",
        "DEVICE = torch.device(\"cuda\" if torch.cuda.is_available() else \"cpu\")\n",
        "EPOCHS = 20\n",
        "PATIENCE = 5\n",
        "BATCH_SIZE = 64\n",
        "LR = 0.001\n",
        "TEMPERATURE = 10\n",
        "ALPHA = 0.2\n",
        "\n",
        "print(f\"Using device: {DEVICE}\")"
      ]
    },
    {
      "cell_type": "code",
      "execution_count": null,
      "metadata": {
        "colab": {
          "base_uri": "https://localhost:8080/"
        },
        "execution": {
          "iopub.execute_input": "2025-07-12T20:26:44.714720Z",
          "iopub.status.busy": "2025-07-12T20:26:44.714423Z",
          "iopub.status.idle": "2025-07-12T20:27:04.985217Z",
          "shell.execute_reply": "2025-07-12T20:27:04.984475Z",
          "shell.execute_reply.started": "2025-07-12T20:26:44.714703Z"
        },
        "id": "gyrJyW06rIl8",
        "outputId": "32c50cff-49e5-44d4-8314-af20068f1c08",
        "trusted": true
      },
      "outputs": [
        {
          "name": "stderr",
          "output_type": "stream",
          "text": [
            "100%|██████████| 170M/170M [00:03<00:00, 50.0MB/s]\n"
          ]
        },
        {
          "name": "stdout",
          "output_type": "stream",
          "text": [
            "Train samples: 45000, Validation samples: 5000\n"
          ]
        }
      ],
      "source": [
        "# --- Data Loading and Preprocessing ---\n",
        "transform = transforms.Compose([\n",
        "    transforms.ToTensor(),\n",
        "    transforms.Normalize((0.4914, 0.4822, 0.4465), (0.2023, 0.1994, 0.2010))\n",
        "])\n",
        "\n",
        "full_train_dataset = datasets.CIFAR10(root='./data', train=True, download=True, transform=transform)\n",
        "test_dataset = datasets.CIFAR10(root='./data', train=False, download=True, transform=transform)\n",
        "\n",
        "# Split training data into train and validation sets\n",
        "train_size = int(0.9 * len(full_train_dataset))\n",
        "val_size = len(full_train_dataset) - train_size\n",
        "train_subset, val_subset = random_split(full_train_dataset, [train_size, val_size])\n",
        "\n",
        "# Create DataLoaders\n",
        "train_loader = DataLoader(train_subset, batch_size=BATCH_SIZE, shuffle=True)\n",
        "val_loader = DataLoader(val_subset, batch_size=BATCH_SIZE, shuffle=False)\n",
        "test_loader = DataLoader(test_dataset, batch_size=BATCH_SIZE, shuffle=False)\n",
        "\n",
        "print(f\"Train samples: {len(train_subset)}, Validation samples: {len(val_subset)}\")"
      ]
    },
    {
      "cell_type": "markdown",
      "metadata": {
        "id": "XjgHHR-erIl-"
      },
      "source": [
        "## Model Architecture\n",
        "\n",
        "Here we define the simple Convolutional Neural Network (CNN) that will act as our student model."
      ]
    },
    {
      "cell_type": "code",
      "execution_count": null,
      "metadata": {
        "execution": {
          "iopub.execute_input": "2025-07-12T20:27:04.986333Z",
          "iopub.status.busy": "2025-07-12T20:27:04.986060Z",
          "iopub.status.idle": "2025-07-12T20:27:04.991821Z",
          "shell.execute_reply": "2025-07-12T20:27:04.991189Z",
          "shell.execute_reply.started": "2025-07-12T20:27:04.986309Z"
        },
        "id": "54H9QCkQrIl_",
        "trusted": true
      },
      "outputs": [],
      "source": [
        "class StudentNet(nn.Module):\n",
        "    def __init__(self):\n",
        "        super(StudentNet, self).__init__()\n",
        "        self.conv1 = nn.Conv2d(3, 16, 3, padding=1)\n",
        "        self.conv2 = nn.Conv2d(16, 32, 3, padding=1)\n",
        "        self.pool = nn.MaxPool2d(2, 2)\n",
        "        self.fc1 = nn.Linear(32 * 8 * 8, 256)\n",
        "        self.fc2 = nn.Linear(256, 10)\n",
        "\n",
        "    def forward(self, x):\n",
        "        x = self.pool(F.relu(self.conv1(x)))\n",
        "        x = self.pool(F.relu(self.conv2(x)))\n",
        "        x = x.view(-1, 32 * 8 * 8)\n",
        "        x = F.relu(self.fc1(x))\n",
        "        x = self.fc2(x)\n",
        "        return x"
      ]
    },
    {
      "cell_type": "markdown",
      "metadata": {
        "id": "EgxuG5QurImA"
      },
      "source": [
        "## Training and Evaluation Functions\n",
        "\n",
        "These functions handle the core logic for the distillation loss, training loops, and model evaluation.\n",
        "\n",
        "To prevent overfitting and ensure we select the best possible version of each model, we employ an **early stopping** mechanism based on the model's performance on a held-out **validation set**."
      ]
    },
    {
      "cell_type": "code",
      "execution_count": null,
      "metadata": {
        "execution": {
          "iopub.execute_input": "2025-07-12T20:27:04.993680Z",
          "iopub.status.busy": "2025-07-12T20:27:04.993217Z",
          "iopub.status.idle": "2025-07-12T20:27:05.009045Z",
          "shell.execute_reply": "2025-07-12T20:27:05.008521Z",
          "shell.execute_reply.started": "2025-07-12T20:27:04.993659Z"
        },
        "id": "poiAh4birImB",
        "trusted": true
      },
      "outputs": [],
      "source": [
        "def distillation_loss(student_outputs, labels, teacher_outputs, T, alpha):\n",
        "    \"\"\"\n",
        "    Calculates the distillation loss, combining soft and hard targets.\n",
        "    - Soft Target Loss: Kullback-Leibler divergence between the softened outputs of\n",
        "      the student and teacher models.\n",
        "    - Hard Target Loss: Standard cross-entropy loss with the ground truth labels.\n",
        "    \"\"\"\n",
        "    soft_loss = nn.KLDivLoss(reduction='batchmean')(\n",
        "        F.log_softmax(student_outputs / T, dim=1),\n",
        "        F.softmax(teacher_outputs / T, dim=1)\n",
        "    ) * (T * T)\n",
        "    hard_loss = F.cross_entropy(student_outputs, labels)\n",
        "    return alpha * hard_loss + (1.0 - alpha) * soft_loss\n",
        "\n",
        "def calculate_loss(model, loader, loss_fn, is_distillation, teacher_model=None):\n",
        "    \"\"\"Calculates loss over a dataset without performing training steps.\"\"\"\n",
        "    model.eval()\n",
        "    total_loss = 0\n",
        "    with torch.no_grad():\n",
        "        for data, target in loader:\n",
        "            data, target = data.to(DEVICE), target.to(DEVICE)\n",
        "            output = model(data)\n",
        "            if is_distillation and teacher_model:\n",
        "                teacher_output = teacher_model(data)\n",
        "                loss = loss_fn(output, target, teacher_output, TEMPERATURE, ALPHA)\n",
        "            else:\n",
        "                loss = loss_fn(output, target)\n",
        "            total_loss += loss.item()\n",
        "    return total_loss / len(loader)\n",
        "\n",
        "def evaluate(model, loader):\n",
        "    \"\"\"Calculates the accuracy of a model on a given dataset.\"\"\"\n",
        "    model.eval()\n",
        "    correct = 0\n",
        "    total = 0\n",
        "    with torch.no_grad():\n",
        "        for data, target in loader:\n",
        "            data, target = data.to(DEVICE), target.to(DEVICE)\n",
        "            outputs = model(data)\n",
        "            _, predicted = torch.max(outputs.data, 1)\n",
        "            total += target.size(0)\n",
        "            correct += (predicted == target).sum().item()\n",
        "    return 100 * correct / total\n",
        "\n",
        "def train_and_validate(model, train_loader, val_loader, optimizer, loss_fn, epochs, patience, is_distillation, teacher_model=None):\n",
        "    \"\"\"\n",
        "    Executes the complete training and validation loop with early stopping.\n",
        "    The model with the best validation loss is saved and restored at the end.\n",
        "    \"\"\"\n",
        "    best_val_loss = float('inf')\n",
        "    patience_counter = 0\n",
        "    best_model_state = None\n",
        "\n",
        "    for epoch in range(epochs):\n",
        "        model.train()\n",
        "        if is_distillation and teacher_model:\n",
        "            teacher_model.eval()\n",
        "\n",
        "        with tqdm(train_loader, desc=f\"Epoch {epoch+1}/{epochs} Training\", leave=False) as pbar:\n",
        "            for data, target in pbar:\n",
        "                data, target = data.to(DEVICE), target.to(DEVICE)\n",
        "                optimizer.zero_grad()\n",
        "                output = model(data)\n",
        "\n",
        "                if is_distillation:\n",
        "                    with torch.no_grad():\n",
        "                        teacher_output = teacher_model(data)\n",
        "                    loss = loss_fn(output, target, teacher_output, TEMPERATURE, ALPHA)\n",
        "                else:\n",
        "                    loss = loss_fn(output, target)\n",
        "\n",
        "                loss.backward()\n",
        "                optimizer.step()\n",
        "                pbar.set_postfix(loss=loss.item())\n",
        "\n",
        "        val_loss = calculate_loss(model, val_loader, loss_fn, is_distillation, teacher_model)\n",
        "        val_acc = evaluate(model, val_loader)\n",
        "        print(f\"Epoch {epoch+1}/{epochs} | Val Loss: {val_loss:.4f} | Val Acc: {val_acc:.2f}%\")\n",
        "\n",
        "        if val_loss < best_val_loss:\n",
        "            best_val_loss = val_loss\n",
        "            patience_counter = 0\n",
        "            best_model_state = copy.deepcopy(model.state_dict())\n",
        "            print(\"  -> Validation loss improved, saving model.\")\n",
        "        else:\n",
        "            patience_counter += 1\n",
        "            if patience_counter >= patience:\n",
        "                print(f\"  -> Early stopping triggered after {patience} epochs with no improvement.\")\n",
        "                break\n",
        "\n",
        "    if best_model_state:\n",
        "        model.load_state_dict(best_model_state)\n",
        "    return model"
      ]
    },
    {
      "cell_type": "markdown",
      "metadata": {
        "id": "kmhK3LaFrImC"
      },
      "source": [
        "## Experiment Execution\n",
        "\n",
        "Now we will conduct the experiment in the usual three stages:\n",
        "1.  **Evaluate the Teacher**: Load a pre-trained ResNet-56 model and measure its baseline accuracy on the CIFAR-10 test set. This model comes from the `pytorch-cifar-models` repository on GitHub and serves as our high-performance but computationally expensive expert.\n",
        "2.  **Train Student from Scratch**: Train our `StudentNet` using only the standard cross-entropy loss. This provides a baseline for comparison.\n",
        "3.  **Train Distilled Student**: Train the `StudentNet` again, but this time using the distillation loss function, which incorporates knowledge from the teacher model.\n",
        "\n",
        "To ensure a fair comparison, both student models will start from the exact same randomly initialised weights."
      ]
    },
    {
      "cell_type": "code",
      "execution_count": null,
      "metadata": {
        "colab": {
          "base_uri": "https://localhost:8080/"
        },
        "execution": {
          "iopub.execute_input": "2025-07-12T20:27:05.009911Z",
          "iopub.status.busy": "2025-07-12T20:27:05.009676Z",
          "iopub.status.idle": "2025-07-12T20:27:12.694846Z",
          "shell.execute_reply": "2025-07-12T20:27:12.694262Z",
          "shell.execute_reply.started": "2025-07-12T20:27:05.009886Z"
        },
        "id": "jcj13VURrImC",
        "outputId": "fdbdcfda-1e10-4667-fd16-aff55ec24d62",
        "trusted": true
      },
      "outputs": [
        {
          "name": "stdout",
          "output_type": "stream",
          "text": [
            "--- 1. Evaluating Teacher Model ---\n",
            "Loading pre-trained teacher model (cifar10_resnet56)...\n"
          ]
        },
        {
          "name": "stderr",
          "output_type": "stream",
          "text": [
            "/usr/local/lib/python3.11/dist-packages/torch/hub.py:330: UserWarning: You are about to download and run code from an untrusted repository. In a future release, this won't be allowed. To add the repository to your trusted list, change the command to {calling_fn}(..., trust_repo=False) and a command prompt will appear asking for an explicit confirmation of trust, or load(..., trust_repo=True), which will assume that the prompt is to be answered with 'yes'. You can also use load(..., trust_repo='check') which will only prompt for confirmation if the repo is not already trusted. This will eventually be the default behaviour\n",
            "  warnings.warn(\n",
            "Downloading: \"https://github.com/chenyaofo/pytorch-cifar-models/zipball/master\" to /root/.cache/torch/hub/master.zip\n",
            "Downloading: \"https://github.com/chenyaofo/pytorch-cifar-models/releases/download/resnet/cifar10_resnet56-187c023a.pt\" to /root/.cache/torch/hub/checkpoints/cifar10_resnet56-187c023a.pt\n",
            "100%|██████████| 3.39M/3.39M [00:00<00:00, 49.2MB/s]\n"
          ]
        },
        {
          "name": "stdout",
          "output_type": "stream",
          "text": [
            "Teacher (ResNet-56) Test Accuracy: 94.37%\n"
          ]
        }
      ],
      "source": [
        "print(\"--- 1. Evaluating Teacher Model ---\")\n",
        "print(\"Loading pre-trained teacher model (cifar10_resnet56)...\")\n",
        "teacher_model = torch.hub.load(\"chenyaofo/pytorch-cifar-models\", \"cifar10_resnet56\", pretrained=True)\n",
        "teacher_model.to(DEVICE)\n",
        "teacher_model.eval()\n",
        "\n",
        "teacher_accuracy = evaluate(teacher_model, test_loader)\n",
        "print(f\"Teacher (ResNet-56) Test Accuracy: {teacher_accuracy:.2f}%\")"
      ]
    },
    {
      "cell_type": "code",
      "execution_count": null,
      "metadata": {
        "colab": {
          "base_uri": "https://localhost:8080/",
          "height": 382,
          "referenced_widgets": [
            "83fdc47f76004efd990cf080187987ab",
            "ccaf0f8950614ed0ad0fa21089b4b0c3",
            "677411bb5be145e3a6cff3c43c53f9c9",
            "94e8c82fd2d94ede86c11be744c8c32c",
            "4558b0b45d9e4c8a886739f8119d4c5f",
            "cf25ab33a87841b5b79e1575d1a0d6b6",
            "d4c30aa648004bc89998c1dea63c70e1",
            "a8937a90cb7e48e5a2fcb07158c7db38",
            "d46c51b6a701442aa4048d722e8ec296",
            "73cbf433df174cc1be1e7853614970b4",
            "68a64ffb5c3f4fc98be8382c61856d7f",
            "293f691b171b49838a768ce95e814c0b",
            "3c588f063a38472baaa11f622b1ba0d5",
            "d0ca58d7585f4da5992bbe9db26ca3c8",
            "8580189eddad417baadbe2ee055f4456",
            "ea22fb9476224c90bb343050db758ce4",
            "fe2d964fd23949f5b3a8481823078939",
            "f62aa1528ba8452885a80ba10bcf50ac",
            "7aaeed9d59674eba881467cee54bb57f",
            "da38c1085b9547c7a3133e55b0ce59a9",
            "774ffecd240e49ab951cfc4f1c5ea369",
            "5afdeca6bc7c4ef0b3c5feba7410b850",
            "1b0f38f562204b08b9fbf4e4b1449545",
            "027d4ee32b83459682ddf8e9c1d2a26c",
            "7e8dd88b35734638886458faeb5acd84",
            "288accba316b4c67979a61db6f1e0b2a",
            "53442903241a4d458da068b54daebf35",
            "06789d3395be4da7b958cbc5968bf494",
            "7ae1265a7f2b446cb84dd45c1bf1b94d",
            "65e26c900aec408c900096e2c84f39ac",
            "64d3cb61a9784096b26fb66c4976e749",
            "9290827d7c0647b08faa3c4e7fee1284",
            "71157ac0ee06450192e98f849b2ac6eb",
            "29edc0fcad1a467fb4a1f28766aec403",
            "f6d812a405b34ea8935a51896ecd3bcc",
            "6d347fe1a8204e2fbd8a7d3a048d9f62",
            "3abfd44b59034f82abc10747f4b9c281",
            "9cf405d36b6e456f90f5dfbd6f98524e",
            "c24961438ccf40f6825c0921447e01ff",
            "c7c2a09270694926b0f65feb76f91ebf",
            "4dc29270d3334019a2f6f0a949a91109",
            "e2bc8ba911c34175a7d9f88bdfb93119",
            "acaf1dff8688441687c0d1d2ac0c53dc",
            "d356df75d57a4a2283f2b2d86815dd39",
            "0654b745fb0643d5b044e372515a95e5",
            "5db69f3e66f44581a6b2735d472b2d65",
            "8fec22772785494586ffe00ab6ed9ceb",
            "e30c24414f174be6a3320111c27cd808",
            "2b62ad780e774486bef79586b706fbe8",
            "0afb4e901ae24de4ab1877440b3ed244",
            "bc67f1b9a180423f85026aab781211ae",
            "6deadb020d254d24875fb7fa36dde507",
            "2a2acc4af6b74a188306c3f2b3b50fa3",
            "58f19f5ccf9a480bb78fb42350b76a31",
            "76e69832ab74471bb12881697387dc82",
            "d0b011ca3212488d8c9643f8f6b06e85",
            "03d06b8202224a32bd5eceb0624f9103",
            "ca319058f34344c99963bfe50ac8ca4a",
            "f294c246ebd642688730fa5f6dbd488b",
            "c73d18fc5d254979b8068ecbebdc0b30",
            "001c6091d552421299be93d406863a24",
            "a41b15cc08b8411caa03983bd22c60bc",
            "90450d9bc84d42f2a5dc7c2250811383",
            "aa560407f6394819b73ff99144aa0f25",
            "49aadd807c0c4a0ebd98ade812e956f7",
            "ccb64bffcd3e4c0d92678adda8c8c2fc",
            "9d45ed46a9ef4f558d46065a2d5f5306",
            "c48f3ef51faf4ec98521638af6261498",
            "281d9ce4164047df8e9429c6a4e25178",
            "629648207d1b4ba3b347bf8a3085be4d",
            "3c0069543bf94f558af0ce12b729c7b6",
            "642ec21b1c05473c973d200b209c3232",
            "3be97dcb9b664651b0354ac056bd1b28",
            "d38878d31ae14aa888a3474c9d7bdf54",
            "d01ea4660ce84ce4b96aa8ab7ab8b985",
            "8b86fe6f2a654ef3b3178cb08f1bee37",
            "15fffc72a0ee48599d7c88078fdce8db",
            "bf5656e911ea428b9f08ef7120d16e13",
            "779d100fc10c4926bd61e1259c584daa",
            "5ceee9423a4b4993be55671c6d7e7922",
            "cb19c52578784f3498c3df6c1cb0fdf2",
            "be7f433034824876b75fa73d65da7c1b",
            "a4b38bc3e22246d9bf86c0044dd9ccff",
            "0b0dc0be3aac4d41bc854d115c99fe77",
            "8721f66a4760440fbc83e3ad51855911",
            "64684a20c5e84cdba33dfcb0ff4751f1",
            "ae79d5f147104daeb78aff7a9c548166",
            "3bc21b8881574b79b658db37a3502bcc",
            "c4e565415ccb4b96bebab8201133e8e8",
            "f8dd67883a204cb7a33f81a819f5911d",
            "8a90afa80760475aa0404ee1ca7606ce",
            "f87bca03acd14e88817d39645c2d16e6",
            "96657d5d31a74633b7b8039c8e9f70cf",
            "12ba905b84e8403ab7d8e41e445cb5a8",
            "f615d35c39854842b39fd5179f9f02df",
            "f38ea1df4fc946f7ad6c2b86d4c31fe7",
            "a06ca147d5784f43bb00e92423f304a8",
            "39e4752ea6d64040b21cbce7d9e4e95d",
            "f4d07e73006c400b9b617708bcf00c81",
            "f5d5ae2d07f348959c157d2aadac9590",
            "31207523b53b4ae2be6e39baeece08fa",
            "0340522e47b04d15abf9d5340bf807d3",
            "0027830b213d44ef9e66ffe4cf8dd1ad",
            "3f55c51dfc6348ea8f460480bf202f2a",
            "1b13897314134b68b19c261ce55992c3",
            "6e7f354651b6438dabbef0854d59738f",
            "76f6263a182a42279389f37d8560b42b",
            "b4f02ce7688a4b9fa4dbef0ca6f6cdbe",
            "c8f55ba3f22040d6b7a53ac0a4b55386",
            "095b47fbf556410a84e3647b508099e6"
          ]
        },
        "execution": {
          "iopub.execute_input": "2025-07-12T20:27:12.695789Z",
          "iopub.status.busy": "2025-07-12T20:27:12.695576Z",
          "iopub.status.idle": "2025-07-12T20:29:39.629438Z",
          "shell.execute_reply": "2025-07-12T20:29:39.628763Z",
          "shell.execute_reply.started": "2025-07-12T20:27:12.695763Z"
        },
        "id": "hQvKgS4ZrImD",
        "outputId": "a7399be5-3a01-4680-d3e6-1e5d8b848fbe",
        "trusted": true
      },
      "outputs": [
        {
          "name": "stdout",
          "output_type": "stream",
          "text": [
            "\n",
            "Creating a template student and saving its initial weights...\n",
            "\n",
            "--- 2. Training Student from Scratch (Baseline) ---\n"
          ]
        },
        {
          "data": {
            "application/vnd.jupyter.widget-view+json": {
              "model_id": "83fdc47f76004efd990cf080187987ab",
              "version_major": 2,
              "version_minor": 0
            },
            "text/plain": [
              "Epoch 1/20 Training:   0%|          | 0/704 [00:00<?, ?it/s]"
            ]
          },
          "metadata": {},
          "output_type": "display_data"
        },
        {
          "name": "stdout",
          "output_type": "stream",
          "text": [
            "Epoch 1/20 | Val Loss: 1.1110 | Val Acc: 60.62%\n",
            "  -> Validation loss improved, saving model.\n"
          ]
        },
        {
          "data": {
            "application/vnd.jupyter.widget-view+json": {
              "model_id": "293f691b171b49838a768ce95e814c0b",
              "version_major": 2,
              "version_minor": 0
            },
            "text/plain": [
              "Epoch 2/20 Training:   0%|          | 0/704 [00:00<?, ?it/s]"
            ]
          },
          "metadata": {},
          "output_type": "display_data"
        },
        {
          "name": "stdout",
          "output_type": "stream",
          "text": [
            "Epoch 2/20 | Val Loss: 1.0160 | Val Acc: 62.54%\n",
            "  -> Validation loss improved, saving model.\n"
          ]
        },
        {
          "data": {
            "application/vnd.jupyter.widget-view+json": {
              "model_id": "1b0f38f562204b08b9fbf4e4b1449545",
              "version_major": 2,
              "version_minor": 0
            },
            "text/plain": [
              "Epoch 3/20 Training:   0%|          | 0/704 [00:00<?, ?it/s]"
            ]
          },
          "metadata": {},
          "output_type": "display_data"
        },
        {
          "name": "stdout",
          "output_type": "stream",
          "text": [
            "Epoch 3/20 | Val Loss: 0.8749 | Val Acc: 69.34%\n",
            "  -> Validation loss improved, saving model.\n"
          ]
        },
        {
          "data": {
            "application/vnd.jupyter.widget-view+json": {
              "model_id": "29edc0fcad1a467fb4a1f28766aec403",
              "version_major": 2,
              "version_minor": 0
            },
            "text/plain": [
              "Epoch 4/20 Training:   0%|          | 0/704 [00:00<?, ?it/s]"
            ]
          },
          "metadata": {},
          "output_type": "display_data"
        },
        {
          "name": "stdout",
          "output_type": "stream",
          "text": [
            "Epoch 4/20 | Val Loss: 0.8825 | Val Acc: 68.94%\n"
          ]
        },
        {
          "data": {
            "application/vnd.jupyter.widget-view+json": {
              "model_id": "0654b745fb0643d5b044e372515a95e5",
              "version_major": 2,
              "version_minor": 0
            },
            "text/plain": [
              "Epoch 5/20 Training:   0%|          | 0/704 [00:00<?, ?it/s]"
            ]
          },
          "metadata": {},
          "output_type": "display_data"
        },
        {
          "name": "stdout",
          "output_type": "stream",
          "text": [
            "Epoch 5/20 | Val Loss: 0.8351 | Val Acc: 71.04%\n",
            "  -> Validation loss improved, saving model.\n"
          ]
        },
        {
          "data": {
            "application/vnd.jupyter.widget-view+json": {
              "model_id": "d0b011ca3212488d8c9643f8f6b06e85",
              "version_major": 2,
              "version_minor": 0
            },
            "text/plain": [
              "Epoch 6/20 Training:   0%|          | 0/704 [00:00<?, ?it/s]"
            ]
          },
          "metadata": {},
          "output_type": "display_data"
        },
        {
          "name": "stdout",
          "output_type": "stream",
          "text": [
            "Epoch 6/20 | Val Loss: 0.8875 | Val Acc: 70.82%\n"
          ]
        },
        {
          "data": {
            "application/vnd.jupyter.widget-view+json": {
              "model_id": "9d45ed46a9ef4f558d46065a2d5f5306",
              "version_major": 2,
              "version_minor": 0
            },
            "text/plain": [
              "Epoch 7/20 Training:   0%|          | 0/704 [00:00<?, ?it/s]"
            ]
          },
          "metadata": {},
          "output_type": "display_data"
        },
        {
          "name": "stdout",
          "output_type": "stream",
          "text": [
            "Epoch 7/20 | Val Loss: 0.9484 | Val Acc: 70.78%\n"
          ]
        },
        {
          "data": {
            "application/vnd.jupyter.widget-view+json": {
              "model_id": "bf5656e911ea428b9f08ef7120d16e13",
              "version_major": 2,
              "version_minor": 0
            },
            "text/plain": [
              "Epoch 8/20 Training:   0%|          | 0/704 [00:00<?, ?it/s]"
            ]
          },
          "metadata": {},
          "output_type": "display_data"
        },
        {
          "name": "stdout",
          "output_type": "stream",
          "text": [
            "Epoch 8/20 | Val Loss: 1.0771 | Val Acc: 70.18%\n"
          ]
        },
        {
          "data": {
            "application/vnd.jupyter.widget-view+json": {
              "model_id": "c4e565415ccb4b96bebab8201133e8e8",
              "version_major": 2,
              "version_minor": 0
            },
            "text/plain": [
              "Epoch 9/20 Training:   0%|          | 0/704 [00:00<?, ?it/s]"
            ]
          },
          "metadata": {},
          "output_type": "display_data"
        },
        {
          "name": "stdout",
          "output_type": "stream",
          "text": [
            "Epoch 9/20 | Val Loss: 1.1865 | Val Acc: 69.58%\n"
          ]
        },
        {
          "data": {
            "application/vnd.jupyter.widget-view+json": {
              "model_id": "f5d5ae2d07f348959c157d2aadac9590",
              "version_major": 2,
              "version_minor": 0
            },
            "text/plain": [
              "Epoch 10/20 Training:   0%|          | 0/704 [00:00<?, ?it/s]"
            ]
          },
          "metadata": {},
          "output_type": "display_data"
        },
        {
          "name": "stdout",
          "output_type": "stream",
          "text": [
            "Epoch 10/20 | Val Loss: 1.3063 | Val Acc: 68.40%\n",
            "  -> Early stopping triggered after 5 epochs with no improvement.\n",
            "\n",
            "Final Baseline Student Test Accuracy: 70.86%\n"
          ]
        }
      ],
      "source": [
        "# Create a template student and save its initial weights for a fair comparison\n",
        "print(\"\\nCreating a template student and saving its initial weights...\")\n",
        "template_student = StudentNet()\n",
        "initial_student_state = copy.deepcopy(template_student.state_dict())\n",
        "\n",
        "print(\"\\n--- 2. Training Student from Scratch (Baseline) ---\")\n",
        "student_baseline = StudentNet().to(DEVICE)\n",
        "student_baseline.load_state_dict(initial_student_state)\n",
        "optimizer_baseline = optim.Adam(student_baseline.parameters(), lr=LR)\n",
        "loss_fn_baseline = nn.CrossEntropyLoss()\n",
        "\n",
        "student_baseline = train_and_validate(\n",
        "    student_baseline, train_loader, val_loader, optimizer_baseline,\n",
        "    loss_fn_baseline, EPOCHS, PATIENCE, is_distillation=False\n",
        ")\n",
        "baseline_accuracy = evaluate(student_baseline, test_loader)\n",
        "print(f\"\\nFinal Baseline Student Test Accuracy: {baseline_accuracy:.2f}%\")"
      ]
    },
    {
      "cell_type": "code",
      "execution_count": null,
      "metadata": {
        "colab": {
          "base_uri": "https://localhost:8080/",
          "height": 399,
          "referenced_widgets": [
            "a44a7c18037348c09865b58807fba7b4",
            "99d72bb08a3140a5a12e37a2ac9eeb8a",
            "9f941b6c11ec455f9362c3bf4aabb47b",
            "e31c1367921940a8a2f8a24bb750f1d5",
            "0fc6ca73a06141f1a8c7e331c45c1665",
            "7476680485874b36a050c1344f11e911",
            "c795ecdb7f954010a9a415253bfbb5af",
            "bc283ff1b58c40e1a58ca70a74efafbf",
            "ea09c4632bed44529b82e5423dac76ec",
            "12f1b83eb07044009e1c38bdc738b45d",
            "15d699f20313481aa2d83fea08f10de0",
            "c2a31e7ca4c2453eb70b0fb698c03ce7",
            "868243eac40c4a959d0a054f6250454c",
            "b55c0d0798aa43e2966da6e8d825fa28",
            "09140d5aa0714bbeac2fac768dadf065",
            "a7054f10c55d4dbd9867814886f56e34",
            "3dee4ef79dc04e6dbcdc6037fbb2ffaa",
            "4e550a943ed3498c8a797c28b2893c9b",
            "f85ef1558daa4a81aa8c82f5233db1a5",
            "0e27e7b16ad749d693fd17c23bf9ecea",
            "a06ef64d8f9741f1ac9e40d3e8291868",
            "52c8007c2ba04bca9e1c1452a21c3b1c",
            "edef408c17b545cd8afd182109db2fed",
            "d4770f2b4f5747568eb81967949c451c",
            "b276d0ddb9164ceb882d35aa4fff7380",
            "ca2cb9f1fa2a48349e10030ed8925eb7",
            "d64bae4a6b6e4ef1b6788ed46a0f6af9",
            "6ff5c9bada544f9f9de54dc0afff575f",
            "1a42f9637716469cb04a566139e59eb7",
            "f7b037f357554119a47781ca95aa3028",
            "e6328ec3ed934954b8c9ceb41a8256d7",
            "060732198d3042c9b720acb6719d60d6",
            "19dc61500bae491896c581747cdf9cae",
            "cad48938f7884ec4bbdd5bff722ef96b",
            "0c462c38b1704e1f822fcf65a6fc32f1",
            "4e6f41051d7d4e11bcef66a2378d28b3",
            "db352484e8914ad586723af70c6392a5",
            "94bc48ed3ab747539c1a11325c704d3a",
            "533b1bbd46db437e9aac7b4676fa0a3c",
            "cb7c72d8b37e471ab98ab91a080e1cc1",
            "79de72fec1194495bf78b9f83fa680c6",
            "46028605780f425ea01bf2f786a20735",
            "0dba70ad9d3441c78c6ad88128800995",
            "5ca12ad732564d97a864d1451fabcc4f",
            "a5949d0796e249d6b87c6171322c9440",
            "38053b7c2a4b4f788e0ae0a3c1227ff6",
            "7447d3fbe69a47cf9d73c5a0d64e7f9e",
            "b014f37d62574a68afc97c09cb7a0931",
            "0b543b1f19a548cf8a066e83909bd0f6",
            "626a59e9c81d4dce9dc4959cb4f17e4e",
            "3b45991cda654d02a66c88afd5289e2e",
            "058d0ce2b8c640349f9a02e935e8c667",
            "4ce26da3bd274c86ab7911541424d1d1",
            "4ce737578a48435caf86c53c429a90e6",
            "3f7d04d094c4450f88fc86d2c5e602fa",
            "a70701c906274520a1f214bece700cd8",
            "f7044ff206a34ad58241542937c6d844",
            "1b5a4d86cb6a4ba48ddf917399b538e0",
            "c81aefa15ea54608bc2376312b627ae2",
            "0278a35ea8f340d5966c740ceb92621c",
            "79f2a8c1de4346eaa498d96b78b163f7",
            "9062c905aa124041b5660ef2c163955a",
            "09791b2e2b4e43eb9fd77135b49d9a45",
            "e4c4734ca2c74c27871db2004a0a85d0",
            "5addd1e08d58426883672cf3d4b149d0",
            "98934578bf874368938163203018f941",
            "0c5b96d1fe56402c81c80a0bc089dd4a",
            "0e3f6e10aa0a49b3960bca5fde325b19",
            "fff0487a72914953a6ffc23f10889fe2",
            "1f4cfe034c2c4ee0bd6830d56159de70",
            "d18c81d32a6e43718c95c8f0d128d830",
            "c340d23145ca4e4491afea2e44e1080f",
            "16f9073666134612b8df1e80defebacb",
            "63bbfb63840b44f2a8b2ac5de1331054",
            "621de35e765a4c87b25c310221735c4a",
            "d692ce0f9a954fe5b8584a0fd5345037",
            "a75358ae76c2482a9c89985f1f31a78d",
            "01e1764d03f149e592082246e7cb9f2a",
            "a2eb0fcff88049d0ba46439a24e7da0c",
            "26ffe108c01c4cc6911182a5f2ba4989",
            "80d759ed9de04a208e26599e0134a0d9",
            "6033f909aa274f118324943cf305551f",
            "0b4907e62b624438bb52a698d6a1bffa",
            "d62935789db947da83d75ef9d33c9998",
            "9ebc95f33ba64df7a12e898c516d01fe",
            "3fdf994a25c94dd38696427337eec7e1",
            "9ca42be7db504d2e94955ec2501fee20",
            "c1f5319f3ba441d6b1a8f4b7277a2475",
            "aded9386336b4d53aa814d26d9f3860b",
            "f2afe26884ae4919bfb4d5a9163dd281",
            "fc0e7142630d4a1aabec6b6250df550d",
            "16f36489fcde4018973b21ec8660459e",
            "67347d782122426b866f1eb6dbf66176",
            "b5902efef73d4ea38f35ca79731882ec",
            "035f5de20aca48c9935ae35c9c6153bf",
            "8c8cde6632444de6a389d754a3a5dcf1",
            "3a5aaffa2d544b40b909f09650eed508",
            "67cc4717f8da477094fdf939040951b8",
            "1ac3322ca66e48da9a4bb4595ba710b3",
            "0cf5f70f600f48988e4703fa2c050397",
            "0c1379b748814566811349c86dc676e6",
            "4a5cf240b4a046a0bc0d7c7d3fb8d2bc",
            "2dc91ddc776c433faa843c642644a106",
            "5bc5cb45e7654757858130bd716768d6",
            "32e58570bf674b388f3665b2e3007e7e",
            "b3cf9d18d528463a86eca375ec4a6e70",
            "1cd4fa8e38fb4ab187a4cd39666e7ff2",
            "ed6445c7d2cc407889833a64702b8a53",
            "9d8ccdda5e2a4225b3a1ab422d254d1e",
            "ea31c9c9f2ad42d9bf31d47ce784c9a7",
            "c71d903378fa4fce90624dc55108518b",
            "d7fcde7650f84de78b52419ce48c4557",
            "d9080af48ea642edafee33116f6a9941",
            "4091e2cc0d6b4c4fb6f0e9e6e714fc64",
            "ef6b686ced7846b5b7fba6a4505cb5d5",
            "8ad32ad06aa746168b47c0659bd4fe72",
            "b3b373a056794287ba843fb8e8a65397",
            "194c23f42e5d46dd9501e1d39f76e6db",
            "36f498c33f2240b783756932dc1d64b9",
            "bf7589072a9247dbb0d86858586a060e",
            "590a741666c54fc994a1389464696505"
          ]
        },
        "execution": {
          "iopub.execute_input": "2025-07-12T20:29:39.630412Z",
          "iopub.status.busy": "2025-07-12T20:29:39.630127Z",
          "iopub.status.idle": "2025-07-12T20:33:58.546222Z",
          "shell.execute_reply": "2025-07-12T20:33:58.545589Z",
          "shell.execute_reply.started": "2025-07-12T20:29:39.630385Z"
        },
        "id": "3yz8QT3krImD",
        "outputId": "9e32f63f-f4d0-4329-b422-47c140d79f7a",
        "trusted": true
      },
      "outputs": [
        {
          "name": "stdout",
          "output_type": "stream",
          "text": [
            "\n",
            "--- 3. Training Distilled Student ---\n"
          ]
        },
        {
          "data": {
            "application/vnd.jupyter.widget-view+json": {
              "model_id": "a44a7c18037348c09865b58807fba7b4",
              "version_major": 2,
              "version_minor": 0
            },
            "text/plain": [
              "Epoch 1/20 Training:   0%|          | 0/704 [00:00<?, ?it/s]"
            ]
          },
          "metadata": {},
          "output_type": "display_data"
        },
        {
          "name": "stdout",
          "output_type": "stream",
          "text": [
            "Epoch 1/20 | Val Loss: 5.7735 | Val Acc: 60.08%\n",
            "  -> Validation loss improved, saving model.\n"
          ]
        },
        {
          "data": {
            "application/vnd.jupyter.widget-view+json": {
              "model_id": "c2a31e7ca4c2453eb70b0fb698c03ce7",
              "version_major": 2,
              "version_minor": 0
            },
            "text/plain": [
              "Epoch 2/20 Training:   0%|          | 0/704 [00:00<?, ?it/s]"
            ]
          },
          "metadata": {},
          "output_type": "display_data"
        },
        {
          "name": "stdout",
          "output_type": "stream",
          "text": [
            "Epoch 2/20 | Val Loss: 5.1554 | Val Acc: 64.90%\n",
            "  -> Validation loss improved, saving model.\n"
          ]
        },
        {
          "data": {
            "application/vnd.jupyter.widget-view+json": {
              "model_id": "edef408c17b545cd8afd182109db2fed",
              "version_major": 2,
              "version_minor": 0
            },
            "text/plain": [
              "Epoch 3/20 Training:   0%|          | 0/704 [00:00<?, ?it/s]"
            ]
          },
          "metadata": {},
          "output_type": "display_data"
        },
        {
          "name": "stdout",
          "output_type": "stream",
          "text": [
            "Epoch 3/20 | Val Loss: 4.8069 | Val Acc: 67.92%\n",
            "  -> Validation loss improved, saving model.\n"
          ]
        },
        {
          "data": {
            "application/vnd.jupyter.widget-view+json": {
              "model_id": "cad48938f7884ec4bbdd5bff722ef96b",
              "version_major": 2,
              "version_minor": 0
            },
            "text/plain": [
              "Epoch 4/20 Training:   0%|          | 0/704 [00:00<?, ?it/s]"
            ]
          },
          "metadata": {},
          "output_type": "display_data"
        },
        {
          "name": "stdout",
          "output_type": "stream",
          "text": [
            "Epoch 4/20 | Val Loss: 4.5108 | Val Acc: 69.90%\n",
            "  -> Validation loss improved, saving model.\n"
          ]
        },
        {
          "data": {
            "application/vnd.jupyter.widget-view+json": {
              "model_id": "a5949d0796e249d6b87c6171322c9440",
              "version_major": 2,
              "version_minor": 0
            },
            "text/plain": [
              "Epoch 5/20 Training:   0%|          | 0/704 [00:00<?, ?it/s]"
            ]
          },
          "metadata": {},
          "output_type": "display_data"
        },
        {
          "name": "stdout",
          "output_type": "stream",
          "text": [
            "Epoch 5/20 | Val Loss: 4.4465 | Val Acc: 71.26%\n",
            "  -> Validation loss improved, saving model.\n"
          ]
        },
        {
          "data": {
            "application/vnd.jupyter.widget-view+json": {
              "model_id": "a70701c906274520a1f214bece700cd8",
              "version_major": 2,
              "version_minor": 0
            },
            "text/plain": [
              "Epoch 6/20 Training:   0%|          | 0/704 [00:00<?, ?it/s]"
            ]
          },
          "metadata": {},
          "output_type": "display_data"
        },
        {
          "name": "stdout",
          "output_type": "stream",
          "text": [
            "Epoch 6/20 | Val Loss: 4.2573 | Val Acc: 72.26%\n",
            "  -> Validation loss improved, saving model.\n"
          ]
        },
        {
          "data": {
            "application/vnd.jupyter.widget-view+json": {
              "model_id": "0c5b96d1fe56402c81c80a0bc089dd4a",
              "version_major": 2,
              "version_minor": 0
            },
            "text/plain": [
              "Epoch 7/20 Training:   0%|          | 0/704 [00:00<?, ?it/s]"
            ]
          },
          "metadata": {},
          "output_type": "display_data"
        },
        {
          "name": "stdout",
          "output_type": "stream",
          "text": [
            "Epoch 7/20 | Val Loss: 4.2695 | Val Acc: 72.64%\n"
          ]
        },
        {
          "data": {
            "application/vnd.jupyter.widget-view+json": {
              "model_id": "01e1764d03f149e592082246e7cb9f2a",
              "version_major": 2,
              "version_minor": 0
            },
            "text/plain": [
              "Epoch 8/20 Training:   0%|          | 0/704 [00:00<?, ?it/s]"
            ]
          },
          "metadata": {},
          "output_type": "display_data"
        },
        {
          "name": "stdout",
          "output_type": "stream",
          "text": [
            "Epoch 8/20 | Val Loss: 4.4279 | Val Acc: 71.74%\n"
          ]
        },
        {
          "data": {
            "application/vnd.jupyter.widget-view+json": {
              "model_id": "aded9386336b4d53aa814d26d9f3860b",
              "version_major": 2,
              "version_minor": 0
            },
            "text/plain": [
              "Epoch 9/20 Training:   0%|          | 0/704 [00:00<?, ?it/s]"
            ]
          },
          "metadata": {},
          "output_type": "display_data"
        },
        {
          "name": "stdout",
          "output_type": "stream",
          "text": [
            "Epoch 9/20 | Val Loss: 4.2734 | Val Acc: 73.30%\n"
          ]
        },
        {
          "data": {
            "application/vnd.jupyter.widget-view+json": {
              "model_id": "0cf5f70f600f48988e4703fa2c050397",
              "version_major": 2,
              "version_minor": 0
            },
            "text/plain": [
              "Epoch 10/20 Training:   0%|          | 0/704 [00:00<?, ?it/s]"
            ]
          },
          "metadata": {},
          "output_type": "display_data"
        },
        {
          "name": "stdout",
          "output_type": "stream",
          "text": [
            "Epoch 10/20 | Val Loss: 4.2872 | Val Acc: 73.34%\n"
          ]
        },
        {
          "data": {
            "application/vnd.jupyter.widget-view+json": {
              "model_id": "c71d903378fa4fce90624dc55108518b",
              "version_major": 2,
              "version_minor": 0
            },
            "text/plain": [
              "Epoch 11/20 Training:   0%|          | 0/704 [00:00<?, ?it/s]"
            ]
          },
          "metadata": {},
          "output_type": "display_data"
        },
        {
          "name": "stdout",
          "output_type": "stream",
          "text": [
            "Epoch 11/20 | Val Loss: 4.3367 | Val Acc: 73.08%\n",
            "  -> Early stopping triggered after 5 epochs with no improvement.\n",
            "\n",
            "Final Distilled Student Test Accuracy: 71.68%\n"
          ]
        }
      ],
      "source": [
        "print(\"\\n--- 3. Training Distilled Student ---\")\n",
        "student_distilled = StudentNet().to(DEVICE)\n",
        "student_distilled.load_state_dict(initial_student_state)\n",
        "optimizer_distilled = optim.Adam(student_distilled.parameters(), lr=LR)\n",
        "loss_fn_distilled = distillation_loss\n",
        "\n",
        "student_distilled = train_and_validate(\n",
        "    student_distilled, train_loader, val_loader, optimizer_distilled,\n",
        "    loss_fn_distilled, EPOCHS, PATIENCE, is_distillation=True, teacher_model=teacher_model\n",
        ")\n",
        "distilled_accuracy = evaluate(student_distilled, test_loader)\n",
        "print(f\"\\nFinal Distilled Student Test Accuracy: {distilled_accuracy:.2f}%\")"
      ]
    },
    {
      "cell_type": "markdown",
      "metadata": {
        "id": "n73sNx5CrImE"
      },
      "source": [
        "## Final Results"
      ]
    },
    {
      "cell_type": "code",
      "execution_count": null,
      "metadata": {
        "colab": {
          "base_uri": "https://localhost:8080/"
        },
        "execution": {
          "iopub.execute_input": "2025-07-12T20:33:58.547100Z",
          "iopub.status.busy": "2025-07-12T20:33:58.546890Z",
          "iopub.status.idle": "2025-07-12T20:33:58.551608Z",
          "shell.execute_reply": "2025-07-12T20:33:58.550972Z",
          "shell.execute_reply.started": "2025-07-12T20:33:58.547075Z"
        },
        "id": "7YJJWE9VrImE",
        "outputId": "d02d2570-7e85-423d-f1d2-08b8f7f11a9b",
        "trusted": true
      },
      "outputs": [
        {
          "name": "stdout",
          "output_type": "stream",
          "text": [
            "\n",
            "\n",
            "--- FINAL COMPREHENSIVE RESULTS ---\n",
            "Teacher (ResNet-56) Accuracy: 94.37%\n",
            "Student (Baseline) Accuracy:  70.86%\n",
            "Student (Distilled) Accuracy: 71.68%\n",
            "---------------------------------\n",
            "Improvement with Distillation: 0.82%\n"
          ]
        }
      ],
      "source": [
        "print(\"\\n\\n--- FINAL COMPREHENSIVE RESULTS ---\")\n",
        "print(f\"Teacher (ResNet-56) Accuracy: {teacher_accuracy:.2f}%\")\n",
        "print(f\"Student (Baseline) Accuracy:  {baseline_accuracy:.2f}%\")\n",
        "print(f\"Student (Distilled) Accuracy: {distilled_accuracy:.2f}%\")\n",
        "print(\"---------------------------------\")\n",
        "improvement = distilled_accuracy - baseline_accuracy\n",
        "print(f\"Improvement with Distillation: {improvement:.2f}%\")"
      ]
    },
    {
      "cell_type": "markdown",
      "metadata": {
        "id": "5uXyU8f3rImF"
      },
      "source": [
        "Running this many times and performing a statistical validation, we got the following results:\n",
        "\n",
        "**Statistical Test (Paired t-test):**\n",
        "*   **Improvement with Distillation:** 2.24%\n",
        "*   **T-statistic:** 3.9024\n",
        "*   **P-value:** 0.0175\n",
        "\n",
        "**Conclusion:**\n",
        "The improvement from knowledge distillation is **STATISTICALLY SIGNIFICANT**.\n",
        "\n",
        "**Let's see whether a bigger task (e.g. with more classes) can benefit from distillation even more.**"
      ]
    },
    {
      "cell_type": "markdown",
      "metadata": {
        "id": "K5Nv7X1yrImF"
      },
      "source": [
        "# A More Challenging Task: CIFAR-100\n",
        "\n",
        "We now transition to the CIFAR-100 dataset. This task is significantly more difficult as it contains 100 classes instead of 10. We will first attempt to distil knowledge into the same simple student architecture to observe the impact of distillation on a harder problem.\n",
        "\n",
        "A key optimisation will be introduced here: pre-computing the teacher's outputs (logits). The new teacher model is a large ResNet-50 that requires upscaled input images. To avoid the computational expense of running this large model during every single training step of the student, we will run it once over the entire dataset and save its predictions. This creates a \"lookup table\" of logits, saving a significant amount of time during the student's training loop."
      ]
    },
    {
      "cell_type": "code",
      "execution_count": null,
      "metadata": {
        "colab": {
          "base_uri": "https://localhost:8080/"
        },
        "execution": {
          "iopub.execute_input": "2025-07-12T20:33:59.327656Z",
          "iopub.status.busy": "2025-07-12T20:33:59.327448Z",
          "iopub.status.idle": "2025-07-12T20:34:17.576883Z",
          "shell.execute_reply": "2025-07-12T20:34:17.576060Z",
          "shell.execute_reply.started": "2025-07-12T20:33:59.327640Z"
        },
        "id": "HWMJbqJ6rImF",
        "outputId": "9abf8d99-e7d8-4eb1-8d05-fbc06ba5412f",
        "trusted": true
      },
      "outputs": [
        {
          "name": "stdout",
          "output_type": "stream",
          "text": [
            "Using device: cuda\n",
            "Using random seed: 80\n"
          ]
        },
        {
          "name": "stderr",
          "output_type": "stream",
          "text": [
            "100%|██████████| 169M/169M [00:03<00:00, 48.4MB/s]\n"
          ]
        },
        {
          "name": "stdout",
          "output_type": "stream",
          "text": [
            "Using CIFAR-100 dataset. Train: 45000, Val: 5000\n"
          ]
        }
      ],
      "source": [
        "import torch\n",
        "import torch.nn as nn\n",
        "import torch.optim as optim\n",
        "import torch.nn.functional as F\n",
        "from torch.utils.data import DataLoader, random_split, Dataset\n",
        "from torchvision import datasets, transforms\n",
        "from tqdm.notebook import tqdm\n",
        "import numpy as np\n",
        "import copy\n",
        "import os\n",
        "from transformers import AutoModelForImageClassification\n",
        "\n",
        "# --- Configuration ---\n",
        "DEVICE = torch.device(\"cuda\" if torch.cuda.is_available() else \"cpu\")\n",
        "EPOCHS = 30\n",
        "PATIENCE = 5\n",
        "BATCH_SIZE = 64\n",
        "LR = 0.001\n",
        "TEMPERATURE = 10\n",
        "ALPHA = 0.2\n",
        "SEED = 80\n",
        "LOGITS_LOOKUP_PATH = 'teacher_logits_lookup.pt'\n",
        "\n",
        "print(f\"Using device: {DEVICE}\")\n",
        "print(f\"Using random seed: {SEED}\")\n",
        "\n",
        "# --- Data Loading and Preprocessing for CIFAR-100 ---\n",
        "student_transform = transforms.Compose([\n",
        "    transforms.ToTensor(),\n",
        "    transforms.Normalize((0.5071, 0.4867, 0.4408), (0.2675, 0.2565, 0.2761))\n",
        "])\n",
        "\n",
        "full_train_dataset = datasets.CIFAR100(root='./data', train=True, download=True, transform=student_transform)\n",
        "test_dataset = datasets.CIFAR100(root='./data', train=False, download=True, transform=student_transform)\n",
        "\n",
        "train_size = int(0.9 * len(full_train_dataset))\n",
        "val_size = len(full_train_dataset) - train_size\n",
        "generator = torch.Generator().manual_seed(SEED)\n",
        "train_subset, val_subset = random_split(full_train_dataset, [train_size, val_size], generator=generator)\n",
        "\n",
        "test_loader = DataLoader(test_dataset, batch_size=BATCH_SIZE, shuffle=False)\n",
        "print(f\"Using CIFAR-100 dataset. Train: {len(train_subset)}, Val: {len(val_subset)}\")"
      ]
    },
    {
      "cell_type": "markdown",
      "metadata": {
        "id": "FyhtwX_yrImG"
      },
      "source": [
        "## Model Architecture (Simple Student for CIFAR-100)\n",
        "This is the same simple CNN architecture used for the CIFAR-10 task, but with its final layer adjusted to output 100 classes instead of 10."
      ]
    },
    {
      "cell_type": "code",
      "execution_count": null,
      "metadata": {
        "execution": {
          "iopub.execute_input": "2025-07-12T20:34:17.578228Z",
          "iopub.status.busy": "2025-07-12T20:34:17.577796Z",
          "iopub.status.idle": "2025-07-12T20:34:17.583660Z",
          "shell.execute_reply": "2025-07-12T20:34:17.582893Z",
          "shell.execute_reply.started": "2025-07-12T20:34:17.578205Z"
        },
        "id": "RHmG_kbbrImG",
        "trusted": true
      },
      "outputs": [],
      "source": [
        "class StudentNet(nn.Module):\n",
        "    def __init__(self):\n",
        "        super(StudentNet, self).__init__()\n",
        "        self.conv1 = nn.Conv2d(3, 32, 3, padding=1)\n",
        "        self.conv2 = nn.Conv2d(32, 64, 3, padding=1)\n",
        "        self.pool = nn.MaxPool2d(2, 2)\n",
        "        self.fc1 = nn.Linear(64 * 8 * 8, 512)\n",
        "        self.fc2 = nn.Linear(512, 100) # 100 instead of 10, as we are using CIFAR-100\n",
        "\n",
        "    def forward(self, x):\n",
        "        x = self.pool(F.relu(self.conv1(x)))\n",
        "        x = self.pool(F.relu(self.conv2(x)))\n",
        "        x = x.view(-1, 64 * 8 * 8)\n",
        "        x = F.relu(self.fc1(x))\n",
        "        x = self.fc2(x)\n",
        "        return x"
      ]
    },
    {
      "cell_type": "markdown",
      "metadata": {
        "id": "xGi4m7wVrImG"
      },
      "source": [
        "## Pre-computation and Distillation Setup\n",
        "Here we define the helper functions and classes needed for our pre-computation strategy.\n",
        "\n",
        "* `get_teacher_logits_lookup`: A function that iterates through the entire dataset once, using the powerful teacher model to generate predictions (logits) for every single image. It returns a tensor that acts as a lookup table.\n",
        "* `DistillationDataset`: A custom PyTorch Dataset class. It wraps our original data subset and, for each image, also retrieves the corresponding pre-computed teacher logit from the lookup table. This allows the DataLoader to provide the student with the image, the true label, and the teacher's guidance all at once."
      ]
    },
    {
      "cell_type": "code",
      "execution_count": null,
      "metadata": {
        "execution": {
          "iopub.execute_input": "2025-07-12T20:34:17.584583Z",
          "iopub.status.busy": "2025-07-12T20:34:17.584385Z",
          "iopub.status.idle": "2025-07-12T20:34:17.598694Z",
          "shell.execute_reply": "2025-07-12T20:34:17.598115Z",
          "shell.execute_reply.started": "2025-07-12T20:34:17.584568Z"
        },
        "id": "XK87OIgkrImG",
        "trusted": true
      },
      "outputs": [],
      "source": [
        "@torch.no_grad()\n",
        "def get_teacher_logits_lookup(model, full_dataset, device):\n",
        "    \"\"\"Computes all logits and maps them to their original dataset index.\"\"\"\n",
        "    lookup_table = torch.zeros(len(full_dataset), 100) # 100 classes for CIFAR-100\n",
        "    loader = DataLoader(full_dataset, batch_size=BATCH_SIZE, shuffle=False)\n",
        "    model.eval()\n",
        "\n",
        "    current_pos = 0\n",
        "    for data, _ in tqdm(loader, desc=\"Computing Logit Lookup Table\"):\n",
        "        data = data.to(device)\n",
        "        # Teacher model expects 224x224 images, so we resize them\n",
        "        data = F.interpolate(data, size=(224, 224), mode='bilinear', align_corners=False)\n",
        "        logits = model(data).logits.cpu()\n",
        "\n",
        "        batch_size = data.size(0)\n",
        "        lookup_table[current_pos:current_pos + batch_size] = logits\n",
        "        current_pos += batch_size\n",
        "\n",
        "    return lookup_table\n",
        "\n",
        "class DistillationDataset(Dataset):\n",
        "    \"\"\"A custom dataset to pair images with pre-computed teacher logits.\"\"\"\n",
        "    def __init__(self, original_subset, teacher_logits_lookup):\n",
        "        self.original_subset = original_subset\n",
        "        self.teacher_logits_lookup = teacher_logits_lookup\n",
        "\n",
        "    def __len__(self):\n",
        "        return len(self.original_subset)\n",
        "\n",
        "    def __getitem__(self, idx):\n",
        "        image, label = self.original_subset[idx]\n",
        "        # Use the original index to find the correct pre-computed logit\n",
        "        original_idx = self.original_subset.indices[idx]\n",
        "        teacher_logit = self.teacher_logits_lookup[original_idx]\n",
        "        return image, label, teacher_logit"
      ]
    },
    {
      "cell_type": "markdown",
      "metadata": {
        "id": "raKR7ycYrImH"
      },
      "source": [
        "## Training and Evaluation Functions\n",
        "These functions are adapted from the CIFAR-10 experiment. The key change is that they can now handle the different data formats from a standard `DataLoader` (image, label) and our new `DistillationDataset` `DataLoader` (image, label, pre-computed_logit)."
      ]
    },
    {
      "cell_type": "code",
      "execution_count": null,
      "metadata": {
        "execution": {
          "iopub.execute_input": "2025-07-12T20:34:17.599696Z",
          "iopub.status.busy": "2025-07-12T20:34:17.599445Z",
          "iopub.status.idle": "2025-07-12T20:34:17.617261Z",
          "shell.execute_reply": "2025-07-12T20:34:17.616722Z",
          "shell.execute_reply.started": "2025-07-12T20:34:17.599675Z"
        },
        "id": "7MpNSQQVrImH",
        "trusted": true
      },
      "outputs": [],
      "source": [
        "def distillation_loss(student_outputs, labels, precomputed_teacher_logits, T, alpha):\n",
        "    soft_loss = nn.KLDivLoss(reduction='batchmean')(\n",
        "        F.log_softmax(student_outputs / T, dim=1),\n",
        "        F.softmax(precomputed_teacher_logits / T, dim=1)\n",
        "    ) * (T * T)\n",
        "    hard_loss = F.cross_entropy(student_outputs, labels)\n",
        "    return alpha * hard_loss + (1.0 - alpha) * soft_loss\n",
        "\n",
        "def calculate_loss(model, loader, loss_fn, is_distillation):\n",
        "    model.eval()\n",
        "    total_loss = 0\n",
        "    with torch.no_grad():\n",
        "        for batch in loader:\n",
        "            if is_distillation:\n",
        "                data, target, teacher_logits = batch\n",
        "                teacher_logits = teacher_logits.to(DEVICE)\n",
        "            else:\n",
        "                data, target = batch\n",
        "            data, target = data.to(DEVICE), target.to(DEVICE)\n",
        "\n",
        "            output = model(data)\n",
        "\n",
        "            if is_distillation:\n",
        "                loss = loss_fn(output, target, teacher_logits, TEMPERATURE, ALPHA)\n",
        "            else:\n",
        "                loss = loss_fn(output, target)\n",
        "            total_loss += loss.item()\n",
        "    return total_loss / len(loader)\n",
        "\n",
        "def train_and_validate(model, train_loader, val_loader, optimizer, loss_fn, epochs, patience, is_distillation):\n",
        "    best_val_loss = float('inf')\n",
        "    patience_counter = 0\n",
        "    best_model_state = None\n",
        "\n",
        "    for epoch in range(epochs):\n",
        "        model.train()\n",
        "        with tqdm(train_loader, desc=f\"Epoch {epoch+1}/{epochs} Training\", leave=False) as pbar:\n",
        "            for batch in pbar:\n",
        "                if is_distillation:\n",
        "                    data, target, teacher_logits = batch\n",
        "                    teacher_logits = teacher_logits.to(DEVICE)\n",
        "                else:\n",
        "                    data, target = batch\n",
        "                data, target = data.to(DEVICE), target.to(DEVICE)\n",
        "\n",
        "                optimizer.zero_grad()\n",
        "                output = model(data)\n",
        "\n",
        "                if is_distillation:\n",
        "                    loss = loss_fn(output, target, teacher_logits, TEMPERATURE, ALPHA)\n",
        "                else:\n",
        "                    loss = loss_fn(output, target)\n",
        "\n",
        "                loss.backward()\n",
        "                optimizer.step()\n",
        "                pbar.set_postfix(loss=loss.item())\n",
        "\n",
        "        val_loss = calculate_loss(model, val_loader, loss_fn, is_distillation)\n",
        "        val_acc = evaluate(model, val_loader)\n",
        "        print(f\"Epoch {epoch+1}/{epochs} | Val Loss: {val_loss:.4f} | Val Acc: {val_acc:.2f}%\")\n",
        "\n",
        "        if val_loss < best_val_loss:\n",
        "            best_val_loss = val_loss\n",
        "            patience_counter = 0\n",
        "            best_model_state = copy.deepcopy(model.state_dict())\n",
        "            print(\"  -> Validation loss improved, saving model.\")\n",
        "        else:\n",
        "            patience_counter += 1\n",
        "            if patience_counter >= patience:\n",
        "                print(f\"  -> Early stopping triggered after {patience} epochs with no improvement.\")\n",
        "                break\n",
        "\n",
        "    if best_model_state:\n",
        "        model.load_state_dict(best_model_state)\n",
        "    return model\n",
        "\n",
        "def evaluate(model, loader, is_teacher=False):\n",
        "    model.eval()\n",
        "    correct = 0\n",
        "    total = 0\n",
        "    with torch.no_grad():\n",
        "        for batch in loader:\n",
        "            # The data format is different for our distillation loader\n",
        "            data, target = batch[0], batch[1]\n",
        "            data, target = data.to(DEVICE), target.to(DEVICE)\n",
        "\n",
        "            if is_teacher:\n",
        "                data = F.interpolate(data, size=(224, 224), mode='bilinear', align_corners=False)\n",
        "                outputs = model(data).logits\n",
        "            else:\n",
        "                outputs = model(data)\n",
        "\n",
        "            _, predicted = torch.max(outputs.data, 1)\n",
        "            total += target.size(0)\n",
        "            correct += (predicted == target).sum().item()\n",
        "    return 100 * correct / total"
      ]
    },
    {
      "cell_type": "markdown",
      "metadata": {
        "id": "dTcdxxkzrImH"
      },
      "source": [
        "## Experiment 1: Distillation on CIFAR-100 with a Simple Student\n",
        "We now execute the full experiment pipeline:\n",
        "* Evaluate Teacher: Load a pre-trained ResNet-50 model from Hugging Face (sourced directly from the Hugging Face Model Hub – `jialicheng/cifar100-resnet-50`) and measure its accuracy on the CIFAR-100 test set.\n",
        "* Pre-compute Logits: If not already saved, compute the teacher's logit for every image in the training set and save them to a file (`teacher_logits_lookup.pt`).\n",
        "* Train Baseline Student: Train the simple StudentNet from scratch using standard cross-entropy loss.\n",
        "* Train Distilled Student: Train an identical StudentNet using the distillation loss, guided by the pre-computed teacher logits.\n",
        "\n",
        "To ensure a fair comparison, both student models start from the exact same randomly initialised weights. After training, the teacher model is deleted to free up GPU memory."
      ]
    },
    {
      "cell_type": "code",
      "execution_count": null,
      "metadata": {
        "colab": {
          "base_uri": "https://localhost:8080/",
          "height": 1000,
          "referenced_widgets": [
            "617b966e63454c728ac210dcba21a3f5",
            "4a37bc2e8fd74fb0a3a94f862b338796",
            "146eea65bfc342689415b0f06a046087",
            "f197551406d648eaa723fc5e2f789479",
            "c9549f078f984706a869a1d43f7a903b",
            "f442b499e9ae4e258ce42edc3e2bc851",
            "24c11a0cf78d4d4d8f9bef94e77c8d28",
            "3102c87bb9754eeaa30f2f76af298840",
            "4257f21094824bc68cf901fc73fbe547",
            "8f10c6a6e756447fbe8294da76aa1325",
            "004c8ee19c574c59baea2f8507499070",
            "407b7ced5fe34dab9802578b77f4e429",
            "783c80cc606c47d082d474c2c51cbe79",
            "8f26553e54fb4e13aa9c152115e8da8d",
            "1d5adb5a975c4790bd86fe956e11ce1e",
            "64e3ab9403be4fef931f510c66c898a3",
            "8605895e724b4ec0a743f23884db50d5",
            "73deb242371044478ffdee151bce95b1",
            "3ea56f124b30408aa50bcc976bd5fc8d",
            "3ea1fa43df944919be438e6948fbd579",
            "fe697ef44bee4f8c9926fba26201877a",
            "b56c94f1e5e74bc48f055abd205df1cf",
            "9d394176ef9e424f9dea777913c84c29",
            "48820e732bd243aa9a50a5b825732147",
            "469c10cb1fc7491eb7c147a0f2c7900e",
            "1d8358b9275e413b8ac5cef3762eeccc",
            "d5f6b9ea2729458a995f7fb3ad4125a1",
            "44ff610a98e44d5b94efc90b0c56beaa",
            "af211af272974feb9c16c7649517f5b2",
            "076d7f7fb2904a57a889b42b7af34d9a",
            "4752a55616144e97a5aaa1063950c15e",
            "81160a5df51f4e43b016fa7aeb5e9337",
            "277194b725634cbeac83d997c7a12536",
            "24abffd5ff034c26b47ec5d12289bf9a",
            "6dd91412984b468e9a9e78f85039cf89",
            "5bd5155b8798465287d94ad4d191b3ff",
            "b19c29eaed1c4131946491f42e9414dd",
            "587d05ebec594a0ca0b1f4aac92fcde0",
            "cbdfc476559045ecb299795ffce02648",
            "24005b4300e84f29948de2d8b6c65905",
            "7fa6aea1046d48d08ff8586b0b182630",
            "dd018fd41fab4a83a18432b176f253a1",
            "599c9e9ff3bc4b84a9a14a7a628e5e41",
            "068ff32db92249e49ca184def872f35d",
            "28e2c63564294d779af891dec2ccd78c",
            "c092be7054024d6d9995d1e26556ef0a",
            "f8cff6bbebe448f5b433bee30f67db98",
            "06de49ab598946bfaec536f6c3656b6f",
            "9c41d0250ba34d349f3524018fc4c6dd",
            "465ec02650d642f09e5d90cbb4c30167",
            "8f2b92cb0eae46d5ae761804d37859c2",
            "f2bcbfed8790488d95a589e4ec23d9cc",
            "d5ede465f868435b9296c775bc0b64ca",
            "d4951d4b981f4316b1278730a7fb1cdf",
            "a5d182f46ca842b2adbbcee779725e98",
            "88ffc283cba94f6ea44fceb1698cb229",
            "c54bfd84143f487a9f8837cfc7543a7d",
            "d415e4713b5a426ea126db9f6b06f61f",
            "5d60a9874ecd4a549e17b05f02a731c9",
            "6964ff36a9484790afb20b8adecff53a",
            "5ffa07700c1944048b5bd1f09d14b522",
            "4f1fd3e990aa4d15b1f49e93700ddcd0",
            "d2ab67004410452d991da344569fce4e",
            "8abfe80f8f5a483a988fc296d5bf8f8c",
            "a6a8b6a5ecaa460e9603528deb621ddb",
            "9cc3fc34ddb94e22a173a7d767d872bb",
            "1e061ffb2b7f40c0bda0141abf474162",
            "ebea089da1264d4d900b5a957efae637",
            "75116abf62ad4c0dae5352f369917dd7",
            "bd3ec815c2834558abfb3563d4046d9e",
            "a74094a1deba401fa1e5811408e3669f",
            "56c6658fa514461c8789e841b0c0c269",
            "76952d2c717d4e058fdacfe256e87fc5",
            "f4fd7ee137ce4575b44ae36849f4f2f5",
            "95793e3dbf2e477986229cdce40eb69b",
            "8577feac57454c04bd6a23103cc45d06",
            "d793190dbc7c423986414518b853d45a",
            "c4dfc4017d374a0eb857a91fc4b5f275",
            "10e6219f889d444dbe712688888581da",
            "8e7b698d84d642a69b0759bbca475331",
            "1f3781dfd37e4280b712738f0a9a9fe3",
            "dbfffbd7d16342888b03b98359dcd38a",
            "5907b7cb03194aef973326fc4e6cbf6c",
            "c60a4de9e0064fb58d1d142eb64b8c91",
            "ee4b3103e4f74defaaafd1d35fee55b4",
            "a8a068104e7e4726bf9ce26695ced505",
            "c6c947d794594fa883eb06ce4a4968a1",
            "cf1007a48018407a9e2fcf3778937bd8",
            "6570d3af94ba4b01a1630194eefae475",
            "198eea5433534654b2a78ee5ca607d59",
            "88d758f5e97042efaef79df6ee4f3a47",
            "7a7b79d71af44456b1b59038d3aaf4be",
            "5cab69acc9254c8e909be51afd1b0192",
            "f259a1faa0134b368e574c33f3e05ea7",
            "d4b7ffae1a414c09978907870452e49e",
            "74764e9fde504eb6ba73c7853a7749b0",
            "3b5e25ae0fcf4121978284b4eb28bc70",
            "6b8703fc3616478dbf11f6aa1df1e3b7",
            "5e42ad1eece1494980039ce03bbd7402",
            "fa133f55e2704fb6a4e20eaeaac70585",
            "d70a177399af49bab43fe48b3a0cf749",
            "96d77f2b6a8144969c8d19aa1194ffc9",
            "4939e5c65c4949d0953fdbd5554b1fef",
            "120b750f16ab46f3929ffaa7daf9e9a8",
            "504270aeddf9467abd0c43a923efe0e1",
            "1d3543dda707462c89d0faed547b51af",
            "9c7f04dcc578496ea41da845a33bd645",
            "3535d3108dcb470da9dba932f895deb5",
            "e5874abedd2541afa20d78d2228ed4cc",
            "2e8bd216e1af4d79a5840e7df90ffa99",
            "7afd7f6e51ca4119a540eff06ed7c852",
            "88800e2e0baf42f6bb2955b4c08e8a84",
            "06132378edd04329babaf60dbcf6166f",
            "5d4a8300cb8445ef8881ba341c108032",
            "6dc30e9667a5476095a388a10eedd17a",
            "c5c20dd318ba412c8aab83a13407ed5c",
            "03510b35d56944c38912dde382cd57ad",
            "1c712c9876ae42f4a562fb62f07b7095",
            "80053a45831240ba92e3f28be8d6f1ae",
            "cb97066b916b40bbbdd29846f959b28b",
            "891d30d1fc0f42379eeadde8214514e6",
            "263339d59881463ca71c21a3a7314c4c",
            "9ecf432608b4498ba972a90ac3f6e370",
            "725313d2b7cf4a45a82c6c86ccadd23c",
            "4bead13475e84e229e8874005f362281",
            "beeaabce7f7f4bdc9e8104c6614aa3d9",
            "ba3fb76023044d73be5758d3ec7bb7c9",
            "75a41d6659c7479a971567a61c9c3000",
            "6bfc262e7610495b92aa2e5d4c87e22a",
            "e59b14e4bef24e6ea805ce4368df81c0",
            "28fc8a48c8a9416fb5bd6d63ea278f31",
            "20613652de2e405a9041a061884032d7",
            "dadd08754c7843bdb0bdb3c236e5df3e",
            "dac9b07978294e1f9cb4a68a5819d1b7",
            "a7ab72bffec94ed897c7531b07d22004",
            "1c1d5249c1d042a7bf7c399bf392e809",
            "f29c2b89abcb434388d45678d4bdc532",
            "d819a1a8f8e24da0ab7b9bb80e92617e",
            "76e9ea438cca45e48d2145e99bd0333e",
            "9dce43b801ce4379804614bf90cac26c",
            "3cdf7f5608ab497c90461d3842aaf909",
            "6ef69db3369b4d2098eeb7101fdb7fdf",
            "28d726ab38ba4654b98686add832364d",
            "dbe1db1314834234b6b1689abdb1ad71",
            "0249905794e24b51b36aaa2a09c5223b",
            "acfeb358cac74f1cbbf56610bc018281",
            "5d276bf664204ba2ad605fdf3e5f440e",
            "679add6ee598443abd94e48d356589fb",
            "a09a51b952f44e75b51f1dddcc0df82b",
            "a67a908735c6498ba48af0b10f693261",
            "9d7608e2c8174784ba080ce545182cd9",
            "22bab146f8e240cfbfd17b6e7c7b7ecf",
            "59e6c8f049224fa39f88f2239f9b423e",
            "65650405d483415683cccca8d2b567b0",
            "3d2c484be6214779b3ff28f8c40a8f51",
            "a7bd23fe993549878144f7db3596e749",
            "5bf3c73ef63c4a8cb7e4d5947794b21e",
            "767143c4e18e4b1a8240cfa07468f0a5",
            "49d26b22f4e940df94303716dd35dcba",
            "b0d011a489ad4a5688eabf687802f9de",
            "f02795fe59a541a08d4635478fe6ba4e",
            "12b64d78831f44a9805dc330f3dc1669",
            "6ed58c4c0a5245db8c230094bd19d674",
            "8486fe88c304466cac6637d81b933152",
            "b2649e90db0a41678c0e8d1ae2182008",
            "b6336202a9434822b49ad02d72910df1",
            "043dc37d6f794df7b440a865bf1398b5",
            "7d19c130bdf64993a1011a7324f69a71",
            "0d6e7613b1ed4f398fa7a78e2af5a2d7",
            "6e00154f78c54c068abfeca573f8512d",
            "de8fdba9538d47b58dc2bba928a9ae50",
            "b18a1d46ab994d2fa777472823ada6f0",
            "ee45d19b10184f8881b7cd0dd376f486",
            "33178a50ea184abb9084945de30ae80a",
            "2680aef5d7d7416b86e1bef854877def",
            "9c8edfb4a3ff47018c237670ea0e4f0c",
            "ac70fa2aa3284c2f9f16398e3893fe4f",
            "cc10d50de4144367bef0651c05a97926",
            "797f876b9a4e4d27911c0a755a66a28b",
            "0a7a70a0644d450e9a284f22d9d3d550",
            "b141a74e8f824c629331fecc54bc1a0e",
            "c9764bd6ad414863b4817e00ea3e9cb6",
            "3bf1dc2492d7475da6e3aff102bb6fc3",
            "9f8e0d08850c4be79485e6a8d69d7945",
            "03c8d57b3e0a4f248fde52e85a0b5f19",
            "ce100fa504b9471ca3926241cd7f688f",
            "9055c34fe3224ceb9eaaa2ff45412d64",
            "4f8d080083d34c869ef0e9e029f5d065",
            "c359b19a26b949348496f7713134b3b1",
            "6529bb60916b442facb8f1c0671a79c4",
            "e18e1ec723af4f7ea4e5065fba7934f3",
            "74f703aa01a64324a0745f86ddba1ed7",
            "c48d28b915dd4a9692138ce5a626d658",
            "158e0f28f8544dcdb1522392aded3842",
            "68d8549320d049d2b3e32f0c2f398802",
            "a84aa15d37024555aac717b7b1467f6c",
            "f58f84aa54784b178d64311edf269764",
            "74881f9745454482a7a8541af6031a0f",
            "064794877e484aa382a2fe5aaa7364f0",
            "d179f1b7543a4330a3f4b78819a63d01",
            "c23533b5867a4160b5bc1b7e014f4ef0",
            "772d464dedd24090bf25f01a96f94abd",
            "3fe5353eb64344c796150fed36b8eadc",
            "f2a60857181d44c280f25cae612669ff",
            "f4edeb8bf87f454984df37aaab195944",
            "a923de4e20ae46888619cab91dbf1f10",
            "78d1971487e549ed97567e7e32087d20",
            "ba57c1c67aa34415a5659c8904c4f296",
            "58af322fc38d406387be54885ed18e73",
            "638ba972af874b45a74a7e19e7473f1d",
            "f5f5d1ee99974a8cb97b683840fe2083",
            "044d27a262a540d58f1dd9407a56f3d2",
            "94bb5475c1b343cb8487e5509629be9f",
            "ffd5f529c3d7428196b3946f30e93ed1",
            "dfd78a4ad1c34165923e4f4556cd0ef7",
            "6b9dfe5077d0402a83becb548e6655aa",
            "4ca3e49828a84a1dbf0871e6508e4ef8",
            "5794945f1fd64f9ba0ee9d17ea500dfc",
            "8ca7e410715147e49c1b4d7810044f7d",
            "0a7de022aa364ca89d866ea80db2cd1f",
            "37a3e387fa9944c8a3f348ade7880921",
            "b424ef59c68147ca81dfd992eca3c6cc",
            "7b4634875fa74b4dbbf576dbfd47acc7",
            "d46c5fef914745be88838568e78757cf",
            "cb72b6663eba4a63a112f75181af6b6a",
            "7ab4ec0c8e00425189093b10f6463f03",
            "2079728ac70e4b61a035397635e15bd5",
            "602cbabe7cfa47c3a6ff968a12495ae3",
            "9764cd2748ef4593b661b1ce7a61ee4a",
            "fca9ee06ceb5449f8b1306b893b211ac",
            "04fb7d5f25d4466094a51d580d61463a",
            "83308fdbf09048dbb7870e1e32cef4a5",
            "3ccef477719e4971acc38b68318f983b",
            "b2e0e620fc924f56ac49b1e2b16fbaac",
            "7d42b92659614c49bca5f5df0260700b",
            "34689c041a9f400aa85b3a6cfc95f236",
            "34fa55b90a3f4669915cbde3246c3b64",
            "8b8da5e2ee654552ab2f33e046ca8aa4",
            "2e865966c86d474bbb0293bf5728e46b",
            "262aa28db3ab40c59df3356b20f8d023",
            "a5d79925b72a42458f2c9c2bd21b0a48",
            "f9b41768f12544328a8ec30441f90406",
            "8d331afd58854a97924e532328d73067",
            "35ed697e95f241a5bffeadddbcf5501b",
            "6c3d3e51e75a4d2f82aefb2d0b772532",
            "08eea41f105e4606926b161d91e2c3f2",
            "f547198ce6f04a22b77f662a5c9da6a9",
            "d40e4dd310ac4249b94d7f28341e11cc",
            "ab0f28d75d4842848b690877de959e7c",
            "b12e09599f69442b82ffd649db3f2a4b",
            "a2c0d1bc09d047c8a4d5f561c1fa70d2",
            "4c19f87e6085436b9407d84b1b279044",
            "adb98caf67cf4345b7ed45c226be9b04",
            "a264f24cacf94240ab9659199ae2e40f",
            "23a8b66c2f77480d8e9baa5c27ec46a5",
            "c0e65302a3714e158542fe45c1159517",
            "2cbf88977e5e427a83c068bfeb163267",
            "85d66e0629e0457dbe96ac8426af6f2e",
            "b5e19e2624b44b8f8aef8f8d44b602fa",
            "bb7cbf664a0543f1830d8b75a86e2732",
            "a81f41ecae5a477caf2d5609ce44880f",
            "3ffc5b81ea0e45d79b45ca992d18e32d",
            "6a3abe3abb17449e8375f75fa9fb3492",
            "25e5f69f44be4353888bc8c9529a59bf"
          ]
        },
        "execution": {
          "iopub.execute_input": "2025-07-12T20:34:17.618119Z",
          "iopub.status.busy": "2025-07-12T20:34:17.617939Z",
          "iopub.status.idle": "2025-07-12T20:40:46.731196Z",
          "shell.execute_reply": "2025-07-12T20:40:46.730420Z",
          "shell.execute_reply.started": "2025-07-12T20:34:17.618104Z"
        },
        "id": "W9bZa4x4rImI",
        "outputId": "13e79a8a-733d-4b27-d40c-f46525efcd22",
        "trusted": true
      },
      "outputs": [
        {
          "name": "stderr",
          "output_type": "stream",
          "text": [
            "/usr/local/lib/python3.11/dist-packages/huggingface_hub/utils/_auth.py:94: UserWarning: \n",
            "The secret `HF_TOKEN` does not exist in your Colab secrets.\n",
            "To authenticate with the Hugging Face Hub, create a token in your settings tab (https://huggingface.co/settings/tokens), set it as secret in your Google Colab and restart your session.\n",
            "You will be able to reuse this secret in all of your notebooks.\n",
            "Please note that authentication is recommended but still optional to access public models or datasets.\n",
            "  warnings.warn(\n"
          ]
        },
        {
          "data": {
            "application/vnd.jupyter.widget-view+json": {
              "model_id": "617b966e63454c728ac210dcba21a3f5",
              "version_major": 2,
              "version_minor": 0
            },
            "text/plain": [
              "config.json: 0.00B [00:00, ?B/s]"
            ]
          },
          "metadata": {},
          "output_type": "display_data"
        },
        {
          "data": {
            "application/vnd.jupyter.widget-view+json": {
              "model_id": "407b7ced5fe34dab9802578b77f4e429",
              "version_major": 2,
              "version_minor": 0
            },
            "text/plain": [
              "model.safetensors:   0%|          | 0.00/95.1M [00:00<?, ?B/s]"
            ]
          },
          "metadata": {},
          "output_type": "display_data"
        },
        {
          "name": "stdout",
          "output_type": "stream",
          "text": [
            "\n",
            "--- Evaluating Teacher Model ---\n",
            "Teacher (ResNet-50) Test Accuracy: 82.75%\n",
            "\n",
            "--- Pre-computing teacher logit lookup table (this may take a while)... ---\n"
          ]
        },
        {
          "data": {
            "application/vnd.jupyter.widget-view+json": {
              "model_id": "9d394176ef9e424f9dea777913c84c29",
              "version_major": 2,
              "version_minor": 0
            },
            "text/plain": [
              "Computing Logit Lookup Table:   0%|          | 0/782 [00:00<?, ?it/s]"
            ]
          },
          "metadata": {},
          "output_type": "display_data"
        },
        {
          "name": "stdout",
          "output_type": "stream",
          "text": [
            "--- Saving computed lookup table to teacher_logits_lookup.pt for future use... ---\n",
            "Loaded 50000 total logits into lookup table.\n",
            "\n",
            "--- Training Student from Scratch (Baseline) ---\n"
          ]
        },
        {
          "data": {
            "application/vnd.jupyter.widget-view+json": {
              "model_id": "24abffd5ff034c26b47ec5d12289bf9a",
              "version_major": 2,
              "version_minor": 0
            },
            "text/plain": [
              "Epoch 1/30 Training:   0%|          | 0/704 [00:00<?, ?it/s]"
            ]
          },
          "metadata": {},
          "output_type": "display_data"
        },
        {
          "name": "stdout",
          "output_type": "stream",
          "text": [
            "Epoch 1/30 | Val Loss: 2.9587 | Val Acc: 26.98%\n",
            "  -> Validation loss improved, saving model.\n"
          ]
        },
        {
          "data": {
            "application/vnd.jupyter.widget-view+json": {
              "model_id": "28e2c63564294d779af891dec2ccd78c",
              "version_major": 2,
              "version_minor": 0
            },
            "text/plain": [
              "Epoch 2/30 Training:   0%|          | 0/704 [00:00<?, ?it/s]"
            ]
          },
          "metadata": {},
          "output_type": "display_data"
        },
        {
          "name": "stdout",
          "output_type": "stream",
          "text": [
            "Epoch 2/30 | Val Loss: 2.6793 | Val Acc: 31.78%\n",
            "  -> Validation loss improved, saving model.\n"
          ]
        },
        {
          "data": {
            "application/vnd.jupyter.widget-view+json": {
              "model_id": "88ffc283cba94f6ea44fceb1698cb229",
              "version_major": 2,
              "version_minor": 0
            },
            "text/plain": [
              "Epoch 3/30 Training:   0%|          | 0/704 [00:00<?, ?it/s]"
            ]
          },
          "metadata": {},
          "output_type": "display_data"
        },
        {
          "name": "stdout",
          "output_type": "stream",
          "text": [
            "Epoch 3/30 | Val Loss: 2.5529 | Val Acc: 34.62%\n",
            "  -> Validation loss improved, saving model.\n"
          ]
        },
        {
          "data": {
            "application/vnd.jupyter.widget-view+json": {
              "model_id": "1e061ffb2b7f40c0bda0141abf474162",
              "version_major": 2,
              "version_minor": 0
            },
            "text/plain": [
              "Epoch 4/30 Training:   0%|          | 0/704 [00:00<?, ?it/s]"
            ]
          },
          "metadata": {},
          "output_type": "display_data"
        },
        {
          "name": "stdout",
          "output_type": "stream",
          "text": [
            "Epoch 4/30 | Val Loss: 2.5075 | Val Acc: 37.66%\n",
            "  -> Validation loss improved, saving model.\n"
          ]
        },
        {
          "data": {
            "application/vnd.jupyter.widget-view+json": {
              "model_id": "c4dfc4017d374a0eb857a91fc4b5f275",
              "version_major": 2,
              "version_minor": 0
            },
            "text/plain": [
              "Epoch 5/30 Training:   0%|          | 0/704 [00:00<?, ?it/s]"
            ]
          },
          "metadata": {},
          "output_type": "display_data"
        },
        {
          "name": "stdout",
          "output_type": "stream",
          "text": [
            "Epoch 5/30 | Val Loss: 2.6480 | Val Acc: 37.12%\n"
          ]
        },
        {
          "data": {
            "application/vnd.jupyter.widget-view+json": {
              "model_id": "6570d3af94ba4b01a1630194eefae475",
              "version_major": 2,
              "version_minor": 0
            },
            "text/plain": [
              "Epoch 6/30 Training:   0%|          | 0/704 [00:00<?, ?it/s]"
            ]
          },
          "metadata": {},
          "output_type": "display_data"
        },
        {
          "name": "stdout",
          "output_type": "stream",
          "text": [
            "Epoch 6/30 | Val Loss: 2.7965 | Val Acc: 38.34%\n"
          ]
        },
        {
          "data": {
            "application/vnd.jupyter.widget-view+json": {
              "model_id": "fa133f55e2704fb6a4e20eaeaac70585",
              "version_major": 2,
              "version_minor": 0
            },
            "text/plain": [
              "Epoch 7/30 Training:   0%|          | 0/704 [00:00<?, ?it/s]"
            ]
          },
          "metadata": {},
          "output_type": "display_data"
        },
        {
          "name": "stdout",
          "output_type": "stream",
          "text": [
            "Epoch 7/30 | Val Loss: 3.2387 | Val Acc: 36.86%\n"
          ]
        },
        {
          "data": {
            "application/vnd.jupyter.widget-view+json": {
              "model_id": "7afd7f6e51ca4119a540eff06ed7c852",
              "version_major": 2,
              "version_minor": 0
            },
            "text/plain": [
              "Epoch 8/30 Training:   0%|          | 0/704 [00:00<?, ?it/s]"
            ]
          },
          "metadata": {},
          "output_type": "display_data"
        },
        {
          "name": "stdout",
          "output_type": "stream",
          "text": [
            "Epoch 8/30 | Val Loss: 3.6755 | Val Acc: 35.98%\n"
          ]
        },
        {
          "data": {
            "application/vnd.jupyter.widget-view+json": {
              "model_id": "263339d59881463ca71c21a3a7314c4c",
              "version_major": 2,
              "version_minor": 0
            },
            "text/plain": [
              "Epoch 9/30 Training:   0%|          | 0/704 [00:00<?, ?it/s]"
            ]
          },
          "metadata": {},
          "output_type": "display_data"
        },
        {
          "name": "stdout",
          "output_type": "stream",
          "text": [
            "Epoch 9/30 | Val Loss: 4.2261 | Val Acc: 34.58%\n",
            "  -> Early stopping triggered after 5 epochs with no improvement.\n",
            "Final Baseline Student Test Accuracy: 39.86%\n",
            "\n",
            "--- Training Distilled Student (with pre-computed logits) ---\n"
          ]
        },
        {
          "data": {
            "application/vnd.jupyter.widget-view+json": {
              "model_id": "dadd08754c7843bdb0bdb3c236e5df3e",
              "version_major": 2,
              "version_minor": 0
            },
            "text/plain": [
              "Epoch 1/30 Training:   0%|          | 0/704 [00:00<?, ?it/s]"
            ]
          },
          "metadata": {},
          "output_type": "display_data"
        },
        {
          "name": "stdout",
          "output_type": "stream",
          "text": [
            "Epoch 1/30 | Val Loss: 2.6936 | Val Acc: 29.52%\n",
            "  -> Validation loss improved, saving model.\n"
          ]
        },
        {
          "data": {
            "application/vnd.jupyter.widget-view+json": {
              "model_id": "dbe1db1314834234b6b1689abdb1ad71",
              "version_major": 2,
              "version_minor": 0
            },
            "text/plain": [
              "Epoch 2/30 Training:   0%|          | 0/704 [00:00<?, ?it/s]"
            ]
          },
          "metadata": {},
          "output_type": "display_data"
        },
        {
          "name": "stdout",
          "output_type": "stream",
          "text": [
            "Epoch 2/30 | Val Loss: 2.4093 | Val Acc: 36.18%\n",
            "  -> Validation loss improved, saving model.\n"
          ]
        },
        {
          "data": {
            "application/vnd.jupyter.widget-view+json": {
              "model_id": "3d2c484be6214779b3ff28f8c40a8f51",
              "version_major": 2,
              "version_minor": 0
            },
            "text/plain": [
              "Epoch 3/30 Training:   0%|          | 0/704 [00:00<?, ?it/s]"
            ]
          },
          "metadata": {},
          "output_type": "display_data"
        },
        {
          "name": "stdout",
          "output_type": "stream",
          "text": [
            "Epoch 3/30 | Val Loss: 2.2463 | Val Acc: 40.44%\n",
            "  -> Validation loss improved, saving model.\n"
          ]
        },
        {
          "data": {
            "application/vnd.jupyter.widget-view+json": {
              "model_id": "b6336202a9434822b49ad02d72910df1",
              "version_major": 2,
              "version_minor": 0
            },
            "text/plain": [
              "Epoch 4/30 Training:   0%|          | 0/704 [00:00<?, ?it/s]"
            ]
          },
          "metadata": {},
          "output_type": "display_data"
        },
        {
          "name": "stdout",
          "output_type": "stream",
          "text": [
            "Epoch 4/30 | Val Loss: 2.2325 | Val Acc: 41.44%\n",
            "  -> Validation loss improved, saving model.\n"
          ]
        },
        {
          "data": {
            "application/vnd.jupyter.widget-view+json": {
              "model_id": "ac70fa2aa3284c2f9f16398e3893fe4f",
              "version_major": 2,
              "version_minor": 0
            },
            "text/plain": [
              "Epoch 5/30 Training:   0%|          | 0/704 [00:00<?, ?it/s]"
            ]
          },
          "metadata": {},
          "output_type": "display_data"
        },
        {
          "name": "stdout",
          "output_type": "stream",
          "text": [
            "Epoch 5/30 | Val Loss: 2.1665 | Val Acc: 43.28%\n",
            "  -> Validation loss improved, saving model.\n"
          ]
        },
        {
          "data": {
            "application/vnd.jupyter.widget-view+json": {
              "model_id": "4f8d080083d34c869ef0e9e029f5d065",
              "version_major": 2,
              "version_minor": 0
            },
            "text/plain": [
              "Epoch 6/30 Training:   0%|          | 0/704 [00:00<?, ?it/s]"
            ]
          },
          "metadata": {},
          "output_type": "display_data"
        },
        {
          "name": "stdout",
          "output_type": "stream",
          "text": [
            "Epoch 6/30 | Val Loss: 2.1638 | Val Acc: 43.50%\n",
            "  -> Validation loss improved, saving model.\n"
          ]
        },
        {
          "data": {
            "application/vnd.jupyter.widget-view+json": {
              "model_id": "064794877e484aa382a2fe5aaa7364f0",
              "version_major": 2,
              "version_minor": 0
            },
            "text/plain": [
              "Epoch 7/30 Training:   0%|          | 0/704 [00:00<?, ?it/s]"
            ]
          },
          "metadata": {},
          "output_type": "display_data"
        },
        {
          "name": "stdout",
          "output_type": "stream",
          "text": [
            "Epoch 7/30 | Val Loss: 2.1560 | Val Acc: 44.50%\n",
            "  -> Validation loss improved, saving model.\n"
          ]
        },
        {
          "data": {
            "application/vnd.jupyter.widget-view+json": {
              "model_id": "638ba972af874b45a74a7e19e7473f1d",
              "version_major": 2,
              "version_minor": 0
            },
            "text/plain": [
              "Epoch 8/30 Training:   0%|          | 0/704 [00:00<?, ?it/s]"
            ]
          },
          "metadata": {},
          "output_type": "display_data"
        },
        {
          "name": "stdout",
          "output_type": "stream",
          "text": [
            "Epoch 8/30 | Val Loss: 2.1940 | Val Acc: 44.00%\n"
          ]
        },
        {
          "data": {
            "application/vnd.jupyter.widget-view+json": {
              "model_id": "37a3e387fa9944c8a3f348ade7880921",
              "version_major": 2,
              "version_minor": 0
            },
            "text/plain": [
              "Epoch 9/30 Training:   0%|          | 0/704 [00:00<?, ?it/s]"
            ]
          },
          "metadata": {},
          "output_type": "display_data"
        },
        {
          "name": "stdout",
          "output_type": "stream",
          "text": [
            "Epoch 9/30 | Val Loss: 2.2649 | Val Acc: 43.16%\n"
          ]
        },
        {
          "data": {
            "application/vnd.jupyter.widget-view+json": {
              "model_id": "83308fdbf09048dbb7870e1e32cef4a5",
              "version_major": 2,
              "version_minor": 0
            },
            "text/plain": [
              "Epoch 10/30 Training:   0%|          | 0/704 [00:00<?, ?it/s]"
            ]
          },
          "metadata": {},
          "output_type": "display_data"
        },
        {
          "name": "stdout",
          "output_type": "stream",
          "text": [
            "Epoch 10/30 | Val Loss: 2.2723 | Val Acc: 42.64%\n"
          ]
        },
        {
          "data": {
            "application/vnd.jupyter.widget-view+json": {
              "model_id": "8d331afd58854a97924e532328d73067",
              "version_major": 2,
              "version_minor": 0
            },
            "text/plain": [
              "Epoch 11/30 Training:   0%|          | 0/704 [00:00<?, ?it/s]"
            ]
          },
          "metadata": {},
          "output_type": "display_data"
        },
        {
          "name": "stdout",
          "output_type": "stream",
          "text": [
            "Epoch 11/30 | Val Loss: 2.2735 | Val Acc: 43.12%\n"
          ]
        },
        {
          "data": {
            "application/vnd.jupyter.widget-view+json": {
              "model_id": "a264f24cacf94240ab9659199ae2e40f",
              "version_major": 2,
              "version_minor": 0
            },
            "text/plain": [
              "Epoch 12/30 Training:   0%|          | 0/704 [00:00<?, ?it/s]"
            ]
          },
          "metadata": {},
          "output_type": "display_data"
        },
        {
          "name": "stdout",
          "output_type": "stream",
          "text": [
            "Epoch 12/30 | Val Loss: 2.3236 | Val Acc: 42.46%\n",
            "  -> Early stopping triggered after 5 epochs with no improvement.\n",
            "Final Distilled Student Test Accuracy: 45.46%\n",
            "\n",
            "\n",
            "--- FINAL COMPREHENSIVE RESULTS (Simple Student) ---\n",
            "Teacher (ResNet-50) Accuracy: 82.75%\n",
            "Student (Baseline) Accuracy:  39.86%\n",
            "Student (Distilled) Accuracy: 45.46%\n",
            "---------------------------------\n",
            "Improvement with Distillation: 5.60%\n"
          ]
        }
      ],
      "source": [
        "# --- Main Experiment ---\n",
        "teacher_model = AutoModelForImageClassification.from_pretrained(\"jialicheng/cifar100-resnet-50\")\n",
        "teacher_model.to(DEVICE)\n",
        "teacher_model.eval()\n",
        "\n",
        "print(\"\\n--- Evaluating Teacher Model ---\")\n",
        "teacher_accuracy = evaluate(teacher_model, test_loader, is_teacher=True)\n",
        "print(f\"Teacher (ResNet-50) Test Accuracy: {teacher_accuracy:.2f}%\")\n",
        "\n",
        "if os.path.exists(LOGITS_LOOKUP_PATH):\n",
        "    print(f\"\\n--- Loading pre-computed logit lookup table from {LOGITS_LOOKUP_PATH} ---\")\n",
        "    teacher_logits_lookup = torch.load(LOGITS_LOOKUP_PATH)\n",
        "else:\n",
        "    print(\"\\n--- Pre-computing teacher logit lookup table (this may take a while)... ---\")\n",
        "    teacher_logits_lookup = get_teacher_logits_lookup(teacher_model, full_train_dataset, DEVICE)\n",
        "    print(f\"--- Saving computed lookup table to {LOGITS_LOOKUP_PATH} for future use... ---\")\n",
        "    torch.save(teacher_logits_lookup, LOGITS_LOOKUP_PATH)\n",
        "\n",
        "print(f\"Loaded {len(teacher_logits_lookup)} total logits into lookup table.\")\n",
        "\n",
        "distill_train_dataset = DistillationDataset(train_subset, teacher_logits_lookup)\n",
        "distill_val_dataset = DistillationDataset(val_subset, teacher_logits_lookup)\n",
        "distill_train_loader = DataLoader(distill_train_dataset, batch_size=BATCH_SIZE, shuffle=True)\n",
        "distill_val_loader = DataLoader(distill_val_dataset, batch_size=BATCH_SIZE, shuffle=False)\n",
        "\n",
        "del teacher_model\n",
        "torch.cuda.empty_cache()\n",
        "\n",
        "print(\"\\n--- Training Student from Scratch (Baseline) ---\")\n",
        "template_student = StudentNet()\n",
        "initial_student_state = copy.deepcopy(template_student.state_dict())\n",
        "\n",
        "student_baseline = StudentNet().to(DEVICE)\n",
        "student_baseline.load_state_dict(initial_student_state)\n",
        "optimizer_baseline = optim.Adam(student_baseline.parameters(), lr=LR)\n",
        "loss_fn_baseline = nn.CrossEntropyLoss()\n",
        "\n",
        "baseline_train_loader = DataLoader(train_subset, batch_size=BATCH_SIZE, shuffle=True)\n",
        "baseline_val_loader = DataLoader(val_subset, batch_size=BATCH_SIZE, shuffle=False)\n",
        "\n",
        "student_baseline = train_and_validate(\n",
        "    student_baseline, baseline_train_loader, baseline_val_loader, optimizer_baseline,\n",
        "    loss_fn_baseline, EPOCHS, PATIENCE, is_distillation=False\n",
        ")\n",
        "baseline_accuracy = evaluate(student_baseline, test_loader)\n",
        "print(f\"Final Baseline Student Test Accuracy: {baseline_accuracy:.2f}%\")\n",
        "\n",
        "print(\"\\n--- Training Distilled Student (with pre-computed logits) ---\")\n",
        "student_distilled = StudentNet().to(DEVICE)\n",
        "student_distilled.load_state_dict(initial_student_state)\n",
        "optimizer_distilled = optim.Adam(student_distilled.parameters(), lr=LR)\n",
        "loss_fn_distilled = distillation_loss\n",
        "\n",
        "student_distilled = train_and_validate(\n",
        "    student_distilled, distill_train_loader, distill_val_loader, optimizer_distilled,\n",
        "    loss_fn_distilled, EPOCHS, PATIENCE, is_distillation=True\n",
        ")\n",
        "distilled_accuracy = evaluate(student_distilled, test_loader)\n",
        "print(f\"Final Distilled Student Test Accuracy: {distilled_accuracy:.2f}%\")\n",
        "\n",
        "print(\"\\n\\n--- FINAL COMPREHENSIVE RESULTS (Simple Student) ---\")\n",
        "print(f\"Teacher (ResNet-50) Accuracy: {teacher_accuracy:.2f}%\")\n",
        "print(f\"Student (Baseline) Accuracy:  {baseline_accuracy:.2f}%\")\n",
        "print(f\"Student (Distilled) Accuracy: {distilled_accuracy:.2f}%\")\n",
        "print(\"---------------------------------\")\n",
        "improvement = distilled_accuracy - baseline_accuracy\n",
        "print(f\"Improvement with Distillation: {improvement:.2f}%\")"
      ]
    },
    {
      "cell_type": "markdown",
      "metadata": {
        "id": "hl6mQGjnrImI"
      },
      "source": [
        "## Experiment 2: A More Capable Student (ResNet-18)\n",
        "\n",
        "The results from our simple student are promising and confirm that the distillation process is effective. However, the student's performance was ultimately capped by the inherent limitations of its simple CNN architecture. It simply lacked the capacity to fully absorb the rich guidance provided by the powerful ResNet-50 teacher.\n",
        "\n",
        "To bridge this gap, our next experiment will use a more capable **ResNet-18** as the student model. To unlock its full potential, we will also employ more robust training techniques.\n",
        "\n",
        "### Aligning Data Augmentation with Pre-computed Logits\n",
        "\n",
        "Data augmentation (like random crops and horizontal flips) is crucial for helping a model generalise. However, it creates a conflict with our pre-computation strategy. The teacher's logits were calculated on the *original* images, while data augmentation creates a slightly different version of each image for every training epoch.\n",
        "\n",
        "We solve this with a more sophisticated data pipeline and training loop:\n",
        "\n",
        "*   **On-the-Fly Transformation with PIL:** Instead of pre-transforming our dataset, we load the images as their raw **PIL** (Python Imaging Library, the standard for image handling in Python) objects. Our custom data loaders then apply the random augmentations to each PIL image \"on-the-fly\" during the training step.\n",
        "\n",
        "*   **Correct Logit Mapping:** Our redesigned `DistillationDataset` ensures a perfect match. For each image, it applies the random augmentation to create the student's input, but uses the image's original, unchanged index to retrieve the corresponding logit from our pre-computed lookup table. This guarantees the student is always guided by the correct teacher signal.\n",
        "\n",
        "In the following, we'll also use a **Learning Rate Scheduling** (Cosine Annealing Scheduler) to dynamically adjust the learning rate during training. This method starts with a higher learning rate and smoothly decreases it over the epochs, which often helps the model to settle into a better and more stable final solution.\n",
        "\n",
        "This enhanced training process is significantly more computationally intensive and will take a considerable amount of time to complete."
      ]
    },
    {
      "cell_type": "code",
      "execution_count": null,
      "metadata": {
        "colab": {
          "base_uri": "https://localhost:8080/"
        },
        "execution": {
          "iopub.execute_input": "2025-07-12T20:40:46.732892Z",
          "iopub.status.busy": "2025-07-12T20:40:46.732196Z",
          "iopub.status.idle": "2025-07-12T20:40:48.571737Z",
          "shell.execute_reply": "2025-07-12T20:40:48.571106Z",
          "shell.execute_reply.started": "2025-07-12T20:40:46.732872Z"
        },
        "id": "wFhiOQ24rImI",
        "outputId": "180fea52-7346-4c44-90af-24196252d68f",
        "trusted": true
      },
      "outputs": [
        {
          "name": "stdout",
          "output_type": "stream",
          "text": [
            "Using device: cuda\n",
            "Using random seed for data split: 45\n",
            "Using CIFAR-100 dataset. Train: 45000, Val: 5000\n"
          ]
        }
      ],
      "source": [
        "import torch\n",
        "import torch.nn as nn\n",
        "import torch.optim as optim\n",
        "import torch.nn.functional as F\n",
        "from torch.utils.data import DataLoader, random_split, Dataset\n",
        "from torchvision import datasets, transforms\n",
        "from PIL import Image\n",
        "from tqdm.notebook import tqdm\n",
        "import numpy as np\n",
        "import copy\n",
        "import os\n",
        "from transformers import AutoModelForImageClassification\n",
        "\n",
        "# --- Configuration ---\n",
        "DEVICE = torch.device(\"cuda\" if torch.cuda.is_available() else \"cpu\")\n",
        "EPOCHS = 1000\n",
        "PATIENCE = 10\n",
        "BATCH_SIZE = 64\n",
        "LR = 0.001\n",
        "TEMPERATURE = 10\n",
        "ALPHA = 0.2\n",
        "SEED = 45\n",
        "LOGITS_LOOKUP_PATH = 'teacher_logits_lookup.pt'\n",
        "\n",
        "print(f\"Using device: {DEVICE}\")\n",
        "print(f\"Using random seed for data split: {SEED}\")\n",
        "\n",
        "# --- Data Loading and Preprocessing for CIFAR-100 ---\n",
        "# Student transform includes data augmentation for training\n",
        "student_transform = transforms.Compose([\n",
        "    transforms.RandomCrop(32, padding=4),\n",
        "    transforms.RandomHorizontalFlip(),\n",
        "    transforms.ToTensor(),\n",
        "    transforms.Normalize((0.5071, 0.4867, 0.4408), (0.2675, 0.2565, 0.2761))\n",
        "])\n",
        "\n",
        "# Evaluation transform does not use augmentation\n",
        "eval_transform = transforms.Compose([\n",
        "    transforms.ToTensor(),\n",
        "    transforms.Normalize((0.5071, 0.4867, 0.4408), (0.2675, 0.2565, 0.2761))\n",
        "])\n",
        "\n",
        "# Load datasets WITHOUT transforms to get PIL Images\n",
        "full_train_dataset_pil = datasets.CIFAR100(root='./data', train=True, download=True, transform=None)\n",
        "test_dataset_pil = datasets.CIFAR100(root='./data', train=False, download=True, transform=None)\n",
        "\n",
        "# Create splits from the PIL-based dataset\n",
        "train_size = int(0.9 * len(full_train_dataset_pil))\n",
        "val_size = len(full_train_dataset_pil) - train_size\n",
        "generator = torch.Generator().manual_seed(SEED)\n",
        "train_subset_pil, val_subset_pil = random_split(full_train_dataset_pil, [train_size, val_size], generator=generator)\n",
        "\n",
        "print(f\"Using CIFAR-100 dataset. Train: {len(train_subset_pil)}, Val: {len(val_subset_pil)}\")"
      ]
    },
    {
      "cell_type": "markdown",
      "metadata": {
        "id": "wrYmh-6NrImJ"
      },
      "source": [
        "## Model Architecture (ResNet-18 Student)\n",
        "We define the building blocks and the final architecture for a ResNet-18 model, adapted for the 32x32 images and 100 classes of the CIFAR-100 dataset."
      ]
    },
    {
      "cell_type": "code",
      "execution_count": null,
      "metadata": {
        "execution": {
          "iopub.execute_input": "2025-07-12T20:40:48.572701Z",
          "iopub.status.busy": "2025-07-12T20:40:48.572504Z",
          "iopub.status.idle": "2025-07-12T20:40:48.584838Z",
          "shell.execute_reply": "2025-07-12T20:40:48.584067Z",
          "shell.execute_reply.started": "2025-07-12T20:40:48.572685Z"
        },
        "id": "XK8bf6F3rImJ",
        "trusted": true
      },
      "outputs": [],
      "source": [
        "class BasicBlock(nn.Module):\n",
        "    \"\"\"Building Block for ResNet-18/34.\"\"\"\n",
        "    expansion = 1\n",
        "\n",
        "    def __init__(self, in_planes, planes, stride=1):\n",
        "        super(BasicBlock, self).__init__()\n",
        "        self.conv1 = nn.Conv2d(in_planes, planes, kernel_size=3, stride=stride, padding=1, bias=False)\n",
        "        self.bn1 = nn.BatchNorm2d(planes)\n",
        "        self.conv2 = nn.Conv2d(planes, planes, kernel_size=3, stride=1, padding=1, bias=False)\n",
        "        self.bn2 = nn.BatchNorm2d(planes)\n",
        "\n",
        "        self.shortcut = nn.Sequential()\n",
        "        if stride != 1 or in_planes != self.expansion * planes:\n",
        "            self.shortcut = nn.Sequential(\n",
        "                nn.Conv2d(in_planes, self.expansion * planes, kernel_size=1, stride=stride, bias=False),\n",
        "                nn.BatchNorm2d(self.expansion * planes)\n",
        "            )\n",
        "\n",
        "    def forward(self, x):\n",
        "        out = F.relu(self.bn1(self.conv1(x)))\n",
        "        out = self.bn2(self.conv2(out))\n",
        "        out += self.shortcut(x)\n",
        "        out = F.relu(out)\n",
        "        return out\n",
        "\n",
        "class StudentNet(nn.Module):\n",
        "    \"\"\"ResNet-18 model adapted for CIFAR-100.\"\"\"\n",
        "    def __init__(self, block=BasicBlock, num_blocks=[2, 2, 2, 2], num_classes=100):\n",
        "        super(StudentNet, self).__init__()\n",
        "        self.in_planes = 64\n",
        "        self.conv1 = nn.Conv2d(3, 64, kernel_size=3, stride=1, padding=1, bias=False)\n",
        "        self.bn1 = nn.BatchNorm2d(64)\n",
        "        self.layer1 = self._make_layer(block, 64, num_blocks[0], stride=1)\n",
        "        self.layer2 = self._make_layer(block, 128, num_blocks[1], stride=2)\n",
        "        self.layer3 = self._make_layer(block, 256, num_blocks[2], stride=2)\n",
        "        self.layer4 = self._make_layer(block, 512, num_blocks[3], stride=2)\n",
        "        self.linear = nn.Linear(512 * block.expansion, num_classes)\n",
        "\n",
        "    def _make_layer(self, block, planes, num_blocks, stride):\n",
        "        strides = [stride] + [1] * (num_blocks - 1)\n",
        "        layers = []\n",
        "        for stride_val in strides:\n",
        "            layers.append(block(self.in_planes, planes, stride_val))\n",
        "            self.in_planes = planes * block.expansion\n",
        "        return nn.Sequential(*layers)\n",
        "\n",
        "    def forward(self, x):\n",
        "        out = F.relu(self.bn1(self.conv1(x)))\n",
        "        out = self.layer1(out)\n",
        "        out = self.layer2(out)\n",
        "        out = self.layer3(out)\n",
        "        out = self.layer4(out)\n",
        "        out = F.avg_pool2d(out, 4)\n",
        "        out = out.view(out.size(0), -1)\n",
        "        out = self.linear(out)\n",
        "        return out"
      ]
    },
    {
      "cell_type": "markdown",
      "metadata": {
        "id": "bM8ebnRqrImJ"
      },
      "source": [
        "## Advanced Data Handling and Training\n",
        "The data handling and training functions are updated to accommodate data augmentation and the learning rate scheduler.\n",
        "\n",
        "* `TransformedDataset`: A new wrapper class that applies a given transformation to a PIL-based dataset on-the-fly. This is crucial for applying data augmentation to training data while using non-augmented data for validation and testing.\n",
        "* `DistillationDataset`: This class is updated to accept a transform, ensuring that even when we retrieve a pre-computed logit, we can apply data augmentation to the corresponding image.\n",
        "* `train_and_validate`: The main training loop now incorporates a `CosineAnnealingLR` scheduler, which is stepped at the end of each epoch. The current learning rate is printed in the logs.\n"
      ]
    },
    {
      "cell_type": "code",
      "execution_count": null,
      "metadata": {
        "execution": {
          "iopub.execute_input": "2025-07-12T20:40:48.585878Z",
          "iopub.status.busy": "2025-07-12T20:40:48.585589Z",
          "iopub.status.idle": "2025-07-12T20:40:48.609597Z",
          "shell.execute_reply": "2025-07-12T20:40:48.608939Z",
          "shell.execute_reply.started": "2025-07-12T20:40:48.585862Z"
        },
        "id": "S2IyxsSprImJ",
        "trusted": true
      },
      "outputs": [],
      "source": [
        "class TransformedDataset(Dataset):\n",
        "    \"\"\"A wrapper to apply transformations to a subset of PIL images.\"\"\"\n",
        "    def __init__(self, subset, transform):\n",
        "        self.subset = subset\n",
        "        self.transform = transform\n",
        "\n",
        "    def __getitem__(self, index):\n",
        "        x, y = self.subset[index]\n",
        "        if self.transform:\n",
        "            x = self.transform(x)\n",
        "        return x, y\n",
        "\n",
        "    def __len__(self):\n",
        "        return len(self.subset)\n",
        "\n",
        "@torch.no_grad()\n",
        "def get_teacher_logits_lookup(model, full_pil_dataset, transform, device):\n",
        "    \"\"\"Computes all logits from the original, untransformed dataset.\"\"\"\n",
        "    lookup_table = torch.zeros(len(full_pil_dataset), 100)\n",
        "    transformed_dataset = TransformedDataset(full_pil_dataset, transform)\n",
        "    loader = DataLoader(transformed_dataset, batch_size=BATCH_SIZE, shuffle=False)\n",
        "    model.eval()\n",
        "\n",
        "    current_pos = 0\n",
        "    for data, _ in tqdm(loader, desc=\"Computing Logit Lookup Table\"):\n",
        "        data = data.to(device)\n",
        "        data = F.interpolate(data, size=(224, 224), mode='bilinear', align_corners=False)\n",
        "        logits = model(data).logits.cpu()\n",
        "        batch_size = data.size(0)\n",
        "        lookup_table[current_pos:current_pos + batch_size] = logits\n",
        "        current_pos += batch_size\n",
        "    return lookup_table\n",
        "\n",
        "class DistillationDataset(Dataset):\n",
        "    \"\"\"Pairs PIL images with logits and applies transforms on-the-fly.\"\"\"\n",
        "    def __init__(self, original_subset_pil, teacher_logits_lookup, transform=None):\n",
        "        self.original_subset_pil = original_subset_pil\n",
        "        self.teacher_logits_lookup = teacher_logits_lookup\n",
        "        self.transform = transform\n",
        "\n",
        "    def __len__(self):\n",
        "        return len(self.original_subset_pil)\n",
        "\n",
        "    def __getitem__(self, idx):\n",
        "        image, label = self.original_subset_pil[idx]\n",
        "        if self.transform:\n",
        "            image = self.transform(image)\n",
        "        original_idx = self.original_subset_pil.indices[idx]\n",
        "        teacher_logit = self.teacher_logits_lookup[original_idx]\n",
        "        return image, label, teacher_logit\n",
        "\n",
        "def distillation_loss(student_outputs, labels, precomputed_teacher_logits, T, alpha):\n",
        "    soft_loss = nn.KLDivLoss(reduction='batchmean')(\n",
        "        F.log_softmax(student_outputs / T, dim=1),\n",
        "        F.softmax(precomputed_teacher_logits / T, dim=1)\n",
        "    ) * (T * T)\n",
        "    hard_loss = F.cross_entropy(student_outputs, labels)\n",
        "    return alpha * hard_loss + (1.0 - alpha) * soft_loss\n",
        "\n",
        "def calculate_loss(model, loader, loss_fn, is_distillation):\n",
        "    model.eval()\n",
        "    total_loss = 0\n",
        "    with torch.no_grad():\n",
        "        for batch in loader:\n",
        "            if is_distillation:\n",
        "                data, target, teacher_logits = batch\n",
        "                teacher_logits = teacher_logits.to(DEVICE)\n",
        "            else:\n",
        "                data, target = batch\n",
        "            data, target = data.to(DEVICE), target.to(DEVICE)\n",
        "            output = model(data)\n",
        "            if is_distillation:\n",
        "                loss = loss_fn(output, target, teacher_logits, TEMPERATURE, ALPHA)\n",
        "            else:\n",
        "                loss = loss_fn(output, target)\n",
        "            total_loss += loss.item()\n",
        "    return total_loss / len(loader)\n",
        "\n",
        "def train_and_validate(model, train_loader, val_loader, optimizer, loss_fn, epochs, patience, is_distillation):\n",
        "    best_val_loss = float('inf')\n",
        "    patience_counter = 0\n",
        "    best_model_state = None\n",
        "    scheduler = optim.lr_scheduler.CosineAnnealingLR(optimizer, T_max=epochs)\n",
        "\n",
        "    for epoch in range(epochs):\n",
        "        model.train()\n",
        "        with tqdm(train_loader, desc=f\"Epoch {epoch+1}/{epochs} Training\", leave=False) as pbar:\n",
        "            for batch in pbar:\n",
        "                if is_distillation:\n",
        "                    data, target, teacher_logits = batch\n",
        "                    teacher_logits = teacher_logits.to(DEVICE)\n",
        "                else:\n",
        "                    data, target = batch\n",
        "                data, target = data.to(DEVICE), target.to(DEVICE)\n",
        "\n",
        "                optimizer.zero_grad()\n",
        "                output = model(data)\n",
        "\n",
        "                if is_distillation:\n",
        "                    loss = loss_fn(output, target, teacher_logits, TEMPERATURE, ALPHA)\n",
        "                else:\n",
        "                    loss = loss_fn(output, target)\n",
        "\n",
        "                loss.backward()\n",
        "                optimizer.step()\n",
        "                pbar.set_postfix(loss=loss.item())\n",
        "\n",
        "        val_loss = calculate_loss(model, val_loader, loss_fn, is_distillation)\n",
        "        val_acc = evaluate(model, val_loader)\n",
        "        print(f\"Epoch {epoch+1}/{epochs} | Val Loss: {val_loss:.4f} | Val Acc: {val_acc:.2f}% | LR: {scheduler.get_last_lr()[0]:.6f}\")\n",
        "\n",
        "        scheduler.step()\n",
        "\n",
        "        if val_loss < best_val_loss:\n",
        "            best_val_loss = val_loss\n",
        "            patience_counter = 0\n",
        "            best_model_state = copy.deepcopy(model.state_dict())\n",
        "            print(\"  -> Validation loss improved, saving model.\")\n",
        "        else:\n",
        "            patience_counter += 1\n",
        "            if patience_counter >= patience:\n",
        "                print(f\"  -> Early stopping triggered after {patience} epochs with no improvement.\")\n",
        "                break\n",
        "\n",
        "    if best_model_state:\n",
        "        model.load_state_dict(best_model_state)\n",
        "    return model\n",
        "\n",
        "def evaluate(model, loader, is_teacher=False):\n",
        "    model.eval()\n",
        "    correct = 0\n",
        "    total = 0\n",
        "    with torch.no_grad():\n",
        "        for batch in loader:\n",
        "            data, target = batch[0], batch[1]\n",
        "            data, target = data.to(DEVICE), target.to(DEVICE)\n",
        "\n",
        "            if is_teacher:\n",
        "                data = F.interpolate(data, size=(224, 224), mode='bilinear', align_corners=False)\n",
        "                outputs = model(data).logits\n",
        "            else:\n",
        "                outputs = model(data)\n",
        "\n",
        "            _, predicted = torch.max(outputs.data, 1)\n",
        "            total += target.size(0)\n",
        "            correct += (predicted == target).sum().item()\n",
        "    return 100 * correct / total"
      ]
    },
    {
      "cell_type": "markdown",
      "metadata": {
        "id": "wfhXUKMmrImK"
      },
      "source": [
        "## Experiment 2: Execution with ResNet-18 Student\n",
        "We now run the final, most intensive experiment.\n",
        "\n",
        "A crucial step for a fair comparison is added: we create a single \"template\" ResNet-18 model and save its initial, randomly-generated weights. Both the baseline and the distilled student models will be loaded with these exact same initial weights before their respective training begins. \n",
        "\n",
        "The pipeline is as follows:\n",
        "\n",
        "1. Evaluate the teacher model's performance.\n",
        "2. Load the pre-computed teacher logits (if the file exists) or compute them. The computation now uses the `eval_transform` to ensure logits are calculated on clean, non-augmented images.\n",
        "3. Create and save a common initial state for the ResNet-18 student models.\n",
        "4. Train the baseline ResNet-18 student using data augmentation.\n",
        "5. Train the distilled ResNet-18 student, also using data augmentation, but with the distillation loss function.\n",
        "6. Compare the final test accuracies."
      ]
    },
    {
      "cell_type": "code",
      "execution_count": null,
      "metadata": {
        "colab": {
          "base_uri": "https://localhost:8080/",
          "height": 1000,
          "referenced_widgets": [
            "4357a6f448994827b6e3cb5dce1c9332",
            "4b205b2808ae4aec8aff29e46867b97d",
            "8ad62e7cb1fe46f5bc82eab1a12a216d",
            "ad4540f06ff5413aa15e7a360fff2c22",
            "daf26da38d254646bdb04f159f31ca40",
            "8115573e40b64306a3a1f44b3d0fb772",
            "8161c6531e454c1e9d088fba979ce785",
            "25a5a2ebb01a4c51b37b3150f11000dd",
            "a61d1cf5a24b41399753ccb9af1ccc01",
            "658ed6eeca004d7188f3a3bfae6b1000",
            "99f35b7cc89c4257b3c11bfe97845036",
            "612795b87a17426aa612049073656c93",
            "92313ac3eb7e4093987f8a62dea78520",
            "0348d6a4976243e7a293127b247a2c4b",
            "2d0286c7791040f0b8dd05c16284461e",
            "eda9da7f9f434f91971b405019454fa0",
            "070946de8d594fda9f9f084841cb3937",
            "fcf1cf492a7546b8a59cd4bae4f9e7f5",
            "1b31915cfcb64501943c242597a0f2e2",
            "c6496c6cb3cf4a648361215140c14721",
            "f2f22cbae10645e495bf62649911ebd9",
            "a3df822e17654aba84348b583c1a3b24",
            "be7810325d9947eaa7300146ac1076a8",
            "9708414039fe44818c35f50fa445a850",
            "f71bd1c6366a46a09f69f7c18bea0bd8",
            "ba85d736b96045a4b91d59488df98bd9",
            "4d6529280d2b420b8632bf9bb65e2771",
            "1d85f62273d446b68b7d63e9cd4b4731",
            "07e916edaf7b4a8b87105a1553210ec6",
            "aea880557ebc4be6bea112cbac754b4e",
            "5de77316d78344b2803b2472d4dc8f39",
            "27bc0b3b4d1b4d1c9ba7a4024d6b19ea",
            "5fe02df866c040abb62e73c9b82c779b",
            "0d1f2107aefa4bba95b18549cafae554",
            "319c4617b1304993a3f666df180ffe23",
            "32f9c1454af748e483e97d9925277711",
            "db7417f77e474ab6b74feb76f89efd4f",
            "eb4519954a5d4eba84d5d8e532c53584",
            "cb2ed6eb92cf416c9eb0ebd0a1851e2a",
            "689fb01387a94f0ca85c67265c1670fe",
            "63d28229bba9483294acfdbba2962c56",
            "b8689e9546bb4296a1719bc5c0b78003",
            "6eaeb814f8034cf18abe7dfcfbfb96e6",
            "bfa6097022bb435f905787299da26294",
            "9f624f9c8b0a4847a5ffd20ff4e5aa99",
            "4cb91702a31c470ea974aad8f4a2e446",
            "e6706ffca6b44ad5a00e787127d17136",
            "d98d64d59bae4f798c0be7e667504c00",
            "d2fcf43f1058456b9816fc59845701a6",
            "75f1aaa69a3d4dbf93803de7827c60a7",
            "da8da29afef74087afc2245d7547d4aa",
            "169da01812f743c1b3700b84a207ba2e",
            "43fe747df61143e98265522b276a07b2",
            "7e7ab12a4d29486e912f9236c93bf5d2",
            "1be1fec4b29f48d381ffe1fc670d452a",
            "bc51ca8a9f714c6496e7df35c93b7a2d",
            "9652c45d4f104d55a4fbacdc41347992",
            "b0b074d4292a4fc28dcc1723d0541c8c",
            "cbe177d622454b52bdba3788111daa53",
            "1c208110845c4a79ab5c92ed240ccc4f",
            "eaa97694ecfc4d6ab154b67ce9ee10e9",
            "8285dc1524424db9b7668cbc19852140",
            "f148c1ed895b49f4aca0688107f8dd5d",
            "c37e43b1066b48c78ab141afc9252c71",
            "e856e1273e35468597f5b11bf7883f89",
            "6a01251f0e464f9b82db14b20442ecde",
            "dc23931e99554a67b31a083102a5c325",
            "13407fd6b7504aa0b572cf2d12f5dd83",
            "7a2bffe5cc864e9daa65cdd1d00a7d4d",
            "27d1bffdb4c1434fa1e9a75adb6685cb",
            "c1cea0e403dc40109716fddaa8e33722",
            "b2a7e9cc5f1148cfaf84cc8303f5ea64",
            "2cb720c47da44cfb845f0b79aeb19be5",
            "5b95f1722bd64be5bb1f727d66e8d866",
            "4fadf733b9d04e5dbc08a695e1be49eb",
            "64f36925cf0842afba9d8554a13765db",
            "bdef7474dbf545438ef4b8181f87f972",
            "eedbf3b3bc7244239a2222918be3cd2b",
            "0b2544f41a7b4be3ad9c138818449108",
            "24c028584ffc430b842a68f2e9c7b82b",
            "f6cf161f433244c9b55191197b95b5f5",
            "37ffe6251b9641b5b26e5b45931f8d72",
            "10417b2cf1c44775a058dfe4e765a27a",
            "91ffa9cf639c43d49d4c1ca9dd1c8644",
            "283e0dd34e2b42139f4cdbbf74488e5e",
            "82f757fdee0f4d9fae69a1d5a287155f",
            "c4db2c2843d449cc94ea653813a9fa2c",
            "bebfba345e8847c5837308fcfb033645",
            "b6da6aeba2f24041974134e7d5e6fb37",
            "c867f63393cf467285591b9ce06f0974",
            "3faf2b3d173b4b5486aad1211b4a74f6",
            "4faeafb0bd044586bc9bc9225ada99ef",
            "ca6b4160d5934ee6a7758b436655e2e6",
            "5690f9d64bd5470184016866d99cb82e",
            "a04d9272911d4a58b4ed19db51fbc4f5",
            "7ac0862e35b54e76bf3e983ba237ad56",
            "6b662b6b67614ddd9b884f1488922df5",
            "896a7c28e74849fa8a863b986bbe54ac",
            "4b0840b9fcc4456fb4fb344ca27fffa5",
            "2d4ba447b0a0464fb6fd8c634004c825",
            "b7a4776c2cf04496a67bb6387cd27afd",
            "dace6b1918c040989916098d599eab45",
            "bb8de419b03a4015844ea1fba47f13ba",
            "c9f37486a0a54e83a75f79d6b5ab8f26",
            "5658500943e243e0b6665ea85152e5b5",
            "fec9de42ecf24da2b68b7daad5c573b1",
            "8037eeb3ea20465da439e7a56282db95",
            "45c2d145180b41c2a5719aba725d8017",
            "53a251e4ff754050a3751ffc9b3017fe",
            "a637ff4211734626b81699b687f2dcb9",
            "9a5fb83731794afcb8c042b3ea5d4c29",
            "079c989768b54eb9b3268701777884b3",
            "4618ffc16df34477bcc4e1a20eb234bc",
            "98150473358646d08c56b65c0b548de4",
            "6357e4baad5c4ca4838eb415ee94160c",
            "ef1e24d9d1854064a7c99a521244d79a",
            "1142746c503349d3aeed77b2dcd4ed57",
            "16715c6c76bd45858f111395469c66af",
            "2b630cd6f99741a692019e98da52514d",
            "15915e8052d04ac08296b357b3c9cb36",
            "f2a71e7c14bb41dd96d183d4144e05d5",
            "4c298ac0319547e9a07b383a3c79ed70",
            "08516004a9e54d90a29eaf573a0ddc92",
            "2d562a7ecbfe4cf08a51340a5a76dc89",
            "d49bc6e232ba416e9eaaa378b75f7120",
            "9591434235444b37813c75a666be1559",
            "e82e4d99467d4e70949a1dd6e5947e56",
            "ec3baee7f8a44fa1a858e39b9b75ac47",
            "76de2bba22e3421ba3340a1f42062ba5",
            "0e0e6c5cb1c64896b732ea112bd813a7",
            "2a4b9ae1f74547d196aa0605024617b2",
            "bffbe18363d34818bf3fdee020d339c2",
            "0b89c31b0e04477d883b06376570091b",
            "0b2c4c9e29c5407ea142a1c2770d355e",
            "3930803839274b06b8bdf19668566d64",
            "b4d66ffbf184444caf3a3a0693b1b211",
            "3e5d23886eb14be7b5ecef48c945c022",
            "9eef8a9171174c48908248d81f640a1b",
            "0b2eee2fd0dc426fa1cdcd25c048f247",
            "8419ccaae42643658d31d7d2eac9ce72",
            "315f10c2fb3441e8a2a888a4d99ed070",
            "3df1f99a9ab148ed8ac767c37ec6a356",
            "5ff428c50b024ae7bc407b9688431c5b",
            "38507b3e7ea24ba39b547ed6863f2e9c",
            "17086fbf3d65467a856418a7ff8a075e",
            "83782f5040c0493a97c2f1218990cb5b",
            "c1656e76522140a485c1b67359379b34",
            "b6f9542525e9416788860d12f1121158",
            "b459dd4359b54869a2b8838ef49495d0",
            "94e32994f5aa46a889a630678e37977f",
            "c938d8c2028c4af3b1648c412b5c747c",
            "294d960342ff449c89a92daa54f353a1",
            "e41dbdb8f59244c6864c39a75210ba52",
            "f30a6467375845318da9c6502d30b273",
            "7ca57d3ab6a34cf0b158afd80072e66f",
            "2c3c61050b884a0c9f9a9a57f7c9f91a",
            "5b71a3f3ebc64a619e043b8e8d92aece",
            "5d7e46298ebc418984344bb81b3542b1",
            "14089604adca4692b71f1278ff03a69f",
            "73160843ceab4473acf6ab0fdb7867a8",
            "476f10c1fab64a9ab1ec02761a620f94",
            "fe0577c973184ed49a2bb27ddf043cb6",
            "41718cb53e234d7a82771377f7f00499",
            "0b7a99f52cf9426e94adca1cc71b265a",
            "d307a16f41b345f88d090b56d014842d",
            "b293ecbd9aa34c379495bdf2b45492eb",
            "a0952c98bd424c6486bdc0b574b976bb",
            "edf4ba17147a427d8c4ae69bee7ae9fc",
            "d4799e9b69214979a752354202921519",
            "7a7b4fd31fdb4ad2861d5e8a5723d40c",
            "2e9330d83926410cabf5b8039f8c4289",
            "fd572dcad10646f79450f29240b6116e",
            "a70c96633fed4c74bc6220e1ec3e3fc8",
            "ada9ee1c3185415e8390d45b6b4bb1ae",
            "95bfeed5de244ad3856abd9226f73494",
            "d7d096ac0b7d4f00970f81dffc8b3743",
            "e3c75090bbdc494db2b1c6bb822bed5c",
            "55cf847c52a246b88d725411dd4ad657",
            "72a0eea607a94059b329e962ffdeddf1",
            "76780403c3e04d19b234de989bcb55a1",
            "9ee5278b1d0e4cd684abe38ebc86f28f",
            "8923be4b5d4646ad9a2de752f420de01",
            "63de38bf53284b9b805a3abd63e5fe78",
            "5d0d9c05f81d4e1291ea5caafec56df7",
            "e82b581cc7814b02865c6a1d4a58df7a",
            "234a62e695dc49b9a1bb37dcce2a2d8a",
            "8cbb3891b13d4ad38a4be4776dbe7c8f",
            "6bc31dd2af1e4257bfef8eb4b0cf6f51",
            "7f55922fced6466f83523239f49b67d1",
            "9560ff975e3a4534bc5ffc17e094189b",
            "43227b71e234476c80b52e753244cf94",
            "0b533c3493474de4910338c811da82a8",
            "67dc39fa451b4116b332fa9cfc75f393",
            "3d34356a569849f9be6f5fcdcd632f91",
            "28b5ba3dcd004dd7b17d88a313eed9bc",
            "11909c3ebbf04592846300cf1d5fa0fb",
            "b95d2cc8bab74c6d8251252f305f8ecd",
            "0106f0ed682944a880df4941ec7d0764",
            "0d21a220c98944298dd5b7a83d012d4c",
            "91fa0dff5c2947019d55e66dd87f33b5",
            "8d01f10d26b64f9697025de00fe3a4e6",
            "d5cc5203492b411a85546ff9f165f85f",
            "a147d73f36804fc393708ebf0e7d342e",
            "f625c8668c664097a1ae258042b6cc94",
            "7020ae97a2e54b5fbda851e57bf2976e",
            "cce4815aecfd40159e088d52c202c7bc",
            "c2bb07ed8f2b43dea4b08fafdb93da71",
            "98e9da14448e42e68db1aed9aff92a37",
            "4eb0708e13854c27b61bc18875b8cdb7",
            "989ee049df2c45dca3140fc1d45709a4",
            "f508660b07f040cf83dc9af76d70777c",
            "856026dbfe6640b1b4b97a3276609277",
            "f8196ccbf6994dad9395de05b0a1b57e",
            "7f7ea5649dda4392a8c6d820a096b360",
            "e63e7812d3ae419e90e93cb816654998",
            "b9ec0b189c6c4103907f3ed692457373",
            "b62b92c4c1374ad8997978ddfeec789d",
            "1909398ae93a4013b95acf7df58552e1",
            "2bf6bf00e99e45fc9f799d133e7e49d8",
            "84958ba2080e4e7381228b3d24f99586",
            "001eff83c926432488f3e7a4f5530069",
            "ce4f682a3d76465bae943fdd328c8085",
            "968f901022224c11856c974a4fec00e8",
            "d106671fdfbc4e77b68bd5c9ed9fe346",
            "44010cd599a74a4fb2b3fb48a2920f64",
            "ffcf539bf1c043c980e26dfd4f758aa7",
            "f1fe536d0b43470da2658adc73887902",
            "4d5a40807d23432fbbe5bf18feaa1677",
            "a4f10ecbf36d443489f04833e0370a23",
            "790839ef953b4d978ab970b2b0e5a0fa",
            "3614d53a974c4eb9b35848ca7d054ae4",
            "cb00c66b330a4476b61afd43f36ecbbc",
            "0fd469b7f4354020a97903381a3e16c3",
            "14b4313ef7a543fc9b0be0e4144102e5",
            "b19847909ef44f90a9ba982afed055fa",
            "acccf08b9c7e42859ee5de363a9fc3c9",
            "c5d448ba11d34e909499d59a20a8d0f1",
            "21933c51a8d7488082b9148b1e98dd91",
            "9ab8c2a598804fe48bab0795215246ee",
            "243e3074ccad49bb81b90a457f538e16",
            "3d4777cb2c8a41c89cff6b0a427489de",
            "5781584aee0044b4b9d5ae635a44bdd2",
            "f2f8ea5b87c94091a6d8ae25bf074c08",
            "444597c154384aef8187bb834ee9adf8",
            "d6fc2fee07704674b4f5dc77bd802f0f",
            "ac03e2614dc04ec18b86bf92e5af2787",
            "63877b23e6474888b9c4903215d77566",
            "e97021b745ae4d58b9237147441a4156",
            "f6a523e9b3f9461b90c0081bbe955a7c",
            "a3feedf0ab0d48f095392b9e5579b280",
            "6bac60e892494ee182d02c40a78cfa8f",
            "06cdeb67057d43ef891830de43a774d8",
            "e77aea58f63a469c8f714d345e713489",
            "2c90af3a4e854397b097a92c7fe18ba1",
            "764e0b7d04e849f9838db54e6d945305",
            "99bec9a9470f46b3b49c7b41d8fc7d4f",
            "c82ac1e92ebd41dcb1596776d01f1356",
            "789371f94f6a43f8bb90e7118a5c0f81",
            "d11ca7b3e89a489dbc9da1d5e5478309",
            "6dd0ecded2c145ebb91812c926fe3d73",
            "0349f465ff3d41cfae0b1b4ca6ea1b20",
            "50ab18bf577140efbe06d8ad48b67cf8",
            "258a3e06a1d848128dfd5b918543688c",
            "0e92c0cf3da047d69af50dd0474442f8",
            "75c3eb8309fa4a22a47aef2e6e18cb3e",
            "a4684cd941bd42789d2ae9b46dc4dd8c",
            "ff522545e84d4c7f9fe84d6397861d24",
            "2ebcaf4c2403495b8d16797a99c37f5b",
            "c7bab8ed445c4cb7a84fe799b9eb2c95",
            "84e9abbb60a9434e969b0299cd2759bb",
            "ea2793f077654a5fa42e7e97a9cdc79a",
            "5c76556446224c42b636b65d7730a7a6",
            "e3597899f9824ad892593f45f4334373",
            "8f84bef169ba419e84fbbbbe938630b8",
            "654604d6b0fa4f8ab2501de131c6e563",
            "cf0a5b6a465c40168f3095ea86ee4d97",
            "6b347c78b9c34b3b9a6575e733a9eae1",
            "0c23f9010f9f4c89ab4a68bc4ec1d046",
            "f55ff188259b4297b3030b2d7f6ad48c",
            "c4a697b9b24e4905afa66539f921b9c6",
            "90a3595201a3473ca6f405319e9664be",
            "2a620a8ae6db4a18989bb32f731832b2",
            "6324514e7f1345e3acef1af081afd57d",
            "e9c007e21f424ed4b10ef504b0ed7428",
            "844343319a554990b866b4bb6f03afab",
            "98167ef7a0d2434a8da4ec3550ad8414",
            "7e70b2d4e99a44a298a63eb5dc71b3ab",
            "1e234fe307c14c5dbc39205e3c34760c",
            "647d99d4b22c4254b315bf2f3ed99a98",
            "056cfe30de334b0daa9e0bef9e402f56",
            "f88955fc49df4440afe79b9dd8f94a3c",
            "02e9dc8644e547f6aff17bc4189f329c",
            "87547270977d4905b16d59f1b213c05b",
            "ce6cc7a199264468986bfd46b6874723",
            "8ea9855ddba94984a3982d93c3d99033",
            "603c51095c884f28a28253739bf5900f",
            "b7b201b3ddfd4216a75b8bbc61856fa2",
            "d79ea53470094102947d2329a452ed8b",
            "f7fee996c3be46f9940a5d58d5fec92f",
            "8e26ac19fec343f785f9e98422e1d84e",
            "1954f7f4ac98459aafa5bb668921350d",
            "9009c30daca24130ba91f338dcaa43c8",
            "7e1104bbecc04b0abec1429e5c3341cc",
            "1f69c296c173408ab97616b7a60cdc7a",
            "e3163c70af6e46e8bb58f44505443713",
            "0c025113feb2471cb9e8874eedcbd9e7",
            "cb405cff53504a868c6d07841aab343b",
            "40fc80926d084aba8659206afb6cd33c",
            "57406ee595a44e5982d2ea484fabc74a",
            "5e8b8c17e37d47bd8585e89117ec8d7e",
            "abe034b39bac40f9bc6ffde17465d532",
            "c0993ed6424a4f21a547796bacd737d7",
            "7df3240fb79c4647931bd16676f824c0",
            "5f407bc86c58439d91325ac26140803c",
            "a2194ab5c0a44aabb855bc0aa23ffe1a",
            "28feb96f3d73489c980315ac4c3e8742",
            "78a69238bfdc46fdb98326b1a8ac62df",
            "cdfa631c2d1c47c6a90b33df6f209d3b",
            "65d4a1aed23c4b2b91ed5fd7ec08b097",
            "4648eec5fecb42359c27321f93e13ae0",
            "719029e845e841c085615edd67e710de",
            "dbc8c727bea5460aa30e49aeaf50c330",
            "169b3851e1b74226937d90afeea23d56",
            "5554dcabfb5d4bc086571371921d6d75",
            "41a9c22bb9144ff1810448a946a6b3c3",
            "4ef8ded0e2f24752942cfee8970de663",
            "ed25e97ad6aa48eda17198d28b3adaa8",
            "ac94eab975ab43818482a471c1710a7c",
            "be8f0148337c4a0faff22b54aae5f07e",
            "e2d76036a4804c1b9090b518ece3a01f",
            "ee16b04bcf3449cb80e3022275eb281c",
            "c117cfd9e69a421c9801f93f1e3a923a",
            "ad2d3fac844448c1b704947efe6ba118",
            "8e61862e7b5b49c48cca05018bee7a57",
            "3429ca1f870846dfb4d711b23a28d6b8",
            "c4731b214dde4b18bedc1d5774efaf7d",
            "65427754752f402db26fec1ebe9bf543",
            "1260fdf9863d41ba9dccb9192c23e2d6",
            "b702f455c4ea4aafa31fba65869640ec",
            "2e785d738a984be4b99295eb3dc87587",
            "37aa194059014cc18c941dc70df69c50",
            "bfbd21666750462183c42cef621cc293",
            "8577ecb875c343799d7480abec400d9c",
            "16b41b1c25a84031ac67d895d451b417",
            "080758fa86c445ad935d3c336f215c59",
            "c3bba77339a44bc4a7b4a73298eb0b18",
            "61d571659c4b4b118e642359f840655c",
            "05364c82b0ca45cb99b79667a62b424f",
            "ee5c7f745fba4f7a895b55a88b772213",
            "86a56f42e09147f3bfa99328671f9ed6",
            "2ba379492713491dbc2625274019f6c3",
            "1d595bd090574a3d904d7fa4c805c955",
            "9062a7f3b8784fa79373aa1ec0812653",
            "22dbfb2e142f443cb5870252e14c0052",
            "2f9f6fce0a044237a21f6530a53da349",
            "3409da5ee0f24edba84f19033b98b754",
            "8ba76270d5c8457388d312978ca8b524",
            "747f00673866464c863d542fd23f6398",
            "21aa31de209d443fbc4f080a68e56ce1",
            "b632efd4e0c14d8784131a79745a890e",
            "9b9ee5d176ba49bc802761e43031e15e",
            "6a738b8e26cb4062963b78a4710b38c5",
            "e034a25db7b94b0d827d22777a5593b3",
            "c08f4fab26414a2c99db89e8c95c4cfb",
            "a2760d02d7d34b38a1473d353a64b90e",
            "8ee8046c468d474bbad2111e623eea8a",
            "975aa9320d6e4b1d8bbf58ac27beb02e",
            "3bb8bd9923f74634ad15b22c1a23b1ca",
            "91f1b5bdee234c76b758c11ca7d189c2",
            "7924a2229def4c4e90815199c4c04d6d",
            "7498b58c9f354f8296b2b4792b4f41d8",
            "81e47700d5a142e09386f0346ff19835",
            "91e1be89b2c64382aaaef10ba92c5050",
            "e702aa0c6e654747aaf7dc9f906660ff",
            "8e02902d9052497c83fe0d45bbdb72f3",
            "34d3cf56f9aa40299dffb37c27d96780",
            "a76cc1baa1814a2b8e58902f7d161018",
            "9a60afe6115348318b9e83b01dbd49c7",
            "522a9fa2aec845b69d3eeea22fc716b3",
            "547fceabe49d4526a4fc271a019369c1",
            "8c6bb1a4bc1240b8b5df7dd74714d8b3",
            "c790ddc4f7b04c4e828ec3443dd79d0e",
            "dad5f301114b4e91978789e28d0754ef",
            "ba914c99d1b04d7986992a7ce213984e",
            "73c9cdf42dbd4fa4847d12a42ca63f1c",
            "65fadfabc27d4b268cb870b4e803c955",
            "959d9bf1cc9f40d6b36ac7dff972b5a2",
            "9c37e1eba1d24aa0a62e37f218e95e8c",
            "b6ead78c7c464f1f86e85486e1be1b3a",
            "ff948fd9d6be47acb7ea682ad0aec4fb",
            "d29859029e764438947de07bf30c9dbe",
            "c0b5f07f6b974356bf2292f251365804",
            "25b56251ee9a4334a37e1808f1deff22",
            "d4bbf163fcaf4e94bc94518c0d6d96cc",
            "d0a5495bfd024444adf22efbedf0bd5a",
            "4e24fab0e7704970bbe200c91012c7d5",
            "29d19ef03fbb47d780e5ce5e7401da08",
            "6baaf55fac9a4f859df11029372246d7",
            "2a1833e4b49e417897478fad6374a314",
            "0273fc7cf16542a782d3693fc655622c",
            "63c01008583f47ad8283ba6721465ad7",
            "8ff3d44fd605464590f4b6b7c434c093",
            "5a0f604ddb504792a75929c9a4c4aaac",
            "6c543066aaa543a0b6d65556510590b0",
            "1c0f26b4f8bf464783caee26ee750d8e",
            "3662db4e4c7941b1bc7bb6af5e4f61d2",
            "f368cbb82d814b5cbab3e9ec6be239a7",
            "901facee99364e5a94510018bec35855",
            "b0ba62db728a48d5a66d08094fde6efe",
            "d2cb9dc7fcc241f9b0a986fc80896cd1",
            "a8340df8c83c4d9dbb6c4d08625cbf55",
            "61bc3701d83e4926afa1ea3e5c43cac1",
            "df3a5e4c4a154b0b9fb0cc2cdca27d89",
            "4838bde4935d4cf5b16ff9d4082900b6",
            "d8513cc844684ffbbaa561854205ed27",
            "5232eaa4fbd0452b9076ef0b12f1db22",
            "f08730fc96074cbaa04aa42d64cfb8b2",
            "10bbd70790f24ddd85c2943dbfe36964",
            "8a0e480e7b3a4228ac27c578ec574a16",
            "33fc2e6f47fd4861959b7c1c37672766",
            "3d2b34514a3c4df58a300a6ae29d0e84",
            "fa70a28d63904ff89e84fa5e21a99930",
            "4b8fd6bf15b14dc9925f9bdee928ab49",
            "ea2456fe03ff4287b7f22521dff76065",
            "786881c21aca407ea4fad555426f7cca",
            "bf50509e14204acdaa82c0aad8e9556d",
            "88d46ffd28164ac18800749dcd65a801",
            "30663bdfb5bd458caa42007bd75182d6",
            "8757d9647a3446bcb11ec8bc7826810f",
            "fbaa29ddf5334ccf8acb25535476ab23",
            "f97063f58fe746b298d87eaf583a6a54",
            "e5ab019fdb9548e095117c6b8e71ad15",
            "fe4505f0c7dd47368632fb331bd463cb",
            "3d019a9a7bc94201bd6ef7ac726cda65",
            "1465cb98ed3a4f4db653c32fddb38abd",
            "54b5fec116e84c5f8ec982ff61eaaefb",
            "6fd08ea1191b4e45a17482b14deb1535",
            "5a2f90c217a547709a3c85cde06067c8",
            "cfd46ffead744772ac16e82943928680",
            "9984316cc9d34c95a1f234dcd58a024f",
            "c31b5bbd59384667a723345ed61ef499",
            "00b5f86fa7f6410583e5a644f4970eae",
            "511cd6080cda491792fa0f90cd7ee86c",
            "eb9747b4b185421ba4aa9d2569a161d2",
            "dba71d628e3945f09d36aa4a2a802ee5",
            "0c5fbd2532b046579f3b6191a9afbadb",
            "298abdb7237543c7ac00cb2011992d78",
            "8f6984816fa14efcba0e854cce7acde4",
            "bb2b9a971020415d9385dba35141ef76",
            "58c47bf5d9c54c54b14e99f6ad1060a2",
            "ef559939d7434141b5860bae1fabd3f0",
            "4653f2b96538404caf19d1620ec07621",
            "d6b43285e3f84c808d92ecedce3235d8",
            "db9d86d939a24d39b017553d1ac6f2b7",
            "067da4af3b1f4940a3a66188d0503516",
            "a8477b2b90984210b056e063a14fb8ab",
            "3e31b64b26864f6883809ffe345aad3d",
            "1589ad5c1bef468fa67dd52e827a9799",
            "ae76145035b6470a9e1f5283f801473a",
            "b43ffc224fbc4f0784cc2f1c5e51ac40",
            "6921b5eb09ce42f4b7a9b51b7519f723",
            "294a7ae1f4b240b1b39b3231597bc3ca",
            "1d33c5342fe0453686a143db7f9ca908",
            "d9cc7977f9fb42d5aee5329e842c8a2d",
            "1de47bede7ee41e3b6348027491ec754",
            "6403726ce8c74b9aad04ef2d54e992c5",
            "8dbdca27ad164b2ba565b4dba15ed671",
            "15ae6107cbc341569168cc4838740f45",
            "5654058b33bd4313a7fffcd63cffb4bf",
            "0bd2a6a943424f3f96908c28e6cc30c9",
            "de6c9e1cf0aa4cfc9f0884d49822e483",
            "9346590a43154422aec1890aad694b78",
            "b1d56db72b584efc8e87cdcf5c2b0c89",
            "d5a29a960cf9472291f7f0faaf3fe9bc",
            "fbba91c4f7de4b5ab1a31e880126ea5c",
            "a4843953561d421e93c78c04d5b2b6b5",
            "e61ed30a4ceb49adbb7d9bccca062cda",
            "d88e8fc2e2aa4c5fa20c2dfd7ba8500e",
            "23ecccf036a94defae63e48a71ffc424",
            "be5cacf188cd4e1e88c6145f48d0f467",
            "411b8ea6cbb84b95a75a019228abb1d4",
            "325e142b450c45a482d9b669f038d8a0",
            "9ad8e2d1ee3a42fe8c163d8240264560",
            "d3f521365fdb4202b275abeca6e7436c",
            "1d1ba06c1a094e6fb838ee8d1c3ab34d",
            "7f4326d06f514b509c00519a8275ffeb",
            "b16884a2b95c448e99c5e63e4e94634b",
            "f6be388d73924403be9ec8a5718d0774",
            "226c601e6d784101b9148706f1c8d214",
            "3d8e4f92fb874ed193337fa9da442135",
            "862ab96e059f444c985c87733f8ddd49",
            "213b655864d84e9eafa1ea238f6fa8b8",
            "efbf81360e3f4810b490ddfc903d2b8a",
            "44eb3eaa15304b359b2b818172402439",
            "d45ebca334404ef6833c08d12a0d830a",
            "9c8e417087de4a44a04511977762e762",
            "3b919d3b94cc40b2b0208ab8be514cd9",
            "3b1cb68dd94d4c17855603dc7d0474d9",
            "8924b0825d574a8a8480a67cbd89466a",
            "ec0d4585992e4dbe83db6dec87c0c9ff",
            "251245cfc72e4c18bce8b2ec48b4b163",
            "7b23efc921af4221930094f5e7cf78f2",
            "8070a07ee7df44d5b08e40c9de6cb456",
            "ec6cac05a8f0400e88745d084c0784b4",
            "0aac23f5ed93483ba23a0f3c35b0147a",
            "3a38079728ce46a99c6f55f79f141dd8",
            "7c87b5f88ff74ef5bc42eef9bf0fb430",
            "1b9abfd78e1a421ab50fd1e084e8cd92",
            "2839a66a3b1842f992fa082b62b933ae",
            "20a2da90fbd941778a1c5b65b6b39282",
            "9dae8f5f3ed7459ca35d8167a81d4b55",
            "d395dbe16309461eb78af53da940ed46",
            "f1be8726460940a1976228163b56d97c",
            "1f76659278894ffbb313d90b5b4eacaf",
            "6de19533737d46e18315535dd8099694",
            "64572533fbe7476e8cac43a2461da005",
            "ddc65ffc2bce401d983b2923787609c2",
            "82e5b6d85a294c2eb28d38f29ae332b3",
            "7e68350be1b34a468a3fb3f3ad12728d",
            "cb70c91bd2c64fbe8fc72df29213b49d",
            "f8a74502d2ee41988eed64c6667ee4f4",
            "05d8cda082ec446691f77ecb91a7d647",
            "748bb51ace794bbc86087bcd3d22cb5a",
            "2e8636a8635f4cbd80007571b66bcb6f",
            "0aba0d6ce40349e6a446321be7c984aa",
            "e4812f4cc4604de08c7bde368eb143b1",
            "a5d4963dba35480ebe0a462f1a70c45d",
            "a8a6dcf2104c45a8a65de6341e6a7089",
            "cdbaf9253ac64964b989472031b1b2e6",
            "bcf570fc3c784ec9ae8460cf08617440",
            "4761d17bbf4a459187156f35e2b9e62d",
            "c9b88c52c9c24d6a84e00a3b28da5f14",
            "ceaac81d5c0241b98ee83ce7e06b6597",
            "37ed410b6f724efebb850a342dfbc29d",
            "fda9089b9ff14896a8233c837ac27e4f",
            "3689c621a0ff42f5b6c395253375e289",
            "ad84aec23def472fb81ed1e63062dd68",
            "8180329437724755afc78db5cdf69796",
            "13e65f67c222420590ab4a2a5c65e68c",
            "0de1632c7ee94748bc87f27ec6ccc364",
            "bcc5b25d01214e889f5ab12ca986e9f5",
            "f5c618e97c8c4a329ade0c375a1bf0f1",
            "07236b1281d644189dcac47db3187b5b",
            "eab655e635024d1f84fd77bf70649527",
            "d09f0b5e75df44b9ab8cc5ba3db42994",
            "e040ef17955b4d3ea921ebe8aa2e7290",
            "3a5ad6f3f0df4508b2cb028ac317a8a0",
            "2f32116ac7194efca750cced70f3e2bd",
            "328a42cbda374369a913699fc83f6d1f",
            "382607ee6ea54162988e8c56d230ef20",
            "fb6206c81666419eafb7fec3e845aa63",
            "b1dbd0b947124de39853f26fb49bc229",
            "184b999e37ea47eeb60ee077a9aa20a4",
            "06b8a82ad3c645fb854d41033e9c456b",
            "6372e32fd3204c0689a08f10654e1b11",
            "2da897070d8b42368c16e4dea21b629b",
            "afd4be5c0abc459787daacba6f0ff2c0",
            "528b2f6024294864b284e0041ac48096",
            "b6151d4748064a508bc2eae3ace1e009",
            "1f3d55f04fed4e2599a6558c8e50e127",
            "9b5e2337487740cd9d1b66ab4d9b8560",
            "b4c76c85c0f04082855f00c8aef4288f",
            "b3edb7db8cd64760830d1f177d05127d",
            "b14fd3e23e6a49be9d8078b404184dfd",
            "f26b6f3771fd44768e3091052774b7db",
            "faaa5e9dcc3e400fa7b053b38f14dc7c",
            "ea56c8aab4524ef98bffdd6b5303eed6",
            "e819b26feafd442fb9c42b6121efe62f",
            "6c8c328727af43cab5436a156d94cdf5",
            "8e9aadb8b71e4d4ab25ee64ef05c14a4",
            "5a4247e0d1f74110b7de458cfb01110a",
            "47a14ecf98ba47eab16d4139339ba81f",
            "8c15e50ff5524a45ae5d664081c07175",
            "a6a82bec3cc544ccb39c06971ad83d2e",
            "af298c7e2f4c47b5b937b60605ccccda",
            "202002b0200749b28071848253fcaf6a",
            "3229f6a121944dc69211a7afa5807ec9",
            "038195156ded4e2c81d9b686a032c0f2",
            "a224e654c68a48c4871967a0a9bbda2b",
            "2d0b232e7c2c426c825279982f906725",
            "828af9162c6d4e78961e95c9109aa50b",
            "f8fba184ce0948bd91db1a48db333270",
            "a6de7a98ccff4cffb7252fe1d34cc4b8",
            "1d35cf01240b46ab829647583e23120d",
            "7d80ec0e66654015a2fd7506bd8a8495",
            "c2e24ddb17f8481a9a0083ddcec2dc3c",
            "c2fcd2c44b9943bc9f235bd5e6ed44f9",
            "de13297830dc4171b1a99420ebff2c86",
            "b39c83c6278d4d81b59c0f7a1fc2513c",
            "e752ed0d1fea44668d2cb64474bafae6",
            "11e06773aaec4de089f5c714ccd210fa",
            "bd8d96513003464c8c7ce9151ea226cf",
            "de11250796ce4ce484ca76f71ebc94d5",
            "114acd2ef0714f36bbca3fe677efa217",
            "a9c153715f124a38bdad2a3815cf2573",
            "bc56170eb75f4050aaa28e99615d4b4a",
            "cedfd62ad63446aaa9587ae6ff4f414c",
            "9db8b7ad25244fdea6a6fbf5bb63707b",
            "3ec6ad940f434f43951eb71fa4035c99",
            "c72b031d1c57470b884a4455c52f0080",
            "a2c24f8b65a44648889eba07d3d29252",
            "92cd5aedd6b54ceeb132619977f25bfd",
            "7cfdacf75007417f93b3a96b4fabed08",
            "c690782cac1a45539fcb5b50b069d3d8",
            "d5324973392841e2b1d4325bf2b39112",
            "0cd77b00c406494181bf457715e5f7f1",
            "43aeb048b6164d158aa20fb5529ae177",
            "e83ef7a9d13c41c7a78941d9d8660b49",
            "43767049d107476a9d2c7a97af4c8bef",
            "f65da79823dc44dc8e78318a03f755f5",
            "67fe798b88644539993e417b31625e2a",
            "a338cd82bc3b44929c6fc3a0bde6c7bd",
            "667e43fcfb4140a2b99ac8b8223c5327",
            "b8f77d1b5caa43beb497ea7dd5892624",
            "c6a8109206e04b72a201ecebe89bc927",
            "805acc80a6e1429b89585944b07e2b94",
            "7d123d10281e407aafe5113b76437fe5",
            "755a48b19abd487c912dc380f651695a",
            "84e5e2d01f33447eb4b5850c875bb78c",
            "b0f21211ded747c5b0b1a293992dbf64",
            "b8402889b0124132b4784d7d9d1772d8",
            "5692f7f0e3f24acda06dbd7cd8d3a76f",
            "7cac3e47cfb946a0916de229a4a7756b",
            "38fe68748bbf4100ab5c79a73f413cea",
            "54005958f77d423ea126ee77f74eee44",
            "e8384f1856ca411db3a3626be1a08b15",
            "3af7804571ff4f43b21cb293d119a283",
            "a86f34bdf3454b33ae812ffa73d1538c",
            "feb056860c9b47f8916b524079818e8e",
            "64cee0b723574a9cba3b62e173ca2b9d",
            "65b988d21a0f4e93b5004a0efb994aa0",
            "cea4d7a948a241648c3dd32d9356ef45",
            "a32484db558e48efa4b0d1a8bf892d5b",
            "50861ff047744cf5a9e440f04ad9d2d8",
            "c09066d1fadd44718c9380fba0b10349",
            "b0945d6b51a845d28e033db81de67586",
            "b1d5d0ecb95c412c96b72f8f85906e86",
            "977f174bb44f448cb50700c695c6fd5d",
            "ba085490e8774bf1800c08fa8cd22ba3",
            "9e8497236eda47eabacfe3f379f60e84",
            "04398985f9d54b77adaddf551ac2960f",
            "65fe6770859e49828bca2b5ac719ea3e",
            "061c30cf787747ec89401c71c80d2e75",
            "87b420fc708c4a4bb6ee6d0bc361cf77",
            "2028d356322e43029ac0e61b9d51ccd5",
            "029ce654ca094e2ab632e48352662ffd",
            "6c68c920675a4b26ae9172c7ce4a4c9f",
            "e627d7c2d69846339eba427ab06fb24e",
            "58787e5f6685404ba8af35a23523a3dc",
            "3a837220f2644302a9fe62ee176807b1",
            "1c306cc937c64476804e82b7edff473e",
            "6f77667ef78344abb7e430be74bfc733",
            "42c9300630004c1ea776336ae7befb46",
            "86d8a209febf4ad18839d5048cc0836e",
            "a0db314ca7a8481ea74239ff7dba94c2",
            "7dbd8e529a864e03b9786e4af52526e2",
            "18b380831221449e8f31ac4930d46fe0",
            "0db75393282f477d8203e390bd8dddff",
            "3cfda8dec33449c0a468c2bf681b487e",
            "b8caa93eca2e467a82b3e984b54650ec",
            "7c3a1bc44f884e4b80c11d9d4e7578ad",
            "548a4c5b2e474b7e99380524755967c9",
            "385896314bc7494e915c8749f2cd0a1e",
            "900ce0dbe4784ded8be0501b2630a378",
            "209b734eeb7342daad5694830b4bc1fb",
            "3cb0020035844c12aedba0161c4cc4a5",
            "224b70a39a354654a0be9f5980a31557",
            "5ed838d64b554274b591f0a73f5b56c6",
            "d216e86902c242e6a20c511954ff193e",
            "68f2959ff1c84103a9962c35e698357b",
            "2e1ef57f1d944971b40196109059c6d2",
            "c7715a8ad20a4095b276b58a7861fe7e",
            "a75bd67f9fd04271a7d1e53cef7dc862",
            "33040f1e26554ed993dc29c7adcf7c13",
            "d06e797ab23348b9874726034c436b27",
            "97ce83edd36949be90f61475bbd23e94",
            "4ef922b37f8a45f083c3d20a8ea363a4",
            "54121489c47249ef8707a4e4b1299c15",
            "54ae70fc77084b2092df2c4060863a99",
            "f7d64676331e42e6920c9f13c7c8a696",
            "5607b902d5014bf9a119adc6915c7850",
            "a6a36544888d429682c7362f522aa35f",
            "5d81d0baa31840288c697f0fca96e718",
            "860a26389e4346c386f75c9932284de9",
            "6562ba5e0cdd49e4a8d0a9d849d58a38",
            "75672f94bf7241ca9576c80a55397a2b",
            "2b106d36ed814f79acd07fd0216b2617",
            "56bb34f15f9f490dbea109ddc9ce975a",
            "e5f9f4433a9949bb845794d222d267a4",
            "ebdba941a0854952b8478eb70d87ec6a",
            "2792dcaa20d540b18090590aabcbe433",
            "b07c0ae3187548b187b4739c956b380f",
            "a1fb20c207c443fd85c0620eb7bf70e8",
            "0ea410abe34e4d94997be3124b51737f",
            "d6520e101ebf4c699c5c4a25d6b4c481",
            "17089bb89b8d4aef8828286aae19259b",
            "fd4c107b558947469365c6feee6e91bf",
            "fe3ac442e3bb498eafd176681f4b01e2",
            "faf1a1baee0e4915af5f765d9727a26c",
            "e35fce0df29c45afbee3640131b050e2",
            "c668c1d240b34687ba84d0dffb79b9f4",
            "a6daa593ee7f4ce5ac2e44c48dcae0a1",
            "ee930f91f9f84de5b40f5f5be79ae2b7",
            "f3702216d2d84f23997dd7817054f12c",
            "f49856a74a884b23b5a6a1dfb86d6cdf",
            "50b0004892464212a258022ea41c8b57",
            "5a5ca44326694bcc9d7d551f684dc42a",
            "1a730c7072d844fdb35203083d235878",
            "e02b183e798e40719ec29955d7643151",
            "42f6245b57c845d0a714ccf55887950c",
            "68f8066a96f94ff0933921886b98252a",
            "e67f8a785ce04ace93a244e13794fd0e",
            "e9b0cec0428c4dcab88db0a2b5d93b77",
            "9ac6562ac3794d87bbb78ceae54d9bea",
            "ecc014c513d446a0935d2225ed2082bc",
            "e6510a4beebb48479c6dc38535a51eac",
            "7348ce213f14451994aaa7ca91a542ff",
            "faf7edbcd1fa45b5a31530bb532dbef1",
            "eaa0f230e3a2406eb1760596afb2ee81",
            "a7f1656a93534ec8a3670541337cf35c",
            "403c5e36ced24d51b925895427db8674",
            "08dc3334149a452781493a79dbce6cd1",
            "22bc6ac406024502acfab119416013ca",
            "3f79b153b5b545ea9131cba368c2561b",
            "998b4279c3ff487eb65d389fb01a8e47",
            "d40e31aec96349f3ae754eab00b7c1e5",
            "df1ef0b024804c5e8210744a04b0b71d",
            "a9948e999bdb4e6690717ef0fc127b2b",
            "95e8371588f24f7ba21c7302725b3677",
            "35d2da9a33d1446fb4a59cc491c2b894",
            "d8bb11863fa24226b1f30d0e2a4a5e40",
            "08ee7329df7d42f1ba17a165af001145",
            "f183604e6e084464b339f1ed84af5719",
            "cefd87f9aa194e2896f2264ae97a4f12",
            "5e5083d47fb24169be7c076cee1f8c4f",
            "264b8688f1834754a028b4bcd894dff0",
            "4621475d566c44c18fa88ba96b75084a",
            "01aaf8011fdf476ab97070b2d632e968",
            "a58989001ad3482bb6c5aedc7968debf",
            "acabf09175184d748d00817ba81b3f73",
            "5ebbe7e5adc54a93822cef87908c166b",
            "5bf3d76e8fa44fe7af6db83f4c52ddb3",
            "86ed0605cc42404c82a56a4a95afd8d2",
            "8dad6fbc283340a885943a68e913bbbd",
            "502b77d71a904b3cb7c8b4d74a55ba16",
            "b5f32c2a01ec4075885be551c1bcf587",
            "71e8cc9e691e455f8ec740046ef0b807",
            "7f25d614cc2a43069592e19cb24d5d49",
            "69812e4b47e04d5ea9ba4449256b11ed",
            "5a110592e5d842ff98b41d31a0e6b262",
            "598dfdf814ea4e1086de1ab3b7a93e54",
            "5c7291a676a84e41b6750ae36eb0001f",
            "fd8acc5286034cc6a2f1332a9eab427c",
            "8fbe28576fb349f3ad5578de3900b029",
            "475bf00945d64d40ad743f23ab856e7f",
            "968da928a24a43599710eb9e94d32fa2",
            "1ae911c4830847daac86a47bb0dd81eb",
            "c94139620557424799da6ba9522521c2",
            "ab79824f7d1d4bc983b8f65167f06ed7",
            "33029fa8b2864d8691310055517c5e31",
            "b51cb78db8934a4b927fac4bed19df51",
            "2c2a8a02126645c4916838c54a7e8775",
            "f6998f1899e0441b933b1eb69e6dff94",
            "efcceb99f079424ca319a73e50f72222",
            "b646a2dd4a054182b3e88828b07c9f33",
            "61cee1c29ebc486ba02ea447247d4c9e",
            "33e786299ad84eedb6fbfbf4f7ccedff",
            "8b474f3c5aaa40ba90d5b02ada26ccf9",
            "98e800d1c4ff468ca2b9d89bfa14029e",
            "13045be95fb14ee9834563c394bc70fa",
            "c47facad9d2744c0a6c2e6b09845d4e5",
            "9bc25dfa429b4fa4af44ee9f397338ba",
            "5796456c2cdb410abe1de0ef7a85f54d",
            "5030dc4015154bfebeb497f36f17323c",
            "b57eaccad82845f696d326ba14e504b1",
            "7a25e3b6a67a4f4ba060a8254d923aaf",
            "45e8b58161754bb8a000f207bb01dbf8",
            "f151e5059a154f98b5f5105d5e0a9091",
            "4a8acff2af484941945f7b87e90edb39",
            "9d539219e079405e82a7be27048a7e1e",
            "bd38e89fac50496fabd4bc6219bacbfd",
            "7625e41fff2249798cf94450eabc98f7",
            "ae61822e5b7c42bfbd3aae710050e19d",
            "3b6db6a00a454a419d13e4254a4e1396",
            "e88de4197b3e4c65bdca16222a6873c4",
            "69d57e74c9cd409eb7fd94c9f30028bb",
            "cb2f84a9272f4d909a37681989d3fe81",
            "77777ce262f442cfad9b9f0236321cc4",
            "496d6eb4348445aeac28f97cc8caaf59",
            "d2b6c44c5b2340e492c07c4836aa3e17",
            "23533b10203244e7a86bd1ab04e59414",
            "0447ecc6659946dfadc11321d623ebd0",
            "6b7362bbc7dc41f3951382086d654155",
            "a18d6a1c6d2448219dd1d9b457bed00e",
            "dee8542c51eb4d8eb70cfe6f3db7e76d",
            "72ebb5f654094882ae5bb3ab6819860e",
            "2e7d7fa129004030a1d15bccf95960bc",
            "2154a91b32dd475dad8546aaf6697a82",
            "1795edfea2a0466587a89160573a66e5",
            "5012adc3bf5b4f56adbace4bb9f7c4fe",
            "c3698c45971942c79f9a5a11e20fa92f",
            "d8680076e9434e3ba0f8f6a88232332e",
            "3d68ca8495814096a88fd4c9405750e0",
            "fb7cab6dc1f147488eaecd67e592614c",
            "28e2761f14aa4c329e2eabe16c583ebb",
            "1a71f88f562c4d32a7bd350f0833bc73",
            "28a6bbbb0f3c44619a8efd420ff620d5",
            "31f902003c1340dbb181a9e4e593d9de",
            "2fbfce1b045641d680400152cbbf9f92",
            "ef5738c5eecf4ac89038a2bf9431e917",
            "1e46f0da8f804a5696b34ab3fefdae20",
            "6f8f69132be949048b68a55946f55d3f",
            "a61d7b04d60d4b48a14160f8b5d3af19",
            "f1f8c0946ca949f989e5ae6c83cf7e02",
            "ec10f5f37d504a6a9304c473fa5f604b",
            "347d1596a76348bc8825e338e2dda40d",
            "d7bc8e91bb5a4b7f99270a22fdaebf71",
            "a98ae468697447d99b889b09d347364d",
            "4972be2c205f4686ab2cd6830114868c",
            "9d5507349fa54795bcce1f5648f57504",
            "7d1797c85403488d8e8503a702b4c77a",
            "bddcc928d3014ccf9e1628184b8dc610",
            "4f228f70a8a446b2875d9627a074176c",
            "d7ad5ca48bb1400b81135903c9b54554",
            "d7c7c8f677434d2caa96186562878328",
            "ffd42499071041a78e0926564cf13f4a",
            "79fc2338f0c149f894ef74563fe69691",
            "d4f8bfacef9f426daff83a3c40b206b8",
            "19b1604b66ca4a42a625d37bf298840a",
            "238c2f407b0748dc8092ba04e607aa2d",
            "959b3f51a50b46a887d51736ef9582ec",
            "829476e91fa346279fd62be83b1082ee",
            "c3fd42ba200c4ad58fcd007b607332d3",
            "a6740b0ade7446caaf908b8a4a679839",
            "f6f53fdb0c394eb7b4e9b7bec385480c",
            "1f21bda4d4844e75b9ac6f3accab8bf7",
            "debb4c3a72544e4e8c33c6103fc842f9",
            "d47e957938ec45608aa1bf969cabcb13",
            "e4a4648869574e65a0cfade382f8d761",
            "e85f737a1f44470daf4b19ba311aa3d1",
            "a3e86c5650f84192bfa0a3cce3af446d",
            "56530c1a9730442ea855c4fab7cadd69",
            "195f62de896f482ebc0ec0c367ad33ee",
            "32a6382ea2784b99a537b11e7edeadf0",
            "622df478e60145dc862985094c7039fc",
            "6263297f483e4a6eb532f104f487073e",
            "08b9383c3cbe4db7941dc20edc2516ff",
            "f3ba16efd7e141f6ba3efadfc93f1173",
            "020b495566414071835dc6ebe54d0559",
            "4bd3555038f141ef99bb0a153aba1d46",
            "01a570d833af4725a45356ebddbd96ac",
            "7470b07555224631a42281ef4566a718",
            "83b2ef05f5cb4705b92eb14c38a95132",
            "b1e294a0adfb4362966faa43367a6527",
            "770e576137e842f7a46991d9ce2f22f7",
            "36a2ff4ba28643e0a54bc1e7e8c32b97",
            "d2877a2f86754d5fb06c35ef2013c03f",
            "7b58603362a14fb6a0daa19c4950785c",
            "abd8118f510c456db288624d5a91d78b",
            "64598ed6fde74b8ea71cb91e8ef6f0b0",
            "f250e1a6cde8494c8679e94ba3d5d22c",
            "56ac19d59e1847a38177e02204c72814",
            "0c70954d61eb499facadbaf5061ab029",
            "2251654ade5343c181a3ccd172649125",
            "c4980537317248d39e81f456f01ab259",
            "65d0cf6935c6422c9af65c2e0f7d5571",
            "30a8bfca548441a4978d88f526d691d2",
            "cc5236e2cc5945ffb3c3d7b73f3c1fac",
            "46ef5c2d9cdd456b9b734cb9f718aee8",
            "40cc00ef1abf4862af932766c14fc823",
            "884cd912cd2d458da546ac8afa326378",
            "c6a4eaa35f084d18a3b5dca64a98ea4a",
            "9b3a193288fb4f178b71051449e9cff7",
            "5d8f5b09a9fc4f879269050606da1dd2",
            "640773bcd15b402b99c60b84bb12ff85",
            "a89ae9fd98784fe69b2089cb931a9698",
            "5ee88f3298874e59a46a663cd3d26b6e",
            "5297208dc1fb4dcfabf003fff7ba9cb0",
            "4c08447691784e49a971821e37ba90b0",
            "a528f2b4edf74b1b9b7af309bab4de2f",
            "8d4e7512f3a4499193425f6da10492fa",
            "0e551bdd970d448a9a3279d2ae8dac34",
            "2348fefe39d447a2a6e36958b9aa3648",
            "5206047b4ef24ce091d7e6f03c313802",
            "1447561e8a644cd787b708ec3a3e1ea5",
            "808cfa24db7b4cd492265a3dc0806ad0",
            "abdaf17cded949bd8bc1aaf7257f4f6d",
            "6a0064660ab9481a8650e15476719049",
            "17bbdaddd04844f2ad67a5add28bd962",
            "7765a2381f9e4b29a8cc8a5925612f08",
            "4e708dcd2f384f6ba2feacc0f12821b1",
            "209c02afd2db4fb1a7908376dabc52fc",
            "9a1ab90b1d524641927d3d45ae95b74f",
            "690c71a2a43a4649a57efb6f378d6ae4",
            "6f03fd42eea0430294c2e63ea3c65079",
            "34ab15b968c44a89aa68ab334df82eed",
            "85d64dec613146e69c49c9053a6256d6",
            "16c01f60a6244d63ac85f63ae814266c",
            "e7f926fb25964fa1b3532f5dce67c8a2",
            "6bc5e2a8bb6144a8bbb3d961a532430f",
            "1a6827259be042ad8b681efb135561c9",
            "eff70ec8bab546d9bcf9e5105628a333",
            "c8e14e43b26e40758d66cc94c664d072",
            "5e52b27675f34788914d460a1b0e5894",
            "9c39d944793b42ffbe1832da6278e581",
            "09ed43488f734f7eb63545a5ce5cfce2",
            "d888f9f99f694d94b3fc116cf6e71b9c",
            "b096407dee46463baaba4b5226488d89",
            "3b53782f522b4ee0b5e84eeafff68d57",
            "49fb470c7fd940c4ae05c590d9ee481f",
            "b1bbf9d7f2b24ae5959ef52b9033dca5",
            "10fc0b056e244ed5aaae5550898fe059",
            "89235a17a00643aea498e62d0fb35a71",
            "88c1bd41a6cd4068b7f7b3bb67985857",
            "7c24849c5fb141ae888a6c5f358373f8",
            "392509e3d48547f6a26706e8e42a186d",
            "0349bd5d2e454dbfbd346b39c790ec44",
            "9aa588c39e7147cb8fac13f4e6b27044",
            "f6b3270c4c184072bdff6cd43f069fa9",
            "d0234080c6e841f4a4b0e4610d98124a",
            "7943de4f8bae43ba95217223c2ad611d",
            "79a3b6907d234de58ca0194c541c920f",
            "4871157bd8e443c09b5aaf8bfb4f6c4a",
            "74cb3b2ab97c4a58ac18b00e4ef096d0",
            "54a6bb6534c345a19681de2f075f8a97",
            "130f890d0e7c490989dce5fda9142efb",
            "eab543ab69fa4024ab843faaff52ad16",
            "d4810abf0ff14f628442ba90ed915e6b",
            "fc8c07f2154f4e67bd3a7b8a75779924",
            "247d235dfe89404aafc2e4d1677e6d59",
            "86552f902b4a4ae6a2d441d5484b241c",
            "d13f261b0b2e4f4cb0cbd8cdc457f7ad",
            "b3ece9896d054326b55b0ce9065f6274",
            "0d7fadb7203c4e0d8ad4f2954a82ea25",
            "4af84f1dec954239a8e0fb096ccf0013",
            "c0706c5ab514490cb6f87df445af11f3",
            "6c11ece8969c46418c208932255e49f4",
            "8e3c62906f2948a8ba8561208ba09fc5",
            "ba46a32b3fe94af6ac6ac4774cc95c43",
            "d5f7c5a9b95d45428f26eb01c8c7dde2",
            "59f8b49221c347599e2de175a5d6a46c",
            "3c98e9b31d6a48178b66672ef27368fb",
            "2f448d0039294fb7b89d27d0b0f493e9",
            "5189abb4ae6940ea81a74826959e4736",
            "0f604ae0aa9f4f599c3b80cc89c66124",
            "866e299782114089a0a21ccb9de00812",
            "af5a9bccb2c944858cfa647fa51c5140",
            "2f21fdbe159648f48ec3b020bf5c8fcf",
            "ec3f99f5b775493eb3ff9cb510bdcdc4",
            "0b1314da7201407088c7d94383d4b4c3",
            "10455206ea4e47e481d3a404981f27f1",
            "c412f467b878457d8ffd2adfa5b096fc",
            "e9911b6d751c41d6aa5424f5c5d27290",
            "b28c994214794ed291b7647cc9ab2607",
            "22527d367cac49ceaafd446ba8ddd81b",
            "9dd7056faf0e4ab4a052b884a04431cd",
            "c7388481f1034db09aacc52630e09540",
            "b1b8817f3989484a95704d7d32ade934",
            "4e2decd0c68343c0947daf07eb6756a3",
            "d7f4d4bacf9c4b6aa1f98c0d78e5ff9d",
            "4caee3058bfe4f5cbac6c973dff87fa1",
            "3476c322c9cc4e83beb959764b4d60a7",
            "869721346bb941369a429469bd515a8a",
            "60562f096c194e598c3422bb56226e03",
            "09de21d5f9024c4b97531d0eec09cc0f",
            "c242ad8d3d4740e189dc1f89dea8ee19",
            "5c38d5fd09824dbb8b642f475c5f7272",
            "b7d14fa902024da0ba27e007ba9132b3",
            "25aa349cae6b4812a586a72e887fa50c",
            "5bf0cdd78a6d40878bb88de79adf8133",
            "885da74324c344c3a304eb3f6df95f4c",
            "6f0c5a73abf24621901e8d8f21d82c41",
            "6b64d06c0ef94aaa82ed355860d521ec",
            "a9840182ea0448c19fdadeda99ef5b05",
            "9ed3e7deaca349bd90f3d51614cae005",
            "8e14ea5ae60948c39fc8241fdd07d64c",
            "cdb09698e245448e94fa618003aa4c54",
            "2412879e0983447ca8fe6cca5e93ea70",
            "ccb4e7f94f124954a0bd63d133b2bb89",
            "1836168f804c4e8e92a1e8fe7b2378d0",
            "e004bd21c2b64bf689bbb731e6182702",
            "0a66de870f924a35a3c4b7e5678d0408",
            "6e7deaa029824dd1ae810abd0f119e8c",
            "84fcb1c83bc84f6d9fa0be4d0e330056",
            "0eec1b6e4f7b48b9b0db9f32b0f4450c",
            "aa890b5e920c48d19da040eac3af6ce9",
            "3cf9b25816544fe49b120454b68703e5",
            "c56459cfb28c4a5282812f584e64bf21",
            "fe034d588fba471287d5c70696ff78a8",
            "e9461c611dba4e8a82903bcca03024e7",
            "430289b535e04514aeac7ba2c273194b",
            "99f30f4a6d174354b74c3223d6f3c858",
            "8c8bc26c64d8423fbf84df404dd8ea9f",
            "4cbccef75094436880225e349573a424",
            "aa74cafc11184e2e830f67ab584c1cbf",
            "df4a058582354aef9ca65c6aebac4fcd",
            "3ae8c9d2f47e49c796356f1b65affe9f",
            "e722f2cbfba7449e9f13ba144ad87594",
            "3517b18407064c2ba71cc3a7d7544b6a",
            "c8b296d3a50b463e8640e1df95d74d75",
            "cfc7d8a9ecbb4ff7b9287592f3a776ef",
            "3026c1c7e41d4a53a050b7c83c9812b7",
            "ac5c4b485d0a4a9d9c1e797e823625aa",
            "55f6598ac8264d7e9188d3a6f08eaa42",
            "9b9e6a0d0f6a48398669fa4c8e2e0c0e",
            "c28f68d0877449279821055cc9690e13",
            "d4ad6014661247168f1e4ada69321d27",
            "f73495d20a994110bb2379b9ea88e56b",
            "1e277d85601c41eb91705066b660d818",
            "42726532639f416b8490f6ecf3ba2eb2",
            "7695b6c23b7a4dbdbf383619741ec37c",
            "9d8aaf1132014575a021990cb821a423",
            "70d5f4ef029c48a39ad9fbabbaf12f30",
            "bbe715410f034deebd75b217d6d7ba91",
            "113142950aee48a4933c698adf36340f",
            "e48326bd5581477389c0c8ed39d7f72b",
            "d84511427a3b460782375ca96760a564",
            "11f235e3ca804bb1a0916e20532d5715",
            "277063fca92843c4aa1a9304f6e91f93",
            "2f9008b5c96a43bbaec607d449829b71",
            "492734fb65eb4208a53c310bca3698d3",
            "22908ddcfa22482fbb623d1bb179b86b",
            "759b0afc75dc4d718ee4253c50fbdcca",
            "0c8a1006f04b4fc880489f7c082ad7ec",
            "133f0094a6d54039b2c18f66045a068e",
            "0909e382cf22436aa73a239b4f8bff27",
            "6625a2641447448498ddd1cc5165a358",
            "d10b80ff1f5144c2b4e67bc50e883321",
            "10db5be1ab344c9ab164f4af43736bc4",
            "9e453455906b43a5aad8189290e77768",
            "fdbae16f97cb491ca188ddecb24279ca",
            "2108f4c6ca5744779ee18309089d355a",
            "db4b895fed094250bd52a701ede1c398",
            "564d49ff04a540f59a86186c0eadd734",
            "78eef1251a844bf2843778bee4edf285",
            "552755f00446442692c39b8aa8070496",
            "64630b652f544a488e38c1eef61415d5",
            "383e915fc761491db6ebfea08ab90147",
            "d0225688f914459ca8000c048144995e",
            "7f7269fe1570432bbcbe79a25f35ed83",
            "3d41bfa4fa1f47d78ab09816b7e69a41",
            "9acdcec2e2074b96875b8cdbdd963faa",
            "f588094438ae43c0830573276c87ae71",
            "a76d8f4c24814e44897c995f05962359",
            "30c588b913044a7a9e0784f35448de4f",
            "be4d7154ad5b4f4096ee6a775f4734cd",
            "2edee5f841954488aecc1518d5206aee",
            "d9264d95f0834a93b86277370833bdfe",
            "22330df2d18e4ceda3e44e75e078428d",
            "e94cee221d3a4a04b372f8e1401e9a98",
            "fc65ce3120534e2d9c99fe41bd410ca3",
            "4268ceb521eb491bb5a07606d5b660e4",
            "0dff16b1296b4543bb66a6f6c3da08d5",
            "d5aa29718e8d4e098972f3c671451d5e",
            "76bce64d946b4a7c8c24f98778745e6c",
            "d0cd8def1de348f493a94b1ad9878128",
            "8923aaa6bb50438b8dac602f6720c61f",
            "54a5a8cc9389415da4e58c3f0e7b8344",
            "09600f0bfb21498282ed100fb4e91ee2",
            "798ae882ba134ced94d6c830a82e6fa1",
            "c51bec4b3ee74ef5b2c470562479cfaa",
            "f8fa68f820324cc0ad151e8bac2a09c2",
            "bdf7d406d62a4121a3ddff5124f174fe",
            "9986781c1ee54b4fa9d42cb9df4d3f76",
            "2cde6ba57a974a7e90a94ae76501353e",
            "41c6fb859def4726a3a2657fab96bb78",
            "1dafb252d965485280c415c5224187b9",
            "909a2588070a4589b460ec22eb162b50",
            "70145d9df948400989c185f95a4a449a",
            "acc81221b18241e2ac46d7b1705d3e69",
            "457159b4660a412b918549e009d1c7e0",
            "75712b99d57e48ed99d6ec6e76c14b88",
            "c7ab6c2e32034df0a506425e84cd1b69",
            "b79d82f659ff4f7dae94d625d09092ba",
            "2d5ec95cc34f46c884b7d0d1bd5948b6",
            "fd6e4befd4514b2dae0b5493c0f15ff0",
            "4b100357ba17462995275e4b7b6af532",
            "9f4b2007e7ca437298d4325bbb9ade78",
            "012de0ed25e24f80a4a04b0c65a726e8",
            "daa8221eeed848f1b7bb23f9221f7bc0",
            "70ba8f3bd21e47058d568f25ac5a088e",
            "823481c28cc84ed9a7a02948197d2bb1",
            "7f11e5b87c0346d3844bcc4d189ba836",
            "81a7ab8acf694181b7ce5afa1c14f7bb",
            "1ae3ac3bd1dd466f8afe90a45ba77946",
            "a2c2ce7951f34ac3b9353dad0be0e46e",
            "c71d1753fa2f4e308f17d896fd9343c9",
            "76de795819754e5c857335e57a58dd55",
            "44b3bae3d23e4d6c805d4af6b732626d",
            "0cfb3b3ba4424515b1a504b545eb9205",
            "1a9d56cecaa04f219df7092c8b04245f",
            "32c1103db640436eb4f87b27e4e2c22a",
            "718bbb31bd92489fa4cacd50d172ea73",
            "b8ff6ebbda684b10ba5b43e9e5355edd",
            "19f8260c3af344618dbfb2192d6a090d",
            "d5189ff02dc24d02a9912915b33eb7d6",
            "c2a6d0a0c1ef4487a3069c4e6c9cdaa9",
            "4c77f8ad5b65466784a1753cd83e3f61",
            "dd5ca9c123394ccd95b075139b35e957",
            "44be785487964175aaa9e697bc120206",
            "9c74b36166e04dcf8b828b65921b51f0",
            "ac34f139c77a47b59a42aa8656aa3c4e",
            "10670a3921644adfbbf7237445c7b2f4",
            "6ce8ed9989c948f5a40772bb3c3fa3ae",
            "fe5ebb04a8c3487da64b1edbb73af648",
            "a3071cc2f3454072a48398f3bba855eb",
            "e44854495865428b84316466c227c75d",
            "973ad2d8a1dc4cda81b2b4898693d74a",
            "3ea63d4a87c4457889f175b9a1c22e47",
            "e22e3986082448239fca745c187254a0",
            "c195ef47ca7f43e4931904db266fa355",
            "db58df9d96bc45489446e706558ab64d",
            "764534bdb7e54c5f94965a13d8ea7e1c",
            "329eac251a1f461b863b2fcaeb98f85c",
            "83a5a044438b4f6499dd665bc72df8c6",
            "d3008aa3cd6746c8993bc9d67f0bdf47",
            "d63dea05d65c42f9b3cf70ea53806ad6",
            "c865aa1deaed4547b2c1089eecc47a22",
            "01ceb65341474d05bf8001bce78819b5",
            "a41c0b2211b7434c8ad536c41752bd73",
            "22f145a319494ab7b0089df7a84aca5b",
            "17d118a167ea48cd9326d1021b5d895f",
            "17e1345d9ede408b994ba285a566ab1e",
            "037d6218ee7a4ecdbc4a9e8e9b64e933",
            "11093f58ca2a4e70b6a58e1683a30eb2",
            "d856b759c60041dbaa75e8289b2cb1d3",
            "88ce2e7c7c534df8bca86a6d7b518aab",
            "d5674781625540f4b6aaa80e033c7504",
            "e9c8b5e3e0ca4e52b3a96d7ad8aae4d4",
            "17e60d8881b94aa1b5b15933785eecf2",
            "8e9e299ff3d34ae1b0305085a50a66b9",
            "c009a9aca6104a2ea224bfa5ab66f205",
            "663ca22ec79f45cc8364191583b5277a",
            "58b2dc8cc25249dda9498f14b2d3bc1d",
            "71c6b3a67e124a8091e55bb62ef31e65",
            "5a623165f17a4f8780afb61a005ac024",
            "48c5e67f33f647578350dda4819054de",
            "0bedf72c73cb478ea949ae0097d15f72",
            "9220aa834048488495ac17f0c7ca3a9a",
            "6a7ec3e606484bc4931fbab7845361e0",
            "dbc1c44a1d354a29b18269690ab0c92e",
            "6cdbe45431a9487fadec5166e81c5127",
            "09711bb1eaba4f15bec292e44832bdeb",
            "455fb5fede90480cb28b7cda06dd55f5",
            "13ae76947a4d4fb9a2b133f1050258b5",
            "0e8d983281814ab3bd0a093acf8b448c",
            "485e678be1824817a818e77e28c098aa",
            "30c9847634124f9dba503ce2f3e9b7e8",
            "187d38f75bad4c1caf19e219dfa14758",
            "fcce5e68c17d43b79fdaec1d93c06454",
            "8019e28382f84b4d866d46a45b013a02",
            "3312d974d2c54421b6c214a37ae8a362",
            "166d3ae6339f448e92e4e02da6ed7d31",
            "25c4d1501b2e48968417ec23194815dd",
            "11592f00f42945d7bff40466a4e4fa85",
            "cb0a13d68ffa40e683e9178008228027",
            "0e41969924a045dea0bd366d01aa77b4",
            "af2d86097f554da69a14ae92140f9ae7",
            "8d0f549c86774d599ce56b6db9d37002",
            "bb981cbe4c0448a8b01dd56b2d6066af",
            "4201504b7d614b7b8ed6d3f5d91d8ee0",
            "574e96493c774fbba546f5e803f46d0d",
            "cda754144f16470a91e579d90dcf5f72",
            "2468e4ee948b42579300a750d3b07400",
            "aa8a4d49b38043f590edfe3039389252",
            "3b8a6fa8a9e5473aaf12b4f3cfc45777",
            "89d9661e154146dfaf070fde59de6808",
            "dac0b2834ab14f70b2fbfae31ead6b0c",
            "088e072f890445fb9063e22602aceb48",
            "2c15b8a6d59441b6b9c4e88ff3651bd9",
            "586336c5ad7f4f078c8179f0c7eaf992",
            "d7055ef3513a43b1929fba5950fcfdb6",
            "2c7aa56b58cb479f85abdfc1772cb045",
            "0ead0b87706344efb756a640b48ae49b",
            "ca4792e82c194031af4eedf71c521b93",
            "085f549e542241f69beaac96d1d886b0",
            "6da328f8a6a845c18de62a5bf00c5604",
            "5d7cef652651417893d8925a8eddf4b5",
            "88a8daf78b59482c95c4013ba17c1916",
            "60c4cb682f2646359e917f7a157483ff",
            "73c77b670709406cb762a5bf53021832",
            "ae6f0a496d7f4e4484ca714b6727e59d",
            "22e4ccdc359041238c6017c1edd1eb4e",
            "1743cb7499e54645b12603a7acf43008",
            "67cddbb31f394f5d91d485100b3b46b7",
            "c0ec92d7e9714666b5e76d266d59a7fe",
            "77cd4cf6613c40c0963b3621a1144e59",
            "4ba5683670f642c7a60855a4161926b6",
            "25a5e5fc4122457da67c182c6e6a4c7b",
            "7647885727a54871b6b30cc8384bf22f",
            "f34c5dce573344e38959e687a6d22658",
            "dd89f563b297417e94f117876bb13f07",
            "79eba6b29b3e41ceb43e7b96ea904168",
            "d26b5f44a5424e5381e737c05f456f2e",
            "49a50d25f9b14c239a85d9c02e0b5197",
            "448cfd33ea4d4eb1a7b8c7c7feb170c8",
            "4ff7bfca3c6f4b259670f5dde196c347",
            "03ecf833d36f49cf93c299885535dd18",
            "d69b22c2c73d48dab4c737159c562253",
            "e98675cf81d74e108873667d0ac211a0",
            "56a320e130484f589017b25c0ca1033a",
            "5748e08410fe4260a859ecf3b88ca89f",
            "18b29e5e55ac46b3a9723c6cfbfc33b6",
            "2c73e4163a054ba39b55ab93d8257080",
            "4892df62f8b246a58e04ac9ef5e5c6ac",
            "649f884658b54fc8b034d1103d6b04d8",
            "dfd7bad3a10d4a52842eae3c75bb28a4",
            "3938435db00c4c1e88781cab69333962",
            "ff53bfe5f2bc4ca391c4bf81572c4e7c",
            "fb3a869b54c34116a3d64450e7053ead",
            "a312ed338d494152826ba440fc10239b",
            "891f4bab319e4949bebcdf7c3017a14a",
            "a22b0b2e08da4c91a9ba784155d4e667",
            "4344d88ccac8468e843896063f4642bc",
            "06a977657cf64f4f95a2622d05cbbe76",
            "a96fa8ec77dd4eb48f346c9f9ad9c773",
            "5b2672006af14d6fb93539d407e8394e",
            "858c38fd52704c0eb1e21cd4cb51f98e",
            "654f034cb55344c6b2d5e79be43ccfd3",
            "0f804e17d8a347b988e80e5cac1d39f6",
            "8059ea9bc5644d03b1a70726bc7de737",
            "930e95fceea144fd8570980145801d55",
            "bee37997e19e4e499933bf2fbd154f02",
            "4fafac5bbb9e43269c9951d694644fbf",
            "8021f0aa1e5443fdb2a94d253528931a",
            "07f46ad528024c1b9f6f4f66d00afd75",
            "ea70770342e54ca5b84c834b77707c4d",
            "9727d724bb1c41859f567eed8db55080",
            "c00b9d714b774443b7b53d61db1eaedd",
            "383ad22ec09b47238cc88900457967bb",
            "612b728fe8164c34b23267b8d245ddf7",
            "43310c5cd2394f539adfdadc75f25f3a",
            "14560a06d4a94cfd82f36b96c9fcb988",
            "43e2f5d6f95a48ce8fe5d02a83650d37",
            "73e42913fae24c32adeff7ad2c4b7a39",
            "1b02ff9e5f0143eeae7a8a4d50a9b330",
            "7f63879fa8f34046baea65149f0019c3",
            "f6571bd8dacc43e5947b9c21f265c70f",
            "4c737aea477c4b999a06100b1849410a",
            "8ee963a0f35e4398827b462d2b4bd72f",
            "742be28f64e542a3aee57a9b1fe9f84c",
            "778ecf0a544641ccb2b65887ec52e29b",
            "0f8f28436b194ca2bc62aded12207d2e",
            "487be603d1ef46b2bbe2e66be76ec989",
            "444b4e529933407caad3598b4a3428b9",
            "2e00dc269f144a59a0376e2c92f1a7c8",
            "3c816dcc56c54425913ab79698bb1962",
            "9fb019c58e4e4a90b73576886a998ab9",
            "032d9baa101048f88f4add53b8648469",
            "8cf181e6d1f748f4beebe4cac645115b",
            "74ca4823040c464694184ed0da31eaf9",
            "bb43fd30c5754b35b40cd90cf29bcd36",
            "d345504b3eb543ae8bee3e09bceecfe5",
            "c0c4617f6709413286d0014cebe2e9f1",
            "db82eea81f514055aee625bb227555ca",
            "d29305e3faf943ebb670cbb8cdb807ff",
            "0ea1539d051a4a5b87e3a3ac6190b2b7",
            "e3d5df3a0ebf459aa00167e638746883",
            "64283731a6364fd99eb2b2de7109dc64",
            "1322ce44bf9d45728a3a30582709dac8",
            "75eb2a5daddf48db85b11dbc7e304ddf",
            "22ec2f617dc34e7ab43847fcdd2074a1",
            "ac2b5d344bb945d4aaf1f93dc33b10e2",
            "ecf482a4402244c694b63056ff6a6c19",
            "df06b9a0f288459286f74aebfccb9f10",
            "b016da4fe593457295bea67dfd541a8b",
            "c78d4e5d44c74a1ca4667223e3883c22",
            "f7f5647ac3f54601983c769d8307925e",
            "c17022087f1747de863385ff552d7df8",
            "6e95517266b346f89e634a54d2a361f2",
            "390cb76fb0334663b2cc574bc23f73e8",
            "b54a1da6e7ba4d899f92733ca2c4be46",
            "bb229e8c0a74458b8aaae9fe19e29f42",
            "ddb95a64d9784a408ae6fb7169761a2b",
            "43933eecf3024280b1766f92f4e6d7db",
            "97e9f362fd4a4f91b74f44bcea728903",
            "5002044c88494c28988851ef9bd741bd",
            "9313e6ff7800423ba9c288db65b9b027",
            "e8697e84c50949ecbb9ac5c9e791ce4a",
            "c29a51f373ab45fabc33dd64e70c2675",
            "2a00a7f2d3df4fe68488dab91eb23a96",
            "b23feae043be4e24a4c1178fefeb0205",
            "6a0c20c68bf94f439f89df40b460afd2",
            "b7ae85bea9434bc58789f7241cbadf40",
            "4de5dfb38dfd44449d94c728f3a9e13f",
            "f7773b30885b49699b10e37e0422c083",
            "b88e9ec6d15446ae8fd821609b3a6498",
            "99d9a04e5e8e4216b0fd681c245b67f3",
            "8c70f7c6df1a4c56bb75bfdb389c97ef",
            "1142e74b46a645349e0c208d94d5362e",
            "5d3354fe48e3401a8ac926f1339e92a1",
            "1d3d67f8a9fd438ba851612915027ee0",
            "d7dc62e32e24495d9c4a0010bdb3ab58",
            "9b83b0725f384632a8e2510d0c18c939",
            "3d96a17bc2344c2288ba03870086e684",
            "27b91cc619904a26914da6b690d6efc4",
            "f3360b7898ae466c8131a53630b3a4d8",
            "020fbfb1f28240f28d7552fa75b6eda4",
            "08ca587b97b0416c95d2030dbfab1c7f",
            "e57e4785f2d8401db4c53965195b5fd7",
            "86dfcdf958b84451836dad7641f9f28c",
            "126415085c5b47daac0cc22dc3bc7f94",
            "5d1f380e6d0e4895be1061e57649a03a",
            "086452a979d943a0bf73426a3038795c",
            "e15ecb49a1e2426fa74c111b5e391f38",
            "5788504b149d4408a1a0124f5dd6971d",
            "b24f768056ad45539ed8b642d3aed7dd",
            "cb5005ccb3234d97bcc3068a32f0135d",
            "49a60143cdfb4d9b8bf8e034003d29a7",
            "cedde07267e94dd49efc7d6882611a32",
            "bc85a727cbb845c8aeb33e617be70b0f",
            "7783be2244c8400c8003a187fad36b51",
            "fc549520e95949f5a1dd6ea00f0af6e0",
            "cf66a8b6d5634ef8b55359fb47e46fda",
            "a0890698ed1d445b84d05317e374c4ac",
            "b1d2add0cf27432089999714fb5bdd39",
            "60b7b04dc7b2495999f1eb377862fda0",
            "650fea50199e408cb6807290cec13988",
            "e6e22f9daa974ba5a15708835115a763",
            "8d97190996a34b778b95d01dc55dde81",
            "00bf1a8541b44709aab8498f792f0a20",
            "c0952ce24d7a4378a5c08f199dfc2ecb",
            "37ef29b5e25f464e9d74d6d4a4ea5921",
            "dd797cdb820a4fbe9350ba3059bc697e",
            "f8a29dc89e5143b7a96e88753b9419e8",
            "afecbfa366d14249a30b210986bcfc99",
            "faf74de62cfb4c77ab9aabf9e7ab77ca",
            "e49b69a6089c4e11bc690c307062ac81",
            "5dd7c882cd3d44b4a1953faa9c71f088",
            "7489e3cdc66a48949fa08d15136e9c7d",
            "82f9299fbb53422ba43ba5ae5909f349",
            "db2d5b5617f7469a98d7be7b9c4b1c1b",
            "9645eaa0bc3947e898bcc473570cdaa6",
            "1d46421f66b04f6da2a249009a992132",
            "91739b428eaa4cbbb3ee724a020b82ff",
            "c5e99566809d4af691d82d3963db43a6",
            "fe53b8802b63403a83bb1af328af7786",
            "201035cabc864bea8c974ec5109220c0",
            "a6c5077a287a49b6bbc92ee928870509",
            "8f7ee58a8b2e4fa9a6d46a6371772262",
            "49260fda85e14db6a32eb11bf9cb5ced",
            "bf7b153606174913bf9b5f5586beb726",
            "d23ecb5af161447b966d5e3aaa7176e6",
            "c928255669874ed7b15dbebb3cdf1c75",
            "029427dd601442e1a86fcd6ab0ed919b",
            "525c31b6afa24a248325a6b4e96e2022",
            "31fe5ac5fb644ca38a0fbca99974dc48",
            "2e7f8f1178fe405dace0da747d27bf7c",
            "a1d9c22045c54efaaca626eccf2a596f",
            "7a729582028645d6a9ea2dc609030bf9",
            "5c508ce2f57e44d199cad3590dcdb3cd",
            "86648c8a95b446a89a331ddbf1684688",
            "9d69b9065a4448cf88352ea49d78b795",
            "9789a11a18404ce6a10228e32b1ba0ff",
            "4fdb34a7cb92462792f9ff583a110b9b",
            "965b962e0dd14c7b945fefa13dfcabd3",
            "8b991f90d9f74bc4995fc0a93a71fee9",
            "91c9484fb65e448e92f15306788e9005",
            "0e82965de8c940e09fe48a5ace76698d",
            "65f13641f72f46e0aa1061237eae08a9",
            "b4c3d18f1f6f47e9bdc308d813e7073e",
            "641524af391a4ee09e6e7786711d66ca",
            "867a42f13b5f45618a44c141ebf0ba56",
            "dbe18efcec324268b29485dc95f1e97c",
            "a0bad6923bbb4f8ca9bc80c065c9e37a",
            "fad6f9cb753e4566aed563e9f9a584db",
            "4a03cff707c344f0ab9f35291ba119dd",
            "55a9b15bc53f460492db06b215ed4366",
            "3e379a2131d64b198af0d372c7bda51a",
            "762a11eca49a441080eabd042db111f2",
            "d2084124eb804d69b06c741d24020f60",
            "c9ee701c7f9e404487f0aeceb1095379",
            "0895886b38784533895340e5c91e9ed1",
            "7dcf36fc34f04fa78d76e76549481cfd",
            "540362e000d94fe9aa77cd260b3d4758",
            "a78fd5a3dfeb4ff2a45a4464eac83af2",
            "6ad3d6b22243473db5251ea31d4d8958",
            "10d0b39a216049758fd9cdb5d28684ec",
            "98b715c8947249f99a3f6bd5c3823006",
            "a872f014f8e147cc9e7240faa01416a2",
            "092d60db5bba430aa190c09a452d9b73",
            "d43f46c1f8a44b458d337178c5c50668",
            "58e93424e2b04027bb236d214d31d67b",
            "fd7d2c70a5f64c138c8fe37e3aeada88",
            "bf57e6db164c4774b7b51d21924f7e77",
            "4f25f301a83f456fb8c2ffa1b33e5586",
            "95c1f246360847c69f2f7febf82db466",
            "1076c705eb434ee8a6e26651e1b51f33",
            "8d60d3b13370410397a4dc6bd8576554",
            "1828e159bd144363b0ad3774489ba8dc",
            "092de5971b7b4f50bcb35dfb26947ea5",
            "c130ee9fcd05401f9599b2e8ad36820f",
            "3a717dc29f69499d87b66c2b5cce93b1",
            "58696ceacbe2481291dcb768a9af2d4d",
            "4f303cabfa694df794568111244a2bc3",
            "21d64eb3134a444eba5339843a40da76",
            "d06ea1734538491a9e849913de7d2ee4",
            "d384b90a259b4d6195078a92d6132617",
            "620ac3ea9f814172851211a743647f5d",
            "1c7473dd1f70483a901b6957908da851",
            "2e985c77fa16494c8566d574408e8c69",
            "e1ae9bd802e64c36959ebcd61246dfbc",
            "30f6867b1e5c410783d5f965f527e5c7",
            "711fa2375ce1404ca927b828cbee0c58",
            "e5f459a3a10043e8b67d05f7b8bd6340",
            "e4dc82fafad547efadbb45e0d41c8d6c",
            "ebd86a7352634c57a4d578d973b93fe6",
            "7387d75c4c5a435597e3a3d6d4abbbff",
            "10170bbe18014c93be8b9f95fbd4f731",
            "f7386597664a42fe897540181ab62d87",
            "346c35d36dd9466982b0ff873363f006",
            "d17ca9f7cf7a4ba59fcc14176f2b308e",
            "fa59897c1c074a219ee2ea6c15c0c3ca",
            "c980ecbfc3fe4691970376867246148f",
            "98934d2189234a6dab93fc70a54c380c",
            "bcaf4d169e4f404ca2c0111a0c78a4c0",
            "397e40ad00054d7da053362faf3e9c94",
            "a9178a1818e24016a0da28e87d6faa8d",
            "58472ccf9f2943d3b7101650ff91f53e",
            "f26af64b98f54b80b028df1483e9988c",
            "0a1a6515866c4fe6a60d1788e2c5e9c9",
            "8e125f3b14f44e419436b0f9d3f510f0",
            "a3feba5316404a36a3afaf44845cf021",
            "c3f3e3a0dbed4dca8f0a21fe845fb56f",
            "58ab421b7d9745b791c042d3626744aa",
            "d589a123e1b04471adda94969ef8ba69",
            "860296a93a504797bb2ebf8ccbf28b62",
            "2c2fb5c3bb7a4688a1dc0345f9f6c3ba",
            "274b8ab74c6744dc8fc15ef3d408d810",
            "265edb59213645a3a7ba1edc3e8e865d",
            "2612f76fa3e444168c485aee03cd37de",
            "9c1f762da5664ac88745fb2ea3f5d8d7",
            "c796df06635e43a69591aa376c0adca4",
            "1d8f550f92de4669b0669b061b70acee",
            "7bb52c98a55a44669f153b25b2dc6e93",
            "28133c9b362044f6997dd62d14920ffc",
            "6f50c0297c1646958c2194b68cda12cc",
            "64a49ab0fbec487d97960603c9003c63",
            "e797762a374d4587b2a0942dce5f21e2",
            "928ad12ba0db445bb18c9353c331ffef",
            "10a387de56f443bfabdd273d982bba46",
            "35b65021c3f046e5a46c5067267d9024",
            "d641b43da4f64f53bd6ee30cf9b7824a",
            "abf587563f6743c899ffb42b03ca10f9",
            "cf13d42ef9b6408aa8812bbd60273eed",
            "d75c3dcac99b4c7cb638f04b8df77827",
            "14b4729703e348e297e68cd27b9db8b2",
            "83887131f06f4a3190f90792afd422c3",
            "24eb07a1027b492994004e66c0c5f4f7",
            "377ecd848c554be29bb177faff631b5b",
            "61c983322f564a95a5cf5ead852a4615",
            "87f6e147055844e594cf81c3532972ef",
            "b53d251e91044d7bb9d9f08c2c67c2ec",
            "aef0015f62e44150911f32d003579181",
            "6c2b8f867af844f2898bbf7332dfe3a3",
            "63d55689706e463190bbe2c9bea0756f",
            "cbdac11da73b45faa098dc8b522ad003",
            "78d0f16cfb804995a671851a9fe7774f",
            "771bbb7944c4492fa61caa10b9b89b82",
            "6e68a307a19942ca9be7803dac92816b",
            "aae1ec451853455b9adbc3749720336a",
            "676b2911f51a4874a4195637dba8fc07",
            "441be5837b994282ab506fd24149a953",
            "92ca659f57cf481eb35b02094f170faa",
            "991f84394eb1481a9a40624f9dcecbe4",
            "a4e4554375804a5bb489f3afea7d8db5",
            "a83b25b4bb5145d4b0f84fbea31febfb",
            "f08568ce7e5f4c1aa28b518048887b44",
            "0d66434f8091427b88b824cd233f2460",
            "ae9ce150a5b8437d8bca192a81dfc775",
            "1b159c5b3183482aa4cd5db357593dd7",
            "f73f935c70394d81b327d79d0de61ff5",
            "630b32528b284baf85436f82d3693df0",
            "f76831b8522048c4866809af4b4e872f",
            "8e4af9e6640e41db885bef48a6525145",
            "e7ddab856eb846acbe53a65544fb1532",
            "feebf7af61844697870737e3c820c08b",
            "75159fa41a004d7ab70d97431a418d92",
            "8758a58c71ff44fe9bf66ca363418a1c",
            "993cec8709a14575bfaa5118c0556f08",
            "3c1a0e7e59a943adb5acd12f9f569d83",
            "356d27f558c249c89c1bd1ae7184389b",
            "16f55eab23744d7cae50471feb1f1bbe",
            "22e0d31d2dea48f084a12d912d1759d1",
            "fc2eccf8b1404e4db9d653710034af93",
            "3d45614785674abe8e0f5836e60541d0",
            "3f6de210961c4b319e4c5e463ac3d278",
            "6ab8ce1a5fa04c2fa1e9f1db92050cb6",
            "748709332aef44c0bf408f76b4a45acd",
            "5fedb37277084ee5b56dceabf7235abc",
            "58e1c470f6674cdd964165cc5fec8250",
            "636170edb975487bb85454c81c752728",
            "85f4953d6f8d47f894433ba01bf9878d",
            "d0c13b3115e94cd98ab3060554f02484",
            "5a39e49644df433299d539ee59a89761",
            "cea09ffb16b443cf9fb292ded1fd82a2",
            "b4b47a584a6046cdbb5d04e1711c16bc",
            "75f2fe98b8fc402aaef3b5a9d041a3d7",
            "3293f51826334b84acf887f370377c2f",
            "0ce7fcd8e6374d198bef91bc9b82f237",
            "74ce51cc6b67413abe4c52144f05bbdd",
            "c35854d2c35b471fa513637c7b4b1545",
            "130befff00ba440ba5d1c2e3ef52c98a",
            "bfaf6b4f7dec49ccaf7f1d0149482e99",
            "6e68cf542bb54e0d94f04585ce4cff25",
            "28b68914f5754f63b8b324eb46945d1c",
            "924add495dd742e1af776df6fb738a59",
            "c07a359f3e6042ee82d535c1b0aabb63",
            "9c6c4461a1ad4d4b8d397486c72e14b4",
            "998d99982f604bb5814158457bdc6502",
            "4a074756df5e4c239e2552a5422dd823",
            "8b903604463b493c92e4e16a3888b0e2",
            "660be40db0e7427a8edd0233b4e43068",
            "dd54dc82e64f426f908426df2f91fd45",
            "ede9ed8794cd49c086d045b0a4dce453",
            "203a466e788146359985e34a286dd439",
            "d47dc129e52c4f6ca523e4443dd1da3f",
            "6cf14b161d3846109cc6ef912a423769",
            "ead441015045459a9d135b62e0e9bcdf",
            "bdf46b9972d9434386744f5cddc54b1d",
            "2951b50bba0448a38907103f698576d2",
            "3d3dac09e59e4dffbcebd1167314411e",
            "00bfd00471534e3dae22fbc0a6a68574",
            "77bab5390b0f4eebbd6f054acaf273d5",
            "113d97fd445b43128e3accbbf422628f",
            "d31e2f1d1a894c53b901e9fcb6add937",
            "2c50c33d35f747c29cdcaef10ecbcfea",
            "71267315f1104300bf390ebe6eaa0e1d",
            "bbdb6bca467f4937bf8bc649356205b4",
            "c688baef0d134c18971405658946cc0e",
            "35c8bcceff7b4ae7982be1c05cae5d1f",
            "cbf1ac8f731e4284bd74e3bf63b3666d",
            "b9f851c29fbc431e80de7e2cab660bf6",
            "dbebbd9befd74008842169ac06fbaa98",
            "9a185350b80f487a909cd48d924688d4",
            "6f1b4cd6548c4488a832961f27b9febe",
            "43de03bf594b4cd291cd0267a71a89c1",
            "8124973a96ba4401b5a3eb12169405b7",
            "8a6edc2158c34b02854e571233dfe34d",
            "62457980288148c1bdf6186fb3ea654b",
            "d1e177edbef84e73a1d3d2d86f1f0fd6",
            "193a31ed4e544e878d043f704b414532",
            "d1fef2ea09b947fea964cb1b64af7b79",
            "ae04ec5189b5462487c2d0c7f3ea1388",
            "3fdff11b8f1944439a331d270a28270c",
            "6bf28ef0cd214c05a7befe3424924cd2",
            "77de75f0bbd3407089c2d161922c3924",
            "8beb11927db049cfb7dca22f3c0182af",
            "b478767a87b24a6caa5ab961de313d7f",
            "f255224224bf4f9396f28ae037dde465",
            "0b4276d801514afb945fa6a9eeeacb17",
            "86c40d9ccdc64fd3afa925674bb0a983",
            "c2b8b2f3434648319dd3d7e7d58513f9",
            "45517395a8be4f00a5c64d28a92ba2ba",
            "814a8bb249264078ac68db9404c56d57",
            "50bfae667ac84f3d967b2c7cd02853a8",
            "b28f70c4d7bb44acb96f541da6f2a7cf",
            "34e31f9bf30a456eac16dbf198ab70e3",
            "9903513064394eb3877c83a2609062b8",
            "3087e6253d014bd29a7b0d9a5767efdb",
            "48b4c45f810244a383ef596dbbcd8366",
            "b439fc0ec9ab4057ba9eb7df02b6c2bd",
            "70337e15c7f54c7f9f6afc091da9276c",
            "b6bf6872d8884c37884e1b691d561e92",
            "0a85b058d5cf4675bf300758823e8c79",
            "bc2e7235a5e2469ebb260aae7d61843b",
            "36c374d630254bc3b47c1a92263a3b07",
            "3690a48022ba4af989204259b0f160de",
            "6c4a338f890e4f58875b1b0c1a811718",
            "012794e799e24cfca9af1329641783bf",
            "3c1d4aaa3e694029bf57050b6ff451b2",
            "11ebc6ac2d1b4a5f80edc8d41033a938",
            "673ca2abe1e544e1a92da3d51d2b8bad",
            "80498682e38542259e122adfab615374",
            "31c4eb8cea9f4ae9ac5f4f5b65727b5e",
            "753ec5e190c545ae830224c17236cb19",
            "31660ac34c12444992926810df51567a",
            "6648ab97386944b586e75b92609a4dec",
            "41c241cae3c54cc7bb2cdd49074d612c",
            "ac079b24b894496e8124e92ff93e1119",
            "5ef3ec56f4814b57a60b31764b263aa2",
            "d2615da18c06430594b27a11e5b00b40",
            "2aca4187b377418db4dc225567c99d85",
            "7158f794a7a04c43a5540ef1c68eb86d",
            "e70de6555b03488bbb80150f9389ea9f",
            "db6e895a781c467886ce188d93e7c58a",
            "11d16df8ec284c5387383597e86409bf",
            "197fee7015c84edc9b37ef7d9f02d6b5",
            "06bf310a4a9642c9a409dc0ee6cb35c9",
            "c3121d50bd8641b2a3a95b6a14d02d0b",
            "8ebcc431c9224faa8ba0600a33f2e35c",
            "65a2387b79494d779e741b72b2b00947",
            "633327a88ffd4c31bae75d0f125f42d7",
            "48e27d3cb3fe44e6a7dd0ba1b1d8a949",
            "7b0365c7ca6e4d80bde0521b36cfa9f3",
            "9926d4acd7bb42e98af0010e8500b5e7",
            "aa2843fd9e924b26b956f15e58d49bd5",
            "f2a679e8beaa45c19be241c7488f4c25",
            "abbd490596d046debf88a03b272e6af0",
            "af65607f68b043bc8f17ff37f2a47673",
            "3363aabaa1b6493a96ecd423f4df9bf8",
            "e64e2d9478984274bbcdc531dad7579b",
            "0ded871bade946b88f595228088c26ce",
            "a1a8930f186e496aa95103684a751f66",
            "65faa09ce2c449cea853a6fc1a03d358",
            "609cfc2fbf03404a9086200c699441b7",
            "a89b9264c3fd493abaebdeef1b8ad57e",
            "3824a71b754a4c9a98d7ca4ea4e59072",
            "f79545b48001414fa5a6a0379331054c",
            "8d6010688da643328a18fbaf51e597cf",
            "b0e0f5cd7a40485781d5e37693568075",
            "fc5b7cc06a0a4b11be204f37285ebef5",
            "6fb6768a5f434eccb3bf530bfdf7a3e3",
            "96e1cfdbaba14353bf9c2718348c5fa3",
            "cfece84e6ab34ab28e49a0c239163abe",
            "e0a6a2ec1ee04a0a9273bc924668591a",
            "131e482ff6b543e1bd068fee505d6579",
            "5e85811df68f40bfa4752794aed56566",
            "c38a9923982b4a89b894ff2e8a083976",
            "78b8e8e25b474bc8b2487a7c492ddf8b",
            "b8b901e24b894c4eb69eca69734f44f3",
            "8c43fbda9cc242aa87aa1eee57113884",
            "1aa93738fd5f4ed181300076683b4296",
            "34216dbced254a768c2b5466915df700",
            "6ecf1538256d45cf93be10f2b29429df",
            "ca58930e108849b09de3e19aa7cf36ef",
            "4e344f5d8fcf4726ac160ec300a5ca13",
            "c335729460dc44468a427f03808684e4",
            "fde1526482814c9ea577b3e747c67669",
            "d11e93b8d71c4e77a8b4f03b525c0593",
            "df264ed98c3d413798a53181026ff751",
            "d99409ef18b44ca59124f4baaf8eebf4",
            "a65cdc55b76643a2861f6682b2a792c5",
            "20cfee20dea14361960a8ba29139493b",
            "1c0ba3a152de4baca71de305fefc3529",
            "e3522be077564d42aabb7b32468f8a91",
            "41b47fbc544e44c5b738a8a9c000a66a",
            "84acc32103794c2b999eb2b39ab0ecf2",
            "2b6969c6257a4c7c994d7ca42421f149",
            "14b7363f67bb467790add359295a1e23",
            "a6959fb895334b458497c0901d620ee2",
            "039ddfd583d947a28121f3b909644e81",
            "b09a49b627724e1280a959c4c19e41a3",
            "47accac8a9bd48a1b490fdc19aae66e1",
            "2b83daf6152c452381c9e208e70c5c8f",
            "dfbc2cf918e7468a92732ffb3720c304",
            "be31c833306a4cd49455f58e5d3a335e",
            "8ef8a94683f84d22ba30039f3cc7b528",
            "5dce80a0786d450d803ce87a98389aef",
            "85f2d0a64ee14afcb6cc1b4958b1b19e",
            "49de48ccaa654037a7f8e7b6209e01d6",
            "35560b15873d4686af3f959b918e7559",
            "b226645b33f64895949fa3e5ca9d224f",
            "c777b1d02ef44404bb4ec9956b1748cb",
            "19d5c0fa72f344c58bd0c688fa67969c",
            "f85054a98a7146c7b7d59e3336c18017",
            "58e903529cac4613849960854ab2f8d2",
            "3ad350e3078540e4af10e8756a62ee23",
            "7d82888d178f450cb948c6412c9a874e",
            "9cf4acf394ba47d2a00ad5b1974be9a1",
            "550e06216f754d1081d3af908df8d866",
            "0ae2866dce10474da32151d7b1c914eb",
            "59948bc7e5aa42edaef2756dd09c6a73",
            "1cb1620ba64948b1943f91dc6b531151",
            "cd19f1921f0d4a73bee2885a1779fd91",
            "95a53f3b922c46199c549a40f990d367",
            "bc8d06ddc9464cb6a9119fb44142613b",
            "d52ad9b5e21d46b1b451f100a1c84967",
            "4bd14e82e5fd40b49a0761b67c2fe8ff",
            "3ac1789f7ecd4a6bb0cd122a8a199c7b",
            "c241e60e796f47308866b6d9a5d2bf52",
            "ae17793980a64acbbed5d1e2fe001860",
            "bddcba4cb6194677b5392c02ac2401e5",
            "23f3574a399e47ebbd72982a5d06839e",
            "6bdac60929594ab78948caf08151fa99",
            "7d092e4ed3944dd680d2e0d1071df0e1",
            "f6a6e1179b9a45099ae55211b03b5b55",
            "b0441f84ac6744bb9b5b910de5388a02",
            "2d6cebf453f84f619523b587ae07872b",
            "10abac78a70a4f8fa5805f25aa867adf",
            "05cef091c4404413af8ca207d23b64c7",
            "17178fe4866942c6be7014bc05c208be",
            "803092e2b6d54ca49e1f0c039dc11eb0",
            "aed266933aa54edfb6b70c11f9bf8fb4",
            "8f25c692a810412991483acb1488f527",
            "35446fb6f2de493296beda5c131c0856",
            "10fed689c2844cce8ed3e1cdaa66b867",
            "c49cbbc52b074c57a967e6d6b8b74de8",
            "df084238d4a1440382218b7a1260d2f8",
            "2412acbc19c84141b5261966ca0cd736",
            "bd5912785e4c4be6adfd9a64df4abe02",
            "063c2096693544a5a660c41c629b12a2",
            "69e2cc4b8ed14a85ab2fd826cfc125e2",
            "503fef6ca5b5463e9ce882c503af1610",
            "1c89159392964c5382efa29cdff5cd4a",
            "7874b06c30c64a5e9db123c955a398f1",
            "a9e3b3193b9244b697bf8917129b9ba3",
            "1c5bf30fd2fe48818b267851a5a85410",
            "3bb973141e274a82a096b8bd778d910b",
            "d6475d4b650d4affa98bff0e87b76aa5",
            "b5a429802eef4a988b029713a0bf9917",
            "5648a56bfd1744288e43bd8847c72a97",
            "d714be5974304f62b5474da05b0450ac",
            "78beee7913494e7cad4069611513e473",
            "a346e7dc94404e5ba5a5b280ff2c44d6",
            "3e66ce736e5641f9be214e3f4f2823f2",
            "9c8f8e0ba3774ec98546dfc13a622d63",
            "ac231dd8436047fc93ee8b6d84967d09",
            "17a9fb42ae20461eae46478692354bf6",
            "b7803dc23f3149f2a802d1c52f675fe1",
            "95eaee0301c646e697a8cf5499f384b5",
            "52e98dabb2a141ff943722147b6ceaca",
            "ea67512edad94cb4bbed596760fc8205",
            "65c49f96f2434a0e821fa6a1dff10e7c",
            "732ff357788d45f7ab886b8090d00899",
            "ca2b88937dfe41ed94a8466371dc1d6f",
            "5d4073a79ae242ddb8e389f98d51dbd9",
            "cbeaea0f247245eba20dc11966de6d0a",
            "228b9d731e914a03873508433e1d5d8f",
            "483472a31fb04d0687b96005185a9902",
            "cde63086a061435daf8b32df9e7f722c",
            "3fbb3c83a5534173be4037ae340a1b27",
            "3484a48b6f2d470d9a4bacb18980b874",
            "4d8645413747458190c07ce7019bb5f6",
            "25e63b9e78a84c2f9456f1a063a0b93e",
            "54b77c6edbbe4c4a9ece4a503aa6949e",
            "2f9cb28dcfff42209b45af84f35ef068",
            "173cbcc7bf994cfea2fbc10934670c10",
            "5ac5f72ddf064d1d9041e96232f210c9",
            "0bfdfc27ee604eff83289958cd7e7de4",
            "5da814d10bb54dbcbc0b7d2e661112cd",
            "38b0710cc90244e58ff6d3d1d5066f6b",
            "8f14d4ba63104ec59053399858641799",
            "44c66906acb349f38de4b5082cbdffd6",
            "ffb7236f96b044ad97cd3c753ecf64aa",
            "8ee67264f415437291335cab9cb443f0",
            "566c9528a5994540a8956535c644c651",
            "89ed5acc8836419bb7674636d94f7c5b",
            "8478e3170ad6492a9aa343af3871aeaf",
            "5e4bdecb5c2e4a05ba90818bccc82a56",
            "7e44d99f955c484a87034e08c27c2186",
            "c82d1a3758984d13a2d47ecd7c265022",
            "a0956333e37041f2920a1af224fcd617",
            "56178c1de3cc43fcaa4e1cc2e90f2e5f",
            "fed865179d284be39fa208693de7f9b4",
            "d33d6f5fb6834e5da2bbbb7dc4ff8236",
            "c7b1019208324babbe875b7d15106c3b",
            "24881d7ce2584b0a9bf14e34229302d3",
            "72d0c7da6f844cf8a2fbf12f5ed2c687",
            "a48a87b3c4514084a417da52ea8e0b6f",
            "beb1f0b95112472baa6465edcae65ffd",
            "05c01237d4d54e4cbaadb4172e03a82c",
            "72d43ea551444192a5244475e6871ebf",
            "7de15c107e854cdcb228bd07703248fd",
            "fd445aa249214565a945b2948ab589dd",
            "b58a618962c54957892e8908cca98eeb",
            "3adbc71cb99c4ff2862b21bb28d40372",
            "920a8e77b39f4647b1f07b2ab4cd9af0",
            "0c5c22fcf4114b919c57975acaf7af87",
            "c12f49d029a149b6a6f682db00bcbcf1",
            "5190d854f6054512b6ffc17fa92a6643",
            "58dd5b33cfdb4bd6a38dcfd3e5135e9b",
            "521e6df5240345e395153100ec609846",
            "4114af9d85b94e81917eb212d354bd8c",
            "9ca97cf6fa3f49cf85ac4cb6677f04e0",
            "40f4856c40c54291a8571feae82c1295",
            "ccd24d26547147a596c5bf9298792a7c",
            "0fe4c942244b422795b997f0efe3d121",
            "1993aeac722348b3bc49d5e18c255fa6",
            "de3edbac828645fa83f95267532d724b",
            "2c3581eeceac427d90d4a3e85aa4e35d",
            "b3a32e1d99264afda849876a36508ae9",
            "d52c387a886a42258b5126332c129b37",
            "007b95020402489ab788883acff9af6f",
            "9ed8e0c96bab48afa56c8e040f15675d",
            "8266f9bcf18c4c4b9da2c74fef32d5c1",
            "ea69d62fb13f483ea632f43d7ad531f5",
            "00cad66747454677b4c06d95f68b6b69",
            "ff4cacb9a8b84a088a8f4823bfc26d17",
            "0ac26317096b4adb95ed2e3ceaa9c8e8",
            "7f962f2741b54526a90cf59b049a5461",
            "8b30da63c235489d95525d58e1c7e5d5",
            "e8b303dd63bc43789a9bb5eedc0a97f9",
            "610aab72213a4181aaed4800137a66ec",
            "a50d3dc7aaa04d8daff6abd8d68d9ee3",
            "f87b21f3b1fb4ee4a747557fb05af47e",
            "7fba1cb154cb4599a0438db27d7d0c0c",
            "55592a04564943d99265c4f076b58c27",
            "c34f32c6bc724db28999310ee2313193",
            "98e68a5b0e564a59a30d47bd5442940d",
            "c24fec97863842fb8e7bf6eb32e8613d",
            "e36fddf2edf040c28ac943fd00d69d4c",
            "e03b24e6ce1f43ac8511ce2727096a1c"
          ]
        },
        "execution": {
          "iopub.execute_input": "2025-07-12T20:40:48.610575Z",
          "iopub.status.busy": "2025-07-12T20:40:48.610373Z"
        },
        "id": "oPgh8uhtrImK",
        "outputId": "8e918c7a-fbd7-40d2-a7b0-7ea1863187dc",
        "trusted": true
      },
      "outputs": [
        {
          "name": "stdout",
          "output_type": "stream",
          "text": [
            "\n",
            "--- Evaluating Teacher Model ---\n",
            "Teacher (ResNet-50) Test Accuracy: 82.75%\n",
            "\n",
            "--- Loading pre-computed logit lookup table from teacher_logits_lookup.pt ---\n",
            "Loaded 50000 total logits into lookup table.\n",
            "\n",
            "--- Creating and saving a common initial state for student models ---\n",
            "Initial state saved. This will be used for both baseline and distilled students.\n",
            "\n",
            "--- Training Student from Scratch (Baseline) ---\n"
          ]
        },
        {
          "data": {
            "application/vnd.jupyter.widget-view+json": {
              "model_id": "4357a6f448994827b6e3cb5dce1c9332",
              "version_major": 2,
              "version_minor": 0
            },
            "text/plain": [
              "Epoch 1/1000 Training:   0%|          | 0/704 [00:00<?, ?it/s]"
            ]
          },
          "metadata": {},
          "output_type": "display_data"
        },
        {
          "name": "stdout",
          "output_type": "stream",
          "text": [
            "Epoch 1/1000 | Val Loss: 3.5614 | Val Acc: 15.14% | LR: 0.001000\n",
            "  -> Validation loss improved, saving model.\n"
          ]
        },
        {
          "data": {
            "application/vnd.jupyter.widget-view+json": {
              "model_id": "612795b87a17426aa612049073656c93",
              "version_major": 2,
              "version_minor": 0
            },
            "text/plain": [
              "Epoch 2/1000 Training:   0%|          | 0/704 [00:00<?, ?it/s]"
            ]
          },
          "metadata": {},
          "output_type": "display_data"
        },
        {
          "name": "stdout",
          "output_type": "stream",
          "text": [
            "Epoch 2/1000 | Val Loss: 3.0496 | Val Acc: 25.78% | LR: 0.001000\n",
            "  -> Validation loss improved, saving model.\n"
          ]
        },
        {
          "data": {
            "application/vnd.jupyter.widget-view+json": {
              "model_id": "be7810325d9947eaa7300146ac1076a8",
              "version_major": 2,
              "version_minor": 0
            },
            "text/plain": [
              "Epoch 3/1000 Training:   0%|          | 0/704 [00:00<?, ?it/s]"
            ]
          },
          "metadata": {},
          "output_type": "display_data"
        },
        {
          "name": "stdout",
          "output_type": "stream",
          "text": [
            "Epoch 3/1000 | Val Loss: 2.5818 | Val Acc: 34.90% | LR: 0.001000\n",
            "  -> Validation loss improved, saving model.\n"
          ]
        },
        {
          "data": {
            "application/vnd.jupyter.widget-view+json": {
              "model_id": "0d1f2107aefa4bba95b18549cafae554",
              "version_major": 2,
              "version_minor": 0
            },
            "text/plain": [
              "Epoch 4/1000 Training:   0%|          | 0/704 [00:00<?, ?it/s]"
            ]
          },
          "metadata": {},
          "output_type": "display_data"
        },
        {
          "name": "stdout",
          "output_type": "stream",
          "text": [
            "Epoch 4/1000 | Val Loss: 2.1904 | Val Acc: 41.08% | LR: 0.001000\n",
            "  -> Validation loss improved, saving model.\n"
          ]
        },
        {
          "data": {
            "application/vnd.jupyter.widget-view+json": {
              "model_id": "9f624f9c8b0a4847a5ffd20ff4e5aa99",
              "version_major": 2,
              "version_minor": 0
            },
            "text/plain": [
              "Epoch 5/1000 Training:   0%|          | 0/704 [00:00<?, ?it/s]"
            ]
          },
          "metadata": {},
          "output_type": "display_data"
        },
        {
          "name": "stdout",
          "output_type": "stream",
          "text": [
            "Epoch 5/1000 | Val Loss: 2.0513 | Val Acc: 45.50% | LR: 0.001000\n",
            "  -> Validation loss improved, saving model.\n"
          ]
        },
        {
          "data": {
            "application/vnd.jupyter.widget-view+json": {
              "model_id": "bc51ca8a9f714c6496e7df35c93b7a2d",
              "version_major": 2,
              "version_minor": 0
            },
            "text/plain": [
              "Epoch 6/1000 Training:   0%|          | 0/704 [00:00<?, ?it/s]"
            ]
          },
          "metadata": {},
          "output_type": "display_data"
        },
        {
          "name": "stdout",
          "output_type": "stream",
          "text": [
            "Epoch 6/1000 | Val Loss: 2.0786 | Val Acc: 45.20% | LR: 0.001000\n"
          ]
        },
        {
          "data": {
            "application/vnd.jupyter.widget-view+json": {
              "model_id": "dc23931e99554a67b31a083102a5c325",
              "version_major": 2,
              "version_minor": 0
            },
            "text/plain": [
              "Epoch 7/1000 Training:   0%|          | 0/704 [00:00<?, ?it/s]"
            ]
          },
          "metadata": {},
          "output_type": "display_data"
        },
        {
          "name": "stdout",
          "output_type": "stream",
          "text": [
            "Epoch 7/1000 | Val Loss: 1.8645 | Val Acc: 51.14% | LR: 0.001000\n",
            "  -> Validation loss improved, saving model.\n"
          ]
        },
        {
          "data": {
            "application/vnd.jupyter.widget-view+json": {
              "model_id": "eedbf3b3bc7244239a2222918be3cd2b",
              "version_major": 2,
              "version_minor": 0
            },
            "text/plain": [
              "Epoch 8/1000 Training:   0%|          | 0/704 [00:00<?, ?it/s]"
            ]
          },
          "metadata": {},
          "output_type": "display_data"
        },
        {
          "name": "stdout",
          "output_type": "stream",
          "text": [
            "Epoch 8/1000 | Val Loss: 1.6840 | Val Acc: 54.34% | LR: 0.001000\n",
            "  -> Validation loss improved, saving model.\n"
          ]
        },
        {
          "data": {
            "application/vnd.jupyter.widget-view+json": {
              "model_id": "b6da6aeba2f24041974134e7d5e6fb37",
              "version_major": 2,
              "version_minor": 0
            },
            "text/plain": [
              "Epoch 9/1000 Training:   0%|          | 0/704 [00:00<?, ?it/s]"
            ]
          },
          "metadata": {},
          "output_type": "display_data"
        },
        {
          "name": "stdout",
          "output_type": "stream",
          "text": [
            "Epoch 9/1000 | Val Loss: 1.5985 | Val Acc: 56.36% | LR: 0.001000\n",
            "  -> Validation loss improved, saving model.\n"
          ]
        },
        {
          "data": {
            "application/vnd.jupyter.widget-view+json": {
              "model_id": "2d4ba447b0a0464fb6fd8c634004c825",
              "version_major": 2,
              "version_minor": 0
            },
            "text/plain": [
              "Epoch 10/1000 Training:   0%|          | 0/704 [00:00<?, ?it/s]"
            ]
          },
          "metadata": {},
          "output_type": "display_data"
        },
        {
          "name": "stdout",
          "output_type": "stream",
          "text": [
            "Epoch 10/1000 | Val Loss: 1.5498 | Val Acc: 58.22% | LR: 0.001000\n",
            "  -> Validation loss improved, saving model.\n"
          ]
        },
        {
          "data": {
            "application/vnd.jupyter.widget-view+json": {
              "model_id": "9a5fb83731794afcb8c042b3ea5d4c29",
              "version_major": 2,
              "version_minor": 0
            },
            "text/plain": [
              "Epoch 11/1000 Training:   0%|          | 0/704 [00:00<?, ?it/s]"
            ]
          },
          "metadata": {},
          "output_type": "display_data"
        },
        {
          "name": "stdout",
          "output_type": "stream",
          "text": [
            "Epoch 11/1000 | Val Loss: 1.5078 | Val Acc: 59.94% | LR: 0.001000\n",
            "  -> Validation loss improved, saving model.\n"
          ]
        },
        {
          "data": {
            "application/vnd.jupyter.widget-view+json": {
              "model_id": "4c298ac0319547e9a07b383a3c79ed70",
              "version_major": 2,
              "version_minor": 0
            },
            "text/plain": [
              "Epoch 12/1000 Training:   0%|          | 0/704 [00:00<?, ?it/s]"
            ]
          },
          "metadata": {},
          "output_type": "display_data"
        },
        {
          "name": "stdout",
          "output_type": "stream",
          "text": [
            "Epoch 12/1000 | Val Loss: 1.4362 | Val Acc: 61.22% | LR: 0.001000\n",
            "  -> Validation loss improved, saving model.\n"
          ]
        },
        {
          "data": {
            "application/vnd.jupyter.widget-view+json": {
              "model_id": "0b89c31b0e04477d883b06376570091b",
              "version_major": 2,
              "version_minor": 0
            },
            "text/plain": [
              "Epoch 13/1000 Training:   0%|          | 0/704 [00:00<?, ?it/s]"
            ]
          },
          "metadata": {},
          "output_type": "display_data"
        },
        {
          "name": "stdout",
          "output_type": "stream",
          "text": [
            "Epoch 13/1000 | Val Loss: 1.4472 | Val Acc: 62.02% | LR: 0.001000\n"
          ]
        },
        {
          "data": {
            "application/vnd.jupyter.widget-view+json": {
              "model_id": "38507b3e7ea24ba39b547ed6863f2e9c",
              "version_major": 2,
              "version_minor": 0
            },
            "text/plain": [
              "Epoch 14/1000 Training:   0%|          | 0/704 [00:00<?, ?it/s]"
            ]
          },
          "metadata": {},
          "output_type": "display_data"
        },
        {
          "name": "stdout",
          "output_type": "stream",
          "text": [
            "Epoch 14/1000 | Val Loss: 1.4242 | Val Acc: 62.26% | LR: 0.001000\n",
            "  -> Validation loss improved, saving model.\n"
          ]
        },
        {
          "data": {
            "application/vnd.jupyter.widget-view+json": {
              "model_id": "7ca57d3ab6a34cf0b158afd80072e66f",
              "version_major": 2,
              "version_minor": 0
            },
            "text/plain": [
              "Epoch 15/1000 Training:   0%|          | 0/704 [00:00<?, ?it/s]"
            ]
          },
          "metadata": {},
          "output_type": "display_data"
        },
        {
          "name": "stdout",
          "output_type": "stream",
          "text": [
            "Epoch 15/1000 | Val Loss: 1.4283 | Val Acc: 63.46% | LR: 0.001000\n"
          ]
        },
        {
          "data": {
            "application/vnd.jupyter.widget-view+json": {
              "model_id": "b293ecbd9aa34c379495bdf2b45492eb",
              "version_major": 2,
              "version_minor": 0
            },
            "text/plain": [
              "Epoch 16/1000 Training:   0%|          | 0/704 [00:00<?, ?it/s]"
            ]
          },
          "metadata": {},
          "output_type": "display_data"
        },
        {
          "name": "stdout",
          "output_type": "stream",
          "text": [
            "Epoch 16/1000 | Val Loss: 1.4199 | Val Acc: 63.96% | LR: 0.000999\n",
            "  -> Validation loss improved, saving model.\n"
          ]
        },
        {
          "data": {
            "application/vnd.jupyter.widget-view+json": {
              "model_id": "e3c75090bbdc494db2b1c6bb822bed5c",
              "version_major": 2,
              "version_minor": 0
            },
            "text/plain": [
              "Epoch 17/1000 Training:   0%|          | 0/704 [00:00<?, ?it/s]"
            ]
          },
          "metadata": {},
          "output_type": "display_data"
        },
        {
          "name": "stdout",
          "output_type": "stream",
          "text": [
            "Epoch 17/1000 | Val Loss: 1.4979 | Val Acc: 63.24% | LR: 0.000999\n"
          ]
        },
        {
          "data": {
            "application/vnd.jupyter.widget-view+json": {
              "model_id": "6bc31dd2af1e4257bfef8eb4b0cf6f51",
              "version_major": 2,
              "version_minor": 0
            },
            "text/plain": [
              "Epoch 18/1000 Training:   0%|          | 0/704 [00:00<?, ?it/s]"
            ]
          },
          "metadata": {},
          "output_type": "display_data"
        },
        {
          "name": "stdout",
          "output_type": "stream",
          "text": [
            "Epoch 18/1000 | Val Loss: 1.5110 | Val Acc: 64.20% | LR: 0.000999\n"
          ]
        },
        {
          "data": {
            "application/vnd.jupyter.widget-view+json": {
              "model_id": "0d21a220c98944298dd5b7a83d012d4c",
              "version_major": 2,
              "version_minor": 0
            },
            "text/plain": [
              "Epoch 19/1000 Training:   0%|          | 0/704 [00:00<?, ?it/s]"
            ]
          },
          "metadata": {},
          "output_type": "display_data"
        },
        {
          "name": "stdout",
          "output_type": "stream",
          "text": [
            "Epoch 19/1000 | Val Loss: 1.5568 | Val Acc: 64.54% | LR: 0.000999\n"
          ]
        },
        {
          "data": {
            "application/vnd.jupyter.widget-view+json": {
              "model_id": "989ee049df2c45dca3140fc1d45709a4",
              "version_major": 2,
              "version_minor": 0
            },
            "text/plain": [
              "Epoch 20/1000 Training:   0%|          | 0/704 [00:00<?, ?it/s]"
            ]
          },
          "metadata": {},
          "output_type": "display_data"
        },
        {
          "name": "stdout",
          "output_type": "stream",
          "text": [
            "Epoch 20/1000 | Val Loss: 1.5099 | Val Acc: 63.80% | LR: 0.000999\n"
          ]
        },
        {
          "data": {
            "application/vnd.jupyter.widget-view+json": {
              "model_id": "001eff83c926432488f3e7a4f5530069",
              "version_major": 2,
              "version_minor": 0
            },
            "text/plain": [
              "Epoch 21/1000 Training:   0%|          | 0/704 [00:00<?, ?it/s]"
            ]
          },
          "metadata": {},
          "output_type": "display_data"
        },
        {
          "name": "stdout",
          "output_type": "stream",
          "text": [
            "Epoch 21/1000 | Val Loss: 1.5293 | Val Acc: 65.00% | LR: 0.000999\n"
          ]
        },
        {
          "data": {
            "application/vnd.jupyter.widget-view+json": {
              "model_id": "cb00c66b330a4476b61afd43f36ecbbc",
              "version_major": 2,
              "version_minor": 0
            },
            "text/plain": [
              "Epoch 22/1000 Training:   0%|          | 0/704 [00:00<?, ?it/s]"
            ]
          },
          "metadata": {},
          "output_type": "display_data"
        },
        {
          "name": "stdout",
          "output_type": "stream",
          "text": [
            "Epoch 22/1000 | Val Loss: 1.6717 | Val Acc: 64.22% | LR: 0.000999\n"
          ]
        },
        {
          "data": {
            "application/vnd.jupyter.widget-view+json": {
              "model_id": "f2f8ea5b87c94091a6d8ae25bf074c08",
              "version_major": 2,
              "version_minor": 0
            },
            "text/plain": [
              "Epoch 23/1000 Training:   0%|          | 0/704 [00:00<?, ?it/s]"
            ]
          },
          "metadata": {},
          "output_type": "display_data"
        },
        {
          "name": "stdout",
          "output_type": "stream",
          "text": [
            "Epoch 23/1000 | Val Loss: 1.6465 | Val Acc: 64.32% | LR: 0.000999\n"
          ]
        },
        {
          "data": {
            "application/vnd.jupyter.widget-view+json": {
              "model_id": "2c90af3a4e854397b097a92c7fe18ba1",
              "version_major": 2,
              "version_minor": 0
            },
            "text/plain": [
              "Epoch 24/1000 Training:   0%|          | 0/704 [00:00<?, ?it/s]"
            ]
          },
          "metadata": {},
          "output_type": "display_data"
        },
        {
          "name": "stdout",
          "output_type": "stream",
          "text": [
            "Epoch 24/1000 | Val Loss: 1.7055 | Val Acc: 64.62% | LR: 0.000999\n"
          ]
        },
        {
          "data": {
            "application/vnd.jupyter.widget-view+json": {
              "model_id": "75c3eb8309fa4a22a47aef2e6e18cb3e",
              "version_major": 2,
              "version_minor": 0
            },
            "text/plain": [
              "Epoch 25/1000 Training:   0%|          | 0/704 [00:00<?, ?it/s]"
            ]
          },
          "metadata": {},
          "output_type": "display_data"
        },
        {
          "name": "stdout",
          "output_type": "stream",
          "text": [
            "Epoch 25/1000 | Val Loss: 1.7608 | Val Acc: 64.88% | LR: 0.000999\n"
          ]
        },
        {
          "data": {
            "application/vnd.jupyter.widget-view+json": {
              "model_id": "cf0a5b6a465c40168f3095ea86ee4d97",
              "version_major": 2,
              "version_minor": 0
            },
            "text/plain": [
              "Epoch 26/1000 Training:   0%|          | 0/704 [00:00<?, ?it/s]"
            ]
          },
          "metadata": {},
          "output_type": "display_data"
        },
        {
          "name": "stdout",
          "output_type": "stream",
          "text": [
            "Epoch 26/1000 | Val Loss: 1.8029 | Val Acc: 64.46% | LR: 0.000998\n",
            "  -> Early stopping triggered after 10 epochs with no improvement.\n",
            "Final Baseline Student (ResNet-18) Test Accuracy: 63.94%\n",
            "\n",
            "--- Training Distilled Student (with pre-computed logits) ---\n"
          ]
        },
        {
          "data": {
            "application/vnd.jupyter.widget-view+json": {
              "model_id": "7e70b2d4e99a44a298a63eb5dc71b3ab",
              "version_major": 2,
              "version_minor": 0
            },
            "text/plain": [
              "Epoch 1/1000 Training:   0%|          | 0/704 [00:00<?, ?it/s]"
            ]
          },
          "metadata": {},
          "output_type": "display_data"
        },
        {
          "name": "stdout",
          "output_type": "stream",
          "text": [
            "Epoch 1/1000 | Val Loss: 3.0917 | Val Acc: 17.20% | LR: 0.001000\n",
            "  -> Validation loss improved, saving model.\n"
          ]
        },
        {
          "data": {
            "application/vnd.jupyter.widget-view+json": {
              "model_id": "d79ea53470094102947d2329a452ed8b",
              "version_major": 2,
              "version_minor": 0
            },
            "text/plain": [
              "Epoch 2/1000 Training:   0%|          | 0/704 [00:00<?, ?it/s]"
            ]
          },
          "metadata": {},
          "output_type": "display_data"
        },
        {
          "name": "stdout",
          "output_type": "stream",
          "text": [
            "Epoch 2/1000 | Val Loss: 2.4684 | Val Acc: 30.40% | LR: 0.001000\n",
            "  -> Validation loss improved, saving model.\n"
          ]
        },
        {
          "data": {
            "application/vnd.jupyter.widget-view+json": {
              "model_id": "57406ee595a44e5982d2ea484fabc74a",
              "version_major": 2,
              "version_minor": 0
            },
            "text/plain": [
              "Epoch 3/1000 Training:   0%|          | 0/704 [00:00<?, ?it/s]"
            ]
          },
          "metadata": {},
          "output_type": "display_data"
        },
        {
          "name": "stdout",
          "output_type": "stream",
          "text": [
            "Epoch 3/1000 | Val Loss: 1.9943 | Val Acc: 39.38% | LR: 0.001000\n",
            "  -> Validation loss improved, saving model.\n"
          ]
        },
        {
          "data": {
            "application/vnd.jupyter.widget-view+json": {
              "model_id": "4648eec5fecb42359c27321f93e13ae0",
              "version_major": 2,
              "version_minor": 0
            },
            "text/plain": [
              "Epoch 4/1000 Training:   0%|          | 0/704 [00:00<?, ?it/s]"
            ]
          },
          "metadata": {},
          "output_type": "display_data"
        },
        {
          "name": "stdout",
          "output_type": "stream",
          "text": [
            "Epoch 4/1000 | Val Loss: 1.7348 | Val Acc: 46.82% | LR: 0.001000\n",
            "  -> Validation loss improved, saving model.\n"
          ]
        },
        {
          "data": {
            "application/vnd.jupyter.widget-view+json": {
              "model_id": "ee16b04bcf3449cb80e3022275eb281c",
              "version_major": 2,
              "version_minor": 0
            },
            "text/plain": [
              "Epoch 5/1000 Training:   0%|          | 0/704 [00:00<?, ?it/s]"
            ]
          },
          "metadata": {},
          "output_type": "display_data"
        },
        {
          "name": "stdout",
          "output_type": "stream",
          "text": [
            "Epoch 5/1000 | Val Loss: 1.5247 | Val Acc: 52.62% | LR: 0.001000\n",
            "  -> Validation loss improved, saving model.\n"
          ]
        },
        {
          "data": {
            "application/vnd.jupyter.widget-view+json": {
              "model_id": "bfbd21666750462183c42cef621cc293",
              "version_major": 2,
              "version_minor": 0
            },
            "text/plain": [
              "Epoch 6/1000 Training:   0%|          | 0/704 [00:00<?, ?it/s]"
            ]
          },
          "metadata": {},
          "output_type": "display_data"
        },
        {
          "name": "stdout",
          "output_type": "stream",
          "text": [
            "Epoch 6/1000 | Val Loss: 1.3759 | Val Acc: 55.86% | LR: 0.001000\n",
            "  -> Validation loss improved, saving model.\n"
          ]
        },
        {
          "data": {
            "application/vnd.jupyter.widget-view+json": {
              "model_id": "9062a7f3b8784fa79373aa1ec0812653",
              "version_major": 2,
              "version_minor": 0
            },
            "text/plain": [
              "Epoch 7/1000 Training:   0%|          | 0/704 [00:00<?, ?it/s]"
            ]
          },
          "metadata": {},
          "output_type": "display_data"
        },
        {
          "name": "stdout",
          "output_type": "stream",
          "text": [
            "Epoch 7/1000 | Val Loss: 1.3024 | Val Acc: 57.94% | LR: 0.001000\n",
            "  -> Validation loss improved, saving model.\n"
          ]
        },
        {
          "data": {
            "application/vnd.jupyter.widget-view+json": {
              "model_id": "c08f4fab26414a2c99db89e8c95c4cfb",
              "version_major": 2,
              "version_minor": 0
            },
            "text/plain": [
              "Epoch 8/1000 Training:   0%|          | 0/704 [00:00<?, ?it/s]"
            ]
          },
          "metadata": {},
          "output_type": "display_data"
        },
        {
          "name": "stdout",
          "output_type": "stream",
          "text": [
            "Epoch 8/1000 | Val Loss: 1.3712 | Val Acc: 56.90% | LR: 0.001000\n"
          ]
        },
        {
          "data": {
            "application/vnd.jupyter.widget-view+json": {
              "model_id": "8e02902d9052497c83fe0d45bbdb72f3",
              "version_major": 2,
              "version_minor": 0
            },
            "text/plain": [
              "Epoch 9/1000 Training:   0%|          | 0/704 [00:00<?, ?it/s]"
            ]
          },
          "metadata": {},
          "output_type": "display_data"
        },
        {
          "name": "stdout",
          "output_type": "stream",
          "text": [
            "Epoch 9/1000 | Val Loss: 1.1107 | Val Acc: 62.44% | LR: 0.001000\n",
            "  -> Validation loss improved, saving model.\n"
          ]
        },
        {
          "data": {
            "application/vnd.jupyter.widget-view+json": {
              "model_id": "65fadfabc27d4b268cb870b4e803c955",
              "version_major": 2,
              "version_minor": 0
            },
            "text/plain": [
              "Epoch 10/1000 Training:   0%|          | 0/704 [00:00<?, ?it/s]"
            ]
          },
          "metadata": {},
          "output_type": "display_data"
        },
        {
          "name": "stdout",
          "output_type": "stream",
          "text": [
            "Epoch 10/1000 | Val Loss: 1.0872 | Val Acc: 64.34% | LR: 0.001000\n",
            "  -> Validation loss improved, saving model.\n"
          ]
        },
        {
          "data": {
            "application/vnd.jupyter.widget-view+json": {
              "model_id": "29d19ef03fbb47d780e5ce5e7401da08",
              "version_major": 2,
              "version_minor": 0
            },
            "text/plain": [
              "Epoch 11/1000 Training:   0%|          | 0/704 [00:00<?, ?it/s]"
            ]
          },
          "metadata": {},
          "output_type": "display_data"
        },
        {
          "name": "stdout",
          "output_type": "stream",
          "text": [
            "Epoch 11/1000 | Val Loss: 1.0247 | Val Acc: 65.18% | LR: 0.001000\n",
            "  -> Validation loss improved, saving model.\n"
          ]
        },
        {
          "data": {
            "application/vnd.jupyter.widget-view+json": {
              "model_id": "901facee99364e5a94510018bec35855",
              "version_major": 2,
              "version_minor": 0
            },
            "text/plain": [
              "Epoch 12/1000 Training:   0%|          | 0/704 [00:00<?, ?it/s]"
            ]
          },
          "metadata": {},
          "output_type": "display_data"
        },
        {
          "name": "stdout",
          "output_type": "stream",
          "text": [
            "Epoch 12/1000 | Val Loss: 0.9880 | Val Acc: 66.24% | LR: 0.001000\n",
            "  -> Validation loss improved, saving model.\n"
          ]
        },
        {
          "data": {
            "application/vnd.jupyter.widget-view+json": {
              "model_id": "8a0e480e7b3a4228ac27c578ec574a16",
              "version_major": 2,
              "version_minor": 0
            },
            "text/plain": [
              "Epoch 13/1000 Training:   0%|          | 0/704 [00:00<?, ?it/s]"
            ]
          },
          "metadata": {},
          "output_type": "display_data"
        },
        {
          "name": "stdout",
          "output_type": "stream",
          "text": [
            "Epoch 13/1000 | Val Loss: 0.9603 | Val Acc: 68.02% | LR: 0.001000\n",
            "  -> Validation loss improved, saving model.\n"
          ]
        },
        {
          "data": {
            "application/vnd.jupyter.widget-view+json": {
              "model_id": "fbaa29ddf5334ccf8acb25535476ab23",
              "version_major": 2,
              "version_minor": 0
            },
            "text/plain": [
              "Epoch 14/1000 Training:   0%|          | 0/704 [00:00<?, ?it/s]"
            ]
          },
          "metadata": {},
          "output_type": "display_data"
        },
        {
          "name": "stdout",
          "output_type": "stream",
          "text": [
            "Epoch 14/1000 | Val Loss: 0.9513 | Val Acc: 67.92% | LR: 0.001000\n",
            "  -> Validation loss improved, saving model.\n"
          ]
        },
        {
          "data": {
            "application/vnd.jupyter.widget-view+json": {
              "model_id": "c31b5bbd59384667a723345ed61ef499",
              "version_major": 2,
              "version_minor": 0
            },
            "text/plain": [
              "Epoch 15/1000 Training:   0%|          | 0/704 [00:00<?, ?it/s]"
            ]
          },
          "metadata": {},
          "output_type": "display_data"
        },
        {
          "name": "stdout",
          "output_type": "stream",
          "text": [
            "Epoch 15/1000 | Val Loss: 0.9049 | Val Acc: 68.90% | LR: 0.001000\n",
            "  -> Validation loss improved, saving model.\n"
          ]
        },
        {
          "data": {
            "application/vnd.jupyter.widget-view+json": {
              "model_id": "4653f2b96538404caf19d1620ec07621",
              "version_major": 2,
              "version_minor": 0
            },
            "text/plain": [
              "Epoch 16/1000 Training:   0%|          | 0/704 [00:00<?, ?it/s]"
            ]
          },
          "metadata": {},
          "output_type": "display_data"
        },
        {
          "name": "stdout",
          "output_type": "stream",
          "text": [
            "Epoch 16/1000 | Val Loss: 0.8991 | Val Acc: 69.62% | LR: 0.000999\n",
            "  -> Validation loss improved, saving model.\n"
          ]
        },
        {
          "data": {
            "application/vnd.jupyter.widget-view+json": {
              "model_id": "1d33c5342fe0453686a143db7f9ca908",
              "version_major": 2,
              "version_minor": 0
            },
            "text/plain": [
              "Epoch 17/1000 Training:   0%|          | 0/704 [00:00<?, ?it/s]"
            ]
          },
          "metadata": {},
          "output_type": "display_data"
        },
        {
          "name": "stdout",
          "output_type": "stream",
          "text": [
            "Epoch 17/1000 | Val Loss: 0.8406 | Val Acc: 71.54% | LR: 0.000999\n",
            "  -> Validation loss improved, saving model.\n"
          ]
        },
        {
          "data": {
            "application/vnd.jupyter.widget-view+json": {
              "model_id": "d5a29a960cf9472291f7f0faaf3fe9bc",
              "version_major": 2,
              "version_minor": 0
            },
            "text/plain": [
              "Epoch 18/1000 Training:   0%|          | 0/704 [00:00<?, ?it/s]"
            ]
          },
          "metadata": {},
          "output_type": "display_data"
        },
        {
          "name": "stdout",
          "output_type": "stream",
          "text": [
            "Epoch 18/1000 | Val Loss: 0.8852 | Val Acc: 70.50% | LR: 0.000999\n"
          ]
        },
        {
          "data": {
            "application/vnd.jupyter.widget-view+json": {
              "model_id": "1d1ba06c1a094e6fb838ee8d1c3ab34d",
              "version_major": 2,
              "version_minor": 0
            },
            "text/plain": [
              "Epoch 19/1000 Training:   0%|          | 0/704 [00:00<?, ?it/s]"
            ]
          },
          "metadata": {},
          "output_type": "display_data"
        },
        {
          "name": "stdout",
          "output_type": "stream",
          "text": [
            "Epoch 19/1000 | Val Loss: 0.8574 | Val Acc: 71.50% | LR: 0.000999\n"
          ]
        },
        {
          "data": {
            "application/vnd.jupyter.widget-view+json": {
              "model_id": "9c8e417087de4a44a04511977762e762",
              "version_major": 2,
              "version_minor": 0
            },
            "text/plain": [
              "Epoch 20/1000 Training:   0%|          | 0/704 [00:00<?, ?it/s]"
            ]
          },
          "metadata": {},
          "output_type": "display_data"
        },
        {
          "name": "stdout",
          "output_type": "stream",
          "text": [
            "Epoch 20/1000 | Val Loss: 0.8467 | Val Acc: 71.20% | LR: 0.000999\n"
          ]
        },
        {
          "data": {
            "application/vnd.jupyter.widget-view+json": {
              "model_id": "7c87b5f88ff74ef5bc42eef9bf0fb430",
              "version_major": 2,
              "version_minor": 0
            },
            "text/plain": [
              "Epoch 21/1000 Training:   0%|          | 0/704 [00:00<?, ?it/s]"
            ]
          },
          "metadata": {},
          "output_type": "display_data"
        },
        {
          "name": "stdout",
          "output_type": "stream",
          "text": [
            "Epoch 21/1000 | Val Loss: 0.7989 | Val Acc: 72.78% | LR: 0.000999\n",
            "  -> Validation loss improved, saving model.\n"
          ]
        },
        {
          "data": {
            "application/vnd.jupyter.widget-view+json": {
              "model_id": "82e5b6d85a294c2eb28d38f29ae332b3",
              "version_major": 2,
              "version_minor": 0
            },
            "text/plain": [
              "Epoch 22/1000 Training:   0%|          | 0/704 [00:00<?, ?it/s]"
            ]
          },
          "metadata": {},
          "output_type": "display_data"
        },
        {
          "name": "stdout",
          "output_type": "stream",
          "text": [
            "Epoch 22/1000 | Val Loss: 0.8202 | Val Acc: 72.62% | LR: 0.000999\n"
          ]
        },
        {
          "data": {
            "application/vnd.jupyter.widget-view+json": {
              "model_id": "cdbaf9253ac64964b989472031b1b2e6",
              "version_major": 2,
              "version_minor": 0
            },
            "text/plain": [
              "Epoch 23/1000 Training:   0%|          | 0/704 [00:00<?, ?it/s]"
            ]
          },
          "metadata": {},
          "output_type": "display_data"
        },
        {
          "name": "stdout",
          "output_type": "stream",
          "text": [
            "Epoch 23/1000 | Val Loss: 0.8316 | Val Acc: 73.32% | LR: 0.000999\n"
          ]
        },
        {
          "data": {
            "application/vnd.jupyter.widget-view+json": {
              "model_id": "0de1632c7ee94748bc87f27ec6ccc364",
              "version_major": 2,
              "version_minor": 0
            },
            "text/plain": [
              "Epoch 24/1000 Training:   0%|          | 0/704 [00:00<?, ?it/s]"
            ]
          },
          "metadata": {},
          "output_type": "display_data"
        },
        {
          "name": "stdout",
          "output_type": "stream",
          "text": [
            "Epoch 24/1000 | Val Loss: 0.7805 | Val Acc: 73.66% | LR: 0.000999\n",
            "  -> Validation loss improved, saving model.\n"
          ]
        },
        {
          "data": {
            "application/vnd.jupyter.widget-view+json": {
              "model_id": "fb6206c81666419eafb7fec3e845aa63",
              "version_major": 2,
              "version_minor": 0
            },
            "text/plain": [
              "Epoch 25/1000 Training:   0%|          | 0/704 [00:00<?, ?it/s]"
            ]
          },
          "metadata": {},
          "output_type": "display_data"
        },
        {
          "name": "stdout",
          "output_type": "stream",
          "text": [
            "Epoch 25/1000 | Val Loss: 0.7713 | Val Acc: 73.32% | LR: 0.000999\n",
            "  -> Validation loss improved, saving model.\n"
          ]
        },
        {
          "data": {
            "application/vnd.jupyter.widget-view+json": {
              "model_id": "b4c76c85c0f04082855f00c8aef4288f",
              "version_major": 2,
              "version_minor": 0
            },
            "text/plain": [
              "Epoch 26/1000 Training:   0%|          | 0/704 [00:00<?, ?it/s]"
            ]
          },
          "metadata": {},
          "output_type": "display_data"
        },
        {
          "name": "stdout",
          "output_type": "stream",
          "text": [
            "Epoch 26/1000 | Val Loss: 0.7737 | Val Acc: 73.26% | LR: 0.000998\n"
          ]
        },
        {
          "data": {
            "application/vnd.jupyter.widget-view+json": {
              "model_id": "8c15e50ff5524a45ae5d664081c07175",
              "version_major": 2,
              "version_minor": 0
            },
            "text/plain": [
              "Epoch 27/1000 Training:   0%|          | 0/704 [00:00<?, ?it/s]"
            ]
          },
          "metadata": {},
          "output_type": "display_data"
        },
        {
          "name": "stdout",
          "output_type": "stream",
          "text": [
            "Epoch 27/1000 | Val Loss: 0.7971 | Val Acc: 73.14% | LR: 0.000998\n"
          ]
        },
        {
          "data": {
            "application/vnd.jupyter.widget-view+json": {
              "model_id": "1d35cf01240b46ab829647583e23120d",
              "version_major": 2,
              "version_minor": 0
            },
            "text/plain": [
              "Epoch 28/1000 Training:   0%|          | 0/704 [00:00<?, ?it/s]"
            ]
          },
          "metadata": {},
          "output_type": "display_data"
        },
        {
          "name": "stdout",
          "output_type": "stream",
          "text": [
            "Epoch 28/1000 | Val Loss: 0.7560 | Val Acc: 74.22% | LR: 0.000998\n",
            "  -> Validation loss improved, saving model.\n"
          ]
        },
        {
          "data": {
            "application/vnd.jupyter.widget-view+json": {
              "model_id": "a9c153715f124a38bdad2a3815cf2573",
              "version_major": 2,
              "version_minor": 0
            },
            "text/plain": [
              "Epoch 29/1000 Training:   0%|          | 0/704 [00:00<?, ?it/s]"
            ]
          },
          "metadata": {},
          "output_type": "display_data"
        },
        {
          "name": "stdout",
          "output_type": "stream",
          "text": [
            "Epoch 29/1000 | Val Loss: 0.7429 | Val Acc: 75.06% | LR: 0.000998\n",
            "  -> Validation loss improved, saving model.\n"
          ]
        },
        {
          "data": {
            "application/vnd.jupyter.widget-view+json": {
              "model_id": "0cd77b00c406494181bf457715e5f7f1",
              "version_major": 2,
              "version_minor": 0
            },
            "text/plain": [
              "Epoch 30/1000 Training:   0%|          | 0/704 [00:00<?, ?it/s]"
            ]
          },
          "metadata": {},
          "output_type": "display_data"
        },
        {
          "name": "stdout",
          "output_type": "stream",
          "text": [
            "Epoch 30/1000 | Val Loss: 0.7305 | Val Acc: 74.84% | LR: 0.000998\n",
            "  -> Validation loss improved, saving model.\n"
          ]
        },
        {
          "data": {
            "application/vnd.jupyter.widget-view+json": {
              "model_id": "7d123d10281e407aafe5113b76437fe5",
              "version_major": 2,
              "version_minor": 0
            },
            "text/plain": [
              "Epoch 31/1000 Training:   0%|          | 0/704 [00:00<?, ?it/s]"
            ]
          },
          "metadata": {},
          "output_type": "display_data"
        },
        {
          "name": "stdout",
          "output_type": "stream",
          "text": [
            "Epoch 31/1000 | Val Loss: 0.7720 | Val Acc: 73.84% | LR: 0.000998\n"
          ]
        },
        {
          "data": {
            "application/vnd.jupyter.widget-view+json": {
              "model_id": "a86f34bdf3454b33ae812ffa73d1538c",
              "version_major": 2,
              "version_minor": 0
            },
            "text/plain": [
              "Epoch 32/1000 Training:   0%|          | 0/704 [00:00<?, ?it/s]"
            ]
          },
          "metadata": {},
          "output_type": "display_data"
        },
        {
          "name": "stdout",
          "output_type": "stream",
          "text": [
            "Epoch 32/1000 | Val Loss: 0.7249 | Val Acc: 75.08% | LR: 0.000998\n",
            "  -> Validation loss improved, saving model.\n"
          ]
        },
        {
          "data": {
            "application/vnd.jupyter.widget-view+json": {
              "model_id": "ba085490e8774bf1800c08fa8cd22ba3",
              "version_major": 2,
              "version_minor": 0
            },
            "text/plain": [
              "Epoch 33/1000 Training:   0%|          | 0/704 [00:00<?, ?it/s]"
            ]
          },
          "metadata": {},
          "output_type": "display_data"
        },
        {
          "name": "stdout",
          "output_type": "stream",
          "text": [
            "Epoch 33/1000 | Val Loss: 0.7328 | Val Acc: 74.62% | LR: 0.000997\n"
          ]
        },
        {
          "data": {
            "application/vnd.jupyter.widget-view+json": {
              "model_id": "3a837220f2644302a9fe62ee176807b1",
              "version_major": 2,
              "version_minor": 0
            },
            "text/plain": [
              "Epoch 34/1000 Training:   0%|          | 0/704 [00:00<?, ?it/s]"
            ]
          },
          "metadata": {},
          "output_type": "display_data"
        },
        {
          "name": "stdout",
          "output_type": "stream",
          "text": [
            "Epoch 34/1000 | Val Loss: 0.7269 | Val Acc: 75.14% | LR: 0.000997\n"
          ]
        },
        {
          "data": {
            "application/vnd.jupyter.widget-view+json": {
              "model_id": "7c3a1bc44f884e4b80c11d9d4e7578ad",
              "version_major": 2,
              "version_minor": 0
            },
            "text/plain": [
              "Epoch 35/1000 Training:   0%|          | 0/704 [00:00<?, ?it/s]"
            ]
          },
          "metadata": {},
          "output_type": "display_data"
        },
        {
          "name": "stdout",
          "output_type": "stream",
          "text": [
            "Epoch 35/1000 | Val Loss: 0.7178 | Val Acc: 74.76% | LR: 0.000997\n",
            "  -> Validation loss improved, saving model.\n"
          ]
        },
        {
          "data": {
            "application/vnd.jupyter.widget-view+json": {
              "model_id": "c7715a8ad20a4095b276b58a7861fe7e",
              "version_major": 2,
              "version_minor": 0
            },
            "text/plain": [
              "Epoch 36/1000 Training:   0%|          | 0/704 [00:00<?, ?it/s]"
            ]
          },
          "metadata": {},
          "output_type": "display_data"
        },
        {
          "name": "stdout",
          "output_type": "stream",
          "text": [
            "Epoch 36/1000 | Val Loss: 0.7165 | Val Acc: 75.32% | LR: 0.000997\n",
            "  -> Validation loss improved, saving model.\n"
          ]
        },
        {
          "data": {
            "application/vnd.jupyter.widget-view+json": {
              "model_id": "5d81d0baa31840288c697f0fca96e718",
              "version_major": 2,
              "version_minor": 0
            },
            "text/plain": [
              "Epoch 37/1000 Training:   0%|          | 0/704 [00:00<?, ?it/s]"
            ]
          },
          "metadata": {},
          "output_type": "display_data"
        },
        {
          "name": "stdout",
          "output_type": "stream",
          "text": [
            "Epoch 37/1000 | Val Loss: 0.7101 | Val Acc: 75.64% | LR: 0.000997\n",
            "  -> Validation loss improved, saving model.\n"
          ]
        },
        {
          "data": {
            "application/vnd.jupyter.widget-view+json": {
              "model_id": "0ea410abe34e4d94997be3124b51737f",
              "version_major": 2,
              "version_minor": 0
            },
            "text/plain": [
              "Epoch 38/1000 Training:   0%|          | 0/704 [00:00<?, ?it/s]"
            ]
          },
          "metadata": {},
          "output_type": "display_data"
        },
        {
          "name": "stdout",
          "output_type": "stream",
          "text": [
            "Epoch 38/1000 | Val Loss: 0.7044 | Val Acc: 75.64% | LR: 0.000997\n",
            "  -> Validation loss improved, saving model.\n"
          ]
        },
        {
          "data": {
            "application/vnd.jupyter.widget-view+json": {
              "model_id": "f49856a74a884b23b5a6a1dfb86d6cdf",
              "version_major": 2,
              "version_minor": 0
            },
            "text/plain": [
              "Epoch 39/1000 Training:   0%|          | 0/704 [00:00<?, ?it/s]"
            ]
          },
          "metadata": {},
          "output_type": "display_data"
        },
        {
          "name": "stdout",
          "output_type": "stream",
          "text": [
            "Epoch 39/1000 | Val Loss: 0.6989 | Val Acc: 75.54% | LR: 0.000996\n",
            "  -> Validation loss improved, saving model.\n"
          ]
        },
        {
          "data": {
            "application/vnd.jupyter.widget-view+json": {
              "model_id": "e6510a4beebb48479c6dc38535a51eac",
              "version_major": 2,
              "version_minor": 0
            },
            "text/plain": [
              "Epoch 40/1000 Training:   0%|          | 0/704 [00:00<?, ?it/s]"
            ]
          },
          "metadata": {},
          "output_type": "display_data"
        },
        {
          "name": "stdout",
          "output_type": "stream",
          "text": [
            "Epoch 40/1000 | Val Loss: 0.6923 | Val Acc: 76.04% | LR: 0.000996\n",
            "  -> Validation loss improved, saving model.\n"
          ]
        },
        {
          "data": {
            "application/vnd.jupyter.widget-view+json": {
              "model_id": "df1ef0b024804c5e8210744a04b0b71d",
              "version_major": 2,
              "version_minor": 0
            },
            "text/plain": [
              "Epoch 41/1000 Training:   0%|          | 0/704 [00:00<?, ?it/s]"
            ]
          },
          "metadata": {},
          "output_type": "display_data"
        },
        {
          "name": "stdout",
          "output_type": "stream",
          "text": [
            "Epoch 41/1000 | Val Loss: 0.7143 | Val Acc: 75.84% | LR: 0.000996\n"
          ]
        },
        {
          "data": {
            "application/vnd.jupyter.widget-view+json": {
              "model_id": "01aaf8011fdf476ab97070b2d632e968",
              "version_major": 2,
              "version_minor": 0
            },
            "text/plain": [
              "Epoch 42/1000 Training:   0%|          | 0/704 [00:00<?, ?it/s]"
            ]
          },
          "metadata": {},
          "output_type": "display_data"
        },
        {
          "name": "stdout",
          "output_type": "stream",
          "text": [
            "Epoch 42/1000 | Val Loss: 0.6848 | Val Acc: 76.40% | LR: 0.000996\n",
            "  -> Validation loss improved, saving model.\n"
          ]
        },
        {
          "data": {
            "application/vnd.jupyter.widget-view+json": {
              "model_id": "69812e4b47e04d5ea9ba4449256b11ed",
              "version_major": 2,
              "version_minor": 0
            },
            "text/plain": [
              "Epoch 43/1000 Training:   0%|          | 0/704 [00:00<?, ?it/s]"
            ]
          },
          "metadata": {},
          "output_type": "display_data"
        },
        {
          "name": "stdout",
          "output_type": "stream",
          "text": [
            "Epoch 43/1000 | Val Loss: 0.6924 | Val Acc: 75.64% | LR: 0.000996\n"
          ]
        },
        {
          "data": {
            "application/vnd.jupyter.widget-view+json": {
              "model_id": "33029fa8b2864d8691310055517c5e31",
              "version_major": 2,
              "version_minor": 0
            },
            "text/plain": [
              "Epoch 44/1000 Training:   0%|          | 0/704 [00:00<?, ?it/s]"
            ]
          },
          "metadata": {},
          "output_type": "display_data"
        },
        {
          "name": "stdout",
          "output_type": "stream",
          "text": [
            "Epoch 44/1000 | Val Loss: 0.7033 | Val Acc: 75.66% | LR: 0.000995\n"
          ]
        },
        {
          "data": {
            "application/vnd.jupyter.widget-view+json": {
              "model_id": "c47facad9d2744c0a6c2e6b09845d4e5",
              "version_major": 2,
              "version_minor": 0
            },
            "text/plain": [
              "Epoch 45/1000 Training:   0%|          | 0/704 [00:00<?, ?it/s]"
            ]
          },
          "metadata": {},
          "output_type": "display_data"
        },
        {
          "name": "stdout",
          "output_type": "stream",
          "text": [
            "Epoch 45/1000 | Val Loss: 0.6642 | Val Acc: 76.80% | LR: 0.000995\n",
            "  -> Validation loss improved, saving model.\n"
          ]
        },
        {
          "data": {
            "application/vnd.jupyter.widget-view+json": {
              "model_id": "7625e41fff2249798cf94450eabc98f7",
              "version_major": 2,
              "version_minor": 0
            },
            "text/plain": [
              "Epoch 46/1000 Training:   0%|          | 0/704 [00:00<?, ?it/s]"
            ]
          },
          "metadata": {},
          "output_type": "display_data"
        },
        {
          "name": "stdout",
          "output_type": "stream",
          "text": [
            "Epoch 46/1000 | Val Loss: 0.6782 | Val Acc: 76.34% | LR: 0.000995\n"
          ]
        },
        {
          "data": {
            "application/vnd.jupyter.widget-view+json": {
              "model_id": "6b7362bbc7dc41f3951382086d654155",
              "version_major": 2,
              "version_minor": 0
            },
            "text/plain": [
              "Epoch 47/1000 Training:   0%|          | 0/704 [00:00<?, ?it/s]"
            ]
          },
          "metadata": {},
          "output_type": "display_data"
        },
        {
          "name": "stdout",
          "output_type": "stream",
          "text": [
            "Epoch 47/1000 | Val Loss: 0.6856 | Val Acc: 76.76% | LR: 0.000995\n"
          ]
        },
        {
          "data": {
            "application/vnd.jupyter.widget-view+json": {
              "model_id": "fb7cab6dc1f147488eaecd67e592614c",
              "version_major": 2,
              "version_minor": 0
            },
            "text/plain": [
              "Epoch 48/1000 Training:   0%|          | 0/704 [00:00<?, ?it/s]"
            ]
          },
          "metadata": {},
          "output_type": "display_data"
        },
        {
          "name": "stdout",
          "output_type": "stream",
          "text": [
            "Epoch 48/1000 | Val Loss: 0.7060 | Val Acc: 75.76% | LR: 0.000995\n"
          ]
        },
        {
          "data": {
            "application/vnd.jupyter.widget-view+json": {
              "model_id": "ec10f5f37d504a6a9304c473fa5f604b",
              "version_major": 2,
              "version_minor": 0
            },
            "text/plain": [
              "Epoch 49/1000 Training:   0%|          | 0/704 [00:00<?, ?it/s]"
            ]
          },
          "metadata": {},
          "output_type": "display_data"
        },
        {
          "name": "stdout",
          "output_type": "stream",
          "text": [
            "Epoch 49/1000 | Val Loss: 0.6691 | Val Acc: 76.48% | LR: 0.000994\n"
          ]
        },
        {
          "data": {
            "application/vnd.jupyter.widget-view+json": {
              "model_id": "ffd42499071041a78e0926564cf13f4a",
              "version_major": 2,
              "version_minor": 0
            },
            "text/plain": [
              "Epoch 50/1000 Training:   0%|          | 0/704 [00:00<?, ?it/s]"
            ]
          },
          "metadata": {},
          "output_type": "display_data"
        },
        {
          "name": "stdout",
          "output_type": "stream",
          "text": [
            "Epoch 50/1000 | Val Loss: 0.6680 | Val Acc: 76.88% | LR: 0.000994\n"
          ]
        },
        {
          "data": {
            "application/vnd.jupyter.widget-view+json": {
              "model_id": "debb4c3a72544e4e8c33c6103fc842f9",
              "version_major": 2,
              "version_minor": 0
            },
            "text/plain": [
              "Epoch 51/1000 Training:   0%|          | 0/704 [00:00<?, ?it/s]"
            ]
          },
          "metadata": {},
          "output_type": "display_data"
        },
        {
          "name": "stdout",
          "output_type": "stream",
          "text": [
            "Epoch 51/1000 | Val Loss: 0.6870 | Val Acc: 76.32% | LR: 0.000994\n"
          ]
        },
        {
          "data": {
            "application/vnd.jupyter.widget-view+json": {
              "model_id": "f3ba16efd7e141f6ba3efadfc93f1173",
              "version_major": 2,
              "version_minor": 0
            },
            "text/plain": [
              "Epoch 52/1000 Training:   0%|          | 0/704 [00:00<?, ?it/s]"
            ]
          },
          "metadata": {},
          "output_type": "display_data"
        },
        {
          "name": "stdout",
          "output_type": "stream",
          "text": [
            "Epoch 52/1000 | Val Loss: 0.6653 | Val Acc: 77.20% | LR: 0.000994\n"
          ]
        },
        {
          "data": {
            "application/vnd.jupyter.widget-view+json": {
              "model_id": "abd8118f510c456db288624d5a91d78b",
              "version_major": 2,
              "version_minor": 0
            },
            "text/plain": [
              "Epoch 53/1000 Training:   0%|          | 0/704 [00:00<?, ?it/s]"
            ]
          },
          "metadata": {},
          "output_type": "display_data"
        },
        {
          "name": "stdout",
          "output_type": "stream",
          "text": [
            "Epoch 53/1000 | Val Loss: 0.6626 | Val Acc: 77.32% | LR: 0.000993\n",
            "  -> Validation loss improved, saving model.\n"
          ]
        },
        {
          "data": {
            "application/vnd.jupyter.widget-view+json": {
              "model_id": "40cc00ef1abf4862af932766c14fc823",
              "version_major": 2,
              "version_minor": 0
            },
            "text/plain": [
              "Epoch 54/1000 Training:   0%|          | 0/704 [00:00<?, ?it/s]"
            ]
          },
          "metadata": {},
          "output_type": "display_data"
        },
        {
          "name": "stdout",
          "output_type": "stream",
          "text": [
            "Epoch 54/1000 | Val Loss: 0.6630 | Val Acc: 76.68% | LR: 0.000993\n"
          ]
        },
        {
          "data": {
            "application/vnd.jupyter.widget-view+json": {
              "model_id": "8d4e7512f3a4499193425f6da10492fa",
              "version_major": 2,
              "version_minor": 0
            },
            "text/plain": [
              "Epoch 55/1000 Training:   0%|          | 0/704 [00:00<?, ?it/s]"
            ]
          },
          "metadata": {},
          "output_type": "display_data"
        },
        {
          "name": "stdout",
          "output_type": "stream",
          "text": [
            "Epoch 55/1000 | Val Loss: 0.6706 | Val Acc: 77.40% | LR: 0.000993\n"
          ]
        },
        {
          "data": {
            "application/vnd.jupyter.widget-view+json": {
              "model_id": "209c02afd2db4fb1a7908376dabc52fc",
              "version_major": 2,
              "version_minor": 0
            },
            "text/plain": [
              "Epoch 56/1000 Training:   0%|          | 0/704 [00:00<?, ?it/s]"
            ]
          },
          "metadata": {},
          "output_type": "display_data"
        },
        {
          "name": "stdout",
          "output_type": "stream",
          "text": [
            "Epoch 56/1000 | Val Loss: 0.6525 | Val Acc: 77.32% | LR: 0.000993\n",
            "  -> Validation loss improved, saving model.\n"
          ]
        },
        {
          "data": {
            "application/vnd.jupyter.widget-view+json": {
              "model_id": "c8e14e43b26e40758d66cc94c664d072",
              "version_major": 2,
              "version_minor": 0
            },
            "text/plain": [
              "Epoch 57/1000 Training:   0%|          | 0/704 [00:00<?, ?it/s]"
            ]
          },
          "metadata": {},
          "output_type": "display_data"
        },
        {
          "name": "stdout",
          "output_type": "stream",
          "text": [
            "Epoch 57/1000 | Val Loss: 0.6606 | Val Acc: 77.06% | LR: 0.000992\n"
          ]
        },
        {
          "data": {
            "application/vnd.jupyter.widget-view+json": {
              "model_id": "88c1bd41a6cd4068b7f7b3bb67985857",
              "version_major": 2,
              "version_minor": 0
            },
            "text/plain": [
              "Epoch 58/1000 Training:   0%|          | 0/704 [00:00<?, ?it/s]"
            ]
          },
          "metadata": {},
          "output_type": "display_data"
        },
        {
          "name": "stdout",
          "output_type": "stream",
          "text": [
            "Epoch 58/1000 | Val Loss: 0.6690 | Val Acc: 76.82% | LR: 0.000992\n"
          ]
        },
        {
          "data": {
            "application/vnd.jupyter.widget-view+json": {
              "model_id": "54a6bb6534c345a19681de2f075f8a97",
              "version_major": 2,
              "version_minor": 0
            },
            "text/plain": [
              "Epoch 59/1000 Training:   0%|          | 0/704 [00:00<?, ?it/s]"
            ]
          },
          "metadata": {},
          "output_type": "display_data"
        },
        {
          "name": "stdout",
          "output_type": "stream",
          "text": [
            "Epoch 59/1000 | Val Loss: 0.6619 | Val Acc: 76.60% | LR: 0.000992\n"
          ]
        },
        {
          "data": {
            "application/vnd.jupyter.widget-view+json": {
              "model_id": "c0706c5ab514490cb6f87df445af11f3",
              "version_major": 2,
              "version_minor": 0
            },
            "text/plain": [
              "Epoch 60/1000 Training:   0%|          | 0/704 [00:00<?, ?it/s]"
            ]
          },
          "metadata": {},
          "output_type": "display_data"
        },
        {
          "name": "stdout",
          "output_type": "stream",
          "text": [
            "Epoch 60/1000 | Val Loss: 0.6435 | Val Acc: 77.08% | LR: 0.000991\n",
            "  -> Validation loss improved, saving model.\n"
          ]
        },
        {
          "data": {
            "application/vnd.jupyter.widget-view+json": {
              "model_id": "af5a9bccb2c944858cfa647fa51c5140",
              "version_major": 2,
              "version_minor": 0
            },
            "text/plain": [
              "Epoch 61/1000 Training:   0%|          | 0/704 [00:00<?, ?it/s]"
            ]
          },
          "metadata": {},
          "output_type": "display_data"
        },
        {
          "name": "stdout",
          "output_type": "stream",
          "text": [
            "Epoch 61/1000 | Val Loss: 0.6485 | Val Acc: 77.30% | LR: 0.000991\n"
          ]
        },
        {
          "data": {
            "application/vnd.jupyter.widget-view+json": {
              "model_id": "b1b8817f3989484a95704d7d32ade934",
              "version_major": 2,
              "version_minor": 0
            },
            "text/plain": [
              "Epoch 62/1000 Training:   0%|          | 0/704 [00:00<?, ?it/s]"
            ]
          },
          "metadata": {},
          "output_type": "display_data"
        },
        {
          "name": "stdout",
          "output_type": "stream",
          "text": [
            "Epoch 62/1000 | Val Loss: 0.6505 | Val Acc: 77.46% | LR: 0.000991\n"
          ]
        },
        {
          "data": {
            "application/vnd.jupyter.widget-view+json": {
              "model_id": "25aa349cae6b4812a586a72e887fa50c",
              "version_major": 2,
              "version_minor": 0
            },
            "text/plain": [
              "Epoch 63/1000 Training:   0%|          | 0/704 [00:00<?, ?it/s]"
            ]
          },
          "metadata": {},
          "output_type": "display_data"
        },
        {
          "name": "stdout",
          "output_type": "stream",
          "text": [
            "Epoch 63/1000 | Val Loss: 0.6472 | Val Acc: 77.24% | LR: 0.000991\n"
          ]
        },
        {
          "data": {
            "application/vnd.jupyter.widget-view+json": {
              "model_id": "1836168f804c4e8e92a1e8fe7b2378d0",
              "version_major": 2,
              "version_minor": 0
            },
            "text/plain": [
              "Epoch 64/1000 Training:   0%|          | 0/704 [00:00<?, ?it/s]"
            ]
          },
          "metadata": {},
          "output_type": "display_data"
        },
        {
          "name": "stdout",
          "output_type": "stream",
          "text": [
            "Epoch 64/1000 | Val Loss: 0.6415 | Val Acc: 78.02% | LR: 0.000990\n",
            "  -> Validation loss improved, saving model.\n"
          ]
        },
        {
          "data": {
            "application/vnd.jupyter.widget-view+json": {
              "model_id": "430289b535e04514aeac7ba2c273194b",
              "version_major": 2,
              "version_minor": 0
            },
            "text/plain": [
              "Epoch 65/1000 Training:   0%|          | 0/704 [00:00<?, ?it/s]"
            ]
          },
          "metadata": {},
          "output_type": "display_data"
        },
        {
          "name": "stdout",
          "output_type": "stream",
          "text": [
            "Epoch 65/1000 | Val Loss: 0.6416 | Val Acc: 77.44% | LR: 0.000990\n"
          ]
        },
        {
          "data": {
            "application/vnd.jupyter.widget-view+json": {
              "model_id": "3026c1c7e41d4a53a050b7c83c9812b7",
              "version_major": 2,
              "version_minor": 0
            },
            "text/plain": [
              "Epoch 66/1000 Training:   0%|          | 0/704 [00:00<?, ?it/s]"
            ]
          },
          "metadata": {},
          "output_type": "display_data"
        },
        {
          "name": "stdout",
          "output_type": "stream",
          "text": [
            "Epoch 66/1000 | Val Loss: 0.6398 | Val Acc: 77.88% | LR: 0.000990\n",
            "  -> Validation loss improved, saving model.\n"
          ]
        },
        {
          "data": {
            "application/vnd.jupyter.widget-view+json": {
              "model_id": "70d5f4ef029c48a39ad9fbabbaf12f30",
              "version_major": 2,
              "version_minor": 0
            },
            "text/plain": [
              "Epoch 67/1000 Training:   0%|          | 0/704 [00:00<?, ?it/s]"
            ]
          },
          "metadata": {},
          "output_type": "display_data"
        },
        {
          "name": "stdout",
          "output_type": "stream",
          "text": [
            "Epoch 67/1000 | Val Loss: 0.6358 | Val Acc: 77.46% | LR: 0.000989\n",
            "  -> Validation loss improved, saving model.\n"
          ]
        },
        {
          "data": {
            "application/vnd.jupyter.widget-view+json": {
              "model_id": "0c8a1006f04b4fc880489f7c082ad7ec",
              "version_major": 2,
              "version_minor": 0
            },
            "text/plain": [
              "Epoch 68/1000 Training:   0%|          | 0/704 [00:00<?, ?it/s]"
            ]
          },
          "metadata": {},
          "output_type": "display_data"
        },
        {
          "name": "stdout",
          "output_type": "stream",
          "text": [
            "Epoch 68/1000 | Val Loss: 0.6445 | Val Acc: 77.22% | LR: 0.000989\n"
          ]
        },
        {
          "data": {
            "application/vnd.jupyter.widget-view+json": {
              "model_id": "78eef1251a844bf2843778bee4edf285",
              "version_major": 2,
              "version_minor": 0
            },
            "text/plain": [
              "Epoch 69/1000 Training:   0%|          | 0/704 [00:00<?, ?it/s]"
            ]
          },
          "metadata": {},
          "output_type": "display_data"
        },
        {
          "name": "stdout",
          "output_type": "stream",
          "text": [
            "Epoch 69/1000 | Val Loss: 0.6442 | Val Acc: 77.62% | LR: 0.000989\n"
          ]
        },
        {
          "data": {
            "application/vnd.jupyter.widget-view+json": {
              "model_id": "be4d7154ad5b4f4096ee6a775f4734cd",
              "version_major": 2,
              "version_minor": 0
            },
            "text/plain": [
              "Epoch 70/1000 Training:   0%|          | 0/704 [00:00<?, ?it/s]"
            ]
          },
          "metadata": {},
          "output_type": "display_data"
        },
        {
          "name": "stdout",
          "output_type": "stream",
          "text": [
            "Epoch 70/1000 | Val Loss: 0.6329 | Val Acc: 78.22% | LR: 0.000988\n",
            "  -> Validation loss improved, saving model.\n"
          ]
        },
        {
          "data": {
            "application/vnd.jupyter.widget-view+json": {
              "model_id": "8923aaa6bb50438b8dac602f6720c61f",
              "version_major": 2,
              "version_minor": 0
            },
            "text/plain": [
              "Epoch 71/1000 Training:   0%|          | 0/704 [00:00<?, ?it/s]"
            ]
          },
          "metadata": {},
          "output_type": "display_data"
        },
        {
          "name": "stdout",
          "output_type": "stream",
          "text": [
            "Epoch 71/1000 | Val Loss: 0.6472 | Val Acc: 77.20% | LR: 0.000988\n"
          ]
        },
        {
          "data": {
            "application/vnd.jupyter.widget-view+json": {
              "model_id": "909a2588070a4589b460ec22eb162b50",
              "version_major": 2,
              "version_minor": 0
            },
            "text/plain": [
              "Epoch 72/1000 Training:   0%|          | 0/704 [00:00<?, ?it/s]"
            ]
          },
          "metadata": {},
          "output_type": "display_data"
        },
        {
          "name": "stdout",
          "output_type": "stream",
          "text": [
            "Epoch 72/1000 | Val Loss: 0.6361 | Val Acc: 77.34% | LR: 0.000988\n"
          ]
        },
        {
          "data": {
            "application/vnd.jupyter.widget-view+json": {
              "model_id": "012de0ed25e24f80a4a04b0c65a726e8",
              "version_major": 2,
              "version_minor": 0
            },
            "text/plain": [
              "Epoch 73/1000 Training:   0%|          | 0/704 [00:00<?, ?it/s]"
            ]
          },
          "metadata": {},
          "output_type": "display_data"
        },
        {
          "name": "stdout",
          "output_type": "stream",
          "text": [
            "Epoch 73/1000 | Val Loss: 0.6367 | Val Acc: 77.80% | LR: 0.000987\n"
          ]
        },
        {
          "data": {
            "application/vnd.jupyter.widget-view+json": {
              "model_id": "0cfb3b3ba4424515b1a504b545eb9205",
              "version_major": 2,
              "version_minor": 0
            },
            "text/plain": [
              "Epoch 74/1000 Training:   0%|          | 0/704 [00:00<?, ?it/s]"
            ]
          },
          "metadata": {},
          "output_type": "display_data"
        },
        {
          "name": "stdout",
          "output_type": "stream",
          "text": [
            "Epoch 74/1000 | Val Loss: 0.6404 | Val Acc: 77.40% | LR: 0.000987\n"
          ]
        },
        {
          "data": {
            "application/vnd.jupyter.widget-view+json": {
              "model_id": "9c74b36166e04dcf8b828b65921b51f0",
              "version_major": 2,
              "version_minor": 0
            },
            "text/plain": [
              "Epoch 75/1000 Training:   0%|          | 0/704 [00:00<?, ?it/s]"
            ]
          },
          "metadata": {},
          "output_type": "display_data"
        },
        {
          "name": "stdout",
          "output_type": "stream",
          "text": [
            "Epoch 75/1000 | Val Loss: 0.6285 | Val Acc: 78.28% | LR: 0.000987\n",
            "  -> Validation loss improved, saving model.\n"
          ]
        },
        {
          "data": {
            "application/vnd.jupyter.widget-view+json": {
              "model_id": "db58df9d96bc45489446e706558ab64d",
              "version_major": 2,
              "version_minor": 0
            },
            "text/plain": [
              "Epoch 76/1000 Training:   0%|          | 0/704 [00:00<?, ?it/s]"
            ]
          },
          "metadata": {},
          "output_type": "display_data"
        },
        {
          "name": "stdout",
          "output_type": "stream",
          "text": [
            "Epoch 76/1000 | Val Loss: 0.6342 | Val Acc: 78.18% | LR: 0.000986\n"
          ]
        },
        {
          "data": {
            "application/vnd.jupyter.widget-view+json": {
              "model_id": "17e1345d9ede408b994ba285a566ab1e",
              "version_major": 2,
              "version_minor": 0
            },
            "text/plain": [
              "Epoch 77/1000 Training:   0%|          | 0/704 [00:00<?, ?it/s]"
            ]
          },
          "metadata": {},
          "output_type": "display_data"
        },
        {
          "name": "stdout",
          "output_type": "stream",
          "text": [
            "Epoch 77/1000 | Val Loss: 0.6316 | Val Acc: 77.60% | LR: 0.000986\n"
          ]
        },
        {
          "data": {
            "application/vnd.jupyter.widget-view+json": {
              "model_id": "58b2dc8cc25249dda9498f14b2d3bc1d",
              "version_major": 2,
              "version_minor": 0
            },
            "text/plain": [
              "Epoch 78/1000 Training:   0%|          | 0/704 [00:00<?, ?it/s]"
            ]
          },
          "metadata": {},
          "output_type": "display_data"
        },
        {
          "name": "stdout",
          "output_type": "stream",
          "text": [
            "Epoch 78/1000 | Val Loss: 0.6347 | Val Acc: 78.04% | LR: 0.000985\n"
          ]
        },
        {
          "data": {
            "application/vnd.jupyter.widget-view+json": {
              "model_id": "13ae76947a4d4fb9a2b133f1050258b5",
              "version_major": 2,
              "version_minor": 0
            },
            "text/plain": [
              "Epoch 79/1000 Training:   0%|          | 0/704 [00:00<?, ?it/s]"
            ]
          },
          "metadata": {},
          "output_type": "display_data"
        },
        {
          "name": "stdout",
          "output_type": "stream",
          "text": [
            "Epoch 79/1000 | Val Loss: 0.6422 | Val Acc: 77.54% | LR: 0.000985\n"
          ]
        },
        {
          "data": {
            "application/vnd.jupyter.widget-view+json": {
              "model_id": "cb0a13d68ffa40e683e9178008228027",
              "version_major": 2,
              "version_minor": 0
            },
            "text/plain": [
              "Epoch 80/1000 Training:   0%|          | 0/704 [00:00<?, ?it/s]"
            ]
          },
          "metadata": {},
          "output_type": "display_data"
        },
        {
          "name": "stdout",
          "output_type": "stream",
          "text": [
            "Epoch 80/1000 | Val Loss: 0.6258 | Val Acc: 77.96% | LR: 0.000985\n",
            "  -> Validation loss improved, saving model.\n"
          ]
        },
        {
          "data": {
            "application/vnd.jupyter.widget-view+json": {
              "model_id": "89d9661e154146dfaf070fde59de6808",
              "version_major": 2,
              "version_minor": 0
            },
            "text/plain": [
              "Epoch 81/1000 Training:   0%|          | 0/704 [00:00<?, ?it/s]"
            ]
          },
          "metadata": {},
          "output_type": "display_data"
        },
        {
          "name": "stdout",
          "output_type": "stream",
          "text": [
            "Epoch 81/1000 | Val Loss: 0.6265 | Val Acc: 78.26% | LR: 0.000984\n"
          ]
        },
        {
          "data": {
            "application/vnd.jupyter.widget-view+json": {
              "model_id": "5d7cef652651417893d8925a8eddf4b5",
              "version_major": 2,
              "version_minor": 0
            },
            "text/plain": [
              "Epoch 82/1000 Training:   0%|          | 0/704 [00:00<?, ?it/s]"
            ]
          },
          "metadata": {},
          "output_type": "display_data"
        },
        {
          "name": "stdout",
          "output_type": "stream",
          "text": [
            "Epoch 82/1000 | Val Loss: 0.6474 | Val Acc: 77.44% | LR: 0.000984\n"
          ]
        },
        {
          "data": {
            "application/vnd.jupyter.widget-view+json": {
              "model_id": "25a5e5fc4122457da67c182c6e6a4c7b",
              "version_major": 2,
              "version_minor": 0
            },
            "text/plain": [
              "Epoch 83/1000 Training:   0%|          | 0/704 [00:00<?, ?it/s]"
            ]
          },
          "metadata": {},
          "output_type": "display_data"
        },
        {
          "name": "stdout",
          "output_type": "stream",
          "text": [
            "Epoch 83/1000 | Val Loss: 0.6239 | Val Acc: 77.74% | LR: 0.000984\n",
            "  -> Validation loss improved, saving model.\n"
          ]
        },
        {
          "data": {
            "application/vnd.jupyter.widget-view+json": {
              "model_id": "e98675cf81d74e108873667d0ac211a0",
              "version_major": 2,
              "version_minor": 0
            },
            "text/plain": [
              "Epoch 84/1000 Training:   0%|          | 0/704 [00:00<?, ?it/s]"
            ]
          },
          "metadata": {},
          "output_type": "display_data"
        },
        {
          "name": "stdout",
          "output_type": "stream",
          "text": [
            "Epoch 84/1000 | Val Loss: 0.6213 | Val Acc: 78.04% | LR: 0.000983\n",
            "  -> Validation loss improved, saving model.\n"
          ]
        },
        {
          "data": {
            "application/vnd.jupyter.widget-view+json": {
              "model_id": "a312ed338d494152826ba440fc10239b",
              "version_major": 2,
              "version_minor": 0
            },
            "text/plain": [
              "Epoch 85/1000 Training:   0%|          | 0/704 [00:00<?, ?it/s]"
            ]
          },
          "metadata": {},
          "output_type": "display_data"
        },
        {
          "name": "stdout",
          "output_type": "stream",
          "text": [
            "Epoch 85/1000 | Val Loss: 0.6216 | Val Acc: 78.38% | LR: 0.000983\n"
          ]
        },
        {
          "data": {
            "application/vnd.jupyter.widget-view+json": {
              "model_id": "930e95fceea144fd8570980145801d55",
              "version_major": 2,
              "version_minor": 0
            },
            "text/plain": [
              "Epoch 86/1000 Training:   0%|          | 0/704 [00:00<?, ?it/s]"
            ]
          },
          "metadata": {},
          "output_type": "display_data"
        },
        {
          "name": "stdout",
          "output_type": "stream",
          "text": [
            "Epoch 86/1000 | Val Loss: 0.6289 | Val Acc: 78.04% | LR: 0.000982\n"
          ]
        },
        {
          "data": {
            "application/vnd.jupyter.widget-view+json": {
              "model_id": "14560a06d4a94cfd82f36b96c9fcb988",
              "version_major": 2,
              "version_minor": 0
            },
            "text/plain": [
              "Epoch 87/1000 Training:   0%|          | 0/704 [00:00<?, ?it/s]"
            ]
          },
          "metadata": {},
          "output_type": "display_data"
        },
        {
          "name": "stdout",
          "output_type": "stream",
          "text": [
            "Epoch 87/1000 | Val Loss: 0.6309 | Val Acc: 78.20% | LR: 0.000982\n"
          ]
        },
        {
          "data": {
            "application/vnd.jupyter.widget-view+json": {
              "model_id": "487be603d1ef46b2bbe2e66be76ec989",
              "version_major": 2,
              "version_minor": 0
            },
            "text/plain": [
              "Epoch 88/1000 Training:   0%|          | 0/704 [00:00<?, ?it/s]"
            ]
          },
          "metadata": {},
          "output_type": "display_data"
        },
        {
          "name": "stdout",
          "output_type": "stream",
          "text": [
            "Epoch 88/1000 | Val Loss: 0.6343 | Val Acc: 77.18% | LR: 0.000981\n"
          ]
        },
        {
          "data": {
            "application/vnd.jupyter.widget-view+json": {
              "model_id": "db82eea81f514055aee625bb227555ca",
              "version_major": 2,
              "version_minor": 0
            },
            "text/plain": [
              "Epoch 89/1000 Training:   0%|          | 0/704 [00:00<?, ?it/s]"
            ]
          },
          "metadata": {},
          "output_type": "display_data"
        },
        {
          "name": "stdout",
          "output_type": "stream",
          "text": [
            "Epoch 89/1000 | Val Loss: 0.6217 | Val Acc: 77.80% | LR: 0.000981\n"
          ]
        },
        {
          "data": {
            "application/vnd.jupyter.widget-view+json": {
              "model_id": "b016da4fe593457295bea67dfd541a8b",
              "version_major": 2,
              "version_minor": 0
            },
            "text/plain": [
              "Epoch 90/1000 Training:   0%|          | 0/704 [00:00<?, ?it/s]"
            ]
          },
          "metadata": {},
          "output_type": "display_data"
        },
        {
          "name": "stdout",
          "output_type": "stream",
          "text": [
            "Epoch 90/1000 | Val Loss: 0.6223 | Val Acc: 78.08% | LR: 0.000981\n"
          ]
        },
        {
          "data": {
            "application/vnd.jupyter.widget-view+json": {
              "model_id": "5002044c88494c28988851ef9bd741bd",
              "version_major": 2,
              "version_minor": 0
            },
            "text/plain": [
              "Epoch 91/1000 Training:   0%|          | 0/704 [00:00<?, ?it/s]"
            ]
          },
          "metadata": {},
          "output_type": "display_data"
        },
        {
          "name": "stdout",
          "output_type": "stream",
          "text": [
            "Epoch 91/1000 | Val Loss: 0.6156 | Val Acc: 78.56% | LR: 0.000980\n",
            "  -> Validation loss improved, saving model.\n"
          ]
        },
        {
          "data": {
            "application/vnd.jupyter.widget-view+json": {
              "model_id": "99d9a04e5e8e4216b0fd681c245b67f3",
              "version_major": 2,
              "version_minor": 0
            },
            "text/plain": [
              "Epoch 92/1000 Training:   0%|          | 0/704 [00:00<?, ?it/s]"
            ]
          },
          "metadata": {},
          "output_type": "display_data"
        },
        {
          "name": "stdout",
          "output_type": "stream",
          "text": [
            "Epoch 92/1000 | Val Loss: 0.6230 | Val Acc: 78.22% | LR: 0.000980\n"
          ]
        },
        {
          "data": {
            "application/vnd.jupyter.widget-view+json": {
              "model_id": "08ca587b97b0416c95d2030dbfab1c7f",
              "version_major": 2,
              "version_minor": 0
            },
            "text/plain": [
              "Epoch 93/1000 Training:   0%|          | 0/704 [00:00<?, ?it/s]"
            ]
          },
          "metadata": {},
          "output_type": "display_data"
        },
        {
          "name": "stdout",
          "output_type": "stream",
          "text": [
            "Epoch 93/1000 | Val Loss: 0.6192 | Val Acc: 78.58% | LR: 0.000979\n"
          ]
        },
        {
          "data": {
            "application/vnd.jupyter.widget-view+json": {
              "model_id": "cedde07267e94dd49efc7d6882611a32",
              "version_major": 2,
              "version_minor": 0
            },
            "text/plain": [
              "Epoch 94/1000 Training:   0%|          | 0/704 [00:00<?, ?it/s]"
            ]
          },
          "metadata": {},
          "output_type": "display_data"
        },
        {
          "name": "stdout",
          "output_type": "stream",
          "text": [
            "Epoch 94/1000 | Val Loss: 0.6200 | Val Acc: 78.20% | LR: 0.000979\n"
          ]
        },
        {
          "data": {
            "application/vnd.jupyter.widget-view+json": {
              "model_id": "00bf1a8541b44709aab8498f792f0a20",
              "version_major": 2,
              "version_minor": 0
            },
            "text/plain": [
              "Epoch 95/1000 Training:   0%|          | 0/704 [00:00<?, ?it/s]"
            ]
          },
          "metadata": {},
          "output_type": "display_data"
        },
        {
          "name": "stdout",
          "output_type": "stream",
          "text": [
            "Epoch 95/1000 | Val Loss: 0.6135 | Val Acc: 78.56% | LR: 0.000978\n",
            "  -> Validation loss improved, saving model.\n"
          ]
        },
        {
          "data": {
            "application/vnd.jupyter.widget-view+json": {
              "model_id": "db2d5b5617f7469a98d7be7b9c4b1c1b",
              "version_major": 2,
              "version_minor": 0
            },
            "text/plain": [
              "Epoch 96/1000 Training:   0%|          | 0/704 [00:00<?, ?it/s]"
            ]
          },
          "metadata": {},
          "output_type": "display_data"
        },
        {
          "name": "stdout",
          "output_type": "stream",
          "text": [
            "Epoch 96/1000 | Val Loss: 0.6170 | Val Acc: 78.10% | LR: 0.000978\n"
          ]
        },
        {
          "data": {
            "application/vnd.jupyter.widget-view+json": {
              "model_id": "d23ecb5af161447b966d5e3aaa7176e6",
              "version_major": 2,
              "version_minor": 0
            },
            "text/plain": [
              "Epoch 97/1000 Training:   0%|          | 0/704 [00:00<?, ?it/s]"
            ]
          },
          "metadata": {},
          "output_type": "display_data"
        },
        {
          "name": "stdout",
          "output_type": "stream",
          "text": [
            "Epoch 97/1000 | Val Loss: 0.6105 | Val Acc: 78.30% | LR: 0.000977\n",
            "  -> Validation loss improved, saving model.\n"
          ]
        },
        {
          "data": {
            "application/vnd.jupyter.widget-view+json": {
              "model_id": "9789a11a18404ce6a10228e32b1ba0ff",
              "version_major": 2,
              "version_minor": 0
            },
            "text/plain": [
              "Epoch 98/1000 Training:   0%|          | 0/704 [00:00<?, ?it/s]"
            ]
          },
          "metadata": {},
          "output_type": "display_data"
        },
        {
          "name": "stdout",
          "output_type": "stream",
          "text": [
            "Epoch 98/1000 | Val Loss: 0.6213 | Val Acc: 77.90% | LR: 0.000977\n"
          ]
        },
        {
          "data": {
            "application/vnd.jupyter.widget-view+json": {
              "model_id": "a0bad6923bbb4f8ca9bc80c065c9e37a",
              "version_major": 2,
              "version_minor": 0
            },
            "text/plain": [
              "Epoch 99/1000 Training:   0%|          | 0/704 [00:00<?, ?it/s]"
            ]
          },
          "metadata": {},
          "output_type": "display_data"
        },
        {
          "name": "stdout",
          "output_type": "stream",
          "text": [
            "Epoch 99/1000 | Val Loss: 0.6201 | Val Acc: 77.96% | LR: 0.000976\n"
          ]
        },
        {
          "data": {
            "application/vnd.jupyter.widget-view+json": {
              "model_id": "a78fd5a3dfeb4ff2a45a4464eac83af2",
              "version_major": 2,
              "version_minor": 0
            },
            "text/plain": [
              "Epoch 100/1000 Training:   0%|          | 0/704 [00:00<?, ?it/s]"
            ]
          },
          "metadata": {},
          "output_type": "display_data"
        },
        {
          "name": "stdout",
          "output_type": "stream",
          "text": [
            "Epoch 100/1000 | Val Loss: 0.6184 | Val Acc: 78.24% | LR: 0.000976\n"
          ]
        },
        {
          "data": {
            "application/vnd.jupyter.widget-view+json": {
              "model_id": "95c1f246360847c69f2f7febf82db466",
              "version_major": 2,
              "version_minor": 0
            },
            "text/plain": [
              "Epoch 101/1000 Training:   0%|          | 0/704 [00:00<?, ?it/s]"
            ]
          },
          "metadata": {},
          "output_type": "display_data"
        },
        {
          "name": "stdout",
          "output_type": "stream",
          "text": [
            "Epoch 101/1000 | Val Loss: 0.6126 | Val Acc: 78.24% | LR: 0.000976\n"
          ]
        },
        {
          "data": {
            "application/vnd.jupyter.widget-view+json": {
              "model_id": "d384b90a259b4d6195078a92d6132617",
              "version_major": 2,
              "version_minor": 0
            },
            "text/plain": [
              "Epoch 102/1000 Training:   0%|          | 0/704 [00:00<?, ?it/s]"
            ]
          },
          "metadata": {},
          "output_type": "display_data"
        },
        {
          "name": "stdout",
          "output_type": "stream",
          "text": [
            "Epoch 102/1000 | Val Loss: 0.6230 | Val Acc: 77.68% | LR: 0.000975\n"
          ]
        },
        {
          "data": {
            "application/vnd.jupyter.widget-view+json": {
              "model_id": "10170bbe18014c93be8b9f95fbd4f731",
              "version_major": 2,
              "version_minor": 0
            },
            "text/plain": [
              "Epoch 103/1000 Training:   0%|          | 0/704 [00:00<?, ?it/s]"
            ]
          },
          "metadata": {},
          "output_type": "display_data"
        },
        {
          "name": "stdout",
          "output_type": "stream",
          "text": [
            "Epoch 103/1000 | Val Loss: 0.6189 | Val Acc: 78.24% | LR: 0.000975\n"
          ]
        },
        {
          "data": {
            "application/vnd.jupyter.widget-view+json": {
              "model_id": "f26af64b98f54b80b028df1483e9988c",
              "version_major": 2,
              "version_minor": 0
            },
            "text/plain": [
              "Epoch 104/1000 Training:   0%|          | 0/704 [00:00<?, ?it/s]"
            ]
          },
          "metadata": {},
          "output_type": "display_data"
        },
        {
          "name": "stdout",
          "output_type": "stream",
          "text": [
            "Epoch 104/1000 | Val Loss: 0.6128 | Val Acc: 78.66% | LR: 0.000974\n"
          ]
        },
        {
          "data": {
            "application/vnd.jupyter.widget-view+json": {
              "model_id": "2612f76fa3e444168c485aee03cd37de",
              "version_major": 2,
              "version_minor": 0
            },
            "text/plain": [
              "Epoch 105/1000 Training:   0%|          | 0/704 [00:00<?, ?it/s]"
            ]
          },
          "metadata": {},
          "output_type": "display_data"
        },
        {
          "name": "stdout",
          "output_type": "stream",
          "text": [
            "Epoch 105/1000 | Val Loss: 0.6116 | Val Acc: 78.74% | LR: 0.000974\n"
          ]
        },
        {
          "data": {
            "application/vnd.jupyter.widget-view+json": {
              "model_id": "35b65021c3f046e5a46c5067267d9024",
              "version_major": 2,
              "version_minor": 0
            },
            "text/plain": [
              "Epoch 106/1000 Training:   0%|          | 0/704 [00:00<?, ?it/s]"
            ]
          },
          "metadata": {},
          "output_type": "display_data"
        },
        {
          "name": "stdout",
          "output_type": "stream",
          "text": [
            "Epoch 106/1000 | Val Loss: 0.6226 | Val Acc: 78.44% | LR: 0.000973\n"
          ]
        },
        {
          "data": {
            "application/vnd.jupyter.widget-view+json": {
              "model_id": "b53d251e91044d7bb9d9f08c2c67c2ec",
              "version_major": 2,
              "version_minor": 0
            },
            "text/plain": [
              "Epoch 107/1000 Training:   0%|          | 0/704 [00:00<?, ?it/s]"
            ]
          },
          "metadata": {},
          "output_type": "display_data"
        },
        {
          "name": "stdout",
          "output_type": "stream",
          "text": [
            "Epoch 107/1000 | Val Loss: 0.6105 | Val Acc: 78.52% | LR: 0.000973\n",
            "  -> Validation loss improved, saving model.\n"
          ]
        },
        {
          "data": {
            "application/vnd.jupyter.widget-view+json": {
              "model_id": "92ca659f57cf481eb35b02094f170faa",
              "version_major": 2,
              "version_minor": 0
            },
            "text/plain": [
              "Epoch 108/1000 Training:   0%|          | 0/704 [00:00<?, ?it/s]"
            ]
          },
          "metadata": {},
          "output_type": "display_data"
        },
        {
          "name": "stdout",
          "output_type": "stream",
          "text": [
            "Epoch 108/1000 | Val Loss: 0.6166 | Val Acc: 78.60% | LR: 0.000972\n"
          ]
        },
        {
          "data": {
            "application/vnd.jupyter.widget-view+json": {
              "model_id": "8e4af9e6640e41db885bef48a6525145",
              "version_major": 2,
              "version_minor": 0
            },
            "text/plain": [
              "Epoch 109/1000 Training:   0%|          | 0/704 [00:00<?, ?it/s]"
            ]
          },
          "metadata": {},
          "output_type": "display_data"
        },
        {
          "name": "stdout",
          "output_type": "stream",
          "text": [
            "Epoch 109/1000 | Val Loss: 0.6043 | Val Acc: 78.86% | LR: 0.000971\n",
            "  -> Validation loss improved, saving model.\n"
          ]
        },
        {
          "data": {
            "application/vnd.jupyter.widget-view+json": {
              "model_id": "3d45614785674abe8e0f5836e60541d0",
              "version_major": 2,
              "version_minor": 0
            },
            "text/plain": [
              "Epoch 110/1000 Training:   0%|          | 0/704 [00:00<?, ?it/s]"
            ]
          },
          "metadata": {},
          "output_type": "display_data"
        },
        {
          "name": "stdout",
          "output_type": "stream",
          "text": [
            "Epoch 110/1000 | Val Loss: 0.6094 | Val Acc: 78.58% | LR: 0.000971\n"
          ]
        },
        {
          "data": {
            "application/vnd.jupyter.widget-view+json": {
              "model_id": "b4b47a584a6046cdbb5d04e1711c16bc",
              "version_major": 2,
              "version_minor": 0
            },
            "text/plain": [
              "Epoch 111/1000 Training:   0%|          | 0/704 [00:00<?, ?it/s]"
            ]
          },
          "metadata": {},
          "output_type": "display_data"
        },
        {
          "name": "stdout",
          "output_type": "stream",
          "text": [
            "Epoch 111/1000 | Val Loss: 0.6090 | Val Acc: 78.58% | LR: 0.000970\n"
          ]
        },
        {
          "data": {
            "application/vnd.jupyter.widget-view+json": {
              "model_id": "c07a359f3e6042ee82d535c1b0aabb63",
              "version_major": 2,
              "version_minor": 0
            },
            "text/plain": [
              "Epoch 112/1000 Training:   0%|          | 0/704 [00:00<?, ?it/s]"
            ]
          },
          "metadata": {},
          "output_type": "display_data"
        },
        {
          "name": "stdout",
          "output_type": "stream",
          "text": [
            "Epoch 112/1000 | Val Loss: 0.6066 | Val Acc: 78.54% | LR: 0.000970\n"
          ]
        },
        {
          "data": {
            "application/vnd.jupyter.widget-view+json": {
              "model_id": "ead441015045459a9d135b62e0e9bcdf",
              "version_major": 2,
              "version_minor": 0
            },
            "text/plain": [
              "Epoch 113/1000 Training:   0%|          | 0/704 [00:00<?, ?it/s]"
            ]
          },
          "metadata": {},
          "output_type": "display_data"
        },
        {
          "name": "stdout",
          "output_type": "stream",
          "text": [
            "Epoch 113/1000 | Val Loss: 0.6100 | Val Acc: 78.40% | LR: 0.000969\n"
          ]
        },
        {
          "data": {
            "application/vnd.jupyter.widget-view+json": {
              "model_id": "c688baef0d134c18971405658946cc0e",
              "version_major": 2,
              "version_minor": 0
            },
            "text/plain": [
              "Epoch 114/1000 Training:   0%|          | 0/704 [00:00<?, ?it/s]"
            ]
          },
          "metadata": {},
          "output_type": "display_data"
        },
        {
          "name": "stdout",
          "output_type": "stream",
          "text": [
            "Epoch 114/1000 | Val Loss: 0.6054 | Val Acc: 78.50% | LR: 0.000969\n"
          ]
        },
        {
          "data": {
            "application/vnd.jupyter.widget-view+json": {
              "model_id": "d1e177edbef84e73a1d3d2d86f1f0fd6",
              "version_major": 2,
              "version_minor": 0
            },
            "text/plain": [
              "Epoch 115/1000 Training:   0%|          | 0/704 [00:00<?, ?it/s]"
            ]
          },
          "metadata": {},
          "output_type": "display_data"
        },
        {
          "name": "stdout",
          "output_type": "stream",
          "text": [
            "Epoch 115/1000 | Val Loss: 0.6068 | Val Acc: 78.74% | LR: 0.000968\n"
          ]
        },
        {
          "data": {
            "application/vnd.jupyter.widget-view+json": {
              "model_id": "86c40d9ccdc64fd3afa925674bb0a983",
              "version_major": 2,
              "version_minor": 0
            },
            "text/plain": [
              "Epoch 116/1000 Training:   0%|          | 0/704 [00:00<?, ?it/s]"
            ]
          },
          "metadata": {},
          "output_type": "display_data"
        },
        {
          "name": "stdout",
          "output_type": "stream",
          "text": [
            "Epoch 116/1000 | Val Loss: 0.6035 | Val Acc: 78.60% | LR: 0.000968\n",
            "  -> Validation loss improved, saving model.\n"
          ]
        },
        {
          "data": {
            "application/vnd.jupyter.widget-view+json": {
              "model_id": "70337e15c7f54c7f9f6afc091da9276c",
              "version_major": 2,
              "version_minor": 0
            },
            "text/plain": [
              "Epoch 117/1000 Training:   0%|          | 0/704 [00:00<?, ?it/s]"
            ]
          },
          "metadata": {},
          "output_type": "display_data"
        },
        {
          "name": "stdout",
          "output_type": "stream",
          "text": [
            "Epoch 117/1000 | Val Loss: 0.6138 | Val Acc: 78.28% | LR: 0.000967\n"
          ]
        },
        {
          "data": {
            "application/vnd.jupyter.widget-view+json": {
              "model_id": "80498682e38542259e122adfab615374",
              "version_major": 2,
              "version_minor": 0
            },
            "text/plain": [
              "Epoch 118/1000 Training:   0%|          | 0/704 [00:00<?, ?it/s]"
            ]
          },
          "metadata": {},
          "output_type": "display_data"
        },
        {
          "name": "stdout",
          "output_type": "stream",
          "text": [
            "Epoch 118/1000 | Val Loss: 0.6061 | Val Acc: 78.46% | LR: 0.000967\n"
          ]
        },
        {
          "data": {
            "application/vnd.jupyter.widget-view+json": {
              "model_id": "e70de6555b03488bbb80150f9389ea9f",
              "version_major": 2,
              "version_minor": 0
            },
            "text/plain": [
              "Epoch 119/1000 Training:   0%|          | 0/704 [00:00<?, ?it/s]"
            ]
          },
          "metadata": {},
          "output_type": "display_data"
        },
        {
          "name": "stdout",
          "output_type": "stream",
          "text": [
            "Epoch 119/1000 | Val Loss: 0.6112 | Val Acc: 78.74% | LR: 0.000966\n"
          ]
        },
        {
          "data": {
            "application/vnd.jupyter.widget-view+json": {
              "model_id": "9926d4acd7bb42e98af0010e8500b5e7",
              "version_major": 2,
              "version_minor": 0
            },
            "text/plain": [
              "Epoch 120/1000 Training:   0%|          | 0/704 [00:00<?, ?it/s]"
            ]
          },
          "metadata": {},
          "output_type": "display_data"
        },
        {
          "name": "stdout",
          "output_type": "stream",
          "text": [
            "Epoch 120/1000 | Val Loss: 0.6048 | Val Acc: 78.84% | LR: 0.000965\n"
          ]
        },
        {
          "data": {
            "application/vnd.jupyter.widget-view+json": {
              "model_id": "a89b9264c3fd493abaebdeef1b8ad57e",
              "version_major": 2,
              "version_minor": 0
            },
            "text/plain": [
              "Epoch 121/1000 Training:   0%|          | 0/704 [00:00<?, ?it/s]"
            ]
          },
          "metadata": {},
          "output_type": "display_data"
        },
        {
          "name": "stdout",
          "output_type": "stream",
          "text": [
            "Epoch 121/1000 | Val Loss: 0.6159 | Val Acc: 78.32% | LR: 0.000965\n"
          ]
        },
        {
          "data": {
            "application/vnd.jupyter.widget-view+json": {
              "model_id": "5e85811df68f40bfa4752794aed56566",
              "version_major": 2,
              "version_minor": 0
            },
            "text/plain": [
              "Epoch 122/1000 Training:   0%|          | 0/704 [00:00<?, ?it/s]"
            ]
          },
          "metadata": {},
          "output_type": "display_data"
        },
        {
          "name": "stdout",
          "output_type": "stream",
          "text": [
            "Epoch 122/1000 | Val Loss: 0.6058 | Val Acc: 78.54% | LR: 0.000964\n"
          ]
        },
        {
          "data": {
            "application/vnd.jupyter.widget-view+json": {
              "model_id": "fde1526482814c9ea577b3e747c67669",
              "version_major": 2,
              "version_minor": 0
            },
            "text/plain": [
              "Epoch 123/1000 Training:   0%|          | 0/704 [00:00<?, ?it/s]"
            ]
          },
          "metadata": {},
          "output_type": "display_data"
        },
        {
          "name": "stdout",
          "output_type": "stream",
          "text": [
            "Epoch 123/1000 | Val Loss: 0.6097 | Val Acc: 78.58% | LR: 0.000964\n"
          ]
        },
        {
          "data": {
            "application/vnd.jupyter.widget-view+json": {
              "model_id": "14b7363f67bb467790add359295a1e23",
              "version_major": 2,
              "version_minor": 0
            },
            "text/plain": [
              "Epoch 124/1000 Training:   0%|          | 0/704 [00:00<?, ?it/s]"
            ]
          },
          "metadata": {},
          "output_type": "display_data"
        },
        {
          "name": "stdout",
          "output_type": "stream",
          "text": [
            "Epoch 124/1000 | Val Loss: 0.5997 | Val Acc: 78.52% | LR: 0.000963\n",
            "  -> Validation loss improved, saving model.\n"
          ]
        },
        {
          "data": {
            "application/vnd.jupyter.widget-view+json": {
              "model_id": "49de48ccaa654037a7f8e7b6209e01d6",
              "version_major": 2,
              "version_minor": 0
            },
            "text/plain": [
              "Epoch 125/1000 Training:   0%|          | 0/704 [00:00<?, ?it/s]"
            ]
          },
          "metadata": {},
          "output_type": "display_data"
        },
        {
          "name": "stdout",
          "output_type": "stream",
          "text": [
            "Epoch 125/1000 | Val Loss: 0.6065 | Val Acc: 78.58% | LR: 0.000963\n"
          ]
        },
        {
          "data": {
            "application/vnd.jupyter.widget-view+json": {
              "model_id": "0ae2866dce10474da32151d7b1c914eb",
              "version_major": 2,
              "version_minor": 0
            },
            "text/plain": [
              "Epoch 126/1000 Training:   0%|          | 0/704 [00:00<?, ?it/s]"
            ]
          },
          "metadata": {},
          "output_type": "display_data"
        },
        {
          "name": "stdout",
          "output_type": "stream",
          "text": [
            "Epoch 126/1000 | Val Loss: 0.6063 | Val Acc: 78.60% | LR: 0.000962\n"
          ]
        },
        {
          "data": {
            "application/vnd.jupyter.widget-view+json": {
              "model_id": "bddcba4cb6194677b5392c02ac2401e5",
              "version_major": 2,
              "version_minor": 0
            },
            "text/plain": [
              "Epoch 127/1000 Training:   0%|          | 0/704 [00:00<?, ?it/s]"
            ]
          },
          "metadata": {},
          "output_type": "display_data"
        },
        {
          "name": "stdout",
          "output_type": "stream",
          "text": [
            "Epoch 127/1000 | Val Loss: 0.5949 | Val Acc: 79.10% | LR: 0.000961\n",
            "  -> Validation loss improved, saving model.\n"
          ]
        },
        {
          "data": {
            "application/vnd.jupyter.widget-view+json": {
              "model_id": "aed266933aa54edfb6b70c11f9bf8fb4",
              "version_major": 2,
              "version_minor": 0
            },
            "text/plain": [
              "Epoch 128/1000 Training:   0%|          | 0/704 [00:00<?, ?it/s]"
            ]
          },
          "metadata": {},
          "output_type": "display_data"
        },
        {
          "name": "stdout",
          "output_type": "stream",
          "text": [
            "Epoch 128/1000 | Val Loss: 0.6018 | Val Acc: 78.90% | LR: 0.000961\n"
          ]
        },
        {
          "data": {
            "application/vnd.jupyter.widget-view+json": {
              "model_id": "1c89159392964c5382efa29cdff5cd4a",
              "version_major": 2,
              "version_minor": 0
            },
            "text/plain": [
              "Epoch 129/1000 Training:   0%|          | 0/704 [00:00<?, ?it/s]"
            ]
          },
          "metadata": {},
          "output_type": "display_data"
        },
        {
          "name": "stdout",
          "output_type": "stream",
          "text": [
            "Epoch 129/1000 | Val Loss: 0.6026 | Val Acc: 78.52% | LR: 0.000960\n"
          ]
        },
        {
          "data": {
            "application/vnd.jupyter.widget-view+json": {
              "model_id": "3e66ce736e5641f9be214e3f4f2823f2",
              "version_major": 2,
              "version_minor": 0
            },
            "text/plain": [
              "Epoch 130/1000 Training:   0%|          | 0/704 [00:00<?, ?it/s]"
            ]
          },
          "metadata": {},
          "output_type": "display_data"
        },
        {
          "name": "stdout",
          "output_type": "stream",
          "text": [
            "Epoch 130/1000 | Val Loss: 0.6072 | Val Acc: 78.98% | LR: 0.000959\n"
          ]
        },
        {
          "data": {
            "application/vnd.jupyter.widget-view+json": {
              "model_id": "5d4073a79ae242ddb8e389f98d51dbd9",
              "version_major": 2,
              "version_minor": 0
            },
            "text/plain": [
              "Epoch 131/1000 Training:   0%|          | 0/704 [00:00<?, ?it/s]"
            ]
          },
          "metadata": {},
          "output_type": "display_data"
        },
        {
          "name": "stdout",
          "output_type": "stream",
          "text": [
            "Epoch 131/1000 | Val Loss: 0.6052 | Val Acc: 78.46% | LR: 0.000959\n"
          ]
        },
        {
          "data": {
            "application/vnd.jupyter.widget-view+json": {
              "model_id": "173cbcc7bf994cfea2fbc10934670c10",
              "version_major": 2,
              "version_minor": 0
            },
            "text/plain": [
              "Epoch 132/1000 Training:   0%|          | 0/704 [00:00<?, ?it/s]"
            ]
          },
          "metadata": {},
          "output_type": "display_data"
        },
        {
          "name": "stdout",
          "output_type": "stream",
          "text": [
            "Epoch 132/1000 | Val Loss: 0.5984 | Val Acc: 79.36% | LR: 0.000958\n"
          ]
        },
        {
          "data": {
            "application/vnd.jupyter.widget-view+json": {
              "model_id": "8478e3170ad6492a9aa343af3871aeaf",
              "version_major": 2,
              "version_minor": 0
            },
            "text/plain": [
              "Epoch 133/1000 Training:   0%|          | 0/704 [00:00<?, ?it/s]"
            ]
          },
          "metadata": {},
          "output_type": "display_data"
        },
        {
          "name": "stdout",
          "output_type": "stream",
          "text": [
            "Epoch 133/1000 | Val Loss: 0.6020 | Val Acc: 78.78% | LR: 0.000958\n"
          ]
        },
        {
          "data": {
            "application/vnd.jupyter.widget-view+json": {
              "model_id": "a48a87b3c4514084a417da52ea8e0b6f",
              "version_major": 2,
              "version_minor": 0
            },
            "text/plain": [
              "Epoch 134/1000 Training:   0%|          | 0/704 [00:00<?, ?it/s]"
            ]
          },
          "metadata": {},
          "output_type": "display_data"
        },
        {
          "name": "stdout",
          "output_type": "stream",
          "text": [
            "Epoch 134/1000 | Val Loss: 0.6083 | Val Acc: 78.64% | LR: 0.000957\n"
          ]
        },
        {
          "data": {
            "application/vnd.jupyter.widget-view+json": {
              "model_id": "5190d854f6054512b6ffc17fa92a6643",
              "version_major": 2,
              "version_minor": 0
            },
            "text/plain": [
              "Epoch 135/1000 Training:   0%|          | 0/704 [00:00<?, ?it/s]"
            ]
          },
          "metadata": {},
          "output_type": "display_data"
        },
        {
          "name": "stdout",
          "output_type": "stream",
          "text": [
            "Epoch 135/1000 | Val Loss: 0.6004 | Val Acc: 79.06% | LR: 0.000956\n"
          ]
        },
        {
          "data": {
            "application/vnd.jupyter.widget-view+json": {
              "model_id": "b3a32e1d99264afda849876a36508ae9",
              "version_major": 2,
              "version_minor": 0
            },
            "text/plain": [
              "Epoch 136/1000 Training:   0%|          | 0/704 [00:00<?, ?it/s]"
            ]
          },
          "metadata": {},
          "output_type": "display_data"
        },
        {
          "name": "stdout",
          "output_type": "stream",
          "text": [
            "Epoch 136/1000 | Val Loss: 0.5990 | Val Acc: 78.98% | LR: 0.000956\n"
          ]
        },
        {
          "data": {
            "application/vnd.jupyter.widget-view+json": {
              "model_id": "e8b303dd63bc43789a9bb5eedc0a97f9",
              "version_major": 2,
              "version_minor": 0
            },
            "text/plain": [
              "Epoch 137/1000 Training:   0%|          | 0/704 [00:00<?, ?it/s]"
            ]
          },
          "metadata": {},
          "output_type": "display_data"
        },
        {
          "name": "stdout",
          "output_type": "stream",
          "text": [
            "Epoch 137/1000 | Val Loss: 0.6044 | Val Acc: 78.34% | LR: 0.000955\n",
            "  -> Early stopping triggered after 10 epochs with no improvement.\n",
            "Final Distilled Student (ResNet-18) Test Accuracy: 77.74%\n"
          ]
        }
      ],
      "source": [
        "# --- Main Experiment ---\n",
        "teacher_model = AutoModelForImageClassification.from_pretrained(\"jialicheng/cifar100-resnet-50\")\n",
        "teacher_model.to(DEVICE)\n",
        "teacher_model.eval()\n",
        "\n",
        "print(\"\\n--- Evaluating Teacher Model ---\")\n",
        "teacher_test_loader = DataLoader(TransformedDataset(test_dataset_pil, eval_transform), batch_size=BATCH_SIZE)\n",
        "teacher_accuracy = evaluate(teacher_model, teacher_test_loader, is_teacher=True)\n",
        "print(f\"Teacher (ResNet-50) Test Accuracy: {teacher_accuracy:.2f}%\")\n",
        "\n",
        "if os.path.exists(LOGITS_LOOKUP_PATH):\n",
        "    print(f\"\\n--- Loading pre-computed logit lookup table from {LOGITS_LOOKUP_PATH} ---\")\n",
        "    teacher_logits_lookup = torch.load(LOGITS_LOOKUP_PATH)\n",
        "else:\n",
        "    print(\"\\n--- Pre-computing teacher logit lookup table (this will take a while)... ---\")\n",
        "    # Logits are computed on the clean, non-augmented data\n",
        "    teacher_logits_lookup = get_teacher_logits_lookup(teacher_model, full_train_dataset_pil, eval_transform, DEVICE)\n",
        "    print(f\"--- Saving computed lookup table to {LOGITS_LOOKUP_PATH} for future use... ---\")\n",
        "    torch.save(teacher_logits_lookup, LOGITS_LOOKUP_PATH)\n",
        "\n",
        "print(f\"Loaded {len(teacher_logits_lookup)} total logits into lookup table.\")\n",
        "\n",
        "del teacher_model\n",
        "torch.cuda.empty_cache()\n",
        "\n",
        "print(\"\\n--- Creating and saving a common initial state for student models ---\")\n",
        "initial_student_model = StudentNet().to(DEVICE)\n",
        "initial_student_state_dict = copy.deepcopy(initial_student_model.state_dict())\n",
        "print(\"Initial state saved. This will be used for both baseline and distilled students.\")\n",
        "del initial_student_model\n",
        "torch.cuda.empty_cache()\n",
        "\n",
        "\n",
        "print(\"\\n--- Training Student from Scratch (Baseline) ---\")\n",
        "student_baseline = StudentNet().to(DEVICE)\n",
        "student_baseline.load_state_dict(initial_student_state_dict)\n",
        "\n",
        "optimizer_baseline = optim.Adam(student_baseline.parameters(), lr=LR)\n",
        "loss_fn_baseline = nn.CrossEntropyLoss()\n",
        "\n",
        "# Create baseline datasets by applying the correct transforms to the PIL subsets\n",
        "baseline_train_dataset = TransformedDataset(train_subset_pil, student_transform)\n",
        "baseline_val_dataset = TransformedDataset(val_subset_pil, eval_transform)\n",
        "baseline_train_loader = DataLoader(baseline_train_dataset, batch_size=BATCH_SIZE, shuffle=True)\n",
        "baseline_val_loader = DataLoader(baseline_val_dataset, batch_size=BATCH_SIZE, shuffle=False)\n",
        "\n",
        "student_baseline = train_and_validate(\n",
        "    student_baseline, baseline_train_loader, baseline_val_loader, optimizer_baseline,\n",
        "    loss_fn_baseline, EPOCHS, PATIENCE, is_distillation=False\n",
        ")\n",
        "final_test_loader = DataLoader(TransformedDataset(test_dataset_pil, eval_transform), batch_size=BATCH_SIZE)\n",
        "baseline_accuracy = evaluate(student_baseline, final_test_loader)\n",
        "print(f\"Final Baseline Student (ResNet-18) Test Accuracy: {baseline_accuracy:.2f}%\")\n",
        "\n",
        "\n",
        "print(\"\\n--- Training Distilled Student (with pre-computed logits) ---\")\n",
        "student_distilled = StudentNet().to(DEVICE)\n",
        "student_distilled.load_state_dict(initial_student_state_dict)\n",
        "\n",
        "optimizer_distilled = optim.Adam(student_distilled.parameters(), lr=LR)\n",
        "loss_fn_distilled = distillation_loss\n",
        "\n",
        "# Create distillation datasets, applying the correct transforms\n",
        "distill_train_dataset = DistillationDataset(train_subset_pil, teacher_logits_lookup, transform=student_transform)\n",
        "distill_val_dataset = DistillationDataset(val_subset_pil, teacher_logits_lookup, transform=eval_transform)\n",
        "distill_train_loader = DataLoader(distill_train_dataset, batch_size=BATCH_SIZE, shuffle=True)\n",
        "distill_val_loader = DataLoader(distill_val_dataset, batch_size=BATCH_SIZE, shuffle=False)\n",
        "\n",
        "student_distilled = train_and_validate(\n",
        "    student_distilled, distill_train_loader, distill_val_loader, optimizer_distilled,\n",
        "    loss_fn_distilled, EPOCHS, PATIENCE, is_distillation=True\n",
        ")\n",
        "distilled_accuracy = evaluate(student_distilled, final_test_loader)\n",
        "print(f\"Final Distilled Student (ResNet-18) Test Accuracy: {distilled_accuracy:.2f}%\")"
      ]
    },
    {
      "cell_type": "markdown",
      "metadata": {
        "id": "Tmu0LeAhrImK"
      },
      "source": [
        "## Final Results (ResNet-18 Student)\n",
        "Finally, we compare the performance of the powerful ResNet-50 teacher, our baseline ResNet-18 student, and the distilled ResNet-18 student."
      ]
    },
    {
      "cell_type": "code",
      "execution_count": null,
      "metadata": {
        "colab": {
          "base_uri": "https://localhost:8080/"
        },
        "id": "DTtgswYqrImL",
        "outputId": "d7f2d300-5691-4033-87ef-f21efca6b2e8",
        "trusted": true
      },
      "outputs": [
        {
          "name": "stdout",
          "output_type": "stream",
          "text": [
            "\n",
            "\n",
            "--- FINAL COMPREHENSIVE RESULTS (ResNet-18 Student) ---\n",
            "Teacher (ResNet-50) Accuracy: 82.75%\n",
            "Student (Baseline - ResNet18) Accuracy:  63.94%\n",
            "Student (Distilled - ResNet18) Accuracy: 77.74%\n",
            "---------------------------------\n",
            "Improvement with Distillation: 13.80%\n"
          ]
        }
      ],
      "source": [
        "print(\"\\n\\n--- FINAL COMPREHENSIVE RESULTS (ResNet-18 Student) ---\")\n",
        "print(f\"Teacher (ResNet-50) Accuracy: {teacher_accuracy:.2f}%\")\n",
        "print(f\"Student (Baseline - ResNet18) Accuracy:  {baseline_accuracy:.2f}%\")\n",
        "print(f\"Student (Distilled - ResNet18) Accuracy: {distilled_accuracy:.2f}%\")\n",
        "print(\"---------------------------------\")\n",
        "improvement = distilled_accuracy - baseline_accuracy\n",
        "print(f\"Improvement with Distillation: {improvement:.2f}%\")"
      ]
    },
    {
      "cell_type": "markdown",
      "metadata": {
        "id": "54JbXmCnrImL"
      },
      "source": [
        "## Key Observations\n",
        "\n",
        "Some critical insights emerge from these experiments:\n",
        "\n",
        "*  **Distillation is More Impactful on Complex Tasks:** The accuracy improvement from distillation was notably greater on the 100-class CIFAR-100 dataset than on the 10-class CIFAR-10. This suggests that the value of the teacher's \"dark knowledge\" is magnified when the classification task is more complex and the decision boundaries are harder to define.\n",
        "\n",
        "*  **Bridging the Performance Gap:** The final experiment with the ResNet-18 student is particularly compelling. Despite being a significantly smaller and more computationally efficient model than the ResNet-50 teacher, the distilled student achieved a test accuracy that nearly closed the performance gap between them. This powerfully illustrates the primary promise of knowledge distillation: to create compact, efficient models that retain the high performance of much larger counterparts, making them viable for deployment in resource-constrained environments.\n",
        "\n",
        "* **Distillation Enables More Stable and Prolonged Training**: The logs clearly show that the distilled student model continued to improve its validation loss for many more epochs compared to the baseline student, which quickly overfit and triggered early stopping. This demonstrates that the teacher's soft targets act as a powerful regulariser, providing a consistent learning signal that prevents the student from simply memorising the hard labels. The resulting accuracy improvement on the complex CIFAR-100 task is a direct result of this guided and more robust training process.\n",
        "\n",
        "# Concluding Remarks and Future Directions\n",
        "\n",
        "The experiments in this notebook successfully demonstrate the core principles and effectiveness of knowledge distillation. By transferring knowledge from a large, pre-trained teacher model to smaller student models using softened logits, we observed significant performance improvements across both the CIFAR-10 and CIFAR-100 datasets.\n",
        "\n",
        "**However, this implementation explores only one form of distillation signal**. Further elements which could easily be added to the current notebook are the following (but there are many more!):\n",
        "\n",
        "*   **Intermediate Feature Matching:** A highly effective technique involves compelling the student to mimic the teacher's internal \"thought process\". This can be achieved by adding a loss term that minimises the difference between the feature maps of the student's intermediate layers and those of the teacher. For instance, one could match the output of the final feature extraction block in the student's `StudentNet` with the corresponding block in the teacher, forcing the student to learn the teacher's method of feature representation, not just its final prediction.\n",
        "\n",
        "*   **Dynamic Distillation Schedules:** The influence of the different loss components does not have to be static. Advanced methods often involve scheduling the hyperparameters during training. For example, the `alpha` parameter could be annealed over time, starting with a high reliance on the teacher's guidance (`alpha` is low) and gradually increasing the weight of the ground-truth labels as the student model becomes more capable.\n",
        "  \n",
        "We anticipate that these and other advanced techniques might not show a big improvement like the one we have seen here, but they are likely to further enhance the student's ability to generalise and learn from the teacher's knowledge, **maybe even reaching or surpassing the teacher's performance.**\n",
        "\n",
        "Indeed, we have performed some preliminary tests with intermediate feature matching and got slightly better results, but we have not included them here to keep the focus on the core principles and because the improvements were not as significant as the ones we have here (and feature matching is also a lot more computationally expensive, especially in its refined forms).\n",
        "\n",
        "One fascinating aspect we can think of is distillation for LLMs: intuitively, as we’ve moved to CIFAR-100, the task has become more complex and the teacher's knowledge more valuable. This suggests that distillation could be even more powerful in the context of LLMs, where next-token prediction is essentially a very large classification task over the vocabulary. Indeed, KD for LLMs exactly started by levaeraging the distillation signal originally proposed by Hinton – the one we have used here."
      ]
    },
    {
      "cell_type": "markdown",
      "metadata": {},
      "source": [
        "> Knowledge distillation remains something of an art: you need to experiment and find the right balance of models, data, and techniques for your specific task to achieve optimal results."
      ]
    }
  ],
  "metadata": {
    "accelerator": "GPU",
    "colab": {
      "gpuType": "T4",
      "include_colab_link": true,
      "provenance": []
    },
    "kaggle": {
      "accelerator": "gpu",
      "dataSources": [],
      "dockerImageVersionId": 31090,
      "isGpuEnabled": true,
      "isInternetEnabled": true,
      "language": "python",
      "sourceType": "notebook"
    },
    "kernelspec": {
      "display_name": "Python 3",
      "name": "python3"
    },
    "language_info": {
      "codemirror_mode": {
        "name": "ipython",
        "version": 3
      },
      "file_extension": ".py",
      "mimetype": "text/x-python",
      "name": "python",
      "nbconvert_exporter": "python",
      "pygments_lexer": "ipython3",
      "version": "3.11.13"
    }
  },
  "nbformat": 4,
  "nbformat_minor": 0
}
