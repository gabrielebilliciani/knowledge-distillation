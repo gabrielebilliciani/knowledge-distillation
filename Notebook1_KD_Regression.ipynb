{
  "cells": [
    {
      "cell_type": "markdown",
      "metadata": {
        "id": "view-in-github",
        "colab_type": "text"
      },
      "source": [
        "<a href=\"https://colab.research.google.com/github/gabrielebilliciani/knowledge-distillation/blob/main/Notebook1_KD_Regression.ipynb\" target=\"_parent\"><img src=\"https://colab.research.google.com/assets/colab-badge.svg\" alt=\"Open In Colab\"/></a>"
      ]
    },
    {
      "cell_type": "markdown",
      "metadata": {
        "id": "introduction.md"
      },
      "source": [
        "# Knowledge Distillation for Regression\n",
        "\n",
        " > **Note**: This notebook is part of an introductory project on Knowledge Distillation. It serves as a practical companion to the main presentation slides. The complete project is available on GitHub at: https://github.com/gabrielebilliciani/knowledge-distillation\n",
        "\n",
        "This notebook provides a practical demonstration of **Knowledge Distillation (KD)** applied to a regression task. The core principle of KD is to transfer \"knowledge\" from a large, complex, and high-performing **teacher** model to a smaller, more efficient **student** model. The goal is to enable the student to achieve performance that surpasses what it could learn on its own, thereby creating a model that is both accurate and computationally inexpensive.\n",
        "\n",
        "### Teacher & Student Architecture Philosophy\n",
        "\n",
        "We will design our models with distinct roles in mind:\n",
        "*   **Teacher Model:** A deep neural network (6-8 fully-connected layers) with a high capacity to learn complex mappings from the data. It will use advanced activation functions like **Leaky Rectified Linear Unit (LeakyReLU)** or **Exponential Linear Unit (ELU)** to capture nuanced patterns and prevent issues like dying neurons.\n",
        "*   **Student Model:** A much shallower network (2-3 fully-connected layers) using the standard **Rectified Linear Unit (ReLU)** activation. This model is designed for simplicity, faster inference, and a lower memory footprint, making it suitable for deployment in resource-constrained environments.\n",
        "\n",
        "### Distillation Loss Function\n",
        "\n",
        "To transfer knowledge, the student will be trained to optimise a composite loss function that combines signals from the ground truth data and the teacher's output predictions\n",
        "\n",
        "The combined loss function, $L$, is a weighted sum of two components:\n",
        "$$\n",
        "L = \\lambda_1 \\|y - y^{(s)}\\|^2 + \\lambda_2 \\|y^{(t)} - y^{(s)}\\|^2\n",
        "$$\n",
        "\n",
        "Where:\n",
        "*   **Term 1 (Hard Loss):** The standard regression loss (Mean Squared Error) between the **ground truth target** ($y$) and the **student's prediction** ($y^{(s)}$). This ensures the student learns the primary task. $\\lambda_1$ controls its weight.\n",
        "\n",
        "*   **Term 2 ($L_{HP}$ - High Precision Distillation):** The L2 distance between the **teacher's prediction** ($y^{(t)}$) and the **student's prediction** ($y^{(s)}$). This is the classic distillation signal, where the student mimics the teacher's output. These \"soft targets\" from the teacher provide richer information than the hard ground truth labels alone.\n",
        "\n",
        "### Notebook Goal\n",
        "\n",
        "In this experiment, we will:\n",
        "1.  Define and pre-train a powerful teacher model on a dataset.\n",
        "2.  Train a simple student model from scratch as a baseline.\n",
        "3.  Train a second student using Hard Loss and $L_{HP}$ distillation (Terms 1 & 2).\n",
        "4.  Compare the performance of all models on a held-out test set to evaluate the effectiveness of each distillation technique."
      ]
    },
    {
      "cell_type": "markdown",
      "metadata": {
        "id": "setup_markdown"
      },
      "source": [
        "# 1. Setup, Configuration and Data Preparation\n",
        "\n",
        "## Imports and Configuration\n",
        "\n",
        "First, we import the necessary libraries and set up the main configuration parameters for the experiment. This includes defining the device (GPU or CPU), training hyperparameters like learning rates and batch sizes, and the parameters for generating our synthetic data."
      ]
    },
    {
      "cell_type": "code",
      "execution_count": null,
      "metadata": {
        "colab": {
          "base_uri": "https://localhost:8080/"
        },
        "id": "imports_config",
        "outputId": "2d18706a-92af-425d-b792-ab25e33166f7"
      },
      "outputs": [
        {
          "output_type": "stream",
          "name": "stdout",
          "text": [
            "Using device: cuda\n"
          ]
        }
      ],
      "source": [
        "import torch\n",
        "import torch.nn as nn\n",
        "import torch.optim as optim\n",
        "from torch.utils.data import TensorDataset, DataLoader\n",
        "\n",
        "import numpy as np\n",
        "from sklearn.model_selection import train_test_split\n",
        "from sklearn.preprocessing import StandardScaler\n",
        "from sklearn.metrics import mean_squared_error, r2_score\n",
        "from tqdm.notebook import tqdm\n",
        "\n",
        "import matplotlib.pyplot as plt\n",
        "import seaborn as sns\n",
        "import time\n",
        "\n",
        "# --- Configuration ---\n",
        "\n",
        "# Device configuration\n",
        "device = torch.device('cuda' if torch.cuda.is_available() else 'cpu')\n",
        "print(f\"Using device: {device}\")\n",
        "\n",
        "# Data generation parameters\n",
        "N_SAMPLES = 2000\n",
        "X_MIN, X_MAX = -4, 4\n",
        "NOISE_LEVEL = 0.1\n",
        "\n",
        "# Training hyperparameters\n",
        "BATCH_SIZE = 128\n",
        "EPOCHS_TEACHER = 700\n",
        "EPOCHS_STUDENT = 600\n",
        "LR_TEACHER = 1e-4\n",
        "LR_STUDENT = 1e-3\n",
        "EARLY_STOPPING_PATIENCE = 50 # NEW: Patience for early stopping\n",
        "\n",
        "# --- CHANGE: Re-balanced distillation loss weights for new strategies ---\n",
        "# These are dictionaries that will be passed to the training function\n",
        "\n",
        "# Weights for the student trained only on teacher's predictions (L_HP)\n",
        "HP_ONLY_WEIGHTS = {'hard': 0.3, 'hp': 0.7}\n",
        "\n",
        "# Weights for the student trained on predictions and intermediate features (L_HP + L_FEAT)\n",
        "HP_FEAT_WEIGHTS = {'hard': 0.3, 'hp': 0.4, 'feat': 0.3}\n",
        "\n",
        "\n",
        "# Number of runs for statistical analysis\n",
        "N_RUNS = 5\n",
        "\n",
        "# Plotting style\n",
        "sns.set_style(\"whitegrid\")\n",
        "plt.rcParams['figure.figsize'] = (12, 8)"
      ]
    },
    {
      "cell_type": "markdown",
      "metadata": {
        "id": "4Ok0z1jhYTQi"
      },
      "source": [
        "## 1.1 Data Generation and Preprocessing\n",
        "\n",
        "For this experiment, we will create a **synthetic dataset** to provide a challenging learning environment for our models. The key advantage of a synthetic dataset is that we can precisely control the true underlying function and the level of noise, allowing for a clear evaluation of model performance.\n",
        "\n",
        "**Data Generation:** We generate `X` features and a target `y` based on a function that is deliberately complex and hard to approximate. It combines several mathematical properties to test a model's flexibility:\n",
        "*   **Non-linear and periodic terms** (sine, cosine)\n",
        "*   **Feature interactions** (e.g. `feature1 * feature2`)\n",
        "*   **A sharp discontinuity** (a step-like change)\n",
        "*   **Irrelevant \"noise\" features** that the model must learn to ignore.\n",
        "\n",
        "Gaussian noise is added to the final output to simulate real-world measurement error.\n",
        "\n",
        "**Feature Scaling:** The input features are standardised using `StandardScaler` to have a mean of 0 and a standard variance of 1. This is a crucial preprocessing step for neural networks, as it stabilises training and helps the model converge more efficiently."
      ]
    },
    {
      "cell_type": "code",
      "execution_count": null,
      "metadata": {
        "colab": {
          "base_uri": "https://localhost:8080/"
        },
        "id": "g8btCq9WY8yv",
        "outputId": "51f4010a-0d79-4a1b-d787-6102988e7e42"
      },
      "outputs": [
        {
          "output_type": "stream",
          "name": "stdout",
          "text": [
            "Data shapes:\n",
            "  X_train: torch.Size([1280, 10]), y_train: torch.Size([1280, 1])\n",
            "  X_val:   torch.Size([320, 10]), y_val:   torch.Size([320, 1])\n",
            "  X_test:  torch.Size([400, 10]), y_test:  torch.Size([400, 1])\n"
          ]
        }
      ],
      "source": [
        "N_FEATURES = 10\n",
        "\n",
        "def generate_highly_complex_data(n_samples, n_features, noise_level):\n",
        "    \"\"\"\n",
        "    Generates data from a complex, non-linear function of multiple features.\n",
        "    \"\"\"\n",
        "    np.random.seed(42)\n",
        "    X = np.random.uniform(-2, 2, (n_samples, n_features))\n",
        "\n",
        "    # A complex function involving feature interactions\n",
        "    # Some features are more important than others\n",
        "    y_true = (np.sin(X[:, 0] * X[:, 1]) +            # Interaction term\n",
        "              0.5 * np.cos(X[:, 2] * np.pi) +        # Periodic term\n",
        "              np.tanh(X[:, 3]) +                     # Non-linear saturation\n",
        "              0.2 * X[:, 4]**2 -                     # Quadratic term\n",
        "              1.5 * np.exp(-X[:, 0]**2) +            # Gaussian term\n",
        "              0.1 * (X[:, 5] > 0).astype(float))   # Discontinuity\n",
        "\n",
        "    # Add some noise\n",
        "    y_noisy = y_true + np.random.normal(0, noise_level, y_true.shape)\n",
        "\n",
        "    # Ensure y has the shape (n_samples, 1)\n",
        "    return X.astype(np.float32), y_noisy.reshape(-1, 1).astype(np.float32), y_true.reshape(-1, 1).astype(np.float32)\n",
        "\n",
        "# 1. Generate Data\n",
        "X, y, y_true_func = generate_highly_complex_data(N_SAMPLES, N_FEATURES, NOISE_LEVEL)\n",
        "\n",
        "# 2. Split into initial training/testing sets\n",
        "X_train_val, X_test, y_train_val, y_test = train_test_split(X, y, test_size=0.2, random_state=42)\n",
        "\n",
        "# 3. Split the training data into new training and validation sets\n",
        "# We'll use 20% of the training data for validation (0.2 * 0.8 = 0.16 of the total data)\n",
        "X_train, X_val, y_train, y_val = train_test_split(X_train_val, y_train_val, test_size=0.2, random_state=42)\n",
        "\n",
        "# 4. Scale the features (FIT ONLY ON TRAINING DATA)\n",
        "scaler = StandardScaler()\n",
        "X_train_scaled = scaler.fit_transform(X_train)\n",
        "X_val_scaled = scaler.transform(X_val)\n",
        "X_test_scaled = scaler.transform(X_test)\n",
        "\n",
        "# 5. Convert to PyTorch tensors and move to device\n",
        "X_train_tensor = torch.from_numpy(X_train_scaled).to(device)\n",
        "y_train_tensor = torch.from_numpy(y_train).to(device)\n",
        "X_val_tensor = torch.from_numpy(X_val_scaled).to(device)\n",
        "y_val_tensor = torch.from_numpy(y_val).to(device)\n",
        "X_test_tensor = torch.from_numpy(X_test_scaled).to(device)\n",
        "y_test_tensor = torch.from_numpy(y_test).to(device)\n",
        "\n",
        "# 6. Create DataLoaders\n",
        "train_dataset = TensorDataset(X_train_tensor, y_train_tensor)\n",
        "train_loader = DataLoader(dataset=train_dataset, batch_size=BATCH_SIZE, shuffle=True)\n",
        "\n",
        "val_dataset = TensorDataset(X_val_tensor, y_val_tensor)\n",
        "val_loader = DataLoader(dataset=val_dataset, batch_size=BATCH_SIZE, shuffle=False)\n",
        "\n",
        "test_dataset = TensorDataset(X_test_tensor, y_test_tensor)\n",
        "test_loader = DataLoader(dataset=test_dataset, batch_size=BATCH_SIZE, shuffle=False)\n",
        "\n",
        "print(f\"Data shapes:\")\n",
        "print(f\"  X_train: {X_train_tensor.shape}, y_train: {y_train_tensor.shape}\")\n",
        "print(f\"  X_val:   {X_val_tensor.shape}, y_val:   {y_val_tensor.shape}\")\n",
        "print(f\"  X_test:  {X_test_tensor.shape}, y_test:  {y_test_tensor.shape}\")\n",
        "\n",
        "# Visualization is not meaningful for 10D data, so we'll skip it."
      ]
    },
    {
      "cell_type": "markdown",
      "metadata": {
        "id": "4ictsvZHYTQl"
      },
      "source": [
        "# 2. A Standard Distillation Attempt\n",
        "\n",
        "In our first experiment, we will test the foundational hypothesis of knowledge distillation. We will create:\n",
        "1.  A **Teacher Model**: A deep network using `LeakyReLU` activations. It's powerful but does not use extra regularisation like Dropout. We'll simply call it `TeacherNet`.\n",
        "2.  A **Student Model**: A smaller, less complex network that uses only standard `ReLU` activations, making it suitable for analysis with tools like ReLUplex.\n",
        "\n",
        "We will compare three models:\n",
        "- The Teacher model's performance.\n",
        "- The Student model trained from scratch (our baseline).\n",
        "- The Student model distilled from the Teacher.\n",
        "\n",
        "Our hypothesis is that on this complex task, the distilled student should be able to outperform the student trained from scratch."
      ]
    },
    {
      "cell_type": "code",
      "execution_count": null,
      "metadata": {
        "id": "2ewZtqkoatc2"
      },
      "outputs": [],
      "source": [
        "# --- Models and Training Functions for Part 1 (with Early Stopping) ---\n",
        "\n",
        "# The first teacher: Deeper, with LeakyReLU but no Dropout.\n",
        "class TeacherNet(nn.Module):\n",
        "    def __init__(self):\n",
        "        super(TeacherNet, self).__init__()\n",
        "        self.layers = nn.Sequential(\n",
        "            nn.Linear(N_FEATURES, 256),\n",
        "            nn.LeakyReLU(0.01),\n",
        "            nn.Linear(256, 256),\n",
        "            nn.LeakyReLU(0.01),\n",
        "            nn.Linear(256, 128),\n",
        "            nn.LeakyReLU(0.01),\n",
        "            nn.Linear(128, 64),\n",
        "            nn.LeakyReLU(0.01),\n",
        "            nn.Linear(64, 1)\n",
        "        )\n",
        "    def forward(self, x):\n",
        "        return self.layers(x)\n",
        "\n",
        "# The student model\n",
        "class StudentNet(nn.Module):\n",
        "    def __init__(self):\n",
        "        super(StudentNet, self).__init__()\n",
        "        self.layers = nn.Sequential(\n",
        "            nn.Linear(N_FEATURES, 64),\n",
        "            nn.ReLU(),\n",
        "            nn.Linear(64, 64),\n",
        "            nn.ReLU(),\n",
        "            nn.Linear(64, 32),\n",
        "            nn.ReLU(),\n",
        "            nn.Linear(32, 1)\n",
        "        )\n",
        "    def forward(self, x):\n",
        "        return self.layers(x)\n",
        "\n",
        "# Loss function\n",
        "criterion = nn.MSELoss()\n",
        "\n",
        "# --- Helper Functions with TQDM and Early Stopping ---\n",
        "\n",
        "def train_model(model, train_loader, val_loader, optimizer, epochs, patience, pbar):\n",
        "    \"\"\"Standard training loop with an outer tqdm progress bar and early stopping.\"\"\"\n",
        "    best_val_loss = float('inf')\n",
        "    patience_counter = 0\n",
        "    best_model_state = None\n",
        "\n",
        "    for epoch in range(epochs):\n",
        "        model.train()\n",
        "        for X_batch, y_batch in train_loader:\n",
        "            optimizer.zero_grad()\n",
        "            outputs = model(X_batch)\n",
        "            loss = criterion(outputs, y_batch)\n",
        "            loss.backward()\n",
        "            optimizer.step()\n",
        "\n",
        "        # Validation step\n",
        "        model.eval()\n",
        "        val_loss = 0.0\n",
        "        with torch.no_grad():\n",
        "            for X_val_batch, y_val_batch in val_loader:\n",
        "                val_outputs = model(X_val_batch)\n",
        "                loss = criterion(val_outputs, y_val_batch)\n",
        "                val_loss += loss.item()\n",
        "\n",
        "        avg_val_loss = val_loss / len(val_loader)\n",
        "        pbar.set_postfix_str(f\"Epoch {epoch+1}, Val Loss: {avg_val_loss:.4f}\")\n",
        "\n",
        "        # Early stopping check\n",
        "        if avg_val_loss < best_val_loss:\n",
        "            best_val_loss = avg_val_loss\n",
        "            patience_counter = 0\n",
        "            best_model_state = model.state_dict()\n",
        "        else:\n",
        "            patience_counter += 1\n",
        "\n",
        "        if patience_counter >= patience:\n",
        "            pbar.set_postfix_str(f\"Early stopping at epoch {epoch+1}. Best val loss: {best_val_loss:.4f}\")\n",
        "            pbar.update(epochs - epoch - 1) # Fast-forward the progress bar\n",
        "            break\n",
        "\n",
        "        pbar.update(1)\n",
        "\n",
        "    # Load the best model state before returning\n",
        "    if best_model_state:\n",
        "        model.load_state_dict(best_model_state)\n",
        "    return model\n",
        "\n",
        "\n",
        "def train_student_distilled_fixed(student_model, teacher_model, train_loader, val_loader, optimizer, epochs, patience, pbar):\n",
        "    \"\"\"Distillation training with FIXED weights, an outer tqdm progress bar, and early stopping.\"\"\"\n",
        "    best_val_loss = float('inf')\n",
        "    patience_counter = 0\n",
        "    best_model_state = None\n",
        "    weights = {'hard': 0.3, 'hp': 0.7}\n",
        "\n",
        "    for epoch in range(epochs):\n",
        "        student_model.train()\n",
        "        teacher_model.eval()\n",
        "        for X_batch, y_batch_true in train_loader:\n",
        "            optimizer.zero_grad()\n",
        "            y_pred_student = student_model(X_batch)\n",
        "            with torch.no_grad():\n",
        "                y_pred_teacher = teacher_model(X_batch)\n",
        "            loss_hard = criterion(y_pred_student, y_batch_true)\n",
        "            loss_soft_hp = criterion(y_pred_student, y_pred_teacher)\n",
        "            combined_loss = weights['hard'] * loss_hard + weights['hp'] * loss_soft_hp\n",
        "            combined_loss.backward()\n",
        "            optimizer.step()\n",
        "\n",
        "        # Validation step (using only hard loss for validation)\n",
        "        student_model.eval()\n",
        "        val_loss = 0.0\n",
        "        with torch.no_grad():\n",
        "            for X_val_batch, y_val_batch in val_loader:\n",
        "                val_outputs = student_model(X_val_batch)\n",
        "                loss = criterion(val_outputs, y_val_batch)\n",
        "                val_loss += loss.item()\n",
        "\n",
        "        avg_val_loss = val_loss / len(val_loader)\n",
        "        pbar.set_postfix_str(f\"Epoch {epoch+1}, Val Loss: {avg_val_loss:.4f}\")\n",
        "\n",
        "        # Early stopping check\n",
        "        if avg_val_loss < best_val_loss:\n",
        "            best_val_loss = avg_val_loss\n",
        "            patience_counter = 0\n",
        "            best_model_state = student_model.state_dict()\n",
        "        else:\n",
        "            patience_counter += 1\n",
        "\n",
        "        if patience_counter >= patience:\n",
        "            pbar.set_postfix_str(f\"Early stopping at epoch {epoch+1}. Best val loss: {best_val_loss:.4f}\")\n",
        "            pbar.update(epochs - epoch - 1) # Fast-forward progress bar\n",
        "            break\n",
        "\n",
        "        pbar.update(1)\n",
        "\n",
        "    # Load the best model state\n",
        "    if best_model_state:\n",
        "        student_model.load_state_dict(best_model_state)\n",
        "    return student_model\n",
        "\n",
        "\n",
        "def evaluate_model(model, X_tensor, y_tensor):\n",
        "    model.eval()\n",
        "    with torch.no_grad():\n",
        "        y_pred = model(X_tensor).cpu().numpy()\n",
        "    mse = mean_squared_error(y_tensor.cpu().numpy(), y_pred)\n",
        "    r2 = r2_score(y_tensor.cpu().numpy(), y_pred)\n",
        "    return y_pred, mse, r2"
      ]
    },
    {
      "cell_type": "code",
      "execution_count": null,
      "metadata": {
        "colab": {
          "base_uri": "https://localhost:8080/",
          "height": 726,
          "referenced_widgets": [
            "e7da7ed6d30f4459b52ce1172b9090d7",
            "55b644f38d3147bfa4ff2860cddf7495",
            "d1664afd65ac4ef9861ddfadb8640e47",
            "08b9b55075b34d779fb9047522c44613",
            "231240efe3f14067837bbc44e2600b33",
            "740b16450d0b47b89c1669a4626aac15",
            "c722264905c1414993cfac58301ee400",
            "25d386d36bab4707aa9765144097eafb",
            "c57ea842047648a89b7eb7c8dc9c74d0",
            "56fbfdd26157472fbad675d07fe98842",
            "0aa493c81af248d7a7181d6553eca4cb",
            "969533e91b154bb6a1b9d4e541b114d9",
            "6c053cbf3e0d45a4b3ed9700b1aa8275",
            "565683ba3a7b4c089aed8b281e5d564a",
            "1f905b295f9c4d41b13cf9837b20a6fe",
            "887f67c8c5444a99a3feb32eb3334518",
            "76d092b9527548d6ae66507f56cb4117",
            "0ebe589490404cb9af2a73d82242e6c7",
            "e42681e08d83418a8e785ad3dc62bc0f",
            "7fe96062d3764f07b091b7e83d9eefd3",
            "ad6c125400b94b2cb0f6d1391fd57266",
            "e4ced64f1a8441eaaf770ac13bea69c6",
            "0a7e1fcf960a42349e693665f69186e5",
            "61b0c6cd578847648ef5a235bedeb8e4",
            "02a13bbb9743453b9751e999ea36c350",
            "f681929ec8f3437790c07328125a97d6",
            "e39f6bb67f664b8f8b55976cc5e9b47c",
            "d02cb25964464e938ace3ace8d3ada64",
            "4c6d9a608c7e49b59f2c3523592a00d3",
            "41071acc52f649cd9ff97fd689d823fa",
            "f64c8b410e6e4da2bbe853a92af667c9",
            "5003e7bd5400475bb79678fd75324bfb",
            "c12e4f38cbab48079faeaac16771cf1c",
            "50954e1cdd794f2c9a5df19f6ddd7961",
            "1c2baeb422ce45e6baee7a99d1ddba90",
            "63adea90108f416c95591da2339c25f7",
            "80237120287f45c9aca48cf32dd3ee6f",
            "d688a75c6907488db69696fceeaf36d1",
            "b017f468c4c84eddbd35f2107f4a8cf8",
            "7951d85dc70f429b80296a8c000241c2",
            "a4712f0cd149493497a978d270beff2c",
            "087ce16367ba49baacff3eb1c26b0f04",
            "be1b7459b88a44dcbb675b476aa1518b",
            "67507090c17d4afeb3570b65eecff47e",
            "2b52e43b8e094b4e8db135e4f814c61b",
            "71e4ccc4ed454cce9db27d7c817fabd7",
            "6dbb253ab5334ee0861f06bd63341958",
            "fe6b3b80b7e841f0afbbb5bb9b02a740",
            "2d73b99517264522b4817d1bff69dec4",
            "2be2c20e025a484181cb62609df4da3f",
            "0d374fdaa3dd4bebacc1a61c90391cda",
            "af7cb838013c423780070603ffd62918",
            "0b1fc0a7a39446f58609449e193b7cfd",
            "aba09341ea1b4712a9acf9800452f1cc",
            "b9c5ccbdb19745c2b00705bccc9184f0",
            "53b69d55b8da4c1e978bee674865022f",
            "a4875665846b4b95b9200a2b4725c0ef",
            "e27dd3c582444f50a43f1065d603f824",
            "45e56cc32eff48ffbdb151cedc9d5310",
            "03a2f85c3d554a7094cbed55f0097537",
            "0638b19385d94623a5daca5bf53f120c",
            "f0264b68a4684fd99d7656b33d7a51de",
            "bd9538f2ecde484bb9178751faf7c0be",
            "a9b9aec191bf4ccabe82b49666aae6eb",
            "569fc9f5d3cc496688a6acc7b5051dc1",
            "f87c6d38b6594ad19d60a05f1767adc4",
            "88b4dfa3cf0a445d9ab4f15b467144c3",
            "c7b38b717a714bbd81931139e0d3b1e2",
            "71e74d1241aa4daab442cb766341e76f",
            "0ea490dea34c435fb848d3b2b4cc91b4",
            "537a449583bc48ec8b9c6fb26c67bbe0",
            "1e180859869d42118e497c2dd1968fb6",
            "74aacc43603d4177b7255f7c423a5c51",
            "914dcd99f64d4b078d99ecdd8a64f698",
            "f9f7bd5ef78a49098b5a23a1495c0041",
            "d927a269d4004c9b95487dae8a25b8df",
            "c8c02ef545e04485920dd4f56c9e1672",
            "dfac7701abca4103b3081513c18d42c1",
            "eb0a35832921439ea79911c44c6477bf",
            "e0a7ddb9539746579d3fcd8819f7815c",
            "6bd648caec3f448086ddf32833f27cce",
            "9b23092e206546efa4b8400fc7dd32dd",
            "51ef7426d05c4cda8436723d28f4ebbb",
            "dcf7a974700341958a4c624e6a8a4c60",
            "2fa712c5de154b98b4a33ae69704238d",
            "01bc6b4b600a4b43a618535cad1df4ed",
            "ba25d7f46ba64b39b5c3b1f1e2c5e751",
            "dde8660400cb44e39b39464e9734e6fa",
            "e7edcf674ad14ed4bf1c50c26c1d4f4b",
            "cecb0938542f4a2caa7f9d623262814c",
            "f89ec121a6984be0aeeace9c9ac2186f",
            "f67e983456cc409fb5f9cc22443c1774",
            "e8a708732be84170a9a7123e19bd97be",
            "22444a55983a411891c6ad6711fdc5a2",
            "04d454c86b314248b010235746c941b8",
            "33387e2655d64da79c29051c2547d60c",
            "4a840bd84fa94d2c9c572a2625425a61",
            "aded40d4de784bc6a72242bbecb32d55",
            "93a08b4858a4460394642e102f8f7206",
            "a48ee7d7ca5f41888781e97c8119e4ca",
            "80f3ec310f2d4b1bace42610286f1cf7",
            "39135c4e49284d0fabe625d876ed790d",
            "0e877acaca7d425daff2a0cc5b8fe13e",
            "027691c15ef0484a932e4a8e9806df3a",
            "8916224fbe7d4ab6b6ffddd54e1095c2",
            "e9209e5faec845ec8b9e8c0237b0bd9b",
            "7610e66523ed4a23bf85169faa9b5fcf",
            "a44d70ef2b9f44eb89064d3b993caead",
            "dd3c17221061409cbcec847130b629ad",
            "014176729b914c8b8a9b8c77d6d234a0",
            "349a82f6b1c94694923dfd4ed70fd496",
            "2ae36b566d9840c09315d69e19a7508b",
            "7be69fe6ab984b69a29bf1dba2b082bb",
            "e52e91144dee4ce7b34709f89ebe2273",
            "0c32a10d1cd14972ba16c940a59e1f9d",
            "47336060a1bf4ef8b81b25c12bf0701e",
            "1d3ce6ad7866489caac29b9ae019b677",
            "731f9a96f1bc4291bb899c7f71e9346b",
            "ac2531d017c9455385db872a652bcd11",
            "06d6b861cb8945138a1fa1766734f4c8",
            "257387e7ed904c6bbd05f336d5a2ccd1",
            "d30d043fe5fc48d1ae85f041b9aacc0b",
            "cc9080b9537f46e78f8617c3e46115a1",
            "9e64dd75f2c74f56a15232eb28bfc492",
            "a9e514e78a094fbaa183be4c9004bf5c",
            "36a7b9c071d54dc189d7425c4dcc3daa",
            "ec102c94d1564fe4aa97aadddf86ae6b",
            "bee260ceaaf94fcfacf8a343301e3a38",
            "f16af0edbcfe4cf8ad7f6d036d40cc95",
            "49b1cab77b5846b59f98947861fa14ef",
            "592e6da56f4d4b92aba136358f98fbd3",
            "d1869cd930c44bcea072ffa3737ae186",
            "b5522d7a05364c7fb9178874a3fb55be",
            "ae61f908e2bd47a1b326a146bef6d991",
            "b98104a2d1d54183a0e68a30c19c0413",
            "83d29b5a311a400484109bfb93c4583d",
            "47a6cd093aa44931b329a1650dd229cd",
            "093250295aef413d9d6bc6cf4444610c",
            "bfaa71398fe1439fa335921bfdedcec5",
            "d573663ed9424e848da082326b6e5ae0",
            "b8e0dcd2c0c54537ba5dc4d36da829cf",
            "47d4d96ea8764a0dbd0c233e711ee311",
            "fd918010169741fea75cb5ea4d6762a1",
            "690d0e6e4ae343449160827758a319aa",
            "dc653ed6fda64a5fb03f0576a5c0ab53",
            "2e065a0528af4db5bc63970d1dce75b2",
            "f588c7dce62546f48497c4973d62177c",
            "8e2557bc6b514c2c9ddbb40e20b9f2ca",
            "3b1fa383c3c7402e82852c443ff5f242",
            "a75fd4341bd1492797fa54e0c76ab960",
            "c04f8fdb8a414c9a8b38eb758a1023f6",
            "440fd2143aef4edd90c1222e1e9d38c6",
            "aeef67941b4145b39bd9d7e1b07d2bf1",
            "b4c04f57e1d04c55a698090c63a14b84",
            "8af090bb6fc44c8ab60628cc5133aec3",
            "ecb252c657aa4dca882c5cc7faa6ab86",
            "c42d24e7309b498b9bf163f99099bf55",
            "466e9d29aae641fe8e9127bcbf295cc0",
            "d076d9f785f24be28e8aabd98bb72b0c",
            "64de6eb37d9b44d1b09fb47d314d00c0",
            "8c6b8a2cf8734316ae1cf204d916b10d",
            "c0d190bede384dd995135f42b6b4d026",
            "0b29f503d3624986af2761469dfa196c",
            "403f2965dda44bc288d2c7c547401caa",
            "1677d01cbea748ddb9c6f90c8505dc6d",
            "d31e52f674e84179a91d2ce5de99cdad",
            "5d493f2ae2e741a6b1dd7538b0e28b7f",
            "a7b89ccd544240359c75553970c86ee3",
            "f279d623e7314a468185e2355987031d",
            "4fdf564d696a4f8580519cf47f0245aa",
            "72be9344deca46edaafa5e9bde90cfd9",
            "63d3d818c2a44cdf86678b83789fd71a",
            "e922104ea0b342678e5aa8a4a0b80a78",
            "57da7eba913442f5a925a494bc6ddb57",
            "10885cf4ecd649589862e20bb203e492",
            "aae71bf612e94c7ba5ee8e900b51f980"
          ]
        },
        "id": "pVCdJgC1az6y",
        "outputId": "b6925d58-6882-4646-ba92-a6ce93c5aaba"
      },
      "outputs": [
        {
          "output_type": "display_data",
          "data": {
            "text/plain": [
              "Overall Progress:   0%|          | 0/5 [00:00<?, ?it/s]"
            ],
            "application/vnd.jupyter.widget-view+json": {
              "version_major": 2,
              "version_minor": 0,
              "model_id": "e7da7ed6d30f4459b52ce1172b9090d7"
            }
          },
          "metadata": {}
        },
        {
          "output_type": "display_data",
          "data": {
            "text/plain": [
              "Teacher Training:   0%|          | 0/700 [00:00<?, ?it/s]"
            ],
            "application/vnd.jupyter.widget-view+json": {
              "version_major": 2,
              "version_minor": 0,
              "model_id": "969533e91b154bb6a1b9d4e541b114d9"
            }
          },
          "metadata": {}
        },
        {
          "output_type": "display_data",
          "data": {
            "text/plain": [
              "Student (Scratch) Training:   0%|          | 0/600 [00:00<?, ?it/s]"
            ],
            "application/vnd.jupyter.widget-view+json": {
              "version_major": 2,
              "version_minor": 0,
              "model_id": "0a7e1fcf960a42349e693665f69186e5"
            }
          },
          "metadata": {}
        },
        {
          "output_type": "display_data",
          "data": {
            "text/plain": [
              "Student (Distilled) Training:   0%|          | 0/600 [00:00<?, ?it/s]"
            ],
            "application/vnd.jupyter.widget-view+json": {
              "version_major": 2,
              "version_minor": 0,
              "model_id": "50954e1cdd794f2c9a5df19f6ddd7961"
            }
          },
          "metadata": {}
        },
        {
          "output_type": "display_data",
          "data": {
            "text/plain": [
              "Teacher Training:   0%|          | 0/700 [00:00<?, ?it/s]"
            ],
            "application/vnd.jupyter.widget-view+json": {
              "version_major": 2,
              "version_minor": 0,
              "model_id": "2b52e43b8e094b4e8db135e4f814c61b"
            }
          },
          "metadata": {}
        },
        {
          "output_type": "display_data",
          "data": {
            "text/plain": [
              "Student (Scratch) Training:   0%|          | 0/600 [00:00<?, ?it/s]"
            ],
            "application/vnd.jupyter.widget-view+json": {
              "version_major": 2,
              "version_minor": 0,
              "model_id": "53b69d55b8da4c1e978bee674865022f"
            }
          },
          "metadata": {}
        },
        {
          "output_type": "display_data",
          "data": {
            "text/plain": [
              "Student (Distilled) Training:   0%|          | 0/600 [00:00<?, ?it/s]"
            ],
            "application/vnd.jupyter.widget-view+json": {
              "version_major": 2,
              "version_minor": 0,
              "model_id": "88b4dfa3cf0a445d9ab4f15b467144c3"
            }
          },
          "metadata": {}
        },
        {
          "output_type": "display_data",
          "data": {
            "text/plain": [
              "Teacher Training:   0%|          | 0/700 [00:00<?, ?it/s]"
            ],
            "application/vnd.jupyter.widget-view+json": {
              "version_major": 2,
              "version_minor": 0,
              "model_id": "dfac7701abca4103b3081513c18d42c1"
            }
          },
          "metadata": {}
        },
        {
          "output_type": "display_data",
          "data": {
            "text/plain": [
              "Student (Scratch) Training:   0%|          | 0/600 [00:00<?, ?it/s]"
            ],
            "application/vnd.jupyter.widget-view+json": {
              "version_major": 2,
              "version_minor": 0,
              "model_id": "e7edcf674ad14ed4bf1c50c26c1d4f4b"
            }
          },
          "metadata": {}
        },
        {
          "output_type": "display_data",
          "data": {
            "text/plain": [
              "Student (Distilled) Training:   0%|          | 0/600 [00:00<?, ?it/s]"
            ],
            "application/vnd.jupyter.widget-view+json": {
              "version_major": 2,
              "version_minor": 0,
              "model_id": "a48ee7d7ca5f41888781e97c8119e4ca"
            }
          },
          "metadata": {}
        },
        {
          "output_type": "display_data",
          "data": {
            "text/plain": [
              "Teacher Training:   0%|          | 0/700 [00:00<?, ?it/s]"
            ],
            "application/vnd.jupyter.widget-view+json": {
              "version_major": 2,
              "version_minor": 0,
              "model_id": "349a82f6b1c94694923dfd4ed70fd496"
            }
          },
          "metadata": {}
        },
        {
          "output_type": "display_data",
          "data": {
            "text/plain": [
              "Student (Scratch) Training:   0%|          | 0/600 [00:00<?, ?it/s]"
            ],
            "application/vnd.jupyter.widget-view+json": {
              "version_major": 2,
              "version_minor": 0,
              "model_id": "d30d043fe5fc48d1ae85f041b9aacc0b"
            }
          },
          "metadata": {}
        },
        {
          "output_type": "display_data",
          "data": {
            "text/plain": [
              "Student (Distilled) Training:   0%|          | 0/600 [00:00<?, ?it/s]"
            ],
            "application/vnd.jupyter.widget-view+json": {
              "version_major": 2,
              "version_minor": 0,
              "model_id": "b5522d7a05364c7fb9178874a3fb55be"
            }
          },
          "metadata": {}
        },
        {
          "output_type": "display_data",
          "data": {
            "text/plain": [
              "Teacher Training:   0%|          | 0/700 [00:00<?, ?it/s]"
            ],
            "application/vnd.jupyter.widget-view+json": {
              "version_major": 2,
              "version_minor": 0,
              "model_id": "690d0e6e4ae343449160827758a319aa"
            }
          },
          "metadata": {}
        },
        {
          "output_type": "display_data",
          "data": {
            "text/plain": [
              "Student (Scratch) Training:   0%|          | 0/600 [00:00<?, ?it/s]"
            ],
            "application/vnd.jupyter.widget-view+json": {
              "version_major": 2,
              "version_minor": 0,
              "model_id": "8af090bb6fc44c8ab60628cc5133aec3"
            }
          },
          "metadata": {}
        },
        {
          "output_type": "display_data",
          "data": {
            "text/plain": [
              "Student (Distilled) Training:   0%|          | 0/600 [00:00<?, ?it/s]"
            ],
            "application/vnd.jupyter.widget-view+json": {
              "version_major": 2,
              "version_minor": 0,
              "model_id": "d31e52f674e84179a91d2ce5de99cdad"
            }
          },
          "metadata": {}
        },
        {
          "output_type": "stream",
          "name": "stdout",
          "text": [
            "\n",
            "==================== RESULTS FOR PART 1 (over 5 runs) ====================\n",
            "Model                     | Mean MSE        | Std Dev MSE     | Mean R2        \n",
            "---------------------------------------------------------------------------\n",
            "Teacher                   | 0.3194          | 0.0102          | 0.7705         \n",
            "Student (Scratch)         | 0.3436          | 0.0158          | 0.7531         \n",
            "Student (Distilled)       | 0.3357          | 0.0154          | 0.7588         \n",
            "\n",
            "---------------------------------------------------------------------------\n",
            "Improvement of Distilled vs. Scratch: 2.32% (p-value: 0.1857)\n",
            "---------------------------------------------------------------------------\n"
          ]
        }
      ],
      "source": [
        "# --- Part 1: Experiment Execution (with Early Stopping) ---\n",
        "\n",
        "# Max number of epochs; training may stop earlier.\n",
        "EPOCHS_STUDENT = 600\n",
        "EPOCHS_TEACHER = 700\n",
        "\n",
        "initial_student_states = []\n",
        "part1_results = {\n",
        "    \"Teacher\": {'mse': [], 'r2': []},\n",
        "    \"Student (Scratch)\": {'mse': [], 'r2': []},\n",
        "    \"Student (Distilled)\": {'mse': [], 'r2': []}\n",
        "}\n",
        "\n",
        "# --- Main progress bar for the runs ---\n",
        "with tqdm(total=N_RUNS, desc=\"Overall Progress\") as run_pbar:\n",
        "    for i in range(N_RUNS):\n",
        "        run_pbar.set_description(f\"Run {i+1}/{N_RUNS}\")\n",
        "        torch.manual_seed(i); np.random.seed(i)\n",
        "\n",
        "        template_student = StudentNet().to(device)\n",
        "        initial_student_states.append(template_student.state_dict())\n",
        "\n",
        "        # --- Train Teacher ---\n",
        "        run_pbar.set_postfix_str(\"Training Teacher...\")\n",
        "        teacher = TeacherNet().to(device)\n",
        "        optimizer_teacher = optim.Adam(teacher.parameters(), lr=LR_TEACHER, weight_decay=1e-5)\n",
        "        with tqdm(total=EPOCHS_TEACHER, desc=\"Teacher Training\", leave=False) as epoch_pbar:\n",
        "            teacher = train_model(\n",
        "                teacher, train_loader, val_loader, optimizer_teacher,\n",
        "                EPOCHS_TEACHER, EARLY_STOPPING_PATIENCE, epoch_pbar\n",
        "            )\n",
        "\n",
        "        # --- Train Student (Scratch) ---\n",
        "        run_pbar.set_postfix_str(\"Training Student (Scratch)...\")\n",
        "        student_scratch = StudentNet().to(device)\n",
        "        student_scratch.load_state_dict(initial_student_states[i])\n",
        "        optimizer_scratch = optim.Adam(student_scratch.parameters(), lr=LR_STUDENT)\n",
        "        with tqdm(total=EPOCHS_STUDENT, desc=\"Student (Scratch) Training\", leave=False) as epoch_pbar:\n",
        "            student_scratch = train_model(\n",
        "                student_scratch, train_loader, val_loader, optimizer_scratch,\n",
        "                EPOCHS_STUDENT, EARLY_STOPPING_PATIENCE, epoch_pbar\n",
        "            )\n",
        "\n",
        "        # --- Train Student (Distilled) ---\n",
        "        run_pbar.set_postfix_str(\"Training Student (Distilled)...\")\n",
        "        student_distilled = StudentNet().to(device)\n",
        "        student_distilled.load_state_dict(initial_student_states[i])\n",
        "        optimizer_distill = optim.Adam(student_distilled.parameters(), lr=LR_STUDENT)\n",
        "        with tqdm(total=EPOCHS_STUDENT, desc=\"Student (Distilled) Training\", leave=False) as epoch_pbar:\n",
        "            student_distilled = train_student_distilled_fixed(\n",
        "                student_distilled, teacher, train_loader, val_loader, optimizer_distill,\n",
        "                EPOCHS_STUDENT, EARLY_STOPPING_PATIENCE, epoch_pbar\n",
        "            )\n",
        "\n",
        "        # --- Evaluation --\n",
        "        # Evaluation is still done on the final, held-out test set\n",
        "        run_pbar.set_postfix_str(\"Evaluating...\")\n",
        "        _, mse_t, r2_t = evaluate_model(teacher, X_test_tensor, y_test_tensor)\n",
        "        _, mse_s, r2_s = evaluate_model(student_scratch, X_test_tensor, y_test_tensor)\n",
        "        _, mse_d, r2_d = evaluate_model(student_distilled, X_test_tensor, y_test_tensor)\n",
        "\n",
        "        part1_results[\"Teacher\"]['mse'].append(mse_t); part1_results[\"Teacher\"]['r2'].append(r2_t)\n",
        "        part1_results[\"Student (Scratch)\"]['mse'].append(mse_s); part1_results[\"Student (Scratch)\"]['r2'].append(r2_s)\n",
        "        part1_results[\"Student (Distilled)\"]['mse'].append(mse_d); part1_results[\"Student (Distilled)\"]['r2'].append(r2_d)\n",
        "\n",
        "        run_pbar.update(1)\n",
        "\n",
        "# --- Results Table for Part 1 ---\n",
        "print(f\"\\n{'='*20} RESULTS FOR PART 1 (over {N_RUNS} runs) {'='*20}\")\n",
        "print(f\"{'Model':<25} | {'Mean MSE':<15} | {'Std Dev MSE':<15} | {'Mean R2':<15}\")\n",
        "print('-'*75)\n",
        "for name, data in part1_results.items():\n",
        "    print(f\"{name:<25} | {np.mean(data['mse']):<15.4f} | {np.std(data['mse']):<15.4f} | {np.mean(data['r2']):<15.4f}\")\n",
        "\n",
        "# --- Statistical Test for Part 1 ---\n",
        "from scipy.stats import ttest_rel\n",
        "t_stat, p_val = ttest_rel(part1_results[\"Student (Distilled)\"]['mse'], part1_results[\"Student (Scratch)\"]['mse'], alternative='less')\n",
        "improvement = (np.mean(part1_results[\"Student (Scratch)\"]['mse']) - np.mean(part1_results[\"Student (Distilled)\"]['mse'])) / np.mean(part1_results[\"Student (Scratch)\"]['mse']) * 100\n",
        "\n",
        "print('\\n' + '-'*75)\n",
        "print(f\"Improvement of Distilled vs. Scratch: {improvement:.2f}% (p-value: {p_val:.4f})\")\n",
        "print('-'*75)"
      ]
    },
    {
      "cell_type": "markdown",
      "metadata": {
        "id": "hj2hbqIRYTQp"
      },
      "source": [
        "# 3. Improving the Teacher\n",
        "\n",
        "### Analysis of Part 1 Results\n",
        "\n",
        "The results from our first experiment show a slight improvement. On average, the distilled student achieved a lower Mean Squared Error (0.3357) compared to the student trained from scratch (0.3436). However, this improvement of 2.32% was not found to be statistically significant over the five runs (p-value = 0.1857). This suggests that while there might be a small benefit, the \"knowledge\" from the standard teacher isn't consistently strong enough to elevate the student significantly.\n",
        "\n",
        "This leads to a key question: **If we use an even better teacher, can we produce an even better student?**\n",
        "\n",
        "### Hypothesis\n",
        "\n",
        "Our new hypothesis is that by enhancing the teacher's architecture with techniques that improve generalisation (like **Dropout**) and learning capacity (like **LeakyReLU** and **Batch Normalisation**), we can create an \"Expert Teacher\". Distilling from this expert teacher should yield a student that is significantly better than both the scratch baseline *and* the student distilled from the standard teacher.\n",
        "\n",
        "To test this, we will now:\n",
        "1.  Define a new `ExpertTeacherNet`.\n",
        "2.  Train it on our complex task.\n",
        "3.  Distil its knowledge into a new student, **ensuring the student starts from the exact same initial weights as in Part 1** for a fair comparison.\n",
        "4.  Compare the performance of all models."
      ]
    },
    {
      "cell_type": "code",
      "execution_count": null,
      "metadata": {
        "id": "MDY1hoiHYTQr"
      },
      "outputs": [],
      "source": [
        "class ExpertTeacherNet(nn.Module):\n",
        "    def __init__(self):\n",
        "        super(ExpertTeacherNet, self).__init__()\n",
        "        # For a very large network, we need stronger dropout to prevent overfitting.\n",
        "        p_drop = 0.4\n",
        "\n",
        "        self.layers = nn.Sequential(\n",
        "            # --- Block 1 (Input) ---\n",
        "            nn.Linear(N_FEATURES, 512), # WIDENED\n",
        "            nn.BatchNorm1d(512),\n",
        "            nn.LeakyReLU(0.01),\n",
        "            nn.Dropout(p=p_drop),\n",
        "\n",
        "            # --- Block 2 ---\n",
        "            nn.Linear(512, 512), # WIDENED\n",
        "            nn.BatchNorm1d(512),\n",
        "            nn.LeakyReLU(0.01),\n",
        "            nn.Dropout(p=p_drop),\n",
        "\n",
        "            # --- Block 3 ---\n",
        "            nn.Linear(512, 256), # WIDENED\n",
        "            nn.BatchNorm1d(256),\n",
        "            nn.LeakyReLU(0.01),\n",
        "            nn.Dropout(p=p_drop),\n",
        "\n",
        "            # --- Block 4 ---\n",
        "            nn.Linear(256, 128),\n",
        "            nn.BatchNorm1d(128),\n",
        "            nn.LeakyReLU(0.01),\n",
        "            nn.Dropout(p=p_drop),\n",
        "\n",
        "            # --- Block 5 (Output) ---\n",
        "            nn.Linear(128, 1)\n",
        "        )\n",
        "\n",
        "    def forward(self, x):\n",
        "        return self.layers(x)"
      ]
    },
    {
      "cell_type": "code",
      "execution_count": null,
      "metadata": {
        "colab": {
          "base_uri": "https://localhost:8080/",
          "height": 762,
          "referenced_widgets": [
            "1f489cc37ff449e8a6303b41c24f6e9b",
            "46cebab112c0454fbde48fc72c904cfe",
            "c730e0c7311c41a1af83be4dbbf94d63",
            "7e7b9dd0793441db97d58bf178a43fa5",
            "e73c7903c8e74a088136e3cab0429285",
            "a5d8a977527d4387b385bf8a2a7f54d0",
            "2217f3293ec14670b275399cfd7a240b",
            "7f1c88bb127c41d19501f05986af4f63",
            "5f3ac1fef3924ae7aecef778eda3a8fc",
            "0696ae632f564d55aef6aa9c8c3b805c",
            "f8cf5a731a8d4d569f1e5b2f86aa7051",
            "76568c0e10924ef4bf162d121824c9aa",
            "053aeb28314e4ce383e3fc91eb45f353",
            "d9ef126d360049928b182ae9b2a8fb98",
            "57adce9375dc4bb5ad71ae546db27c38",
            "5b78ce8fa43540358ddb551c83b13938",
            "8001ba0d89264535a676d781e879fd04",
            "0617a87a55a14681b0a27ca83fe31dcb",
            "211eeefc773a42b788b8d36f24f5ec0e",
            "8735268b9d2644ac9baf0068760db317",
            "1cbe6857f48f4f28a6732d7bb34ea396",
            "8cbb30bb7d4f444ea45770a6165045ea",
            "6355417f94bb486b958717b05371a7df",
            "ef73a76dd69948d8862c42df2adc7add",
            "b479eb6850b749c0b258c2bed61e5ee2",
            "5177833678474a3e90e2439062d31452",
            "431765b226ce483ca989982996e03f42",
            "e4c43d30d57e466e9368c90bd92876fd",
            "90714b52a256448c989da023332d7639",
            "6361941f03654ee6974602b9076b6978",
            "1d7bb8f0b57d466f9fb8eab23f1ebb69",
            "0465e75d788b488b8b910a3c5c0e5e82",
            "cf51c6b62df74b1fa5cbe452f96e67bb",
            "110310077c534b3c965faa799d2959fc",
            "94ba746b203e4c0eb46f5a6138600bcf",
            "98536e877f9747ca92e34b2a9d5824ea",
            "ec8e9b1c830742baa066e79c8b83da22",
            "1069fa989b724ac295c69e0d0032a22f",
            "691d605d02a14f94b12fed64ac97f72d",
            "fb65813b6ec349d893115ccad398317e",
            "46a35a71116a4884bf402b0de5e67f12",
            "864d2b2b24634473942539299555b159",
            "bf97ac7bdbd24ada817aab72d224d3c5",
            "18107b5e2b0747b6b1a768bcd2e10fca",
            "8a4c168f67ed4b318499ebaf2ba9561a",
            "da948785bdb34269b1a5259deaceff9b",
            "913fe40db2c742cea302b5de9db32eab",
            "794b66cc04854d8eb0496e51be1062e3",
            "9013b221ba8441a2a04ec8442c556261",
            "9ac43a55488b49439d8df7fc94cffb93",
            "386fe0fa93dd4d4792c9107e12fe240d",
            "005b665ba9db45548b3c6f31d80d1743",
            "acf2bee1962d4a5a9811b003899bb259",
            "8da463fef9b04aae9ec004e80f5b0664",
            "2fd092a5819143cfbce04b6bc323701a",
            "f8bee2205cbc4cdb9924963179ac48aa",
            "6daf45a235e34c8998b1b9c0f0dd5500",
            "d5fcaa516099447daacd332f33bbcb5c",
            "cb8e421b769649e4bd6d8133863ed6e7",
            "07bf1b0c0097422fa17840e8d7db2b96",
            "f67afe784c4746439bef2ea6dd19b98a",
            "f2a2f0ee885a43ba9d32e6f67344ee9d",
            "7f99c2c8f1e6449386f4e232d5c47129",
            "cf058882cb5448109deb55b526da9ef7",
            "2ec7749a57664936b9cb7a4fd46633ff",
            "fe00c4ba692f41639b725b7584564758",
            "e38de9e84ecb4d41af7aefb7cf07bb11",
            "e99752abc41d45be9c6ff6ca0b447bd6",
            "dc74c9495f7042a8af17f7f23273b682",
            "916aefe93d60490bbcca7ab3be7ce3aa",
            "aedf3dd276b24e3ab8311a7f42403b6c",
            "a25788fccad445eb8b787c21268b4f62",
            "77f547899aa84e32ab2a62715d8803fd",
            "7c9d47d3562d4a2dac384afa06ab1abb",
            "7823743adf89426c9c0e9c1132f1c5bf",
            "8e2ab098b0c341acbd29046f967ad998",
            "f188b561a9544adab1e7a3d5b9ee41bf",
            "963efea1f4224a41a39b42f7026cdf90",
            "44d458a3110e46a8a06f2f516293c4a0",
            "61f4b9fb023e42fd95e77ca93cf8a560",
            "f0bb1756d8ea412aacafc33e3c04ea66",
            "20e46599c3a14a059ae4e6b932fc07b1",
            "c1d235c7f3d24e928c707a54375b1f0e",
            "e1ff3224f0c5419f8124876008e4acfe",
            "4660c77fbab84112a17401bf8d05aaad",
            "56348bcd8e6d47dfa383ba15752fe9f3",
            "926e1ab271034c6e8479dd03d4a7a3df",
            "5d796f39a9d2451a8d61abe7698aa556",
            "ced114479532471eb8813047a2ffd636",
            "ddbde54485e84123bbf30e9428d6f9d7",
            "255c887b45314cd888de6f6279cf64d2",
            "07a4e1279b8648fd84c3da5463da90dd",
            "04cd8d66dfa3408690c316a3b267cd38",
            "73a2779de45546a2b2a84f5853be9e77",
            "c2500304f1ed473f93b80d6ea4ff5c28",
            "fe01a87160a64d42b6318858eef4bb88",
            "d86e48070b354d2dada821dd5505f31d",
            "4428b26e0e0e4f1196d78d2586171fd1",
            "2d6b231eba554fa0a9f63c58a752f033",
            "3237000f166f4b65a6837ceb5b35e3a6",
            "6dc29171b2dd4b91a8fa63501acabde8",
            "2d39900e583042208e4a8efe5d4c598f",
            "66e68db9644d49ca8876c2cdc9063a2d",
            "bfa8d43d1aab4993b549fa9a4a47dcc4",
            "0da85582487c496abe1566708c5a3c43",
            "2c82ef17ba734856b37c22bd1cf07b55",
            "5b8775f2f6a248fb9c402a6d4c57687b",
            "cbbaee1cd45c4fe5b3c31e58bde675b9",
            "5df8e7e26f064b838074097f63c911b3",
            "241a5fa9ee3b4e7981e66a29a0d7ff19",
            "470fe369373c4d859b9591212f983cb0",
            "cbf79449c16949ef81abbb1875cbdd17",
            "00bdc33a988f44c98b2f52e3e384e614",
            "69d63f1fcd4e454e98a9609a52a35074",
            "1d4e96b383dd4a189c520397021f536c",
            "8a83106e755849eeb22ba598eb1d2da7",
            "931e7a1d731e43d198dc497e33dbaef9",
            "23e1d90a74674df69eacc65c7a0c42d6",
            "2f6a88975f114934843be34e7e6e93c6",
            "d792d33b222b4742917487d5eb951d0f",
            "5906f17d1e4f47ea95fd3523c594a645"
          ]
        },
        "id": "YCahuyV2YTQs",
        "outputId": "8bd9b328-4138-45f8-80eb-0c3935e7aa9e"
      },
      "outputs": [
        {
          "output_type": "display_data",
          "data": {
            "text/plain": [
              "Overall Progress (Part 2):   0%|          | 0/5 [00:00<?, ?it/s]"
            ],
            "application/vnd.jupyter.widget-view+json": {
              "version_major": 2,
              "version_minor": 0,
              "model_id": "1f489cc37ff449e8a6303b41c24f6e9b"
            }
          },
          "metadata": {}
        },
        {
          "output_type": "display_data",
          "data": {
            "text/plain": [
              "Expert Teacher Training:   0%|          | 0/1000 [00:00<?, ?it/s]"
            ],
            "application/vnd.jupyter.widget-view+json": {
              "version_major": 2,
              "version_minor": 0,
              "model_id": "76568c0e10924ef4bf162d121824c9aa"
            }
          },
          "metadata": {}
        },
        {
          "output_type": "display_data",
          "data": {
            "text/plain": [
              "Student (from Expert) Training:   0%|          | 0/600 [00:00<?, ?it/s]"
            ],
            "application/vnd.jupyter.widget-view+json": {
              "version_major": 2,
              "version_minor": 0,
              "model_id": "6355417f94bb486b958717b05371a7df"
            }
          },
          "metadata": {}
        },
        {
          "output_type": "display_data",
          "data": {
            "text/plain": [
              "Expert Teacher Training:   0%|          | 0/1000 [00:00<?, ?it/s]"
            ],
            "application/vnd.jupyter.widget-view+json": {
              "version_major": 2,
              "version_minor": 0,
              "model_id": "110310077c534b3c965faa799d2959fc"
            }
          },
          "metadata": {}
        },
        {
          "output_type": "display_data",
          "data": {
            "text/plain": [
              "Student (from Expert) Training:   0%|          | 0/600 [00:00<?, ?it/s]"
            ],
            "application/vnd.jupyter.widget-view+json": {
              "version_major": 2,
              "version_minor": 0,
              "model_id": "8a4c168f67ed4b318499ebaf2ba9561a"
            }
          },
          "metadata": {}
        },
        {
          "output_type": "display_data",
          "data": {
            "text/plain": [
              "Expert Teacher Training:   0%|          | 0/1000 [00:00<?, ?it/s]"
            ],
            "application/vnd.jupyter.widget-view+json": {
              "version_major": 2,
              "version_minor": 0,
              "model_id": "f8bee2205cbc4cdb9924963179ac48aa"
            }
          },
          "metadata": {}
        },
        {
          "output_type": "display_data",
          "data": {
            "text/plain": [
              "Student (from Expert) Training:   0%|          | 0/600 [00:00<?, ?it/s]"
            ],
            "application/vnd.jupyter.widget-view+json": {
              "version_major": 2,
              "version_minor": 0,
              "model_id": "e38de9e84ecb4d41af7aefb7cf07bb11"
            }
          },
          "metadata": {}
        },
        {
          "output_type": "display_data",
          "data": {
            "text/plain": [
              "Expert Teacher Training:   0%|          | 0/1000 [00:00<?, ?it/s]"
            ],
            "application/vnd.jupyter.widget-view+json": {
              "version_major": 2,
              "version_minor": 0,
              "model_id": "963efea1f4224a41a39b42f7026cdf90"
            }
          },
          "metadata": {}
        },
        {
          "output_type": "display_data",
          "data": {
            "text/plain": [
              "Student (from Expert) Training:   0%|          | 0/600 [00:00<?, ?it/s]"
            ],
            "application/vnd.jupyter.widget-view+json": {
              "version_major": 2,
              "version_minor": 0,
              "model_id": "ced114479532471eb8813047a2ffd636"
            }
          },
          "metadata": {}
        },
        {
          "output_type": "display_data",
          "data": {
            "text/plain": [
              "Expert Teacher Training:   0%|          | 0/1000 [00:00<?, ?it/s]"
            ],
            "application/vnd.jupyter.widget-view+json": {
              "version_major": 2,
              "version_minor": 0,
              "model_id": "3237000f166f4b65a6837ceb5b35e3a6"
            }
          },
          "metadata": {}
        },
        {
          "output_type": "display_data",
          "data": {
            "text/plain": [
              "Student (from Expert) Training:   0%|          | 0/600 [00:00<?, ?it/s]"
            ],
            "application/vnd.jupyter.widget-view+json": {
              "version_major": 2,
              "version_minor": 0,
              "model_id": "470fe369373c4d859b9591212f983cb0"
            }
          },
          "metadata": {}
        },
        {
          "output_type": "stream",
          "name": "stdout",
          "text": [
            "\n",
            "==================== FINAL COMPREHENSIVE RESULTS (over 5 runs) ====================\n",
            "Model                                    | Mean MSE        | Std Dev MSE     | Mean R2        \n",
            "------------------------------------------------------------------------------------------\n",
            "Standard Teacher                         | 0.3194          | 0.0102          | 0.7705         \n",
            "Expert Teacher                           | 0.2717          | 0.0078          | 0.8048         \n",
            "Student (Scratch)                        | 0.3436          | 0.0158          | 0.7531         \n",
            "Student (Distilled from Standard)        | 0.3357          | 0.0154          | 0.7588         \n",
            "Student (Distilled from Expert)          | 0.3185          | 0.0147          | 0.7712         \n",
            "\n",
            "------------------------------------------------------------------------------------------\n",
            "Average MSE Improvement over Student (Scratch):\n",
            "Distillation from Standard Teacher:      2.32%\n",
            "Distillation from Expert Teacher:        7.31%\n",
            "------------------------------------------------------------------------------------------\n",
            "\n",
            "==================== Statistical Significance Tests ====================\n",
            "\n",
            "Comparing vs. Student (Scratch):\n",
            "Standard Teacher Distillation:  p-value = 0.1857\n",
            "Expert Teacher Distillation:    p-value = 0.0020\n",
            "====================================================================\n"
          ]
        }
      ],
      "source": [
        "# --- Part 2: Final Experiment Execution and Comprehensive Results with TQDM ---\n",
        "EARLY_STOPPING_PATIENCE_TEACHER = 100\n",
        "EPOCHS_TEACHER = 1000\n",
        "\n",
        "expert_teacher_results = {'mse': [], 'r2': []}\n",
        "student_distilled_expert_results = {'mse': [], 'r2': []}\n",
        "\n",
        "part2_model_states = []\n",
        "\n",
        "with tqdm(total=N_RUNS, desc=\"Overall Progress (Part 2)\") as run_pbar:\n",
        "    for i in range(N_RUNS):\n",
        "        run_pbar.set_description(f\"Run {i+1}/{N_RUNS}\")\n",
        "        torch.manual_seed(i); np.random.seed(i)\n",
        "\n",
        "        # --- Train Expert Teacher ---\n",
        "        run_pbar.set_postfix_str(\"Training Expert Teacher...\")\n",
        "        expert_teacher = ExpertTeacherNet().to(device)\n",
        "        optimizer_expert = optim.Adam(expert_teacher.parameters(), lr=LR_TEACHER, weight_decay=1e-4)\n",
        "        with tqdm(total=EPOCHS_TEACHER, desc=\"Expert Teacher Training\", leave=False) as epoch_pbar:\n",
        "            expert_teacher = train_model(\n",
        "                expert_teacher, train_loader, val_loader, optimizer_expert,\n",
        "                EPOCHS_TEACHER, EARLY_STOPPING_PATIENCE_TEACHER, epoch_pbar\n",
        "            )\n",
        "\n",
        "        # --- Distill from EXPERT Teacher ---\n",
        "        run_pbar.set_postfix_str(\"Training Student (from Expert)...\")\n",
        "        student_distilled_expert = StudentNet().to(device)\n",
        "        student_distilled_expert.load_state_dict(initial_student_states[i])\n",
        "        optimizer_distill_expert = optim.Adam(student_distilled_expert.parameters(), lr=LR_STUDENT)\n",
        "        with tqdm(total=EPOCHS_STUDENT, desc=\"Student (from Expert) Training\", leave=False) as epoch_pbar:\n",
        "            student_distilled_expert = train_student_distilled_fixed(\n",
        "                student_distilled_expert, expert_teacher, train_loader, val_loader,\n",
        "                optimizer_distill_expert, EPOCHS_STUDENT, EARLY_STOPPING_PATIENCE, epoch_pbar\n",
        "            )\n",
        "\n",
        "        # --- Evaluation ---\n",
        "        run_pbar.set_postfix_str(\"Evaluating...\")\n",
        "        _, mse_exp_t, r2_exp_t = evaluate_model(expert_teacher, X_test_tensor, y_test_tensor)\n",
        "        _, mse_dist_exp, r2_dist_exp = evaluate_model(student_distilled_expert, X_test_tensor, y_test_tensor)\n",
        "\n",
        "        expert_teacher_results['mse'].append(mse_exp_t); expert_teacher_results['r2'].append(r2_exp_t)\n",
        "        student_distilled_expert_results['mse'].append(mse_dist_exp); student_distilled_expert_results['r2'].append(r2_dist_exp)\n",
        "\n",
        "        # Save the states for this run (for potential use in Part 3 and 4)\n",
        "        part2_model_states.append({\n",
        "            'expert_teacher': expert_teacher.state_dict(),\n",
        "            'student_distilled_expert': student_distilled_expert.state_dict()\n",
        "        })\n",
        "\n",
        "        run_pbar.update(1)\n",
        "\n",
        "# --- Combine all results into one dictionary for the final table ---\n",
        "final_results = {\n",
        "    \"Standard Teacher\": part1_results[\"Teacher\"],\n",
        "    \"Expert Teacher\": expert_teacher_results,\n",
        "    \"Student (Scratch)\": part1_results[\"Student (Scratch)\"],\n",
        "    \"Student (Distilled from Standard)\": part1_results[\"Student (Distilled)\"],\n",
        "    \"Student (Distilled from Expert)\": student_distilled_expert_results\n",
        "}\n",
        "\n",
        "# --- Final Aggregated Results Table ---\n",
        "print(f\"\\n{'='*20} FINAL COMPREHENSIVE RESULTS (over {N_RUNS} runs) {'='*20}\")\n",
        "print(f\"{'Model':<40} | {'Mean MSE':<15} | {'Std Dev MSE':<15} | {'Mean R2':<15}\")\n",
        "print('-'*90)\n",
        "for name, data in final_results.items():\n",
        "    print(f\"{name:<40} | {np.mean(data['mse']):<15.4f} | {np.std(data['mse']):<15.4f} | {np.mean(data['r2']):<15.4f}\")\n",
        "\n",
        "# --- Calculate and Print Improvement ---\n",
        "mean_mse_scratch = np.mean(final_results[\"Student (Scratch)\"]['mse'])\n",
        "mean_mse_dist_std = np.mean(final_results[\"Student (Distilled from Standard)\"]['mse'])\n",
        "mean_mse_dist_exp = np.mean(final_results[\"Student (Distilled from Expert)\"]['mse'])\n",
        "improvement_std = (mean_mse_scratch - mean_mse_dist_std) / mean_mse_scratch * 100\n",
        "improvement_exp = (mean_mse_scratch - mean_mse_dist_exp) / mean_mse_scratch * 100\n",
        "\n",
        "print('\\n' + '-'*90)\n",
        "print(\"Average MSE Improvement over Student (Scratch):\")\n",
        "print(f\"Distillation from Standard Teacher:      {improvement_std:.2f}%\")\n",
        "print(f\"Distillation from Expert Teacher:        {improvement_exp:.2f}%\")\n",
        "print('-'*90)\n",
        "\n",
        "# --- Statistical Tests ---\n",
        "from scipy.stats import ttest_rel\n",
        "t_stat_std, p_val_std = ttest_rel(final_results[\"Student (Distilled from Standard)\"]['mse'], final_results[\"Student (Scratch)\"]['mse'], alternative='less')\n",
        "t_stat_exp, p_val_exp = ttest_rel(final_results[\"Student (Distilled from Expert)\"]['mse'], final_results[\"Student (Scratch)\"]['mse'], alternative='less')\n",
        "print(\"\\n\" + \"=\"*20 + \" Statistical Significance Tests \" + \"=\"*20)\n",
        "print(\"\\nComparing vs. Student (Scratch):\")\n",
        "print(f\"Standard Teacher Distillation:  p-value = {p_val_std:.4f}\")\n",
        "print(f\"Expert Teacher Distillation:    p-value = {p_val_exp:.4f}\")\n",
        "print(\"=\"*68)"
      ]
    },
    {
      "cell_type": "markdown",
      "metadata": {
        "id": "C9AB3RipYTQu"
      },
      "source": [
        "# 4. Optimising Distillation Weights via Grid Search\n",
        "\n",
        "### Analysis of new results\n",
        "The results from Part 2 are definitive: using a more powerful, regularised **Expert Teacher** provides a substantial and statistically significant improvement. This confirms our main hypothesis that a better teacher makes a better student.\n",
        "\n",
        "However, the distillation process itself used a fixed, heuristic weight balance (`hard_loss`: 0.3, `hp_loss`: 0.7). This ratio was chosen intuitively, but is it optimal?\n",
        "\n",
        "### Next steps\n",
        "The balance between learning from the ground truth (`hard_loss`) and mimicking the teacher's predictions (`hp_loss`) is a critical hyperparameter. By systematically searching for the best balance, we can further improve the student's performance beyond our initial guess.\n",
        "\n",
        "To test this, we will perform a grid search. For each run and for each weight combination, we will:\n",
        "1.  Load the pre-trained **Expert Teacher** from the previous experiment.\n",
        "2.  Initialize a **brand-new student** using the *exact same starting weights* as all other students in this notebook.\n",
        "3.  Train this student using the same **early stopping** mechanism used for all other models to ensure a fair comparison. The model that performs best on the validation set will be selected.\n",
        "4.  Evaluate its performance on the final test set and average the results across all `N_RUNS` to find the most effective weighting strategy."
      ]
    },
    {
      "cell_type": "code",
      "execution_count": null,
      "metadata": {
        "colab": {
          "base_uri": "https://localhost:8080/",
          "height": 1000,
          "referenced_widgets": [
            "4578a6147d3145318bd8a0f5bd12741e",
            "3ae9b61d3a484c39819b877b412660bf",
            "4c4b881940f947d3b4c7f573df602744",
            "f5f4375fccba4fe3b59a0d59b2c45c34",
            "6300a9cd18fd4e41b6b35d4066f37dc4",
            "5428aaa973c946f0a5a7e1a3d0da3d19",
            "ea33fb139c274c5db803f19bd7d169f7",
            "0ac4d6b781b94575a5772f439069510b",
            "954339c27e7c45d4aea1e9f86a0c23b5",
            "80ed01a9203b4574a2a7d6dc784b2daa",
            "c8d5e06f704645b29a862c74b3f4de3a",
            "a51a14d7bd1d48d6bc0bae12fd7d5c8a",
            "bdcbb7bfb52d4bdab2c1eb2c67bd5bd7",
            "806db2b27ce544119453cbf2f671e070",
            "39656f03bc1b49388108dd982ee5be55",
            "62e2418f90bc45e099d4f9055dae582e",
            "5fb6b1b37af3495480bf0aca1c148c7c",
            "f4bf2dd3bbea45beae033f87a3d089b9",
            "a801b1a0414041d1a1752e20abe63124",
            "7dd2c257493d40a28257f7e161751432",
            "d1d3f1f5eaed43029e183949947603ab",
            "a5c4d47cef8f46d79918a89f0a9a4be1",
            "0989e34097274e1d9efaf6781a30bb94",
            "02551fbeee644f56889b443e7e3ca3b5",
            "c56668c967744104945ada1b33876b84",
            "b8f26d3a65f24c56b66cd80aee715b49",
            "bb582e68dadc435f8ed22b775b618bff",
            "8dc4615ed9704fed9336916c798aead4",
            "ed5d381b9992485e8ff04c8633282f00",
            "43315795b9de40d99311b8a2a53afaad",
            "fb3f860697fd45298fd5cfc1e09db980",
            "c6ade229dbd3420e95ec70fb1cc28365",
            "8b087ba36a7e4f89a0b9b122160923a9",
            "5ebb4a250c6d4069a5d83e9080ead144",
            "e7aeb89214eb41cabfb74cfe509edbfc",
            "b75f6f665c3840ae9981bf54fc7174a8",
            "240102a4d5924059b1ac248a0af1d220",
            "f7bb90af41694fac863d0708a90c122b",
            "42e2c1a4101c49e1adfaaf7b51b9ccc9",
            "e292adf89fda452893238d6b135ac27b",
            "36d8f17336fc4cdeaebc9600f8d11ede",
            "be1f884cabac42279feb27a705adc961",
            "8be2e78528e842f9ab9fafe0699e62fc",
            "c88ca9f135df4924b25ca03b432069b4",
            "8103a70ffddd4805a0a209ee9ebe728f",
            "14a0f8aacc914c448033618656462d67",
            "c943d2db6b134e0fa9c59ffcb95520a5",
            "e4f7d6ac3dc940edbffe57bafaa1c0bc",
            "79020d18c624433fbd7b478508af31ae",
            "b6f714ebe0af4741a20a1a425c0497bc",
            "cbf02c8dab6247b3adb1dff1dab0b3fc",
            "ce068e004c224ca4a12ef17658a9cc10",
            "a06fbd256ecc481e8ddbfbb066762129",
            "2894c3eb3a134385b6a6db994bbb9aa6",
            "c11364d59463461e8da2b0b35ce6a104",
            "a8e1413e5dc14816a99fd995c59963a6",
            "77a2e37f446e48749771a86d7b39914a",
            "b062728180a942eb9dcfb332902bdc7c",
            "bfbf9ebc87cd47edb8dff30121a4063f",
            "29e71e98d9a24295b6fc4e7c8ace503f",
            "980c61e268394933afc19298c335bacd",
            "9f79e9c028f24f9982609e1e3be168e8",
            "39399d1db3ca46f199aa8be69a1f837b",
            "f39eab7dc35c4619b03b9a257ba63572",
            "c5ee29f6c85547c08fc98e85091bef72",
            "ee81df3dc4594ed7af2a778d31bf65a1",
            "234010426d3c40cdb69b26f0afeeb599",
            "8375fcf505194af78e6ac9fdb3642424",
            "154a5400e3ee4458ba7a4a394d260d96",
            "9aa9260807324bbd8a464de9f7646221",
            "4681458dde384235a3d1fcee6e8b7cc6",
            "69b3bc25b32649b9bb8d8ff276094f1f",
            "a72c8cf2438f4a80ac14353f093c3973",
            "bc70967f2b6b4b89b6f15095d673b998",
            "0fd4883424a64855ae491ae198234836",
            "c057cb3a9cfe42909298f85fcda5095e",
            "855348b414904726a2bf0a98d65eaec4",
            "bbcdc4ee18864211b4cc4135a2e713f5",
            "b4e2236eeb9c43ae9ea915ab1d0dab4c",
            "4ae6f038263c48629bac72ec8e86d508",
            "412a88b86fc54f969d0a7de7bdaf089e",
            "614ff0bdcf5549b2b4524abc5e75d030",
            "691d77357e764215a6a379db6c344901",
            "a48c5a6a62e0464381b1696b62863668",
            "90fd03c35c524999bef1105e19b01143",
            "b173e10f3a37457f932e089e0c938857",
            "8882ccf3bac0468594f3ef1e9d28dd81",
            "5ab591f207fe4912adabc7ac2ae0fa1e",
            "aa3a70ae5a9144a9ade16e6a8eb42dd2",
            "bfd49fa1c7584d9d950bbd032b53cdb5",
            "3a757a45e2af4cd3ad7ef5a2930a5bbf",
            "52606430174a432fb9548a20bb472758",
            "452fe0443e7a49009669c5bbc75e24fd",
            "0c6f180939b94ce5ab9e4be85f084f90",
            "66c18a9ccb3240508948f50c52e7c70b",
            "a1271e1a6c104fc58d7b24c7db4c30bc",
            "a2e133442e634c06bc7573cbb30fc549",
            "95ac01cfae34480c8cab2c68b3ee85f4",
            "2302545c20b441c7a10fdb3b2bf3acef",
            "53184b95698040d1bc2cec92f5eabe3e",
            "84bac5cbaf444e16987c9bc74bdb1299",
            "7687a0c727f94626a74249cadfb2c732",
            "c667c27febf349239eb1d83cb9bbfc7e",
            "9aa6d24c4c8f4e419458d2bfa78e6dc3",
            "a9018d131a36434995b794aeef9d3c21",
            "49549946066544a79324cec49952dfdc",
            "1f732301e1e942ab82438c8a0489fa54",
            "82321d130d714b4e9e910042d85f6d8f",
            "3c6949dbdb204acba611ab83f40acf05",
            "9795cd7a6ab1471b8665dc0c8d9b1f9f",
            "5dbd0fda02d144b9808e3123c3fd2db6",
            "ff3848ad912e4973bc17498606394abf",
            "7fa9466fb44f49c9893d5966e9f49a05",
            "282d03866aa443c6913799f18f977336",
            "be33fc4d8c7d4d4dbe19ff9167676433",
            "4aeb9297fc32458699e1f846e199e8df",
            "8c3866633fed4f45881cb6fb8c2bd553",
            "386157cc4a5a46d7972b442ace9622db",
            "f31b227157ab405c8adb566d70d75fdd",
            "6cf6bfc608ca4939a655e5f22aab2b7d",
            "23be79e9182c4a49bd8041db63471129",
            "eccdf35c2953405396e29f3c20636ca9",
            "c443cee7e4474da49d10415e24a5cf73",
            "483ec685b0cd40249cb350f56127b38e",
            "96e96f63538349a9be8c11d3b0eb14b9",
            "9d464c1446324dff9d6e639b48578bc9",
            "6aa523b1a0e9432ea4522616dd42486b",
            "fe4d774730e24521b730abd1887a236e",
            "29574f19c54148a9abbac90b8a1104b7",
            "84d3ed3e8fbb402d88fb7f5b9797896d",
            "4971943876154eb5969ae6e9730de1a7",
            "ab2757f8736a4638845f27ec2d677a2b",
            "650611413a7a4312bfd526a2d5a065ce",
            "c1c4efcba11b4a02968b7f510d3871ec",
            "c815fb48d5344c7185d89300b9bcefb4",
            "98c0ac7064d6473ab07dceb573977452",
            "7b0bf8ce08bf462599bbd6b61c87f4a9",
            "a243aa2415ae46cea23dc33597be96e3",
            "6d6bcb761fda4dc58149bf4b6b87be8a",
            "037bca12f6af47228f95ed6965350479",
            "80c2a809e9a8498187fc028a46069ec6",
            "b9ce69776df14229b181ce9ed66a72ad",
            "d8c6e1a16a304de3a603bff8932f5340",
            "eecf097a3f8747abb18066992ea6a165",
            "22f98839ea3c4a49b820006292f3868a",
            "c27f616274f64c718c5b4429564f7a6d",
            "45ab03f54dad4e06854108097a931749",
            "51e93b4ec1754a35b90ec1400f8e2a4b",
            "220b224a06d94faba87adf4d09e02d18",
            "11f30e2bf8254b5e917e2505389bccc2",
            "d8271bf355fa4c8ebf64610bb97f5a7a",
            "f3ec10e59e3f400dbf4fb59c86d04ef2",
            "c9185079fdbf4bac963c8c8fbfe5357c",
            "92d9f5324fd9499cbc070bfb982186d5",
            "482aca4acdae4fe6a6caea90cd9ac7eb",
            "f3c97a664deb462f81f77f82585499aa",
            "2797ecab89c54ba9a62e8f84e37976e3",
            "ac077486050f49e9bdf96a669d373b1a",
            "5a76ebcb27e04ea0879c43bd416c3bcc",
            "b44fef2c0c0c4605b536b18ce262bf40",
            "b080c376666e458395449b9913e28bdd",
            "4bf1064509fc47b3ae6e493fb9745c9c",
            "d587235c8ad2429ca2a79a4e8e60f39a",
            "e1e90651e0ea432ab171b731418e53c1",
            "bfc4f57a02074fc4895d3f651288317f",
            "7414db0b9f144cbab72ed0da15153053",
            "9ced183da6584edeb1c7298a4cde58fe",
            "1c13beff70f346689001248379a3cb1c",
            "3af4aea2c990425c941e1f99e5a5a3d4",
            "83cbe48ebe564804ad2d05d561c8c3ed",
            "bf4a3fc07f35462c917321dc1dca9e25",
            "93542724f7f54221b8ead3518662e3f3",
            "35a6d0ec05454416b1e6ec4a98cf8fe7",
            "53059d2572d246849e5c4350d31fc95c",
            "3a4fab2d66054056a2e9cd932886be7f",
            "daca6bdf9229449ca4f46e03a34d51cb",
            "1c2f50fdef114c9b90b68b4ac1194cf6",
            "b88e30f0ea124667b2d44298c83c92b0",
            "1109d153fb7845abbd69e368c44830f5",
            "46e31ad34ea144fab3f6338a3bd550b0",
            "c5ceeac8befa4782b4f525edbbdb50ee",
            "cf3539c3fcdf473f9c9a56679ff743a1",
            "36f59f409127411ba7668efa99f47e42",
            "e9a89d16581141f9b668999feea07209",
            "edabb04b66a84a67a17024c3caad500b",
            "763661400c7b45aeb3a32a85f46fe91f",
            "6a0ee32f4f534737a561facee52c6ca2",
            "5e910a46590d47168d14f35c010a9daa",
            "c4499f25c0cd4aea958e8fd9d98615b1",
            "11fba11491664d9db3fa6e2e37aa94c6",
            "abc440b91150450eb26ab34766567c90",
            "53718eb5fe9d4a9e92e3418174d3447f",
            "b076b125c77e474fb7486dfc079064f5",
            "c0a64b2062a14f35a833598576d62fe4",
            "f5ba6a62c666479caa773e2dc10ac6e3",
            "08dc7ea7b64b403d84ae6ca25e0a773c",
            "b840ab8b97b240b3b8b4b90016dbaacc",
            "7748868e6c134a9486a12211c6069150",
            "1f1ebe2c392a47aea6a3f337485cc08e",
            "895e7ba2f8264dffbfa1363091934428",
            "87f6fc66fdef445cb5cc4783bc8134aa",
            "c7097c74c695473383a1403925f2f1aa",
            "6e778cd3ed2845e3aca72eafc241eff4",
            "87fcd5a88ec1490a9e185fd2653107f4",
            "096966af7e1c469899d8ce43b3d226f7",
            "be37225d48ef4730aa18d49cf8c70dfb",
            "fe1e03aa3b36462bbe343dbe2f50dd65",
            "d0ff891136414943b3e8dd377bba5683",
            "8bca2205c5304259a69d6b1905ac7887",
            "73622bfe009549cf83aac3b9d944d14d",
            "a17166885c694b0ea8adf97a9772417c",
            "025f439ae3aa471486a3b33645b35468",
            "d8ba030eeef9487db8a59a512053422f",
            "a4c9f6bad978431c933386c2f1f16c8f",
            "bd9cd9af68e54eabb12a69c3382178ed",
            "388eec24616149ad9b07120735c528f7",
            "a6b55a67e22a41ee99ff21a39d9349b8",
            "5720af33ccb54c3cbce8ccb908a57997",
            "e57eea9379c1413ebd3233a6ede021ae",
            "25d9ada132884be8a83df2f141456a96",
            "c39f6521acef44b695250d8150fa5e34",
            "93ce6273f65d4858a08a3f5af234696f",
            "4dc1fef3213445d792c42bbf6c2c9a33",
            "c7db200a1fcd46caa10e8e39b90c17de",
            "4eb7102629d742aeb19d33fa8df55351",
            "1a65cfd7a92f4d4cab882fc4864677c0",
            "80f966c76c08404e8d61b374ada377b8",
            "20837321147047cb9e551664296ad2f0",
            "66211826061e48c58d83b8e185f2cfe1",
            "4d60353e751e47298f2111d6d9de140b",
            "c8a48234a58a422f9b52a9ec6066493c",
            "44f905621cf74250944c363e32a74583",
            "9fd448d254aa4f0fbe04ebdcdee17eb6",
            "49a2c43f1aa74afc8c49c3ec49e31ab2",
            "f6743d503e4e4e2ca9ee6064244241dc",
            "108786d3d71d4fe9879e994a1b944719",
            "6cdde7fcecad4457ae750afa1d241a81",
            "9338003996fd43e482ad2dc2615f203e",
            "59bac261e1944cbc8fd238ed87930443",
            "a8bd9387c85b4139b587bf261f3e1978",
            "262aac22c81c40689f74262608b24b13",
            "7e186785d234499587e4daaecf4407a8",
            "125a3d357130403f85ead1f60187bfff",
            "1a372b60841e43bdaf33724d5ff47560",
            "85188897e4804800b9de3a5e87039853",
            "17d924f9c7d441c99335c409c50ad6b8",
            "ec624fe677cc4e9180f608d9c1e5e43d",
            "dc2c1139027241e29c2c815cf054dd59",
            "94724b3012f74519827eb6125ea2f139",
            "96784d1c452441b989fa77d5f0164484",
            "848e68dd3e23457fae479c5dfbd4bbfa",
            "00d4924e547940608633e6e1d4ea1421",
            "41b5f085e8b749deaf72413230d56931",
            "e2aafe6fc7594172927acb26b8baa917",
            "713ca81ff244479a91b92e050c0a2134",
            "a5d4382be59e476fba08f94797b4333f",
            "e56947e2ec4e4455878e8674d03eb9c8",
            "3e3b384bca294a5da644d5f201677a60",
            "9dfbd68cbab246528d64bef1774a159b",
            "6936dd081c51458892cb5792e5dee86e",
            "724d5426661044379fefecc3638dc6e4",
            "8139b1fa40bf4fdc916d9e215a3f6d6a",
            "4cd6c261e51043a4b5981d9feede249f",
            "8362e33ecd17436cb89f7487eb0afcf3",
            "34d9ebce96f9442c973199b4374da7e6",
            "249528473c1346ea812ca85136eaeb1c",
            "649f786953a94e46922b655c49a4afa8",
            "f3482e944b6c40a3981961a86b731b88",
            "a75a5daf1bd24302b28b50256c747da2",
            "328e8e3c41584205aa59c6beb10bd8ce",
            "8807d3d1ae52497d876673328ee33d3c",
            "4c449f952a864d55b7899da19f8aeaa1",
            "e95c5105532748d298f793be18a8bca7",
            "f688792f7ecc4f6197105a38324fdd49",
            "b230c64f3c7349d78079d6c0a73121b1",
            "f1e438040b174f1586cff87e744a5eff",
            "68aef3a7d5c3482dbf1c1e065913a8cc",
            "42dc80b6ee3f4266b49dff4efb4dd26e",
            "289676540e914ff680c194eec7ff8e5e",
            "6c5bbb822edc41bd9a212855e2128cf3",
            "871744895546432694a0830db7f5e360",
            "bc76199b06774716b6df884f360dcf5e",
            "c42b304ef1524066ab7c0e10e5bcad96",
            "e58638397c324d9d973492b82ccc32b6",
            "04d2854fbdbd45398a089de514c541a3",
            "58bea0636ae94f1ca467ca7aa62eded2"
          ]
        },
        "id": "PT0fETToYTQu",
        "outputId": "17f628c5-3540-43fb-9b79-252695b3625f"
      },
      "outputs": [
        {
          "output_type": "display_data",
          "data": {
            "text/plain": [
              "Grid Search Full Training:   0%|          | 0/25 [00:00<?, ?it/s]"
            ],
            "application/vnd.jupyter.widget-view+json": {
              "version_major": 2,
              "version_minor": 0,
              "model_id": "4578a6147d3145318bd8a0f5bd12741e"
            }
          },
          "metadata": {}
        },
        {
          "output_type": "display_data",
          "data": {
            "text/plain": [
              "Training H=0.1:   0%|          | 0/600 [00:00<?, ?it/s]"
            ],
            "application/vnd.jupyter.widget-view+json": {
              "version_major": 2,
              "version_minor": 0,
              "model_id": "a51a14d7bd1d48d6bc0bae12fd7d5c8a"
            }
          },
          "metadata": {}
        },
        {
          "output_type": "display_data",
          "data": {
            "text/plain": [
              "Training H=0.3:   0%|          | 0/600 [00:00<?, ?it/s]"
            ],
            "application/vnd.jupyter.widget-view+json": {
              "version_major": 2,
              "version_minor": 0,
              "model_id": "0989e34097274e1d9efaf6781a30bb94"
            }
          },
          "metadata": {}
        },
        {
          "output_type": "display_data",
          "data": {
            "text/plain": [
              "Training H=0.5:   0%|          | 0/600 [00:00<?, ?it/s]"
            ],
            "application/vnd.jupyter.widget-view+json": {
              "version_major": 2,
              "version_minor": 0,
              "model_id": "5ebb4a250c6d4069a5d83e9080ead144"
            }
          },
          "metadata": {}
        },
        {
          "output_type": "display_data",
          "data": {
            "text/plain": [
              "Training H=0.7:   0%|          | 0/600 [00:00<?, ?it/s]"
            ],
            "application/vnd.jupyter.widget-view+json": {
              "version_major": 2,
              "version_minor": 0,
              "model_id": "8103a70ffddd4805a0a209ee9ebe728f"
            }
          },
          "metadata": {}
        },
        {
          "output_type": "display_data",
          "data": {
            "text/plain": [
              "Training H=0.9:   0%|          | 0/600 [00:00<?, ?it/s]"
            ],
            "application/vnd.jupyter.widget-view+json": {
              "version_major": 2,
              "version_minor": 0,
              "model_id": "a8e1413e5dc14816a99fd995c59963a6"
            }
          },
          "metadata": {}
        },
        {
          "output_type": "display_data",
          "data": {
            "text/plain": [
              "Training H=0.1:   0%|          | 0/600 [00:00<?, ?it/s]"
            ],
            "application/vnd.jupyter.widget-view+json": {
              "version_major": 2,
              "version_minor": 0,
              "model_id": "234010426d3c40cdb69b26f0afeeb599"
            }
          },
          "metadata": {}
        },
        {
          "output_type": "display_data",
          "data": {
            "text/plain": [
              "Training H=0.3:   0%|          | 0/600 [00:00<?, ?it/s]"
            ],
            "application/vnd.jupyter.widget-view+json": {
              "version_major": 2,
              "version_minor": 0,
              "model_id": "bbcdc4ee18864211b4cc4135a2e713f5"
            }
          },
          "metadata": {}
        },
        {
          "output_type": "display_data",
          "data": {
            "text/plain": [
              "Training H=0.5:   0%|          | 0/600 [00:00<?, ?it/s]"
            ],
            "application/vnd.jupyter.widget-view+json": {
              "version_major": 2,
              "version_minor": 0,
              "model_id": "aa3a70ae5a9144a9ade16e6a8eb42dd2"
            }
          },
          "metadata": {}
        },
        {
          "output_type": "display_data",
          "data": {
            "text/plain": [
              "Training H=0.7:   0%|          | 0/600 [00:00<?, ?it/s]"
            ],
            "application/vnd.jupyter.widget-view+json": {
              "version_major": 2,
              "version_minor": 0,
              "model_id": "53184b95698040d1bc2cec92f5eabe3e"
            }
          },
          "metadata": {}
        },
        {
          "output_type": "display_data",
          "data": {
            "text/plain": [
              "Training H=0.9:   0%|          | 0/600 [00:00<?, ?it/s]"
            ],
            "application/vnd.jupyter.widget-view+json": {
              "version_major": 2,
              "version_minor": 0,
              "model_id": "5dbd0fda02d144b9808e3123c3fd2db6"
            }
          },
          "metadata": {}
        },
        {
          "output_type": "display_data",
          "data": {
            "text/plain": [
              "Training H=0.1:   0%|          | 0/600 [00:00<?, ?it/s]"
            ],
            "application/vnd.jupyter.widget-view+json": {
              "version_major": 2,
              "version_minor": 0,
              "model_id": "eccdf35c2953405396e29f3c20636ca9"
            }
          },
          "metadata": {}
        },
        {
          "output_type": "display_data",
          "data": {
            "text/plain": [
              "Training H=0.3:   0%|          | 0/600 [00:00<?, ?it/s]"
            ],
            "application/vnd.jupyter.widget-view+json": {
              "version_major": 2,
              "version_minor": 0,
              "model_id": "650611413a7a4312bfd526a2d5a065ce"
            }
          },
          "metadata": {}
        },
        {
          "output_type": "display_data",
          "data": {
            "text/plain": [
              "Training H=0.5:   0%|          | 0/600 [00:00<?, ?it/s]"
            ],
            "application/vnd.jupyter.widget-view+json": {
              "version_major": 2,
              "version_minor": 0,
              "model_id": "eecf097a3f8747abb18066992ea6a165"
            }
          },
          "metadata": {}
        },
        {
          "output_type": "display_data",
          "data": {
            "text/plain": [
              "Training H=0.7:   0%|          | 0/600 [00:00<?, ?it/s]"
            ],
            "application/vnd.jupyter.widget-view+json": {
              "version_major": 2,
              "version_minor": 0,
              "model_id": "482aca4acdae4fe6a6caea90cd9ac7eb"
            }
          },
          "metadata": {}
        },
        {
          "output_type": "display_data",
          "data": {
            "text/plain": [
              "Training H=0.9:   0%|          | 0/600 [00:00<?, ?it/s]"
            ],
            "application/vnd.jupyter.widget-view+json": {
              "version_major": 2,
              "version_minor": 0,
              "model_id": "7414db0b9f144cbab72ed0da15153053"
            }
          },
          "metadata": {}
        },
        {
          "output_type": "display_data",
          "data": {
            "text/plain": [
              "Training H=0.1:   0%|          | 0/600 [00:00<?, ?it/s]"
            ],
            "application/vnd.jupyter.widget-view+json": {
              "version_major": 2,
              "version_minor": 0,
              "model_id": "1c2f50fdef114c9b90b68b4ac1194cf6"
            }
          },
          "metadata": {}
        },
        {
          "output_type": "display_data",
          "data": {
            "text/plain": [
              "Training H=0.3:   0%|          | 0/600 [00:00<?, ?it/s]"
            ],
            "application/vnd.jupyter.widget-view+json": {
              "version_major": 2,
              "version_minor": 0,
              "model_id": "5e910a46590d47168d14f35c010a9daa"
            }
          },
          "metadata": {}
        },
        {
          "output_type": "display_data",
          "data": {
            "text/plain": [
              "Training H=0.5:   0%|          | 0/600 [00:00<?, ?it/s]"
            ],
            "application/vnd.jupyter.widget-view+json": {
              "version_major": 2,
              "version_minor": 0,
              "model_id": "1f1ebe2c392a47aea6a3f337485cc08e"
            }
          },
          "metadata": {}
        },
        {
          "output_type": "display_data",
          "data": {
            "text/plain": [
              "Training H=0.7:   0%|          | 0/600 [00:00<?, ?it/s]"
            ],
            "application/vnd.jupyter.widget-view+json": {
              "version_major": 2,
              "version_minor": 0,
              "model_id": "73622bfe009549cf83aac3b9d944d14d"
            }
          },
          "metadata": {}
        },
        {
          "output_type": "display_data",
          "data": {
            "text/plain": [
              "Training H=0.9:   0%|          | 0/600 [00:00<?, ?it/s]"
            ],
            "application/vnd.jupyter.widget-view+json": {
              "version_major": 2,
              "version_minor": 0,
              "model_id": "c39f6521acef44b695250d8150fa5e34"
            }
          },
          "metadata": {}
        },
        {
          "output_type": "display_data",
          "data": {
            "text/plain": [
              "Training H=0.1:   0%|          | 0/600 [00:00<?, ?it/s]"
            ],
            "application/vnd.jupyter.widget-view+json": {
              "version_major": 2,
              "version_minor": 0,
              "model_id": "44f905621cf74250944c363e32a74583"
            }
          },
          "metadata": {}
        },
        {
          "output_type": "display_data",
          "data": {
            "text/plain": [
              "Training H=0.3:   0%|          | 0/600 [00:00<?, ?it/s]"
            ],
            "application/vnd.jupyter.widget-view+json": {
              "version_major": 2,
              "version_minor": 0,
              "model_id": "125a3d357130403f85ead1f60187bfff"
            }
          },
          "metadata": {}
        },
        {
          "output_type": "display_data",
          "data": {
            "text/plain": [
              "Training H=0.5:   0%|          | 0/600 [00:00<?, ?it/s]"
            ],
            "application/vnd.jupyter.widget-view+json": {
              "version_major": 2,
              "version_minor": 0,
              "model_id": "e2aafe6fc7594172927acb26b8baa917"
            }
          },
          "metadata": {}
        },
        {
          "output_type": "display_data",
          "data": {
            "text/plain": [
              "Training H=0.7:   0%|          | 0/600 [00:00<?, ?it/s]"
            ],
            "application/vnd.jupyter.widget-view+json": {
              "version_major": 2,
              "version_minor": 0,
              "model_id": "34d9ebce96f9442c973199b4374da7e6"
            }
          },
          "metadata": {}
        },
        {
          "output_type": "display_data",
          "data": {
            "text/plain": [
              "Training H=0.9:   0%|          | 0/600 [00:00<?, ?it/s]"
            ],
            "application/vnd.jupyter.widget-view+json": {
              "version_major": 2,
              "version_minor": 0,
              "model_id": "f1e438040b174f1586cff87e744a5eff"
            }
          },
          "metadata": {}
        },
        {
          "output_type": "stream",
          "name": "stdout",
          "text": [
            "\\n==================== RESULTS FOR PART 3: GRID SEARCH (over 5 runs) ====================\n",
            "        Weights  Mean MSE  Std Dev MSE   Mean R2\n",
            "0  H=0.3_HP=0.7  0.310855     0.017177  0.776657\n",
            "1  H=0.1_HP=0.9  0.314427     0.008988  0.774090\n",
            "2  H=0.7_HP=0.3  0.318653     0.012933  0.771054\n",
            "3  H=0.5_HP=0.5  0.322715     0.020620  0.768135\n",
            "4  H=0.9_HP=0.1  0.341145     0.019921  0.754894\n",
            "\\nBest performance achieved with weights: H=0.3_HP=0.7\n"
          ]
        },
        {
          "output_type": "display_data",
          "data": {
            "text/plain": [
              "<Figure size 1400x700 with 1 Axes>"
            ],
            "image/png": "[encoded data removed]"
          },
          "metadata": {}
        }
      ],
      "source": [
        "import pandas as pd\n",
        "\n",
        "# --- Configuration for Part 3 Grid Search ---\\n\",\n",
        "# We use the original student hyperparameters\n",
        "LR_GRID_SEARCH = LR_STUDENT\n",
        "EPOCHS_GRID_SEARCH = EPOCHS_STUDENT\n",
        "\n",
        "# Define the grid of weights to search\n",
        "weight_combinations = [\n",
        "    {'hard': 0.1, 'hp': 0.9},\n",
        "    {'hard': 0.3, 'hp': 0.7}, # The original weights from Part 2\n",
        "    {'hard': 0.5, 'hp': 0.5},\n",
        "    {'hard': 0.7, 'hp': 0.3},\n",
        "    {'hard': 0.9, 'hp': 0.1},\n",
        "]\n",
        "\n",
        "# Store results for each weight combination\n",
        "grid_search_results = {f\"H={w['hard']}_HP={w['hp']}\": {'mse': [], 'r2': []} for w in weight_combinations}\n",
        "\n",
        "# A distillation trainer that accepts weights and performs early stopping\n",
        "def train_student_distilled_early_stopping(student_model, teacher_model, train_loader, val_loader, optimizer, epochs, patience, pbar, weights):\n",
        "    \"\"\"Distillation training with a flexible weights dictionary and early stopping.\"\"\"\n",
        "    best_val_loss = float('inf')\n",
        "    patience_counter = 0\n",
        "    best_model_state = None\n",
        "\n",
        "    for epoch in range(epochs):\n",
        "        student_model.train()\n",
        "        teacher_model.eval()\n",
        "        for X_batch, y_batch_true in train_loader:\n",
        "            optimizer.zero_grad()\n",
        "            y_pred_student = student_model(X_batch)\n",
        "            with torch.no_grad():\n",
        "                y_pred_teacher = teacher_model(X_batch)\n",
        "            loss_hard = criterion(y_pred_student, y_batch_true)\n",
        "            loss_soft_hp = criterion(y_pred_student, y_pred_teacher)\n",
        "            combined_loss = weights['hard'] * loss_hard + weights['hp'] * loss_soft_hp\n",
        "            combined_loss.backward()\n",
        "            optimizer.step()\n",
        "\n",
        "        # Validation step\n",
        "        student_model.eval()\n",
        "        val_loss = 0.0\n",
        "        with torch.no_grad():\n",
        "            for X_val_batch, y_val_batch in val_loader:\n",
        "                val_outputs = student_model(X_val_batch)\n",
        "                loss = criterion(val_outputs, y_val_batch)\n",
        "                val_loss += loss.item()\n",
        "\n",
        "        avg_val_loss = val_loss / len(val_loader)\n",
        "        pbar.set_postfix_str(f\"Val Loss: {avg_val_loss:.4f}\")\n",
        "\n",
        "        # Early stopping check\n",
        "        if avg_val_loss < best_val_loss:\n",
        "            best_val_loss = avg_val_loss\n",
        "            patience_counter = 0\n",
        "            best_model_state = student_model.state_dict()\n",
        "        else:\n",
        "            patience_counter += 1\n",
        "\n",
        "        if patience_counter >= patience:\n",
        "            pbar.set_postfix_str(f\"Early stopping at epoch {epoch+1}. Best val loss: {best_val_loss:.4f}\")\n",
        "            pbar.update(epochs - epoch - 1)\n",
        "            break\n",
        "\n",
        "        pbar.update(1)\n",
        "\n",
        "    # Load the best model state\n",
        "    if best_model_state:\n",
        "        student_model.load_state_dict(best_model_state)\n",
        "    return student_model\n",
        "\n",
        "# --- Main Grid Search Loop (with Early Stopping) ---\\n\",\n",
        "with tqdm(total=N_RUNS * len(weight_combinations), desc=\"Grid Search Full Training\") as pbar:\n",
        "    for i in range(N_RUNS):\n",
        "        # Load the expert teacher from this specific run in Part 2\n",
        "        expert_teacher = ExpertTeacherNet().to(device)\n",
        "        expert_teacher.load_state_dict(part2_model_states[i]['expert_teacher'])\n",
        "\n",
        "        # The initial student state for this run\n",
        "        student_initial_state = initial_student_states[i]\n",
        "\n",
        "        for weights in weight_combinations:\n",
        "            pbar.set_description(f\"Run {i+1}, Weights H={weights['hard']}:HP={weights['hp']}\")\n",
        "\n",
        "            # Re-initialize student and optimizer for each grid point\n",
        "            student_to_train = StudentNet().to(device)\n",
        "            student_to_train.load_state_dict(student_initial_state)\n",
        "            optimizer = optim.Adam(student_to_train.parameters(), lr=LR_GRID_SEARCH)\n",
        "\n",
        "            # Train the model with early stopping\n",
        "            with tqdm(total=EPOCHS_GRID_SEARCH, desc=f\"Training H={weights['hard']}\", leave=False) as epoch_pbar:\n",
        "                student_to_train = train_student_distilled_early_stopping(\n",
        "                    student_to_train, expert_teacher, train_loader, val_loader, optimizer,\n",
        "                    EPOCHS_GRID_SEARCH, EARLY_STOPPING_PATIENCE, epoch_pbar, weights\n",
        "                )\n",
        "\n",
        "            # Evaluate and store the results\n",
        "            _, mse, r2 = evaluate_model(student_to_train, X_test_tensor, y_test_tensor)\n",
        "            key = f\"H={weights['hard']}_HP={weights['hp']}\"\n",
        "            grid_search_results[key]['mse'].append(mse)\n",
        "            grid_search_results[key]['r2'].append(r2)\n",
        "\n",
        "            pbar.update(1)\n",
        "\n",
        "# --- Process and Display Grid Search Results ---\\n\",\n",
        "results_df_data = []\n",
        "for name, data in grid_search_results.items():\n",
        "    results_df_data.append({\n",
        "        'Weights': name,\n",
        "        'Mean MSE': np.mean(data['mse']),\n",
        "        'Std Dev MSE': np.std(data['mse']),\n",
        "        'Mean R2': np.mean(data['r2'])\n",
        "    })\n",
        "\n",
        "results_df = pd.DataFrame(results_df_data).sort_values(by='Mean MSE').reset_index(drop=True)\n",
        "\n",
        "# Identify the best result from the grid search\n",
        "best_grid_search_result = results_df.iloc[0]\n",
        "best_grid_search_name = \"Student (Distilled, Optimal HP Weights)\"\n",
        "best_grid_search_stats = grid_search_results[best_grid_search_result['Weights']]\n",
        "\n",
        "print(f\"\\\\n{'='*20} RESULTS FOR PART 3: GRID SEARCH (over {N_RUNS} runs) {'='*20}\")\n",
        "print(results_df.to_string())\n",
        "print(f\"\\\\nBest performance achieved with weights: {best_grid_search_result['Weights']}\")\n",
        "\n",
        "# --- Visualize the Grid Search Results ---\\n\",\n",
        "plt.figure(figsize=(14, 7))\n",
        "sns.barplot(x='Mean MSE', y='Weights', data=results_df, orient='h', color='mediumpurple')\n",
        "plt.errorbar(x=results_df['Mean MSE'], y=results_df.index, xerr=results_df['Std Dev MSE'], fmt='none', c='black', capsize=5)\n",
        "plt.title('Grid Search for Optimal Distillation Weights (Lower MSE is Better)', fontsize=16)\n",
        "plt.xlabel('Mean Squared Error (MSE) on Test Set', fontsize=12)\n",
        "plt.ylabel('Loss Weight Combination (Hard_Loss:HP_Loss)', fontsize=12)\n",
        "plt.grid(True, axis='x')\n",
        "plt.show()"
      ]
    },
    {
      "cell_type": "markdown",
      "metadata": {
        "id": "KbazkeS4YTQv"
      },
      "source": [
        "### Comment\n",
        "The grid search results are insightful. While giving a heavy weighting to the teacher's predictions (e.g., `HP=0.9`) yields a strong performance, the optimal balance was found at `H=0.3_HP=0.7`. This suggests that while the teacher's knowledge is highly valuable, grounding the student in the ground truth data is still crucial for achieving the best possible performance. Simply mimicking the teacher is not enough; a blend of both signals is key.\n",
        "\n",
        "Of course, this is highly dependent on the task at hand: this notebook is a toy example and as often happens in machine learning, the results may not generalise to other tasks. However, the principles of knowledge distillation and the importance of teacher quality remain valid across various domains."
      ]
    },
    {
      "cell_type": "markdown",
      "metadata": {
        "id": "MqkUlcxgYTQy"
      },
      "source": [
        "### Final Conclusion and Further Insights\n",
        "\n",
        "This experiment has demonstrated a case where knowledge distillation can successfully improve the performance of a smaller student model in a regression task. The most effective strategy in this particular setup was to:\n",
        "\n",
        "1.  **Train a highly capable and well-regularised Teacher model.** A better teacher provides higher-quality \"soft targets\", leading to a better student.\n",
        "2.  **Perform response-based distillation (`L_HP`).** This classic technique proved robust and effective.\n",
        "3.  **Carefully tune the distillation hyperparameters.** A grid search revealed that the optimal balance between learning from the ground truth (`hard_loss`) and mimicking the teacher (`hp_loss`) was critical for maximising performance.\n",
        "\n",
        "It is worth noting that this notebook is a simplified example. In our broader explorations, we also experimented with adding other distillation signals, such as matching input gradients or intermediate feature representations. However, their effect was not consistently positive and did not yield a clear improvement over the tuned `L_HP` method, so they were not included here for clarity.\n",
        "\n",
        "Based on our experiments, we have gathered several insights for practitioners interested in applying distillation to regression:\n",
        "\n",
        "*   **Task Complexity Matters:** We observed no significant improvements from distillation on overly simple tasks. The problem needs to be complex enough that the teacher can learn \"dark knowledge\"—a mapping that is richer than the ground truth labels alone.\n",
        "*   **Teacher Quality is Paramount:** As demonstrated, a more powerful teacher leads to a better distilled student.\n",
        "*   **Student Capacity is Important:** The student model must have sufficient capacity to capture the nuances of the teacher's predictions. If the student is too small, it may not be able to benefit from the richer signal.\n",
        "*   **Statistical Validation is Crucial:** In some experiments, a single run of distillation showed significant improvements. However, when repeated for statistical validation, we found that on average, training from scratch could sometimes achieve a comparable performance. The inherent randomness in training can be a significant confounding factor, and a single successful run should be treated with caution.\n",
        "\n",
        "Ultimately, we have not found distillation in regression to be as universally and dramatically effective as it often is in classification tasks. This is consistent with the literature, where distillation is much more commonly and successfully applied to classification. Indeed, in our own classification experiments, we achieved excellent results, which can be seen in the following notebooks:\n",
        "*   [Notebook 2: Distillation for Classification](link-to-notebook-2)\n",
        "*   [Notebook 3: Advanced Distillation Techniques](link-to-notebook-3)\n",
        "\n",
        "Knowledge distillation remains something of an art: you need to experiment and find the right balance of models, data, and techniques for your specific task to achieve optimal results."
      ]
    }
  ],
  "metadata": {
    "accelerator": "GPU",
    "colab": {
      "gpuType": "T4",
      "provenance": [],
      "include_colab_link": true
    },
    "kernelspec": {
      "display_name": "Python 3",
      "name": "python3"
    },
    "language_info": {
      "codemirror_mode": {
        "name": "ipython",
        "version": 3
      },
      "file_extension": ".py",
      "mimetype": "text/x-python",
      "name": "python",
      "nbconvert_exporter": "python",
      "pygments_lexer": "ipython3",
      "version": "3.13.5"
    }
  },
  "nbformat": 4,
  "nbformat_minor": 0
}