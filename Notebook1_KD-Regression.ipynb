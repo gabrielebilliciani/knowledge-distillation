{
  "cells": [
    {
      "cell_type": "markdown",
      "metadata": {
        "colab_type": "text",
        "id": "view-in-github"
      },
      "source": [
        "<a href=\"https://colab.research.google.com/github/gabrielebilliciani/knowledge-distillation/blob/main/notebooks/regression/Notebook1_KD-Regression.ipynb\" target=\"_parent\"><img src=\"https://colab.research.google.com/assets/colab-badge.svg\" alt=\"Open In Colab\"/></a>"
      ]
    },
    {
      "cell_type": "markdown",
      "metadata": {
        "id": "introduction.md"
      },
      "source": [
        "# Knowledge Distillation for Regression\n",
        "\n",
        " > **Note**: This notebook is part of an introductory project on Knowledge Distillation. It serves as a practical companion to the main presentation slides. The complete project is available on GitHub at: https://github.com/gabrielebilliciani/knowledge-distillation\n",
        "\n",
        "This notebook provides a practical demonstration of **Knowledge Distillation (KD)** applied to a regression task. The core principle of KD is to transfer \"knowledge\" from a large, complex, and high-performing **teacher** model to a smaller, more efficient **student** model. The goal is to enable the student to achieve performance that surpasses what it could learn on its own, thereby creating a model that is both accurate and computationally inexpensive.\n",
        "\n",
        "### Teacher & Student Architecture Philosophy\n",
        "\n",
        "We will design our models with distinct roles in mind:\n",
        "*   **Teacher Model:** A deep neural network (6-8 fully-connected layers) with a high capacity to learn complex mappings from the data. It will use advanced activation functions like **Leaky Rectified Linear Unit (LeakyReLU)** or **Exponential Linear Unit (ELU)** to capture nuanced patterns and prevent issues like dying neurons.\n",
        "*   **Student Model:** A much shallower network (2-3 fully-connected layers) using the standard **Rectified Linear Unit (ReLU)** activation. This model is designed for simplicity, faster inference, and a lower memory footprint, making it suitable for deployment in resource-constrained environments.\n",
        "\n",
        "### Activation Functions\n",
        "\n",
        "The choice of activation function influences a network's ability to model non-linear relationships.\n",
        "\n",
        "*   **ReLU (Rectified Linear Unit):** The standard and most common activation function. It is simple and computationally efficient.\n",
        "    $$\n",
        "    f(x) = \\max(0, x)\n",
        "    $$\n",
        "*   **LeakyReLU (Leaky Rectified Linear Unit):** An improvement over ReLU that allows a small, non-zero gradient when the unit is not active, preventing the \"dying ReLU\" problem.\n",
        "  $$ f(x) = \\begin{cases} x & \\text{if } x \\ge 0 \\\\ \\alpha x & \\text{if } x < 0 \\end{cases} \\quad (\\text{where } \\alpha \\text{ is a small constant, e.g. 0.01})\n",
        "  $$\n",
        "*   **ELU (Exponential Linear Unit):** Another alternative to ReLU that can help networks learn faster and more accurately by pushing mean activations closer to zero.\n",
        "  $$\n",
        "  f(x) = \\begin{cases} x & \\text{if } x > 0 \\\\ \\alpha (e^x - 1) & \\text{if } x \\le 0 \\end{cases}\n",
        "  $$\n",
        "\n",
        "![llustration-of-output-of-ELU-vs-ReLU-vs-Leaky-ReLU-function-with-varying-input-values.png](data:image/png;base64,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)\n",
        "\n",
        "### Distillation Loss Function\n",
        "\n",
        "To transfer knowledge, the student will be trained to optimise a composite loss function that combines signals from the ground truth data and the teacher's output predictions\n",
        "\n",
        "The combined loss function, $L$, is a weighted sum of two components:\n",
        "$$\n",
        "L = \\lambda_1 \\|y - y^{(s)}\\|^2 + \\lambda_2 \\|y^{(t)} - y^{(s)}\\|^2\n",
        "$$\n",
        "\n",
        "Where:\n",
        "*   **Term 1 (Hard Loss):** The standard regression loss (Mean Squared Error) between the **ground truth target** ($y$) and the **student's prediction** ($y^{(s)}$). This ensures the student learns the primary task. $\\lambda_1$ controls its weight.\n",
        "\n",
        "*   **Term 2 (L_HP - High Precision Distillation):** The L2 distance between the **teacher's prediction** ($y^{(t)}$) and the **student's prediction** ($y^{(s)}$). This is the classic distillation signal, where the student mimics the teacher's output. These \"soft targets\" from the teacher provide richer information than the hard ground truth labels alone.\n",
        "\n",
        "### Notebook Goal\n",
        "\n",
        "In this experiment, we will:\n",
        "1.  Define and pre-train a powerful teacher model on a dataset.\n",
        "2.  Train a simple student model from scratch as a baseline.\n",
        "3.  Train a second student using Hard Loss and $L_{HP}$ distillation (Terms 1 & 2).\n",
        "4.  Compare the performance of all models on a held-out test set to evaluate the effectiveness of each distillation technique."
      ]
    },
    {
      "cell_type": "markdown",
      "metadata": {
        "id": "setup_markdown"
      },
      "source": [
        "# 1. Setup, Configuration and Data Preparation\n",
        "\n",
        "## Imports and Configuration\n",
        "\n",
        "First, we import the necessary libraries and set up the main configuration parameters for the experiment. This includes defining the device (GPU or CPU), training hyperparameters like learning rates and batch sizes, and the parameters for generating our synthetic data."
      ]
    },
    {
      "cell_type": "code",
      "execution_count": null,
      "metadata": {
        "colab": {
          "base_uri": "https://localhost:8080/"
        },
        "id": "imports_config",
        "outputId": "9abbd58f-705f-4bf5-e841-59066bf58262"
      },
      "outputs": [
        {
          "name": "stdout",
          "output_type": "stream",
          "text": [
            "Using device: cuda\n"
          ]
        }
      ],
      "source": [
        "import torch\n",
        "import torch.nn as nn\n",
        "import torch.optim as optim\n",
        "from torch.utils.data import TensorDataset, DataLoader\n",
        "\n",
        "import numpy as np\n",
        "from sklearn.model_selection import train_test_split\n",
        "from sklearn.preprocessing import StandardScaler\n",
        "from sklearn.metrics import mean_squared_error, r2_score\n",
        "from tqdm.notebook import tqdm\n",
        "\n",
        "import matplotlib.pyplot as plt\n",
        "import seaborn as sns\n",
        "import time\n",
        "\n",
        "# --- Configuration ---\n",
        "\n",
        "# Device configuration\n",
        "device = torch.device('cuda' if torch.cuda.is_available() else 'cpu')\n",
        "print(f\"Using device: {device}\")\n",
        "\n",
        "# Data generation parameters\n",
        "N_SAMPLES = 2000\n",
        "X_MIN, X_MAX = -4, 4\n",
        "NOISE_LEVEL = 0.1\n",
        "\n",
        "# Training hyperparameters\n",
        "BATCH_SIZE = 128\n",
        "EPOCHS_TEACHER = 700\n",
        "EPOCHS_STUDENT = 600\n",
        "LR_TEACHER = 1e-4\n",
        "LR_STUDENT = 1e-3\n",
        "\n",
        "# --- CHANGE: Re-balanced distillation loss weights for new strategies ---\n",
        "# These are dictionaries that will be passed to the training function\n",
        "\n",
        "# Weights for the student trained only on teacher's predictions (L_HP)\n",
        "HP_ONLY_WEIGHTS = {'hard': 0.3, 'hp': 0.7}\n",
        "\n",
        "# Weights for the student trained on predictions and intermediate features (L_HP + L_FEAT)\n",
        "HP_FEAT_WEIGHTS = {'hard': 0.3, 'hp': 0.4, 'feat': 0.3}\n",
        "\n",
        "\n",
        "# Number of runs for statistical analysis\n",
        "N_RUNS = 5\n",
        "\n",
        "# Plotting style\n",
        "sns.set_style(\"whitegrid\")\n",
        "plt.rcParams['figure.figsize'] = (12, 8)"
      ]
    },
    {
      "cell_type": "markdown",
      "metadata": {
        "id": "4Ok0z1jhYTQi"
      },
      "source": [
        "## 1.1 Data Generation and Preprocessing\n",
        "\n",
        "For this experiment, we will create a **synthetic dataset** to provide a challenging learning environment for our models. The key advantage of a synthetic dataset is that we can precisely control the true underlying function and the level of noise, allowing for a clear evaluation of model performance.\n",
        "\n",
        "**Data Generation:** We generate `X` features and a target `y` based on a function that is deliberately complex and hard to approximate. It combines several mathematical properties to test a model's flexibility:\n",
        "*   **Non-linear and periodic terms** (sine, cosine)\n",
        "*   **Feature interactions** (e.g. `feature1 * feature2`)\n",
        "*   **A sharp discontinuity** (a step-like change)\n",
        "*   **Irrelevant \"noise\" features** that the model must learn to ignore.\n",
        "\n",
        "Gaussian noise is added to the final output to simulate real-world measurement error.\n",
        "\n",
        "**Feature Scaling:** The input features are standardised using `StandardScaler` to have a mean of 0 and a standard variance of 1. This is a crucial preprocessing step for neural networks, as it stabilises training and helps the model converge more efficiently."
      ]
    },
    {
      "cell_type": "code",
      "execution_count": null,
      "metadata": {
        "colab": {
          "base_uri": "https://localhost:8080/"
        },
        "id": "g8btCq9WY8yv",
        "outputId": "8fc50dbc-1f55-4783-9f15-8cde6c78565f"
      },
      "outputs": [
        {
          "name": "stdout",
          "output_type": "stream",
          "text": [
            "Data shape: X_train: torch.Size([1600, 10]), y_train: torch.Size([1600, 1])\n"
          ]
        }
      ],
      "source": [
        "N_FEATURES = 10\n",
        "\n",
        "def generate_highly_complex_data(n_samples, n_features, noise_level):\n",
        "    \"\"\"\n",
        "    Generates data from a complex, non-linear function of multiple features.\n",
        "    \"\"\"\n",
        "    np.random.seed(42)\n",
        "    X = np.random.uniform(-2, 2, (n_samples, n_features))\n",
        "\n",
        "    # A complex function involving feature interactions\n",
        "    # Some features are more important than others\n",
        "    y_true = (np.sin(X[:, 0] * X[:, 1]) +            # Interaction term\n",
        "              0.5 * np.cos(X[:, 2] * np.pi) +        # Periodic term\n",
        "              np.tanh(X[:, 3]) +                     # Non-linear saturation\n",
        "              0.2 * X[:, 4]**2 -                     # Quadratic term\n",
        "              1.5 * np.exp(-X[:, 0]**2) +            # Gaussian term\n",
        "              0.1 * (X[:, 5] > 0).astype(float))   # Discontinuity\n",
        "\n",
        "    # Add some noise\n",
        "    y_noisy = y_true + np.random.normal(0, noise_level, y_true.shape)\n",
        "\n",
        "    # Ensure y has the shape (n_samples, 1)\n",
        "    return X.astype(np.float32), y_noisy.reshape(-1, 1).astype(np.float32), y_true.reshape(-1, 1).astype(np.float32)\n",
        "\n",
        "# 1. Generate Data\n",
        "X, y, y_true_func = generate_highly_complex_data(N_SAMPLES, N_FEATURES, NOISE_LEVEL)\n",
        "\n",
        "# 2. Split into training and testing sets\n",
        "X_train, X_test, y_train, y_test = train_test_split(X, y, test_size=0.2, random_state=42)\n",
        "\n",
        "# 3. Scale the features\n",
        "scaler = StandardScaler()\n",
        "X_train_scaled = scaler.fit_transform(X_train)\n",
        "X_test_scaled = scaler.transform(X_test)\n",
        "\n",
        "# 4. Convert to PyTorch tensors and move to device\n",
        "X_train_tensor = torch.from_numpy(X_train_scaled).to(device)\n",
        "y_train_tensor = torch.from_numpy(y_train).to(device)\n",
        "X_test_tensor = torch.from_numpy(X_test_scaled).to(device)\n",
        "y_test_tensor = torch.from_numpy(y_test).to(device)\n",
        "\n",
        "# 5. Create DataLoaders\n",
        "train_dataset = TensorDataset(X_train_tensor, y_train_tensor)\n",
        "train_loader = DataLoader(dataset=train_dataset, batch_size=BATCH_SIZE, shuffle=True)\n",
        "\n",
        "test_dataset = TensorDataset(X_test_tensor, y_test_tensor)\n",
        "test_loader = DataLoader(dataset=test_dataset, batch_size=BATCH_SIZE, shuffle=False)\n",
        "\n",
        "print(f\"Data shape: X_train: {X_train_tensor.shape}, y_train: {y_train_tensor.shape}\")\n",
        "\n",
        "# Visualization is not meaningful for 10D data, so we'll skip it."
      ]
    },
    {
      "cell_type": "markdown",
      "metadata": {
        "id": "4ictsvZHYTQl"
      },
      "source": [
        "# 2. A Standard Distillation Attempt\n",
        "\n",
        "In our first experiment, we will test the foundational hypothesis of knowledge distillation. We will create:\n",
        "1.  A **Teacher Model**: A deep network using `LeakyReLU` activations. It's powerful but does not use extra regularisation like Dropout. We'll simply call it `TeacherNet`.\n",
        "2.  A **Student Model**: A smaller, less complex network that uses only standard `ReLU` activations, making it suitable for analysis with tools like ReLUplex.\n",
        "\n",
        "We will compare three models:\n",
        "- The Teacher model's performance.\n",
        "- The Student model trained from scratch (our baseline).\n",
        "- The Student model distilled from the Teacher.\n",
        "\n",
        "Our hypothesis is that on this complex task, the distilled student should be able to outperform the student trained from scratch."
      ]
    },
    {
      "cell_type": "code",
      "execution_count": null,
      "metadata": {
        "id": "2ewZtqkoatc2"
      },
      "outputs": [],
      "source": [
        "# --- Models and Training Functions for Part 1 ---\n",
        "\n",
        "# The first teacher: Deeper, with LeakyReLU but no Dropout.\n",
        "class TeacherNet(nn.Module):\n",
        "    def __init__(self):\n",
        "        super(TeacherNet, self).__init__()\n",
        "        self.layers = nn.Sequential(\n",
        "            nn.Linear(N_FEATURES, 256),\n",
        "            nn.LeakyReLU(0.01),\n",
        "            nn.Linear(256, 256),\n",
        "            nn.LeakyReLU(0.01),\n",
        "            nn.Linear(256, 128),\n",
        "            nn.LeakyReLU(0.01),\n",
        "            nn.Linear(128, 64),\n",
        "            nn.LeakyReLU(0.01),\n",
        "            nn.Linear(64, 1)\n",
        "        )\n",
        "    def forward(self, x):\n",
        "        return self.layers(x)\n",
        "\n",
        "# The student model\n",
        "class StudentNet(nn.Module):\n",
        "    def __init__(self):\n",
        "        super(StudentNet, self).__init__()\n",
        "        self.layers = nn.Sequential(\n",
        "            nn.Linear(N_FEATURES, 64),\n",
        "            nn.ReLU(),\n",
        "            nn.Linear(64, 64),\n",
        "            nn.ReLU(),\n",
        "            nn.Linear(64, 32),\n",
        "            nn.ReLU(),\n",
        "            nn.Linear(32, 1)\n",
        "        )\n",
        "    def forward(self, x):\n",
        "        return self.layers(x)\n",
        "\n",
        "# Loss function\n",
        "criterion = nn.MSELoss()\n",
        "\n",
        "# --- Helper Functions with TQDM ---\n",
        "\n",
        "def train_model(model, loader, optimizer, epochs, pbar):\n",
        "    \"\"\"Standard training loop with an outer tqdm progress bar.\"\"\"\n",
        "    model.train()\n",
        "    for epoch in range(epochs):\n",
        "        for X_batch, y_batch in loader:\n",
        "            optimizer.zero_grad()\n",
        "            outputs = model(X_batch)\n",
        "            loss = criterion(outputs, y_batch)\n",
        "            loss.backward()\n",
        "            optimizer.step()\n",
        "        pbar.update(1) \n",
        "    return model\n",
        "\n",
        "def train_student_distilled_fixed(student_model, teacher_model, loader, optimizer, epochs, pbar):\n",
        "    \"\"\"Distillation training with FIXED weights and an outer tqdm progress bar.\"\"\"\n",
        "    student_model.train()\n",
        "    teacher_model.eval()\n",
        "    weights = {'hard': 0.3, 'hp': 0.7}\n",
        "    for epoch in range(epochs):\n",
        "        for X_batch, y_batch_true in loader:\n",
        "            optimizer.zero_grad()\n",
        "            y_pred_student = student_model(X_batch)\n",
        "            with torch.no_grad():\n",
        "                y_pred_teacher = teacher_model(X_batch)\n",
        "            loss_hard = criterion(y_pred_student, y_batch_true)\n",
        "            loss_soft_hp = criterion(y_pred_student, y_pred_teacher)\n",
        "            combined_loss = weights['hard'] * loss_hard + weights['hp'] * loss_soft_hp\n",
        "            combined_loss.backward()\n",
        "            optimizer.step()\n",
        "        pbar.update(1) \n",
        "    return student_model\n",
        "\n",
        "def evaluate_model(model, X_tensor, y_tensor):\n",
        "    model.eval()\n",
        "    with torch.no_grad():\n",
        "        y_pred = model(X_tensor).cpu().numpy()\n",
        "    mse = mean_squared_error(y_tensor.cpu().numpy(), y_pred)\n",
        "    r2 = r2_score(y_tensor.cpu().numpy(), y_pred)\n",
        "    return y_pred, mse, r2"
      ]
    },
    {
      "cell_type": "code",
      "execution_count": null,
      "metadata": {
        "colab": {
          "base_uri": "https://localhost:8080/",
          "height": 507,
          "referenced_widgets": [
            "dd14a9e2b3d34cfaabdf98beac838f00",
            "76afe7b56d0447f6ab6e829c15636c1f",
            "cae5bc579f8447dc92617ed8515200e4",
            "4bccbd4c47b5485daecbc270257f5d5f",
            "1315a7052e284730b805ddcd0900e543",
            "da2e17c00fe0424fa1073d1d331398b7",
            "b269d48227744909bf48036d127fa1a1",
            "b23f6303a0554e238acf327b2a45736c",
            "90fdb36955e64ed2b9e0199231e00b36",
            "0778e6b99a0b4eada3f5fe6eaaf556e3",
            "f8355f753eba444b9e877ef983e646df",
            "8fb894c3c1dc44449b7eb25ed97e57bf",
            "97fe397893d84a888a77e2a862ab7b18",
            "c08a85682915411d9b9ad50ca8632bd6",
            "2f68ed9655fd4dcd95005102947b0f31",
            "c2792209e5414c6ca42fd0dc362dd18b",
            "0ab1a63ad3554926b528c31e36f96a61",
            "74423afe93eb4672a67985a65d6856d5",
            "c8f8e9bf9bf347c7939fac10f0a3ed32",
            "f149701d09ed49a49591af306b065796",
            "8730873cacab4021bf6e97c874d62494",
            "9fd9b7b08f6f4c06bd48fc37c23cf02f",
            "948222e6083d4e4c93d5660057bd6336",
            "5135dcbd74f146758f7c3d891868fb54",
            "8e8107a834334c2a95e8b241b90ecc44",
            "e4714ce43b004baf802794eb0d96593d",
            "095e9e270ee44adebbdab9206478f581",
            "d9adaca412fe44229c279207d01068b1",
            "eae85f8ed88941aca40034129c7b4a7f",
            "c6e61567334c4fc986180d69fd54827e",
            "e91bcb28994a4644a19d2da81b2b539a",
            "7fc5bde7dc1344a1b7ffb08056996a92",
            "cd118962a83b46a9a4d0db64fe086522",
            "76cc6b425a0c4590ae15522a130a71e0",
            "741590e694bd4ad1be9156033116208b",
            "47d8cbb216dc4976a1acc23cfac3e141",
            "e663f52e58be478eade5862ef95e9934",
            "a41f64d66ba7495baf4593695ed1dc43",
            "58ee4ec1b2064f59bf9d5757b3603d90",
            "3c60ce8f2adc428e9c829198f0e9c2ac",
            "035fa0daa89d49c6be53ebb4f1ebcafe",
            "4b471ce7527b495db16df50bef44c45b",
            "40364c07f8154572884c9c1d6c77aad3",
            "2fb69f7dc1af4b46b3d99c0cee85e3b9",
            "77807f7bf0d644e2966a585ec1fecfaa",
            "6cd417ee358a4e1e80094c3be4253994",
            "2fa77480f418471d9ddd6f701e605fd0",
            "bbd9002451094108940b03bfb171618d",
            "17355fa6520c4f4c9338865759464fc2",
            "84376d348ce6402e837ed149925d8869",
            "ed7af396fd8843ab8ad1ce930fa6bdaf",
            "94322af3a340419b8d7895e451ef21e4",
            "5d5c831d305748e7a17e489a4391f80b",
            "30c9f0afd2a74b838efbfe528226d0a4",
            "55682aa0277b451e871a8cdc2b4fce4b",
            "ff0c3c5a979f431b8ed5780317a8d57d",
            "870766fe588f42a081df26cc0240fdc5",
            "57d59f8c4a164d7e9786a27891b2554f",
            "a96e06de1138455bb2fe4a6b3e1248e6",
            "7ebe7fcfa8b3433389f945b9275900f8",
            "b32f0396818143748d7f643809c5c2a7",
            "11fcff2f30f949b2979a5952263aa231",
            "57c5ad416ab54369aa223e6ece806a14",
            "030788e6a20247a491a1751689015cf2",
            "3dc997434cfa4a41a0b0fa866cdc0c05",
            "9b32700d2d3d4fd0b7cf1bf0ac98bef5",
            "1c87f1b82c0a404db2e3bb291dca32e3",
            "45bca8ebaeee417a9adc62fec4c38bfa",
            "f871dd0571164607bcc6cd06c6a3673d",
            "3faac760d7f74b73aff65d6e6cfb73c8",
            "1867f081049f46fba0f273c494375036",
            "c2586401fbdc4c499d14730bea9aedcc",
            "a609dbb5919a4e49bb86c65a4cd8af46",
            "9dfc61618108456682aedcdc571dae64",
            "059c31f925e7440fa902d35eff1a4fcb",
            "9ce1c662aee44913be3d32c152540bdb",
            "59f05e31cd514b73894398cb138e9363",
            "18655fe5b4484770b4881e31e4766ba0",
            "b23241af7141430091f520ba2fbcf191",
            "bc7f25a72f594cf5a6ee1aa525ac5e63",
            "0acd79e05f574ea4b739c8f8ab62d93f",
            "0d0fca713d3042189236ea3dac368552",
            "cdadd259c68740d48e7a45ff7e528924",
            "ec86783b40c74baa86ba0049ac1d7a72",
            "bcf0402b736c48d78a6287dfa86c9fe3",
            "883125383cdc4d58af6f6480a09854ed",
            "fb4a49c9e4ea432db17aa36eb67ff6fc",
            "eaf9353ccfd04ac390261f10d2af17dd",
            "db0aee671b44471ab95c7316c1114d9e",
            "24222ad67ab54571b4fb2ab844b94c5d",
            "f1897da86d6d4306bc3e535a80f746b3",
            "0a2789c569ae4f0cb9c20d3b08e18045",
            "de93f368c4824cda8808fbb1a493fcb0",
            "c9a2b975d2964a579805f710df536b11",
            "fd4c67adb2e84f3b9062dad9de936b74",
            "0e89e53adb5849839d0db83efef00985",
            "69c42aef4a544e03acc9e0e3c8f3d705",
            "c56c750062244a46a353c29365644c3c",
            "0cca823bac404f5cb3725e82dc25aec3",
            "6f1a67bb181944e698a15c3e0afdf725",
            "d07c0562c8894e57a6ff956444d87fda",
            "904c6c139a92452a94e1a582b044f277",
            "f45e405a5dba4bb1a31996b0f1903c83",
            "f52e120993b14e2688c7a76f4de1f790",
            "15bb87f8d33c409fb90b2509db48b7e8",
            "d1f8bcd8d871440ca8a15c14d5a06803",
            "27bc0bf4874e40f3b4df092ba3a40125",
            "24dc9abed0b44da4b82f70e21ed6cff5",
            "2133aa3a28d145658402c316b5d77c6d",
            "a2277b9722d64eb49f610290d4d42cb0",
            "a5913ce7a9704b7b92347efd17f9e434",
            "98cf811aa6a948a0b40ce0fd15ee277f",
            "ce79ce8bb7434d0bafb7a690f8ef0096",
            "629a9b8e9a884d15b09d22d2d6c058c1",
            "1e7c2f616f994925ba6fe62140003162",
            "b291420b75f94367b961e2e81f478797",
            "f9506c5c5569460aa34a0252fac0198d",
            "be2471d8b6ff445e958649839cc2a1ee",
            "ccdc245f90dc4048879cad1321e4163c",
            "70ba204340584fabb0d35d0fe9c6e387",
            "7eab7b73b96a48a9b080817f1de1c088",
            "465bc6ec67514bd7879f1ce17dbccc88",
            "f0b85c57b4c14941b562a4fff190c811",
            "9a8c372eda214c008ba654703c760c3f",
            "75e84ab80c374e5f86a9a1c591c2c935",
            "df457ea74b14489d8018dc89a4947bf0",
            "83374dd6bccb4089a5ba6906ffeb712f",
            "02de3aa69c7d40eda41f8c5ebef7fdb2",
            "d851da5008a34486877e985fda859442",
            "fe991aa7096b4fe084df871eb222ae27",
            "15fa95c6d06541938ca4a1e87641648b",
            "d13daf157f944a1795448513bbead49f",
            "48961d0bfeac49a39c3b3e081f86b41a",
            "256080d92c254e6f847d536b5d175a35",
            "b48f10a84d7747499e85da7ff206c604",
            "82bc82b9eb0f447fba1028eebb034afd",
            "4008c4a6018b4175824c2c772e718086",
            "06dbe0ee1ccc4ca8a7606336b757cf22",
            "2e85501c8af54d5db61063b8eafcd650",
            "ffc846659c8e45e3b9bab72c941e50e1",
            "91cac8f2fb584ec394b4de503beeb672",
            "a8917f55dca74c3887355f3181c5c51a",
            "1f7b3d75120e42abb425021a432d1ee8",
            "72477f0265bd4593ac3ecd8a64783080",
            "d561bca9e1d444cf99d211770ffdb300",
            "624c2da20aff498ca100268f30c4c600",
            "42317e0c601a48e8b3db72a136ea0eeb",
            "41e662883c8d4003b74cfb80338f9adb",
            "81ca86e1a051442ab875615fb5a2e518",
            "5e1d0b9efb9f4f1cabe8a45af7637ab7",
            "528adb24d2184bfabc9ac42c21074f4b",
            "749012f69fc6402c940077997d45f1e8",
            "ed2d1631a0a14981995531422d67a3e5",
            "58757ae6fda54a56b6baf6ed6368ab1f",
            "7ea7f60e971241a38d4de4499b07a186",
            "ad0db04249f34f11a88b7bf83d3243cf",
            "4da4fedc243f43f2bbf15e398551fd74",
            "fab2db0da034428b94ce11d5e04841aa",
            "ce326742cef5474c812163d189740ef8",
            "436069d7807d43918cab7a8a4d12ea0c",
            "6f1e5136991d482c837e7ad503082878",
            "3d2e97ee13a74964b4cd6447a748d853",
            "0dcee186659c418b8025d6108bd1473e",
            "df9e56dfeb38454ea44eb58ee3e61c3e",
            "8c8a04c5ff1b41789ed3afd790a47ca0",
            "a82bf72582d947499895a20f512f295a",
            "723dbfa942e44335a998f84ab1580d30",
            "5c34732522e5438fbf001aca5e4a2be2",
            "8bb38ca778c74d4684e72c827b9b1081",
            "c3e7078f11c147dcb11d92fd2112306d",
            "447269cc2f164cdca3526339e5e88799",
            "f1546ceaaf9f4e21b1b9a73f4cc2d6b7",
            "e8ad6c0ba6df4309a5bc3a406e56661e",
            "cbc34e7715d6431e8aed07894a8db8d0",
            "eb306bcd049b40cd9ebe715ac636fc3f",
            "f00a94ea74964619afc2ee29fe5562ed"
          ]
        },
        "id": "pVCdJgC1az6y",
        "outputId": "c72d1e71-052f-49f5-a076-a2fe88b9ed6d"
      },
      "outputs": [
        {
          "data": {
            "application/vnd.jupyter.widget-view+json": {
              "model_id": "dd14a9e2b3d34cfaabdf98beac838f00",
              "version_major": 2,
              "version_minor": 0
            },
            "text/plain": [
              "Overall Progress:   0%|          | 0/5 [00:00<?, ?it/s]"
            ]
          },
          "metadata": {},
          "output_type": "display_data"
        },
        {
          "data": {
            "application/vnd.jupyter.widget-view+json": {
              "model_id": "8fb894c3c1dc44449b7eb25ed97e57bf",
              "version_major": 2,
              "version_minor": 0
            },
            "text/plain": [
              "Teacher Training:   0%|          | 0/700 [00:00<?, ?it/s]"
            ]
          },
          "metadata": {},
          "output_type": "display_data"
        },
        {
          "data": {
            "application/vnd.jupyter.widget-view+json": {
              "model_id": "948222e6083d4e4c93d5660057bd6336",
              "version_major": 2,
              "version_minor": 0
            },
            "text/plain": [
              "Student (Scratch) Training:   0%|          | 0/600 [00:00<?, ?it/s]"
            ]
          },
          "metadata": {},
          "output_type": "display_data"
        },
        {
          "data": {
            "application/vnd.jupyter.widget-view+json": {
              "model_id": "76cc6b425a0c4590ae15522a130a71e0",
              "version_major": 2,
              "version_minor": 0
            },
            "text/plain": [
              "Student (Distilled) Training:   0%|          | 0/600 [00:00<?, ?it/s]"
            ]
          },
          "metadata": {},
          "output_type": "display_data"
        },
        {
          "data": {
            "application/vnd.jupyter.widget-view+json": {
              "model_id": "77807f7bf0d644e2966a585ec1fecfaa",
              "version_major": 2,
              "version_minor": 0
            },
            "text/plain": [
              "Teacher Training:   0%|          | 0/700 [00:00<?, ?it/s]"
            ]
          },
          "metadata": {},
          "output_type": "display_data"
        },
        {
          "data": {
            "application/vnd.jupyter.widget-view+json": {
              "model_id": "ff0c3c5a979f431b8ed5780317a8d57d",
              "version_major": 2,
              "version_minor": 0
            },
            "text/plain": [
              "Student (Scratch) Training:   0%|          | 0/600 [00:00<?, ?it/s]"
            ]
          },
          "metadata": {},
          "output_type": "display_data"
        },
        {
          "data": {
            "application/vnd.jupyter.widget-view+json": {
              "model_id": "1c87f1b82c0a404db2e3bb291dca32e3",
              "version_major": 2,
              "version_minor": 0
            },
            "text/plain": [
              "Student (Distilled) Training:   0%|          | 0/600 [00:00<?, ?it/s]"
            ]
          },
          "metadata": {},
          "output_type": "display_data"
        },
        {
          "data": {
            "application/vnd.jupyter.widget-view+json": {
              "model_id": "18655fe5b4484770b4881e31e4766ba0",
              "version_major": 2,
              "version_minor": 0
            },
            "text/plain": [
              "Teacher Training:   0%|          | 0/700 [00:00<?, ?it/s]"
            ]
          },
          "metadata": {},
          "output_type": "display_data"
        },
        {
          "data": {
            "application/vnd.jupyter.widget-view+json": {
              "model_id": "db0aee671b44471ab95c7316c1114d9e",
              "version_major": 2,
              "version_minor": 0
            },
            "text/plain": [
              "Student (Scratch) Training:   0%|          | 0/600 [00:00<?, ?it/s]"
            ]
          },
          "metadata": {},
          "output_type": "display_data"
        },
        {
          "data": {
            "application/vnd.jupyter.widget-view+json": {
              "model_id": "6f1a67bb181944e698a15c3e0afdf725",
              "version_major": 2,
              "version_minor": 0
            },
            "text/plain": [
              "Student (Distilled) Training:   0%|          | 0/600 [00:00<?, ?it/s]"
            ]
          },
          "metadata": {},
          "output_type": "display_data"
        },
        {
          "data": {
            "application/vnd.jupyter.widget-view+json": {
              "model_id": "a5913ce7a9704b7b92347efd17f9e434",
              "version_major": 2,
              "version_minor": 0
            },
            "text/plain": [
              "Teacher Training:   0%|          | 0/700 [00:00<?, ?it/s]"
            ]
          },
          "metadata": {},
          "output_type": "display_data"
        },
        {
          "data": {
            "application/vnd.jupyter.widget-view+json": {
              "model_id": "465bc6ec67514bd7879f1ce17dbccc88",
              "version_major": 2,
              "version_minor": 0
            },
            "text/plain": [
              "Student (Scratch) Training:   0%|          | 0/600 [00:00<?, ?it/s]"
            ]
          },
          "metadata": {},
          "output_type": "display_data"
        },
        {
          "data": {
            "application/vnd.jupyter.widget-view+json": {
              "model_id": "48961d0bfeac49a39c3b3e081f86b41a",
              "version_major": 2,
              "version_minor": 0
            },
            "text/plain": [
              "Student (Distilled) Training:   0%|          | 0/600 [00:00<?, ?it/s]"
            ]
          },
          "metadata": {},
          "output_type": "display_data"
        },
        {
          "data": {
            "application/vnd.jupyter.widget-view+json": {
              "model_id": "72477f0265bd4593ac3ecd8a64783080",
              "version_major": 2,
              "version_minor": 0
            },
            "text/plain": [
              "Teacher Training:   0%|          | 0/700 [00:00<?, ?it/s]"
            ]
          },
          "metadata": {},
          "output_type": "display_data"
        },
        {
          "data": {
            "application/vnd.jupyter.widget-view+json": {
              "model_id": "7ea7f60e971241a38d4de4499b07a186",
              "version_major": 2,
              "version_minor": 0
            },
            "text/plain": [
              "Student (Scratch) Training:   0%|          | 0/600 [00:00<?, ?it/s]"
            ]
          },
          "metadata": {},
          "output_type": "display_data"
        },
        {
          "data": {
            "application/vnd.jupyter.widget-view+json": {
              "model_id": "a82bf72582d947499895a20f512f295a",
              "version_major": 2,
              "version_minor": 0
            },
            "text/plain": [
              "Student (Distilled) Training:   0%|          | 0/600 [00:00<?, ?it/s]"
            ]
          },
          "metadata": {},
          "output_type": "display_data"
        },
        {
          "name": "stdout",
          "output_type": "stream",
          "text": [
            "\n",
            "==================== RESULTS FOR PART 1 (over 5 runs) ====================\n",
            "Model                     | Mean MSE        | Std Dev MSE     | Mean R2        \n",
            "---------------------------------------------------------------------------\n",
            "Teacher                   | 0.3464          | 0.0168          | 0.7511         \n",
            "Student (Scratch)         | 0.4539          | 0.0193          | 0.6739         \n",
            "Student (Distilled)       | 0.4297          | 0.0420          | 0.6912         \n",
            "\n",
            "---------------------------------------------------------------------------\n",
            "Improvement of Distilled vs. Scratch: 5.32% (p-value: 0.0897)\n",
            "---------------------------------------------------------------------------\n"
          ]
        }
      ],
      "source": [
        "# --- Part 1: Experiment Execution ---\n",
        "\n",
        "EPOCHS_STUDENT = 600\n",
        "\n",
        "initial_student_states = []\n",
        "part1_results = {\n",
        "    \"Teacher\": {'mse': [], 'r2': []},\n",
        "    \"Student (Scratch)\": {'mse': [], 'r2': []},\n",
        "    \"Student (Distilled)\": {'mse': [], 'r2': []}\n",
        "}\n",
        "\n",
        "# --- Main progress bar for the runs ---\n",
        "with tqdm(total=N_RUNS, desc=\"Overall Progress\") as run_pbar:\n",
        "    for i in range(N_RUNS):\n",
        "        run_pbar.set_description(f\"Run {i+1}/{N_RUNS}\")\n",
        "        torch.manual_seed(i); np.random.seed(i)\n",
        "\n",
        "        template_student = StudentNet().to(device)\n",
        "        initial_student_states.append(template_student.state_dict())\n",
        "\n",
        "        # --- Train Teacher ---\n",
        "        run_pbar.set_postfix_str(\"Training Teacher...\")\n",
        "        teacher = TeacherNet().to(device)\n",
        "        optimizer_teacher = optim.Adam(teacher.parameters(), lr=LR_TEACHER, weight_decay=1e-5)\n",
        "        with tqdm(total=EPOCHS_TEACHER, desc=\"Teacher Training\", leave=False) as epoch_pbar:\n",
        "            teacher = train_model(teacher, train_loader, optimizer_teacher, EPOCHS_TEACHER, epoch_pbar)\n",
        "\n",
        "        # --- Train Student (Scratch) ---\n",
        "        run_pbar.set_postfix_str(\"Training Student (Scratch)...\")\n",
        "        student_scratch = StudentNet().to(device)\n",
        "        student_scratch.load_state_dict(initial_student_states[i])\n",
        "        optimizer_scratch = optim.Adam(student_scratch.parameters(), lr=LR_STUDENT)\n",
        "        with tqdm(total=EPOCHS_STUDENT, desc=\"Student (Scratch) Training\", leave=False) as epoch_pbar:\n",
        "            student_scratch = train_model(student_scratch, train_loader, optimizer_scratch, EPOCHS_STUDENT, epoch_pbar)\n",
        "\n",
        "        # --- Train Student (Distilled) ---\n",
        "        run_pbar.set_postfix_str(\"Training Student (Distilled)...\")\n",
        "        student_distilled = StudentNet().to(device)\n",
        "        student_distilled.load_state_dict(initial_student_states[i])\n",
        "        optimizer_distill = optim.Adam(student_distilled.parameters(), lr=LR_STUDENT)\n",
        "        with tqdm(total=EPOCHS_STUDENT, desc=\"Student (Distilled) Training\", leave=False) as epoch_pbar:\n",
        "            student_distilled = train_student_distilled_fixed(\n",
        "                student_distilled, teacher, train_loader, optimizer_distill,\n",
        "                EPOCHS_STUDENT, epoch_pbar\n",
        "            )\n",
        "\n",
        "        # --- Evaluation ---\n",
        "        run_pbar.set_postfix_str(\"Evaluating...\")\n",
        "        _, mse_t, r2_t = evaluate_model(teacher, X_test_tensor, y_test_tensor)\n",
        "        _, mse_s, r2_s = evaluate_model(student_scratch, X_test_tensor, y_test_tensor)\n",
        "        _, mse_d, r2_d = evaluate_model(student_distilled, X_test_tensor, y_test_tensor)\n",
        "\n",
        "        part1_results[\"Teacher\"]['mse'].append(mse_t); part1_results[\"Teacher\"]['r2'].append(r2_t)\n",
        "        part1_results[\"Student (Scratch)\"]['mse'].append(mse_s); part1_results[\"Student (Scratch)\"]['r2'].append(r2_s)\n",
        "        part1_results[\"Student (Distilled)\"]['mse'].append(mse_d); part1_results[\"Student (Distilled)\"]['r2'].append(r2_d)\n",
        "\n",
        "        run_pbar.update(1)\n",
        "\n",
        "# --- Results Table for Part 1 ---\n",
        "print(f\"\\n{'='*20} RESULTS FOR PART 1 (over {N_RUNS} runs) {'='*20}\")\n",
        "print(f\"{'Model':<25} | {'Mean MSE':<15} | {'Std Dev MSE':<15} | {'Mean R2':<15}\")\n",
        "print('-'*75)\n",
        "for name, data in part1_results.items():\n",
        "    print(f\"{name:<25} | {np.mean(data['mse']):<15.4f} | {np.std(data['mse']):<15.4f} | {np.mean(data['r2']):<15.4f}\")\n",
        "\n",
        "# --- Statistical Test for Part 1 ---\n",
        "from scipy.stats import ttest_rel\n",
        "t_stat, p_val = ttest_rel(part1_results[\"Student (Distilled)\"]['mse'], part1_results[\"Student (Scratch)\"]['mse'], alternative='less')\n",
        "improvement = (np.mean(part1_results[\"Student (Scratch)\"]['mse']) - np.mean(part1_results[\"Student (Distilled)\"]['mse'])) / np.mean(part1_results[\"Student (Scratch)\"]['mse']) * 100\n",
        "\n",
        "print('\\n' + '-'*75)\n",
        "print(f\"Improvement of Distilled vs. Scratch: {improvement:.2f}% (p-value: {p_val:.4f})\")\n",
        "print('-'*75)"
      ]
    },
    {
      "cell_type": "markdown",
      "metadata": {
        "id": "hj2hbqIRYTQp"
      },
      "source": [
        "# 3. Improving the Teacher\n",
        "\n",
        "### Analysis of Part 1 Results\n",
        "\n",
        "The results from our first experiment are promising. We observed that using a standard, deeper `TeacherNet` provided a noticeable improvement over training the student from scratch. The distilled student consistently achieved a lower Mean Squared Error.\n",
        "\n",
        "However, the core principle of knowledge distillation is that the quality of the \"knowledge\" is paramount. This leads to a key question: **If we use an even better teacher, can we produce an even better student?**\n",
        "\n",
        "### Hypothesis\n",
        "\n",
        "Our new hypothesis is that by enhancing the teacher's architecture with techniques that improve generalization (like **Dropout**) and learning capacity (like **LeakyReLU**), we can create an \"Expert Teacher\". Distilling from this expert teacher should yield a student that is significantly better than both the scratch baseline *and* the student distilled from the standard teacher.\n",
        "\n",
        "To test this, we will now:\n",
        "1. Define a new `ExpertTeacherNet`.\n",
        "2. Train it on our complex task.\n",
        "3. Distill its knowledge into a new student, **ensuring the student starts from the exact same initial weights as in Part 1** for a fair comparison.\n",
        "4. Compare the performance of all models."
      ]
    },
    {
      "cell_type": "code",
      "execution_count": null,
      "metadata": {
        "id": "MDY1hoiHYTQr"
      },
      "outputs": [],
      "source": [
        "# --- Part 2: Expert Teacher Model Definition ---\n",
        "\n",
        "# The \"Expert\" Teacher with LeakyReLU and Dropout\n",
        "class ExpertTeacherNet(nn.Module):\n",
        "    def __init__(self):\n",
        "        super(ExpertTeacherNet, self).__init__()\n",
        "        p_drop = 0.3\n",
        "        self.layers = nn.Sequential(\n",
        "            nn.Linear(N_FEATURES, 256),\n",
        "            nn.LeakyReLU(0.01),\n",
        "            nn.Dropout(p=p_drop),\n",
        "            nn.Linear(256, 256),\n",
        "            nn.LeakyReLU(0.01),\n",
        "            nn.Dropout(p=p_drop),\n",
        "            nn.Linear(256, 128),\n",
        "            nn.LeakyReLU(0.01),\n",
        "            nn.Linear(128, 128),\n",
        "            nn.LeakyReLU(0.01),\n",
        "            nn.Dropout(p=p_drop),\n",
        "            nn.Linear(128, 64),\n",
        "            nn.LeakyReLU(0.01),\n",
        "            nn.Linear(64, 1)\n",
        "        )\n",
        "\n",
        "    def forward(self, x):\n",
        "        return self.layers(x)"
      ]
    },
    {
      "cell_type": "code",
      "execution_count": null,
      "metadata": {
        "colab": {
          "base_uri": "https://localhost:8080/",
          "height": 945,
          "referenced_widgets": [
            "2d63d3840d2a4dfd8866abe8b9008054",
            "1ef887fff57643029f3f828a3e77b393",
            "8470b6d39b7446ff8f6754f89158d009",
            "ab2b73a471c546e8a2b19b9598ef7ae5",
            "bd2608888cd54357ab8ad15e309ba49d",
            "afc3bd6b628a4916bd547dad6de6feae",
            "fc421b9bc4d84ff3be0662c64074c838",
            "6d5969ca94464ca0bf4068173be5ed38",
            "3d66f305b6ab493392d5b931d9722ac0",
            "70711c2a388e4d10b9e1dffd34b30942",
            "204e23f264234b308ec8b96d2c4cf09c",
            "a013bcaf612b43288b92ee8f09037643",
            "2c8e25c6c4a64e96b747bf0dbc026831",
            "04bc5c4a3f864a04a9439f8c3ca126c8",
            "1d049c9a7cce43c8b7fb9cef7d3365c7",
            "0d0a87efdfe74f2e8657e8cc5caa699b",
            "b75da708dbba4220a00bd4a23d882abc",
            "e70602ca648e4870a9ea21450d8f542b",
            "f8cb3b02f2124ff68f5416e377f0fe2d",
            "11e9aa46cde64fe8ae564c0976dea89f",
            "11119ba287b442f1984337feed3753a7",
            "272c564c163247db9283d1c2df08636f",
            "c93018fb178043ae9df3dd819ec941a3",
            "62a92d6956214e09a961cbfe38d2603e",
            "acec35bf7a724a89846661eb2963588d",
            "62683d16b0eb4ff085023f82c8179c9e",
            "8165fae8a6ed41f3af1122822730ed16",
            "37f68bdf788348d7b52f8c1ae94bfc16",
            "8d877e9650c7437380b79fcb0e9fc918",
            "bbbf2a18589940e694c921727633bc45",
            "2576b8b7c4684306b3f1ce71fe436066",
            "6eaa4394fe1e4b0d956e0ced6aff76e9",
            "172771f1155d43c6b53eb7781aed20e0",
            "4111f7538b17499884d94b3b0b52fd0a",
            "6e9a54b1b37344cf8b51763b3c7220e8",
            "1af0394cea39448e974ddc5c73694d20",
            "534392462799429eb1212f133e294cc6",
            "764e3adf4a3f4395a87c82cde61226f3",
            "c697998c98a8479980cd36ce2568c149",
            "e112d55fa2e042759bd6e73bc4f93e65",
            "e669a054d1794c6d87af47d5038d360c",
            "408071c8f2c84bd696be4cdfe705cf68",
            "95d7272692ee4760b3959ed55dc89391",
            "ae79cee9e3ac44cc8392ed5fd32225a8",
            "da29bb11cba64b1cac711bd30fdc6f8d",
            "a5e1eea0dea24b85b3ad659cbabf2686",
            "afdd63098d3743979728c9457b6d2505",
            "7fde1aa6e7204adfbb6e1989f1373c44",
            "37c1ab82043749229bf435f522825ccf",
            "31708fac88ee4d918733fa3cc08572d8",
            "509182ced4f24c3180967f410a864f1d",
            "4796d0ce1c0e4e2885d85dc968fc80e7",
            "543f0d3b16f940f9a9d3c81ada87d79a",
            "837f66fbfd584f2989e6320cf46c629d",
            "3ecdb9f37878423e96321282994e9024",
            "ea46f69591de4fbbbf9e6ff7a6451f35",
            "0a31e8c8e7e74e668c97810992a2dce2",
            "649b6f1f8f774e5ab317c01d12d5c2d3",
            "f1b9eeda5a1742d9b5b0792e69f5be31",
            "53823007a6984a3bb32819f9eebeb467",
            "4c4713716baf468db7641f5d4306aefa",
            "906cf53b101d4c4f8b6195405b45f111",
            "d8e578529b1d4671a97ddd9eb1dffaa4",
            "7892bb325fd846779fcbfd22d1651c57",
            "e7fbc4fc7a85410b8f4691359b32f25d",
            "d3e7abcd8c224d8f8b2485dd217c5956",
            "d73e822bee954ebc8aa7268b2169d508",
            "1709d2c7f2274cc7aec52c8439be8db5",
            "61c0681800144e97a91d6e18b1e6699f",
            "ae33d48e40be4f05a6a8eb86811d3742",
            "901c16cb578744ff9178acd281a6f4eb",
            "314707666d3247628a032c46a501af98",
            "9ef889b23eec4180ab7d21511fd42a0b",
            "9fa632437a7b4d0686ce89436533b6de",
            "ab955b073a524efcbab112c9f7b4c3b9",
            "85c9dbc88c814a61bf83f0bb50aa7594",
            "84ba81cee64447e3b7b1f86dc0600c58",
            "ac33a8d50f44448ba0b9abdf354cec3f",
            "b312089400494f3b8023bb56374d5651",
            "7f41eb47a87f47dca8a0d75beefca0f5",
            "1f0425d21dd34313bfbcdcee4c365863",
            "48b35a634f454919b764d3a95e1c3780",
            "344abf07c2114381858d77dcee0a4571",
            "74ccb7b4eb364ef0894ede8a795e7f98",
            "b22c24dd3f8b452abc161d130495bc57",
            "e121b67badbf46b1a84e24feb2eb7886",
            "6fa220c5309b4a279d54e3a680d2535b",
            "185f0aee05bd44fca9a2dca7c28a430d",
            "6511d7e72e964eb18f21c4ae9db084bc",
            "dd132a79adf14a6f8e1300089603c2e0",
            "9fb20742e4b2410b80abccbd0b16f12c",
            "eef710cb30d346f693496c6e18bcf69d",
            "3cc6ce0d698c422c94dbdfd54c7408e3",
            "d720e536075c4586a97769edfbaf18bd",
            "290de106215f4241888db3abb2b6aa42",
            "24e0b1ae45904f9a95a5616cf3fa3067",
            "316f351bbf014177b720a5e8992ac215",
            "a5373fd27a584dd4942495c8dcb2edc9",
            "5d1542efb8f14088897ae2a796784c28",
            "631cb74f0919460c85a1c1fb422faf11",
            "59b04f7453ab4232a90d0012c7561e4a",
            "3c33919cf333411287af9761c2ed1013",
            "824a7a261440438fb47edd827ed9599f",
            "a1701a2b58d04307ae789a19a5504039",
            "fd928b750db0491c8eeebf4ba98f5ed7",
            "0b7b218326ee469c81936b7edbf3b9a9",
            "1da9ccc60575433d81b416840e49f6d0",
            "4f4a040a550546c0a879f6a53f695d9c",
            "d57b12182c424a73bcbe5f065b160015",
            "f86c0d2acc8d4d89be263661a1301db3",
            "0f6a2b08d08e4807b844e77c81683413",
            "3abbfbabf8df4501bf9b37e862c06310",
            "3dfea38dc235401295f6ed78eb0404b2",
            "d744172bcccf4e83844ca2d13beb50af",
            "148b5188cf9e4760b8e87e4e726aad3a",
            "3939d8d70f1a4635bcf79273afeff1cf",
            "ead6660625264805a566fb167ab33935",
            "f0cc8c04e0a341fba4e456e2da9ee3e6",
            "7ce33ae0b4b743c196b71a8129772ca5",
            "69968361b95c481aa46f22a574d7294a",
            "8371e4e50cf14a60b4548026db56f4c7"
          ]
        },
        "id": "YCahuyV2YTQs",
        "outputId": "4c6637c9-0918-4141-aad4-25e22fe882aa"
      },
      "outputs": [
        {
          "data": {
            "application/vnd.jupyter.widget-view+json": {
              "model_id": "2d63d3840d2a4dfd8866abe8b9008054",
              "version_major": 2,
              "version_minor": 0
            },
            "text/plain": [
              "Overall Progress (Part 2):   0%|          | 0/5 [00:00<?, ?it/s]"
            ]
          },
          "metadata": {},
          "output_type": "display_data"
        },
        {
          "data": {
            "application/vnd.jupyter.widget-view+json": {
              "model_id": "a013bcaf612b43288b92ee8f09037643",
              "version_major": 2,
              "version_minor": 0
            },
            "text/plain": [
              "Expert Teacher Training:   0%|          | 0/700 [00:00<?, ?it/s]"
            ]
          },
          "metadata": {},
          "output_type": "display_data"
        },
        {
          "data": {
            "application/vnd.jupyter.widget-view+json": {
              "model_id": "c93018fb178043ae9df3dd819ec941a3",
              "version_major": 2,
              "version_minor": 0
            },
            "text/plain": [
              "Student (from Expert) Training:   0%|          | 0/600 [00:00<?, ?it/s]"
            ]
          },
          "metadata": {},
          "output_type": "display_data"
        },
        {
          "data": {
            "application/vnd.jupyter.widget-view+json": {
              "model_id": "4111f7538b17499884d94b3b0b52fd0a",
              "version_major": 2,
              "version_minor": 0
            },
            "text/plain": [
              "Expert Teacher Training:   0%|          | 0/700 [00:00<?, ?it/s]"
            ]
          },
          "metadata": {},
          "output_type": "display_data"
        },
        {
          "data": {
            "application/vnd.jupyter.widget-view+json": {
              "model_id": "da29bb11cba64b1cac711bd30fdc6f8d",
              "version_major": 2,
              "version_minor": 0
            },
            "text/plain": [
              "Student (from Expert) Training:   0%|          | 0/600 [00:00<?, ?it/s]"
            ]
          },
          "metadata": {},
          "output_type": "display_data"
        },
        {
          "data": {
            "application/vnd.jupyter.widget-view+json": {
              "model_id": "ea46f69591de4fbbbf9e6ff7a6451f35",
              "version_major": 2,
              "version_minor": 0
            },
            "text/plain": [
              "Expert Teacher Training:   0%|          | 0/700 [00:00<?, ?it/s]"
            ]
          },
          "metadata": {},
          "output_type": "display_data"
        },
        {
          "data": {
            "application/vnd.jupyter.widget-view+json": {
              "model_id": "d73e822bee954ebc8aa7268b2169d508",
              "version_major": 2,
              "version_minor": 0
            },
            "text/plain": [
              "Student (from Expert) Training:   0%|          | 0/600 [00:00<?, ?it/s]"
            ]
          },
          "metadata": {},
          "output_type": "display_data"
        },
        {
          "data": {
            "application/vnd.jupyter.widget-view+json": {
              "model_id": "ac33a8d50f44448ba0b9abdf354cec3f",
              "version_major": 2,
              "version_minor": 0
            },
            "text/plain": [
              "Expert Teacher Training:   0%|          | 0/700 [00:00<?, ?it/s]"
            ]
          },
          "metadata": {},
          "output_type": "display_data"
        },
        {
          "data": {
            "application/vnd.jupyter.widget-view+json": {
              "model_id": "6511d7e72e964eb18f21c4ae9db084bc",
              "version_major": 2,
              "version_minor": 0
            },
            "text/plain": [
              "Student (from Expert) Training:   0%|          | 0/600 [00:00<?, ?it/s]"
            ]
          },
          "metadata": {},
          "output_type": "display_data"
        },
        {
          "data": {
            "application/vnd.jupyter.widget-view+json": {
              "model_id": "631cb74f0919460c85a1c1fb422faf11",
              "version_major": 2,
              "version_minor": 0
            },
            "text/plain": [
              "Expert Teacher Training:   0%|          | 0/700 [00:00<?, ?it/s]"
            ]
          },
          "metadata": {},
          "output_type": "display_data"
        },
        {
          "data": {
            "application/vnd.jupyter.widget-view+json": {
              "model_id": "0f6a2b08d08e4807b844e77c81683413",
              "version_major": 2,
              "version_minor": 0
            },
            "text/plain": [
              "Student (from Expert) Training:   0%|          | 0/600 [00:00<?, ?it/s]"
            ]
          },
          "metadata": {},
          "output_type": "display_data"
        },
        {
          "name": "stdout",
          "output_type": "stream",
          "text": [
            "\n",
            "==================== FINAL COMPREHENSIVE RESULTS (over 5 runs) ====================\n",
            "Model                                    | Mean MSE        | Std Dev MSE     | Mean R2        \n",
            "------------------------------------------------------------------------------------------\n",
            "Standard Teacher                         | 0.3464          | 0.0168          | 0.7511         \n",
            "Expert Teacher                           | 0.2554          | 0.0089          | 0.8165         \n",
            "Student (Scratch)                        | 0.4539          | 0.0193          | 0.6739         \n",
            "Student (Distilled from Standard)        | 0.4297          | 0.0420          | 0.6912         \n",
            "Student (Distilled from Expert)          | 0.3509          | 0.0114          | 0.7479         \n",
            "\n",
            "------------------------------------------------------------------------------------------\n",
            "Average MSE Improvement over Student (Scratch):\n",
            "Distillation from Standard Teacher:      5.32%\n",
            "Distillation from Expert Teacher:        22.68%\n",
            "------------------------------------------------------------------------------------------\n",
            "\n",
            "==================== Statistical Significance Tests ====================\n",
            "\n",
            "Comparing vs. Student (Scratch):\n",
            "Standard Teacher Distillation:  p-value = 0.0897\n",
            "Expert Teacher Distillation:    p-value = 0.0000\n",
            "====================================================================\n"
          ]
        }
      ],
      "source": [
        "# --- Part 2: Final Experiment Execution and Comprehensive Results with TQDM ---\n",
        "\n",
        "expert_teacher_results = {'mse': [], 'r2': []}\n",
        "student_distilled_expert_results = {'mse': [], 'r2': []}\n",
        "\n",
        "part2_model_states = []\n",
        "\n",
        "with tqdm(total=N_RUNS, desc=\"Overall Progress (Part 2)\") as run_pbar:\n",
        "    for i in range(N_RUNS):\n",
        "        run_pbar.set_description(f\"Run {i+1}/{N_RUNS}\")\n",
        "        torch.manual_seed(i); np.random.seed(i)\n",
        "\n",
        "        # --- Train Expert Teacher ---\n",
        "        run_pbar.set_postfix_str(\"Training Expert Teacher...\")\n",
        "        expert_teacher = ExpertTeacherNet().to(device)\n",
        "        optimizer_expert = optim.Adam(expert_teacher.parameters(), lr=LR_TEACHER, weight_decay=1e-4)\n",
        "        with tqdm(total=EPOCHS_TEACHER, desc=\"Expert Teacher Training\", leave=False) as epoch_pbar:\n",
        "            expert_teacher = train_model(expert_teacher, train_loader, optimizer_expert, EPOCHS_TEACHER, epoch_pbar)\n",
        "\n",
        "        # --- Distill from EXPERT Teacher ---\n",
        "        run_pbar.set_postfix_str(\"Training Student (from Expert)...\")\n",
        "        student_distilled_expert = StudentNet().to(device)\n",
        "        student_distilled_expert.load_state_dict(initial_student_states[i])\n",
        "        optimizer_distill_expert = optim.Adam(student_distilled_expert.parameters(), lr=LR_STUDENT)\n",
        "        with tqdm(total=EPOCHS_STUDENT, desc=\"Student (from Expert) Training\", leave=False) as epoch_pbar:\n",
        "            student_distilled_expert = train_student_distilled_fixed(\n",
        "                student_distilled_expert, expert_teacher, train_loader, optimizer_distill_expert,\n",
        "                EPOCHS_STUDENT, epoch_pbar\n",
        "            )\n",
        "\n",
        "        # --- Evaluation ---\n",
        "        run_pbar.set_postfix_str(\"Evaluating...\")\n",
        "        _, mse_exp_t, r2_exp_t = evaluate_model(expert_teacher, X_test_tensor, y_test_tensor)\n",
        "        _, mse_dist_exp, r2_dist_exp = evaluate_model(student_distilled_expert, X_test_tensor, y_test_tensor)\n",
        "\n",
        "        expert_teacher_results['mse'].append(mse_exp_t); expert_teacher_results['r2'].append(r2_exp_t)\n",
        "        student_distilled_expert_results['mse'].append(mse_dist_exp); student_distilled_expert_results['r2'].append(r2_dist_exp)\n",
        "\n",
        "        # Save the states for this run\n",
        "        part2_model_states.append({\n",
        "            'expert_teacher': expert_teacher.state_dict(),\n",
        "            'student_distilled_expert': student_distilled_expert.state_dict()\n",
        "        })\n",
        "\n",
        "        run_pbar.update(1)\n",
        "\n",
        "# --- Combine all results into one dictionary for the final table ---\n",
        "final_results = {\n",
        "    \"Standard Teacher\": part1_results[\"Teacher\"],\n",
        "    \"Expert Teacher\": expert_teacher_results,\n",
        "    \"Student (Scratch)\": part1_results[\"Student (Scratch)\"],\n",
        "    \"Student (Distilled from Standard)\": part1_results[\"Student (Distilled)\"],\n",
        "    \"Student (Distilled from Expert)\": student_distilled_expert_results\n",
        "}\n",
        "\n",
        "# --- Final Aggregated Results Table ---\n",
        "print(f\"\\n{'='*20} FINAL COMPREHENSIVE RESULTS (over {N_RUNS} runs) {'='*20}\")\n",
        "print(f\"{'Model':<40} | {'Mean MSE':<15} | {'Std Dev MSE':<15} | {'Mean R2':<15}\")\n",
        "print('-'*90)\n",
        "for name, data in final_results.items():\n",
        "    print(f\"{name:<40} | {np.mean(data['mse']):<15.4f} | {np.std(data['mse']):<15.4f} | {np.mean(data['r2']):<15.4f}\")\n",
        "\n",
        "# --- Calculate and Print Improvement ---\n",
        "mean_mse_scratch = np.mean(final_results[\"Student (Scratch)\"]['mse'])\n",
        "mean_mse_dist_std = np.mean(final_results[\"Student (Distilled from Standard)\"]['mse'])\n",
        "mean_mse_dist_exp = np.mean(final_results[\"Student (Distilled from Expert)\"]['mse'])\n",
        "improvement_std = (mean_mse_scratch - mean_mse_dist_std) / mean_mse_scratch * 100\n",
        "improvement_exp = (mean_mse_scratch - mean_mse_dist_exp) / mean_mse_scratch * 100\n",
        "\n",
        "print('\\n' + '-'*90)\n",
        "print(\"Average MSE Improvement over Student (Scratch):\")\n",
        "print(f\"Distillation from Standard Teacher:      {improvement_std:.2f}%\")\n",
        "print(f\"Distillation from Expert Teacher:        {improvement_exp:.2f}%\")\n",
        "print('-'*90)\n",
        "\n",
        "# --- Statistical Tests ---\n",
        "from scipy.stats import ttest_rel\n",
        "t_stat_std, p_val_std = ttest_rel(final_results[\"Student (Distilled from Standard)\"]['mse'], final_results[\"Student (Scratch)\"]['mse'], alternative='less')\n",
        "t_stat_exp, p_val_exp = ttest_rel(final_results[\"Student (Distilled from Expert)\"]['mse'], final_results[\"Student (Scratch)\"]['mse'], alternative='less')\n",
        "print(\"\\n\" + \"=\"*20 + \" Statistical Significance Tests \" + \"=\"*20)\n",
        "print(\"\\nComparing vs. Student (Scratch):\")\n",
        "print(f\"Standard Teacher Distillation:  p-value = {p_val_std:.4f}\")\n",
        "print(f\"Expert Teacher Distillation:    p-value = {p_val_exp:.4f}\")\n",
        "print(\"=\"*68)"
      ]
    },
    {
      "cell_type": "markdown",
      "metadata": {
        "id": "C9AB3RipYTQu"
      },
      "source": [
        "# 4. Optimising Distillation Weights via Grid Search\n",
        "\n",
        "### Analysis of new results\n",
        "The results from Part 2 are definitive: using a more powerful, regularised **Expert Teacher** provides a substantial and statistically significant improvement. This confirms our main hypothesis that a better teacher makes a better student.\n",
        "\n",
        "However, the distillation process itself used a fixed, heuristic weight balance (`hard_loss`: 0.3, `hp_loss`: 0.7). This ratio was chosen intuitively, but is it optimal?\n",
        "\n",
        "### Next steps\n",
        "The balance between learning from the ground truth (`hard_loss`) and mimicking the teacher's predictions (`hp_loss`) is a critical hyperparameter. By systematically searching for the best balance, we can further improve the student's performance beyond our initial guess.\n",
        "\n",
        "To test this, we will perform a grid search. For each run and for each weight combination, we will:\n",
        "1.  Load the pre-trained **Expert Teacher** from previous experiment.\n",
        "2.  Initialize a **brand-new student** using the *exact same starting weights* as all other students in this notebook.\n",
        "3.  Train this student from scratch for the full duration (`EPOCHS_STUDENT`).\n",
        "4.  Evaluate its performance and average the results across all `N_RUNS` to find the most effective weighting strategy."
      ]
    },
    {
      "cell_type": "code",
      "execution_count": null,
      "metadata": {
        "colab": {
          "base_uri": "https://localhost:8080/",
          "height": 955,
          "referenced_widgets": [
            "82c5230dd4504b45991af4eb09274c3b",
            "494cbce144a3426ab725ca9cc240d866",
            "adafb4ffd0e2415286ed6fb18e9fc203",
            "18dd13fa92bd4489b9624e4b8654429c",
            "4f0d90ba3ea740fe8d8be428dcce04f9",
            "1ab1dd72636d41da8f180b08c2df835e",
            "b86bd6c3e95640a8b7001793a579ec4f",
            "91b54cd5b92e4731abbd0b5a9dabf1fe",
            "4ae9888478064200a5c674540b3b6699",
            "fdae9fe5e45946fdb667b0c44c493439",
            "5b7d9e1ccb854e0986b6ee1950146d83",
            "fde65b7a3b6f42ee8bb7c1eca1184f73",
            "268c0fdea6724c94a7a62cf55f153d44",
            "a227495b151a4cab85f229968534af62",
            "4731ede173d949cbbbe0714fdfc68500",
            "60e19066999e4825b884e3f925f63e8f",
            "0625c2eeb8ae4db59ac5e92174fa5973",
            "e696912097da49c6955f55d984d18099",
            "e641307bc6234886b73f5b245589cb8c",
            "66dc6ee188244eb9973c274dac018225",
            "6910c22229a84c0dbab97a246f1063ad",
            "84430edff6cd40b0a2b1ce16128a9e76",
            "139d75efb1524d86bb6a7ed5bd839b6f",
            "d684bfcee6d4407b9e201b3c2849d75c",
            "fc980635cedb492889465d4352c1b9b3",
            "443a175829b847d8a0a95782a2c2efeb",
            "50194fa9b99f47a28b8b25fd9fb346c9",
            "9f90605341354cda99f9aaf5550053d7",
            "a3e1f751e6ac4eafaffaadabace9e16d",
            "de46b1dce48f4700a402be0590467969",
            "22f151981e534b2d933ce5e23254e80f",
            "30ba33868f854e60aee85fbddea8dc76",
            "669b737fd14840748777f67ecb63e0d4",
            "48bbac47dcf04ff48473eb5107d9958e",
            "4d64bfcf0fd24411ac2d7c9c46ae3d0c",
            "51c54fadc1704a6dbdb0bd940fbc82ef",
            "5b54a1e595a54491abcb9eb1b3f5fc76",
            "13495e7dedbc4d19857287e98c2a781a",
            "efd8177d095e4868809b05e3c47e292a",
            "09a66991474c40419b6c7498ab8c39b7",
            "fa2e9bba96ab47e38df857b90bcef656",
            "b9a80551f6ea41718c43d73cbefddcc1",
            "271b3f69cae3495a8c47fa4305fe1305",
            "3c415d6d45d74858a123a20fffd6e239",
            "306e5884fbad4cd8a71928a5594fac61",
            "5d79a34ea8604b8ba76aabdc72b4ca96",
            "8264bc5fd66c49bd860861ac4a224dd3",
            "b59fecbf4f8f4f1dad70687853af14fb",
            "bef2cca940bb4ccd8232a94fe9a0f19e",
            "b093589cb2f340e4984af7dfbf255240",
            "0146db5b165149729d228e12793a00bc",
            "16d8b525fc2c4a18befba157a47fadb1",
            "f2c9862991c94a28a0cfb194382a843f",
            "b13ea95969724d929c2bbe77c986f306",
            "8ac013f7e0dc42f48fa5726e277073da",
            "61162d79755548cd913f87f6658f02b2",
            "0cb133642b5e48029b859a5f23b21335",
            "3058b95fb00848039031425f264380a5",
            "d063f76776164d6d9e0ea26f84953b90",
            "43b298237eff4bc49c8f797b050675fe",
            "f126935ce6f84708a808a8f9fa578428",
            "8ed489b86f51407ba74dd564cc759e7d",
            "ab041539291f4af0a865e7ba2e87aee5",
            "2ec9cc812fe241aa98a0af253db345c2",
            "5012f2252b2a4f65b633309a8e228082",
            "e0c7a3ff511d4400aa5630833384a8d7",
            "80fe0ddb6dba4fd789a3fae2f939a09b",
            "3f8766da7f4242a9af7f1a992807c5fb",
            "1ccc160eafbd459ba257d88ee8c3985d",
            "e83d6c872fed4554b75a875a38790f36",
            "3a66a3349788493f8de05c8b4a441f4b",
            "9842b03a054a4dae8a48a76714076226",
            "3e6e5bfaeb4249df8da9de06fe23fdfa",
            "840edc14f7c54c16809d0f0c57bdd862",
            "26f43829619245c7a3e06a2778ba40e3",
            "4c0cba79ab714619a2be8eeba648b6ce",
            "1b0806d259c342a99757646eea5f4df9",
            "e528924ad2854040a089af45bb80b2b5",
            "e39400d336c2423695d437c23a218771",
            "033f02441e104513ae2901ec93b8a357",
            "7bbe34ecef6b4ab19beb02a5047a87bd",
            "f8ad6f3915e844c3a6cac5b6f839dc88",
            "f7a4462b24c645e385b889fc26b68abd",
            "4e4af69804b6417491c336fe45ead3fd",
            "33c63c37db9c42b18cb825736fea84e3",
            "4f4b5a5cefd747e4b31ca4f3bbf13d1d",
            "f11f210928404eebb8e81e57c3330c43",
            "510afcf2562e45b5a1d7dec992f3061e",
            "8b4fa119ba8248a2aa1025e52bdc3319",
            "7541fd0efbd648c8883987031b13c883",
            "9d26b46077a644b6bcd569bbf163bc47",
            "ed04fa0e7ee64a0ab8b3090d0c7ed5bd",
            "9d1f0b86e1684bbc9349144f9fed8d8d",
            "18790d46bdda4861a2540c34069501a3",
            "ec279e3a6a8f4f518bfb4890badc839d",
            "7711d87e620944cc840fb059fed14951",
            "2c60971a09c94b3fab1f77332cdca377",
            "8c544c7d701a46898749735ad1f6ee80",
            "f634f943e6e240b0b0ec23fb3e9bfb55",
            "91be7c018a074f52a075ca81c9ad37fa",
            "14707da215bf47db8e137beab4dfccd3",
            "674e6a9664e54815958c885aa5d0b089",
            "61f11bbeb8ac4b15825e080278ae2575",
            "c96b24ab464442c4883bc805dc18b2be",
            "712acb111a4542d29c74f463c06cfc37",
            "096dcf9608d843ce9ad3ed96ff7370d8",
            "7d95718d64b143b49292dea506492a3d",
            "fe4e51919a2d476d90861c4609ea065e",
            "25964f1d591e4ec4ab19f431dea003f6",
            "1a7713edb9fb4567afe439319aca447a",
            "cfe7321ae9244757bde1fc4e63415484",
            "5300fb36c29d49edaa1324a69ccc905b",
            "285a353ee79b48c3b4be44ef8efdb455",
            "ecda15d8e6ba4ef4a722efd1df7f6c47",
            "1a4822ae83524bbb8df75574909a0410",
            "170cd838c7fb4d538377abb4e33013eb",
            "84361c8662bf42d0bf481d8187a404fb",
            "4606c14a97ce4ced9aaef40ef5dc90d0",
            "72eeff1afa9648dda830dd47ba43195b",
            "c26b5294d51d4c2b8194951af914905d",
            "276a72c8b04140579e95ed9f0861f80a",
            "a08e003dc2dc45ebbcc17765ef2ed487",
            "51ca68735e4a4b82811e8a92a8d8767b",
            "131abbfea467473dbdb6df387be0dd6d",
            "3b0c23ea72014895b7c2512807ce0ec7",
            "c2578f22a74b4c8d89607130f38e3788",
            "4c7614481629413e871647eb4df2c13e",
            "2c39aa4b34dd4ecd9e6954ac7eed840a",
            "356f86a66392441fbdda9f6dbb0c0ed3",
            "008524d6eb9b48c6baeff807243a2b90",
            "ef4f541807134d599ba32724aca7e06a",
            "6aa8a275e0b84cb9af32abfd9b94121e",
            "458b91dc83eb4a35a8fbfc0ad7b38675",
            "575599b7f138443191166e0090e4b8da",
            "2a626395bde14ba0831ffc511a127bf1",
            "3c8d4b594def4385885ab8d18143fb57",
            "ca5ee84dfbcc4b949a9f2b152977f983",
            "931fb0d454d74a27beec1219b193003c",
            "ae7551b1815b43228289a999bff27f86",
            "481ceb32210f43219759c5dabe262ab0",
            "a5ec7420b60840b88cafdcfa547f3aaf",
            "547807bdc3604ce3be1b5575e4609bd3",
            "501017d291914103a2621c989735afc8",
            "807ff9f54f6a41d0a1f42a1775ef50ae",
            "8a87040918384d1b91456e1d7736c97a",
            "45e3a00ba1ff4ac1907a635144518504",
            "a67d9eb1779d40159d05adc38243457e",
            "e8059f5b0a5d43eab6217efc013cc07f",
            "ff33b0f90b7a4e3fbef3cf18ecd0a2e7",
            "d84e39f744c440328f009d4105f97b33",
            "77109e48f837450abe361a9e78337081",
            "b208f94ab06c4716b1a646a3274c7124",
            "88100d8e1a764633a8695478888a5643",
            "ee9a1303c7bb47aab46750fa58eaf489",
            "12edb2efba16455ab3aa15dab945aaab",
            "85bbb62f3d9845198544278f8cdd21e9",
            "65f33b6d5669469b8df03124536e0f89",
            "ee76e941ac8347a3877994b93abc9c39",
            "da371b37143c4571943bc2334d014e76",
            "3b9f8ed0f4354916b830f9d400f5cc5e",
            "ab624aa865a3412286edc51f1692688b",
            "3fd947db5c1146c5b9293edb8db09c49",
            "7e62d4a15d8a433eaa7e6cd844799c06",
            "1a79751f1797498883b36f1cdecda702",
            "bf4dc5c9815b4f09ad0743ada5195014",
            "fa84d98f492f4fa5bdd1657226d99be8",
            "cb339cb3c2f046458727d37aaa819569",
            "7891a906f5dd4527b27d449720e0ec3f",
            "17d51a29d5e14cd4943c0056a31695c3",
            "5ee7105147ed4fddbe9bf17bd2aa9410",
            "9f4376dfca1445efb24367a3e5de9e77",
            "b148da7f93754df29bb6c5976562f6a8",
            "e8a512ed90944f948f50f3c0ddf68040",
            "288175d9fa1649c9af89479e8e1e38cb",
            "52263af62ce44fc6a0000a73a68c47a3",
            "46ca8767b79643d2aaa33e7abe0f7804",
            "4cb970327955488ea09cc05a240fce8b",
            "d297032dbdaa469eb7b702e1d697f2f0",
            "e94ff178766d426082e951aba0af1c1a",
            "b289d1c46a994a4d86ab141e282627d5",
            "ff840820bcb24aa686ec5ddc275dfccb",
            "0a749d982984477682a4edd9b8a2c563",
            "da56043917014c4b9dbeab7e3749ffae",
            "6a87523718f54ab79e7a8ab4dc3eb022",
            "0d237192124b4ddcbf145e8e618b9221",
            "947e7f0411c54b12bbf07fac8e715d32",
            "91c788b4b107434c8dae095717e1d3f1",
            "4ff604465a9e4fe8bc273d934da5c0be",
            "14455079c43d4a289b977ef69e31b689",
            "737e7c77a91f418eab5798ee85d6da9f",
            "05abfb8ee4e54bd8ba1fab9a6597e751",
            "5ad26249098f4752bd3841547fea30fb",
            "bb007166b0b44065a5bbd7414ff2d897",
            "843fcc6413c345b09f8b0962aa239909",
            "980fd04cc8b14c2c89b418257e35325c",
            "3f0f99bc32e545c8bfa3bae5768af783",
            "9a3b8f6a9265406fb259e139db1e0f08",
            "b45d6050c3d84d929f3ef94ba305ce9c",
            "7ad62ba18b3f48648fa76a470274bc3d",
            "15498308d17443aaa17d44363f1d7f77",
            "a7db0d1c6a2e4a999068ce27f9fd7063",
            "14f87919643b45ad83210f1a43a43022",
            "9c62c11c370e4f47afc99122ca4618e0",
            "36520b0ebbf04ba6a54144e3e127b25b",
            "b6af1e30aea74b4e8e6795567327bf93",
            "20ebbee5e43e407fac8be6f8ec41bcb3",
            "35a3d25b2807478eae1800ee3be72667",
            "2a0d4df6b8474b2c8b1a8d3a02237afc",
            "49b87fd6ce714902b985a3347ebba079",
            "a26fb4ba13514047bdab8a762ac6b511",
            "5b2feebb98da4901b8eebfb47a256037",
            "0002421a9b2a4879a4e71a3876dd0892",
            "bcf9f08915b841aeb134a387b67b3210",
            "2c35aeab91bd47aba5c2d9073d2aa645",
            "11a7c9a0b3e24198908a36005ce4a170",
            "f747bca988984fd79d1a19e6b1c9d5d8",
            "a7fa76ff837a495e8412a9c3eb39b868",
            "504aa34ca6f44d9fa9a238c5f6b7deea",
            "7ad1c1171a1e4be896faf52de29bdc6a",
            "954ac5b87a9847ba8919b42071216bb7",
            "a66c5f6a8cf34a1ea3ce9f902d23edd8",
            "2d09b47d585342919032b449ec3946bb",
            "cfeb94a11e75477aa8109a51a7de0ac5",
            "30cbdf0a1c634bca897172c9f15c2ca3",
            "825551f4aa9f408c92bd9a016969bbb4",
            "b4964629ebcc48f5916c2106971bff67",
            "b89a5b13e7924ea0a1b2eac33360dec9",
            "50589eb1174d46ddb5d887bf16bbc6a0",
            "6c323b12e98b4252bb3466f798aca562",
            "4c792dfe86134b55a4f8565e9b10fc55",
            "22fcc34d072345b7ad329a4a4562dc23",
            "038eacd88d66444b9bfed69897f56d8c",
            "b4a28cc152fd4149b688ccc2f96509a8",
            "b250a40a533b4cc5a122958e087641f6",
            "ef699a7e99b745d7822512637099ddf6",
            "5d04a6bac09746909fdfd710d5b9e2b2",
            "90a3ba8466db48caa396ea697cc58d11",
            "23dafca3b71348c99992cb9dd333ff2a",
            "f4abfb42678345279164b930c16f978a",
            "fc8d6513013a452d9370f94accf5a35a",
            "ddd85b9c874f47d48b62fc43f3c6c06d",
            "e08db885771a49debb7598d882860180",
            "0f6330ac0aa040778c69ff56aee4a25b",
            "f566e97bf83443b6965a245db2115bf2",
            "2d8245a5fdbf4fa5947b85381cb216a0",
            "e259323a43eb45329ea60dbfa844a10f",
            "8366a9049a0e425c8da554a66aa70e15",
            "5d98b10afb5f45c69f817d930ca90f40",
            "170aad5367cc4b3db6cca3bd29eb57c3",
            "9653401b4a9945c39b24988fa9adb583",
            "577c2f4251fa46faa20d92bec5ae9630",
            "235af488299b4c43a21569e1292aacad",
            "bd2b09088bfc45419134d01176813440",
            "b9770891cdca45cd98b71180d6492513",
            "80ebaf51699841e28ec5f80d3ba8a593",
            "1f5eddd692664f61ae8457c49b9140d0",
            "9a233349f56b4e13936b143809796a3c",
            "52a0dea4bae3423aaaac639156db3fb6",
            "2dc3553179204044a16c2b7fdf372737",
            "24f0878a5652406f8e0d7e137600e645",
            "79d296f79ae74170af0807cd7b2aa069",
            "3d3f64211b5846a5a5b7bced0481fe75",
            "71a0dd44f56845dfb38f5493c513e744",
            "6c2eb00934014809b26713590a1ed48a",
            "96ac4cce4d7f49ea9ce0cfa90e2ab9a8",
            "9d11bffecdf24b4f890b06b0bb422f25",
            "8f439f7ba157419f83d174c5cbc9de89",
            "f75112c87bde4aed88dcc78ff84296b2",
            "d012922fe0a848cb86aab32a9fd5aecf",
            "2625ec1188984376af6052f995b3d37f",
            "107b7678f30e42668f832a4566704dab",
            "f2d5a4d7126146988ae118fac72d81b7",
            "0c537b93ddab4ee087663aa709ce4ff6",
            "99a10b61d75c4942a9e171525288a8ed",
            "81276c2b63424c9faac62b88a4857230",
            "86a660a5dc154bab8fc8b4a303b65d72",
            "84ce2ba48d3f4300b2f87acc8e6f57de",
            "0a6e4c6a29ae47cca3404a28e0cf64c7",
            "373d03fafa244751a93cb4bd7dd360e5",
            "e149eb0c0fc64f1080ebf44b1578ec15",
            "8cca834d022c40d4b485d530ac0510b9",
            "b3e09d96795f4f4abe5ba5ad22551445",
            "a1bcdb94d96d494b93df05fe2b9759be",
            "18639535ff6e43539a21801520852a56",
            "3aa52f899d174583a790f310c5849be3",
            "b1a28c4ced9441918ae7f50a8a58d0df"
          ]
        },
        "id": "PT0fETToYTQu",
        "outputId": "2c919b00-a7be-4fae-fc32-83b960cd39c9"
      },
      "outputs": [
        {
          "data": {
            "application/vnd.jupyter.widget-view+json": {
              "model_id": "82c5230dd4504b45991af4eb09274c3b",
              "version_major": 2,
              "version_minor": 0
            },
            "text/plain": [
              "Grid Search Full Training:   0%|          | 0/25 [00:00<?, ?it/s]"
            ]
          },
          "metadata": {},
          "output_type": "display_data"
        },
        {
          "data": {
            "application/vnd.jupyter.widget-view+json": {
              "model_id": "fde65b7a3b6f42ee8bb7c1eca1184f73",
              "version_major": 2,
              "version_minor": 0
            },
            "text/plain": [
              "Training H=0.1:   0%|          | 0/600 [00:00<?, ?it/s]"
            ]
          },
          "metadata": {},
          "output_type": "display_data"
        },
        {
          "data": {
            "application/vnd.jupyter.widget-view+json": {
              "model_id": "139d75efb1524d86bb6a7ed5bd839b6f",
              "version_major": 2,
              "version_minor": 0
            },
            "text/plain": [
              "Training H=0.3:   0%|          | 0/600 [00:00<?, ?it/s]"
            ]
          },
          "metadata": {},
          "output_type": "display_data"
        },
        {
          "data": {
            "application/vnd.jupyter.widget-view+json": {
              "model_id": "48bbac47dcf04ff48473eb5107d9958e",
              "version_major": 2,
              "version_minor": 0
            },
            "text/plain": [
              "Training H=0.5:   0%|          | 0/600 [00:00<?, ?it/s]"
            ]
          },
          "metadata": {},
          "output_type": "display_data"
        },
        {
          "data": {
            "application/vnd.jupyter.widget-view+json": {
              "model_id": "306e5884fbad4cd8a71928a5594fac61",
              "version_major": 2,
              "version_minor": 0
            },
            "text/plain": [
              "Training H=0.7:   0%|          | 0/600 [00:00<?, ?it/s]"
            ]
          },
          "metadata": {},
          "output_type": "display_data"
        },
        {
          "data": {
            "application/vnd.jupyter.widget-view+json": {
              "model_id": "61162d79755548cd913f87f6658f02b2",
              "version_major": 2,
              "version_minor": 0
            },
            "text/plain": [
              "Training H=0.9:   0%|          | 0/600 [00:00<?, ?it/s]"
            ]
          },
          "metadata": {},
          "output_type": "display_data"
        },
        {
          "data": {
            "application/vnd.jupyter.widget-view+json": {
              "model_id": "80fe0ddb6dba4fd789a3fae2f939a09b",
              "version_major": 2,
              "version_minor": 0
            },
            "text/plain": [
              "Training H=0.1:   0%|          | 0/600 [00:00<?, ?it/s]"
            ]
          },
          "metadata": {},
          "output_type": "display_data"
        },
        {
          "data": {
            "application/vnd.jupyter.widget-view+json": {
              "model_id": "e528924ad2854040a089af45bb80b2b5",
              "version_major": 2,
              "version_minor": 0
            },
            "text/plain": [
              "Training H=0.3:   0%|          | 0/600 [00:00<?, ?it/s]"
            ]
          },
          "metadata": {},
          "output_type": "display_data"
        },
        {
          "data": {
            "application/vnd.jupyter.widget-view+json": {
              "model_id": "8b4fa119ba8248a2aa1025e52bdc3319",
              "version_major": 2,
              "version_minor": 0
            },
            "text/plain": [
              "Training H=0.5:   0%|          | 0/600 [00:00<?, ?it/s]"
            ]
          },
          "metadata": {},
          "output_type": "display_data"
        },
        {
          "data": {
            "application/vnd.jupyter.widget-view+json": {
              "model_id": "91be7c018a074f52a075ca81c9ad37fa",
              "version_major": 2,
              "version_minor": 0
            },
            "text/plain": [
              "Training H=0.7:   0%|          | 0/600 [00:00<?, ?it/s]"
            ]
          },
          "metadata": {},
          "output_type": "display_data"
        },
        {
          "data": {
            "application/vnd.jupyter.widget-view+json": {
              "model_id": "cfe7321ae9244757bde1fc4e63415484",
              "version_major": 2,
              "version_minor": 0
            },
            "text/plain": [
              "Training H=0.9:   0%|          | 0/600 [00:00<?, ?it/s]"
            ]
          },
          "metadata": {},
          "output_type": "display_data"
        },
        {
          "data": {
            "application/vnd.jupyter.widget-view+json": {
              "model_id": "a08e003dc2dc45ebbcc17765ef2ed487",
              "version_major": 2,
              "version_minor": 0
            },
            "text/plain": [
              "Training H=0.1:   0%|          | 0/600 [00:00<?, ?it/s]"
            ]
          },
          "metadata": {},
          "output_type": "display_data"
        },
        {
          "data": {
            "application/vnd.jupyter.widget-view+json": {
              "model_id": "458b91dc83eb4a35a8fbfc0ad7b38675",
              "version_major": 2,
              "version_minor": 0
            },
            "text/plain": [
              "Training H=0.3:   0%|          | 0/600 [00:00<?, ?it/s]"
            ]
          },
          "metadata": {},
          "output_type": "display_data"
        },
        {
          "data": {
            "application/vnd.jupyter.widget-view+json": {
              "model_id": "807ff9f54f6a41d0a1f42a1775ef50ae",
              "version_major": 2,
              "version_minor": 0
            },
            "text/plain": [
              "Training H=0.5:   0%|          | 0/600 [00:00<?, ?it/s]"
            ]
          },
          "metadata": {},
          "output_type": "display_data"
        },
        {
          "data": {
            "application/vnd.jupyter.widget-view+json": {
              "model_id": "12edb2efba16455ab3aa15dab945aaab",
              "version_major": 2,
              "version_minor": 0
            },
            "text/plain": [
              "Training H=0.7:   0%|          | 0/600 [00:00<?, ?it/s]"
            ]
          },
          "metadata": {},
          "output_type": "display_data"
        },
        {
          "data": {
            "application/vnd.jupyter.widget-view+json": {
              "model_id": "fa84d98f492f4fa5bdd1657226d99be8",
              "version_major": 2,
              "version_minor": 0
            },
            "text/plain": [
              "Training H=0.9:   0%|          | 0/600 [00:00<?, ?it/s]"
            ]
          },
          "metadata": {},
          "output_type": "display_data"
        },
        {
          "data": {
            "application/vnd.jupyter.widget-view+json": {
              "model_id": "4cb970327955488ea09cc05a240fce8b",
              "version_major": 2,
              "version_minor": 0
            },
            "text/plain": [
              "Training H=0.1:   0%|          | 0/600 [00:00<?, ?it/s]"
            ]
          },
          "metadata": {},
          "output_type": "display_data"
        },
        {
          "data": {
            "application/vnd.jupyter.widget-view+json": {
              "model_id": "4ff604465a9e4fe8bc273d934da5c0be",
              "version_major": 2,
              "version_minor": 0
            },
            "text/plain": [
              "Training H=0.3:   0%|          | 0/600 [00:00<?, ?it/s]"
            ]
          },
          "metadata": {},
          "output_type": "display_data"
        },
        {
          "data": {
            "application/vnd.jupyter.widget-view+json": {
              "model_id": "7ad62ba18b3f48648fa76a470274bc3d",
              "version_major": 2,
              "version_minor": 0
            },
            "text/plain": [
              "Training H=0.5:   0%|          | 0/600 [00:00<?, ?it/s]"
            ]
          },
          "metadata": {},
          "output_type": "display_data"
        },
        {
          "data": {
            "application/vnd.jupyter.widget-view+json": {
              "model_id": "a26fb4ba13514047bdab8a762ac6b511",
              "version_major": 2,
              "version_minor": 0
            },
            "text/plain": [
              "Training H=0.7:   0%|          | 0/600 [00:00<?, ?it/s]"
            ]
          },
          "metadata": {},
          "output_type": "display_data"
        },
        {
          "data": {
            "application/vnd.jupyter.widget-view+json": {
              "model_id": "a66c5f6a8cf34a1ea3ce9f902d23edd8",
              "version_major": 2,
              "version_minor": 0
            },
            "text/plain": [
              "Training H=0.9:   0%|          | 0/600 [00:00<?, ?it/s]"
            ]
          },
          "metadata": {},
          "output_type": "display_data"
        },
        {
          "data": {
            "application/vnd.jupyter.widget-view+json": {
              "model_id": "038eacd88d66444b9bfed69897f56d8c",
              "version_major": 2,
              "version_minor": 0
            },
            "text/plain": [
              "Training H=0.1:   0%|          | 0/600 [00:00<?, ?it/s]"
            ]
          },
          "metadata": {},
          "output_type": "display_data"
        },
        {
          "data": {
            "application/vnd.jupyter.widget-view+json": {
              "model_id": "0f6330ac0aa040778c69ff56aee4a25b",
              "version_major": 2,
              "version_minor": 0
            },
            "text/plain": [
              "Training H=0.3:   0%|          | 0/600 [00:00<?, ?it/s]"
            ]
          },
          "metadata": {},
          "output_type": "display_data"
        },
        {
          "data": {
            "application/vnd.jupyter.widget-view+json": {
              "model_id": "b9770891cdca45cd98b71180d6492513",
              "version_major": 2,
              "version_minor": 0
            },
            "text/plain": [
              "Training H=0.5:   0%|          | 0/600 [00:00<?, ?it/s]"
            ]
          },
          "metadata": {},
          "output_type": "display_data"
        },
        {
          "data": {
            "application/vnd.jupyter.widget-view+json": {
              "model_id": "96ac4cce4d7f49ea9ce0cfa90e2ab9a8",
              "version_major": 2,
              "version_minor": 0
            },
            "text/plain": [
              "Training H=0.7:   0%|          | 0/600 [00:00<?, ?it/s]"
            ]
          },
          "metadata": {},
          "output_type": "display_data"
        },
        {
          "data": {
            "application/vnd.jupyter.widget-view+json": {
              "model_id": "86a660a5dc154bab8fc8b4a303b65d72",
              "version_major": 2,
              "version_minor": 0
            },
            "text/plain": [
              "Training H=0.9:   0%|          | 0/600 [00:00<?, ?it/s]"
            ]
          },
          "metadata": {},
          "output_type": "display_data"
        },
        {
          "name": "stdout",
          "output_type": "stream",
          "text": [
            "\n",
            "==================== RESULTS FOR PART 3: GRID SEARCH (over 5 runs) ====================\n",
            "        Weights  Mean MSE  Std Dev MSE   Mean R2\n",
            "0  H=0.1_HP=0.9  0.337854     0.006115  0.757258\n",
            "1  H=0.3_HP=0.7  0.341547     0.018477  0.754605\n",
            "2  H=0.5_HP=0.5  0.368285     0.025674  0.735394\n",
            "3  H=0.7_HP=0.3  0.387233     0.019351  0.721781\n",
            "4  H=0.9_HP=0.1  0.412867     0.016220  0.703363\n",
            "\n",
            "Best performance achieved with weights: H=0.1_HP=0.9\n"
          ]
        },
        {
          "data": {
            "image/png": "[encoded data removed]",
            "text/plain": [
              "<Figure size 1400x700 with 1 Axes>"
            ]
          },
          "metadata": {},
          "output_type": "display_data"
        }
      ],
      "source": [
        "import pandas as pd\n",
        "\n",
        "# --- Configuration for Part 3 Grid Search ---\n",
        "# We use the original student hyperparameters because we are training from scratch\n",
        "LR_GRID_SEARCH = LR_STUDENT\n",
        "EPOCHS_GRID_SEARCH = EPOCHS_STUDENT\n",
        "\n",
        "# Define the grid of weights to search\n",
        "weight_combinations = [\n",
        "    {'hard': 0.1, 'hp': 0.9},\n",
        "    {'hard': 0.3, 'hp': 0.7}, # The original weights from Part 2\n",
        "    {'hard': 0.5, 'hp': 0.5},\n",
        "    {'hard': 0.7, 'hp': 0.3},\n",
        "    {'hard': 0.9, 'hp': 0.1},\n",
        "]\n",
        "\n",
        "# Store results for each weight combination\n",
        "grid_search_results = {f\"H={w['hard']}_HP={w['hp']}\": {'mse': [], 'r2': []} for w in weight_combinations}\n",
        "\n",
        "# A flexible distillation trainer that accepts weights\n",
        "def train_student_distilled(student_model, teacher_model, loader, optimizer, epochs, pbar, weights):\n",
        "    \"\"\"Distillation training with a flexible weights dictionary.\"\"\"\n",
        "    student_model.train()\n",
        "    teacher_model.eval()\n",
        "    for epoch in range(epochs):\n",
        "        for X_batch, y_batch_true in loader:\n",
        "            optimizer.zero_grad()\n",
        "            y_pred_student = student_model(X_batch)\n",
        "            with torch.no_grad():\n",
        "                y_pred_teacher = teacher_model(X_batch)\n",
        "\n",
        "            loss_hard = criterion(y_pred_student, y_batch_true)\n",
        "            loss_soft_hp = criterion(y_pred_student, y_pred_teacher)\n",
        "\n",
        "            combined_loss = weights['hard'] * loss_hard + weights['hp'] * loss_soft_hp\n",
        "            combined_loss.backward()\n",
        "            optimizer.step()\n",
        "        pbar.update(1)\n",
        "    return student_model\n",
        "\n",
        "# --- Main Grid Search Loop ---\n",
        "# This will take longer as it's N_RUNS * len(weight_combinations) full training sessions\n",
        "with tqdm(total=N_RUNS * len(weight_combinations), desc=\"Grid Search Full Training\") as pbar:\n",
        "    for i in range(N_RUNS):\n",
        "        # Load the expert teacher from this specific run in Part 2\n",
        "        expert_teacher = ExpertTeacherNet().to(device)\n",
        "        expert_teacher.load_state_dict(part2_model_states[i]['expert_teacher'])\n",
        "\n",
        "        # The initial student state for this run\n",
        "        student_initial_state = initial_student_states[i]\n",
        "\n",
        "        for weights in weight_combinations:\n",
        "            pbar.set_description(f\"Run {i+1}, Weights H={weights['hard']}:HP={weights['hp']}\")\n",
        "\n",
        "            # Re-initialize student and optimizer for each grid point\n",
        "            student_to_train = StudentNet().to(device)\n",
        "            student_to_train.load_state_dict(student_initial_state) # Start from scratch\n",
        "            optimizer = optim.Adam(student_to_train.parameters(), lr=LR_GRID_SEARCH)\n",
        "\n",
        "            # Train the model from scratch\n",
        "            with tqdm(total=EPOCHS_GRID_SEARCH, desc=f\"Training H={weights['hard']}\", leave=False) as epoch_pbar:\n",
        "                student_to_train = train_student_distilled(\n",
        "                    student_to_train, expert_teacher, train_loader, optimizer,\n",
        "                    EPOCHS_GRID_SEARCH, epoch_pbar, weights\n",
        "                )\n",
        "\n",
        "            # Evaluate and store the results\n",
        "            _, mse, r2 = evaluate_model(student_to_train, X_test_tensor, y_test_tensor)\n",
        "            key = f\"H={weights['hard']}_HP={weights['hp']}\"\n",
        "            grid_search_results[key]['mse'].append(mse)\n",
        "            grid_search_results[key]['r2'].append(r2)\n",
        "\n",
        "            pbar.update(1)\n",
        "\n",
        "# --- Process and Display Grid Search Results ---\n",
        "results_df_data = []\n",
        "for name, data in grid_search_results.items():\n",
        "    results_df_data.append({\n",
        "        'Weights': name,\n",
        "        'Mean MSE': np.mean(data['mse']),\n",
        "        'Std Dev MSE': np.std(data['mse']),\n",
        "        'Mean R2': np.mean(data['r2'])\n",
        "    })\n",
        "\n",
        "results_df = pd.DataFrame(results_df_data).sort_values(by='Mean MSE').reset_index(drop=True)\n",
        "\n",
        "# Identify the best result from the grid search\n",
        "best_grid_search_result = results_df.iloc[0]\n",
        "best_grid_search_name = \"Student (Distilled, Optimal HP Weights)\"\n",
        "best_grid_search_stats = grid_search_results[best_grid_search_result['Weights']]\n",
        "\n",
        "\n",
        "print(f\"\\n{'='*20} RESULTS FOR PART 3: GRID SEARCH (over {N_RUNS} runs) {'='*20}\")\n",
        "print(results_df.to_string())\n",
        "print(f\"\\nBest performance achieved with weights: {best_grid_search_result['Weights']}\")\n",
        "\n",
        "# --- Visualize the Grid Search Results ---\n",
        "plt.figure(figsize=(14, 7))\n",
        "sns.barplot(x='Mean MSE', y='Weights', data=results_df, orient='h', color='mediumpurple')\n",
        "plt.errorbar(x=results_df['Mean MSE'], y=results_df.index, xerr=results_df['Std Dev MSE'], fmt='none', c='black', capsize=5)\n",
        "plt.title('Grid Search for Optimal Distillation Weights (Lower MSE is Better)', fontsize=16)\n",
        "plt.xlabel('Mean Squared Error (MSE) on Test Set', fontsize=12)\n",
        "plt.ylabel('Loss Weight Combination (Hard_Loss:HP_Loss)', fontsize=12)\n",
        "plt.grid(True, axis='x')\n",
        "plt.show()"
      ]
    },
    {
      "cell_type": "markdown",
      "metadata": {
        "id": "KbazkeS4YTQv"
      },
      "source": [
        "### Comment\n",
        "You can clearly see that the more weight we give to the teacher's predictions, the better the student performs. This is a clear indication that the teacher's knowledge is valuable and that the student benefits significantly from mimicking it.\n",
        "\n",
        "Of course, this is highly dependent on the task at hand: this notebook is a toy example and as often happens in machine learning, the results may not generalise to other tasks. However, the principles of knowledge distillation and the importance of teacher quality remain valid across various domains."
      ]
    },
    {
      "cell_type": "markdown",
      "metadata": {
        "id": "6VTORb4RYTQw"
      },
      "source": [
        "# 5. Advanced Distillation with Gradient Regularization (L_GR)\n",
        "\n",
        "### Deeper Knowledge Transfer\n",
        "So far, our distillation has focused on mimicking the teacher's final predictions (the *what*). This is known as response-based knowledge distillation. However, a teacher model also contains implicit knowledge about the *sensitivity* of its predictions to changes in the input data. This is captured by the gradient of the loss function with respect to the inputs.\n",
        "\n",
        "**Gradient Regularization (L_GR)** is an advanced feature-based distillation technique where the student is trained to not only match the teacher's outputs but also to mimic the teacher's loss gradients. In essence, we want the student's loss landscape to locally resemble the teacher's.\n",
        "\n",
        "Let’s see whether by transferring this deeper knowledge of the loss landscape, the student can learn a more robust and accurate function. The combined loss function now includes a third term:\n",
        "\n",
        "$$\n",
        "L = \\lambda_1 \\|y - y^{(s)}\\|^2 + \\lambda_2 \\|y^{(t)} - y^{(s)}\\|^2 + \\lambda_3 \\|\\nabla_x L^{(t)} - \\nabla_x L^{(s)}\\|^2\n",
        "$$"
      ]
    },
    {
      "cell_type": "code",
      "execution_count": null,
      "metadata": {
        "id": "Fv5l0al4YTQw"
      },
      "outputs": [],
      "source": [
        "def train_student_gradient_distillation(student_model, teacher_model, loader, optimizer, epochs, pbar, weights):\n",
        "    \"\"\"Distillation training including Gradient Regularization (L_GR).\"\"\"\n",
        "    student_model.train()\n",
        "    teacher_model.eval()\n",
        "\n",
        "    for epoch in range(epochs):\n",
        "        for X_batch, y_batch_true in loader:\n",
        "            # We need to track gradients with respect to the input for this batch\n",
        "            X_batch.requires_grad_(True)\n",
        "            optimizer.zero_grad()\n",
        "\n",
        "            # --- Get Teacher Gradients (we don't need to backprop into the teacher) ---\n",
        "            with torch.no_grad():\n",
        "                y_pred_teacher = teacher_model(X_batch)\n",
        "                loss_t = criterion(y_pred_teacher, y_batch_true)\n",
        "            # We need to calculate teacher grads WITH a computation graph to backprop through them for the STUDENT\n",
        "            # but we only need the grad values, so this is a bit tricky.\n",
        "            # A simpler, common approach is to calculate grads and then detach them.\n",
        "            teacher_loss_for_grad = criterion(teacher_model(X_batch), y_batch_true)\n",
        "            grad_t = torch.autograd.grad(teacher_loss_for_grad, X_batch, grad_outputs=torch.ones_like(teacher_loss_for_grad), retain_graph=False)[0].detach()\n",
        "\n",
        "            # --- Get Student Gradients ---\n",
        "            y_pred_student = student_model(X_batch)\n",
        "            loss_s_for_grad = criterion(y_pred_student, y_batch_true)\n",
        "            # create_graph=True is crucial because we need to backpropagate through the gradient calculation itself\n",
        "            grad_s = torch.autograd.grad(loss_s_for_grad, X_batch, grad_outputs=torch.ones_like(loss_s_for_grad), create_graph=True)[0]\n",
        "\n",
        "            # --- Calculate all three loss components ---\n",
        "            # Standard hard loss (using the student prediction we already have)\n",
        "            loss_hard = criterion(y_pred_student, y_batch_true)\n",
        "            # Standard soft HP loss (using the detached teacher prediction)\n",
        "            loss_soft_hp = criterion(y_pred_student, y_pred_teacher)\n",
        "            # New Gradient Regularization loss\n",
        "            loss_gr = criterion(grad_s, grad_t)\n",
        "\n",
        "            combined_loss = (weights['hard'] * loss_hard +\n",
        "                             weights['hp'] * loss_soft_hp +\n",
        "                             weights['gr'] * loss_gr)\n",
        "\n",
        "            combined_loss.backward()\n",
        "            optimizer.step()\n",
        "\n",
        "            # Important: turn off requires_grad for the next batch to avoid issues\n",
        "            X_batch.requires_grad_(False)\n",
        "\n",
        "        pbar.update(1)\n",
        "\n",
        "    return student_model"
      ]
    },
    {
      "cell_type": "code",
      "execution_count": null,
      "metadata": {
        "colab": {
          "base_uri": "https://localhost:8080/",
          "height": 1000,
          "referenced_widgets": [
            "b8888e6ca02c4acbb4672cbf1ec777d5",
            "57cb90c0a14042b4b476fae2de2ed141",
            "a210dc7a547041ccae81b9470eef39ae",
            "7d8a09a8ed3c464ea5bad066ee1ed405",
            "7fd9f57e34b84ad5af8182ee238a3854",
            "5ec09df445864d17991a7b02939e1f40",
            "fcaa4fa760904d6eb852bb332b911417",
            "d6fd9cd9f91b4cffb791d14106a69ee2",
            "5ffba42c8326498aa464a078bdfa3705",
            "6c0fa6f95fc9446d8b72d5311990eb6d",
            "cae9ec72fb654e44ba2d0d0ecd4819b0",
            "3c3395cacf694c109b8a3d5811baf418",
            "a12a737fbcaf4619ae3623d8d875fa52",
            "132c46e885d040e08c7d51ee89640ad2",
            "509f2be0e7714ddb8b59cc76014a7b49",
            "573d358b9fe04ea1b32d6bdc270014e1",
            "7866e55b53534470a1c4fe0daf651884",
            "6ee7c440dea34f5b9601722d6b1f1827",
            "6bf142a3cce2405c95681067c374576a",
            "2e43d446d61f40fd816b4b86f012b22e",
            "4cf87f9a0f2a468da382ff53a5bf2083",
            "dc5c74a13c2d4b7782ddafd43f9e52b8",
            "2f214afe0527423caa2f533aa5f519d4",
            "4ab29dfa76ee480b94092f6c0c77101d",
            "26b7f7a5acb54aa1b1cf57cf2759bab4",
            "4b3f5fe49e864af9a7d1ce8a4737cc30",
            "15fb2ab603a14df3ac274de19ce5267d",
            "2cc72613e08d4d0fb605384b67f19b2d",
            "67285e35ac6944078077e7e2210dea66",
            "971173beb91444a0937cea10dc949400",
            "2dae73620e5e40178e9c429aec651e70",
            "cf52fd171fd547afb9d2e1645e8978e7",
            "0c4d36634e694a84ae8223d754f10897",
            "378ec282b5384383aa6590ab32f50d42",
            "7ba99159a7b74ff59eaf1a9e57141d6e",
            "c69d91744c8d43d49c4097ed37f04763",
            "27d831f21ff44adeab39d688b7dae4ae",
            "5cc8f694b03a4483a45ea6a1cfb0044c",
            "44a4b6c86ea1470888971beb5cb8d3af",
            "f259d2f4656b407986760309ff3c9fa7",
            "bb302fe0d2c047f4a2b87c764644a7e1",
            "922e2ced8f594bf287232d7adf1d5496",
            "2c4fde47257343fb97f8e3ebd25ce032",
            "ea4a1968506c4c77aa7fee48bcae3f25",
            "d9f54f7585e8485eb8d3d23faa8ebc62",
            "b97240e4d5cc437293cc8d550e23094d",
            "3547e08a85ce402dbc61bf56dd35bc02",
            "6ea3562b7c6047f1a04a4ab6f5c95d18",
            "5f0502dfa31d44bfa8415f44ab63dd92",
            "7b8b22e26ada495eb98b4981a357f059",
            "a1b0bad99e81490d8434aa54d6d0c950",
            "5cdf4c3441b4498fa82a991d1cf5bc7c",
            "5d74c05977da4f56a6cf5bc936047a4f",
            "f57921a12066472bbb06c516ee38adef",
            "974129799e6c4350a8c4c32db7a5e43d",
            "d1589f2119a741dd926ab39ccd9ad331",
            "71a7b17a6d6b457184975094204d90c0",
            "1b173b958b3942deb0594d2022649f12",
            "0e82b27c1df743a8be5eb0da1d048ced",
            "f5ccef3b5e724fc5a24e2cd554fc9386",
            "db7a5f62b5404f7587fe1980b7dab1c7",
            "133513adc20b42d9bd74f0d7af0d3067",
            "13a9530ac7d8464eae50ee0826af2685",
            "6c73e924d589476d9fe7d173f2eceebf",
            "8a069f615455459a95dc7cba9e57d554",
            "b29b060bfbb149799be78531300badfa"
          ]
        },
        "id": "4bzNFtAUYTQx",
        "outputId": "82703d3f-edf9-4afa-856f-600fe065b016"
      },
      "outputs": [
        {
          "data": {
            "application/vnd.jupyter.widget-view+json": {
              "model_id": "b8888e6ca02c4acbb4672cbf1ec777d5",
              "version_major": 2,
              "version_minor": 0
            },
            "text/plain": [
              "Training Student with L_GR:   0%|          | 0/5 [00:00<?, ?it/s]"
            ]
          },
          "metadata": {},
          "output_type": "display_data"
        },
        {
          "data": {
            "application/vnd.jupyter.widget-view+json": {
              "model_id": "3c3395cacf694c109b8a3d5811baf418",
              "version_major": 2,
              "version_minor": 0
            },
            "text/plain": [
              "Run 1 L_GR:   0%|          | 0/600 [00:00<?, ?it/s]"
            ]
          },
          "metadata": {},
          "output_type": "display_data"
        },
        {
          "data": {
            "application/vnd.jupyter.widget-view+json": {
              "model_id": "2f214afe0527423caa2f533aa5f519d4",
              "version_major": 2,
              "version_minor": 0
            },
            "text/plain": [
              "Run 2 L_GR:   0%|          | 0/600 [00:00<?, ?it/s]"
            ]
          },
          "metadata": {},
          "output_type": "display_data"
        },
        {
          "data": {
            "application/vnd.jupyter.widget-view+json": {
              "model_id": "378ec282b5384383aa6590ab32f50d42",
              "version_major": 2,
              "version_minor": 0
            },
            "text/plain": [
              "Run 3 L_GR:   0%|          | 0/600 [00:00<?, ?it/s]"
            ]
          },
          "metadata": {},
          "output_type": "display_data"
        },
        {
          "data": {
            "application/vnd.jupyter.widget-view+json": {
              "model_id": "d9f54f7585e8485eb8d3d23faa8ebc62",
              "version_major": 2,
              "version_minor": 0
            },
            "text/plain": [
              "Run 4 L_GR:   0%|          | 0/600 [00:00<?, ?it/s]"
            ]
          },
          "metadata": {},
          "output_type": "display_data"
        },
        {
          "data": {
            "application/vnd.jupyter.widget-view+json": {
              "model_id": "d1589f2119a741dd926ab39ccd9ad331",
              "version_major": 2,
              "version_minor": 0
            },
            "text/plain": [
              "Run 5 L_GR:   0%|          | 0/600 [00:00<?, ?it/s]"
            ]
          },
          "metadata": {},
          "output_type": "display_data"
        },
        {
          "name": "stdout",
          "output_type": "stream",
          "text": [
            "\n",
            "========================= FINAL COMPREHENSIVE RESULTS (over 5 runs) =========================\n",
            "                                      Model  Mean MSE  Std Dev MSE\n",
            "0            Expert Teacher (for reference)  0.255374     0.008914\n",
            "1   Student (Distilled, Optimal HP Weights)  0.337854     0.006115\n",
            "2             Student (Distilled with L_GR)  0.341102     0.015041\n",
            "3  Student (Distilled from Expert, 0.3/0.7)  0.350947     0.011420\n",
            "4                         Student (Scratch)  0.453893     0.019263\n"
          ]
        },
        {
          "data": {
            "image/png": "[encoded data removed]",
            "text/plain": [
              "<Figure size 1200x800 with 1 Axes>"
            ]
          },
          "metadata": {},
          "output_type": "display_data"
        },
        {
          "name": "stdout",
          "output_type": "stream",
          "text": [
            "\n",
            "==================== Statistical Test: L_GR vs. Best L_HP ====================\n",
            "Comparing MSEs of 'Student (Distilled with L_GR)' vs 'Student (Distilled, Optimal HP Weights)'\n",
            "Mean MSE (L_GR): 0.3411\n",
            "Mean MSE (Best L_HP): 0.3379\n",
            "\n",
            "Paired t-test p-value: 0.5628\n",
            "There is NO statistically significant difference between the two models.\n",
            "====================================================================\n"
          ]
        }
      ],
      "source": [
        "# --- Configuration for Part 4 ---\n",
        "# We'll use a reasonable guess for the three-way loss balance.\n",
        "# A full 3D grid search would be too slow. We give less weight to the hard loss\n",
        "# and split the \"teacher knowledge\" between predictions (HP) and gradients (GR).\n",
        "GRADIENT_WEIGHTS = {'hard': 0.2, 'hp': 0.5, 'gr': 0.3}\n",
        "LR_GRADIENT = LR_STUDENT\n",
        "EPOCHS_GRADIENT = EPOCHS_STUDENT\n",
        "\n",
        "# --- Run the L_GR Experiment ---\n",
        "student_l_gr_results = {'mse': [], 'r2': []}\n",
        "with tqdm(total=N_RUNS, desc=\"Training Student with L_GR\") as pbar:\n",
        "    for i in range(N_RUNS):\n",
        "        # Load the expert teacher from this specific run\n",
        "        expert_teacher = ExpertTeacherNet().to(device)\n",
        "        expert_teacher.load_state_dict(part2_model_states[i]['expert_teacher'])\n",
        "\n",
        "        # Initialize student from scratch\n",
        "        student_l_gr = StudentNet().to(device)\n",
        "        student_l_gr.load_state_dict(initial_student_states[i])\n",
        "        optimizer = optim.Adam(student_l_gr.parameters(), lr=LR_GRADIENT)\n",
        "\n",
        "        # Train with the new advanced distillation method\n",
        "        with tqdm(total=EPOCHS_GRADIENT, desc=f\"Run {i+1} L_GR\", leave=False) as epoch_pbar:\n",
        "            student_l_gr = train_student_gradient_distillation(\n",
        "                student_l_gr, expert_teacher, train_loader, optimizer,\n",
        "                EPOCHS_GRADIENT, epoch_pbar, GRADIENT_WEIGHTS\n",
        "            )\n",
        "\n",
        "        # Evaluate and store results\n",
        "        _, mse, r2 = evaluate_model(student_l_gr, X_test_tensor, y_test_tensor)\n",
        "        student_l_gr_results['mse'].append(mse)\n",
        "        student_l_gr_results['r2'].append(r2)\n",
        "        pbar.update(1)\n",
        "\n",
        "# --- Final Comprehensive Results Aggregation ---\n",
        "# We retrieve the best model from the Part 3 grid search to compare against\n",
        "final_comprehensive_results = {\n",
        "    \"Student (Scratch)\": part1_results[\"Student (Scratch)\"],\n",
        "    \"Student (Distilled from Expert, 0.3/0.7)\": student_distilled_expert_results,\n",
        "    best_grid_search_name: best_grid_search_stats,\n",
        "    \"Student (Distilled with L_GR)\": student_l_gr_results,\n",
        "    \"Expert Teacher (for reference)\": expert_teacher_results\n",
        "}\n",
        "\n",
        "# --- Final Table ---\n",
        "final_df_data = []\n",
        "for name, data in final_comprehensive_results.items():\n",
        "    final_df_data.append({\n",
        "        'Model': name,\n",
        "        'Mean MSE': np.mean(data['mse']),\n",
        "        'Std Dev MSE': np.std(data['mse']),\n",
        "    })\n",
        "final_df = pd.DataFrame(final_df_data).sort_values(by='Mean MSE').reset_index(drop=True)\n",
        "\n",
        "print(f\"\\n{'='*25} FINAL COMPREHENSIVE RESULTS (over {N_RUNS} runs) {'='*25}\")\n",
        "print(final_df.to_string())\n",
        "\n",
        "# --- Final Visualization (Box Plot is best for showing distribution) ---\n",
        "# Create a long-form DataFrame suitable for seaborn plotting\n",
        "plot_data = []\n",
        "for name, data in final_comprehensive_results.items():\n",
        "    # Only plot student models for a cleaner visualization\n",
        "    if \"Teacher\" not in name:\n",
        "        for mse_val in data['mse']:\n",
        "            plot_data.append({'Model': name, 'MSE': mse_val})\n",
        "plot_df = pd.DataFrame(plot_data)\n",
        "\n",
        "plt.figure(figsize=(12, 8))\n",
        "sns.boxplot(data=plot_df, x='MSE', y='Model', hue='Model', palette='viridis', legend=False)\n",
        "plt.axvline(x=final_df[final_df['Model'] == 'Expert Teacher (for reference)']['Mean MSE'].iloc[0],\n",
        "            color='r', linestyle='--', label='Expert Teacher Performance')\n",
        "plt.title('Final Student Model Performance Comparison (Distribution over 5 Runs)', fontsize=16)\n",
        "plt.xlabel('Mean Squared Error (MSE) - Lower is Better', fontsize=12)\n",
        "plt.ylabel('')\n",
        "plt.legend()\n",
        "plt.grid(True, axis='x', linestyle='--')\n",
        "plt.show()\n",
        "\n",
        "\n",
        "# --- Final Statistical Test ---\n",
        "# We compare the best-performing student (from the grid search) against the L_GR student.\n",
        "from scipy.stats import ttest_rel\n",
        "best_hp_mse = final_comprehensive_results[best_grid_search_name]['mse']\n",
        "l_gr_mse = final_comprehensive_results[\"Student (Distilled with L_GR)\"]['mse']\n",
        "# We use a two-sided test now because we don't have a strong prior hypothesis that one is better.\n",
        "t_stat, p_val = ttest_rel(l_gr_mse, best_hp_mse)\n",
        "\n",
        "print(f\"\\n{'='*20} Statistical Test: L_GR vs. Best L_HP {'='*20}\")\n",
        "print(f\"Comparing MSEs of 'Student (Distilled with L_GR)' vs '{best_grid_search_name}'\")\n",
        "print(f\"Mean MSE (L_GR): {np.mean(l_gr_mse):.4f}\")\n",
        "print(f\"Mean MSE (Best L_HP): {np.mean(best_hp_mse):.4f}\")\n",
        "difference = np.mean(l_gr_mse) - np.mean(best_hp_mse)\n",
        "\n",
        "print(f\"\\nPaired t-test p-value: {p_val:.4f}\")\n",
        "if p_val < 0.05:\n",
        "    if difference < 0:\n",
        "        print(\"The L_GR model is statistically significantly BETTER.\")\n",
        "    else:\n",
        "        print(\"The L_GR model is statistically significantly WORSE.\")\n",
        "else:\n",
        "    print(\"There is NO statistically significant difference between the two models.\")\n",
        "print(\"=\"*68)"
      ]
    },
    {
      "cell_type": "markdown",
      "metadata": {
        "id": "MqkUlcxgYTQy"
      },
      "source": [
        "### Analysis: The Impact of Gradient Regularisation\n",
        "\n",
        "The results from this last experiment provide a crucial insight into the complexities of advanced knowledge distillation techniques. Incorporating `L_GR` didn't yield improvements.\n",
        "\n",
        "\n",
        "There are several common reasons why a more complex distillation method like Gradient Regularization might not yield superior results, especially in a toy example or without extensive tuning:\n",
        "\n",
        "1.  **Hyperparameter Sensitivity:** The `L_GR` loss introduces a third weighting hyperparameter ($\\lambda_3$). Optimising a three-way balance (`hard_loss`, `hp_loss`, `gr_loss`) is significantly more complex than optimizing two. Our chosen weights for `L_GR` (`hard`: 0.2, `hp`: 0.5, `gr`: 0.3) were just a guess, and it's highly probable they were not optimal for this specific dataset and model architecture. A comprehensive 3D grid search or more advanced hyperparameter optimisation might be necessary to unlock its full potential.\n",
        "\n",
        "2.  **Gradient Noise and Specificity:** While gradients provide rich information, they can also be noisy or capture very specific local features of the teacher's internal representation. Forcing the student to mimic these exact gradients might lead it to learn noise or nuances that do not generalise well, rather than robust, high-level knowledge. In some cases, distilling only the final predictions (`L_HP`) is sufficient because the teacher's output already encapsulates the most relevant \"dark knowledge.\"\n",
        "\n",
        "3.  **Redundancy of Information:** For certain problems, the information conveyed by the teacher's raw predictions (`y^{(t)}`) might already be comprehensive enough that additional gradient information offers diminishing returns or even becomes counterproductive. The student may not need this extra signal to efficiently learn the underlying function.\n",
        "\n",
        "### Conclusion from the Experiment\n",
        "\n",
        "This experiment demonstrates that while advanced distillation techniques like `L_GR` exist and can be powerful, they are not a guaranteed improvement. The most effective strategy in this particular setup was to:\n",
        "\n",
        "1.  **Train a highly capable Teacher model.**\n",
        "2.  **Perform basic response-based distillation (`L_HP`) from this expert teacher.**\n",
        "3.  **Conduct a thorough grid search to find the optimal weighting between the ground truth (`hard_loss`) and the teacher's predictions (`hp_loss`).**\n",
        "\n",
        "The robustness of `L_HP` combined with careful hyperparameter tuning proved to be more effective and practical than attempting to incorporate more complex gradient-based knowledge transfer without extensive optimisation. This highlights the importance of empirical validation and hyperparameter tuning in real-world knowledge distillation applications.\n",
        "\n",
        "**Knowledge Distillation is an art: you need to experiment and find the right balance for your specific task. Each data set and model architecture may require different approaches and tuning strategies to achieve optimal results. While some techniques may seem promising from a theoretical perspective, their practical effectiveness can vary widely based on the specific context and implementation details.**"
      ]
    }
  ],
  "metadata": {
    "accelerator": "GPU",
    "colab": {
      "gpuType": "T4",
      "include_colab_link": true,
      "provenance": []
    },
    "kernelspec": {
      "display_name": "Python 3",
      "name": "python3"
    },
    "language_info": {
      "codemirror_mode": {
        "name": "ipython",
        "version": 3
      },
      "file_extension": ".py",
      "mimetype": "text/x-python",
      "name": "python",
      "nbconvert_exporter": "python",
      "pygments_lexer": "ipython3",
      "version": "3.13.5"
    }
  },
  "nbformat": 4,
  "nbformat_minor": 0
}
